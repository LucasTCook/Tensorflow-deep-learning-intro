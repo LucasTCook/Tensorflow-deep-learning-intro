{
  "nbformat": 4,
  "nbformat_minor": 0,
  "metadata": {
    "colab": {
      "provenance": [],
      "toc_visible": true,
      "include_colab_link": true
    },
    "kernelspec": {
      "name": "python3",
      "display_name": "Python 3"
    },
    "language_info": {
      "name": "python"
    }
  },
  "cells": [
    {
      "cell_type": "markdown",
      "metadata": {
        "id": "view-in-github",
        "colab_type": "text"
      },
      "source": [
        "<a href=\"https://colab.research.google.com/github/LucasTCook/Tensorflow_Introduction_Course/blob/master/01_neural_network_regression_with_tensorflow.ipynb\" target=\"_parent\"><img src=\"https://colab.research.google.com/assets/colab-badge.svg\" alt=\"Open In Colab\"/></a>"
      ]
    },
    {
      "cell_type": "markdown",
      "source": [
        " # Introduction to Regression with Neural Networks in TensorFlow\n",
        "\n",
        " There are many definitions for a regression problem, but in our case we are going to simplify it. Predicting a numerical variable based on some other combination of variables. Or predicting a number."
      ],
      "metadata": {
        "id": "3dOeChDEULAd"
      }
    },
    {
      "cell_type": "code",
      "execution_count": null,
      "metadata": {
        "colab": {
          "base_uri": "https://localhost:8080/"
        },
        "id": "lSrtN7bDQ423",
        "outputId": "a3816420-2fd6-40da-e1c0-50ad37502be2"
      },
      "outputs": [
        {
          "output_type": "stream",
          "name": "stdout",
          "text": [
            "2.14.0\n"
          ]
        }
      ],
      "source": [
        "# Import Tensorflow\n",
        "import tensorflow as tf\n",
        "print(tf.__version__)"
      ]
    },
    {
      "cell_type": "markdown",
      "source": [
        "### Creating some data to view and fit"
      ],
      "metadata": {
        "id": "p-lpUTGrTtA6"
      }
    },
    {
      "cell_type": "code",
      "source": [
        "import numpy as np\n",
        "import matplotlib.pyplot as plt\n",
        "\n",
        "# Create the features\n",
        "X = np.array([-7.,-4., -1., 2., 5., 8.,11., 14.])\n",
        "\n",
        "# Create labels\n",
        "y = np.array([3.,6.,9.,12.,15.,18.,21.,24.])\n",
        "\n",
        "# Visualize\n",
        "plt.scatter(X,y)"
      ],
      "metadata": {
        "colab": {
          "base_uri": "https://localhost:8080/",
          "height": 452
        },
        "id": "xGRGz4hSYgoF",
        "outputId": "6a047020-8832-493e-a7bd-3daca5e3fafb"
      },
      "execution_count": null,
      "outputs": [
        {
          "output_type": "execute_result",
          "data": {
            "text/plain": [
              "<matplotlib.collections.PathCollection at 0x7bcd0ae82a10>"
            ]
          },
          "metadata": {},
          "execution_count": 6
        },
        {
          "output_type": "display_data",
          "data": {
            "text/plain": [
              "<Figure size 640x480 with 1 Axes>"
            ],
            "image/png": "[encoded data removed]"
          },
          "metadata": {}
        }
      ]
    },
    {
      "cell_type": "code",
      "source": [
        "X + 10"
      ],
      "metadata": {
        "colab": {
          "base_uri": "https://localhost:8080/"
        },
        "id": "xfLRcROCY_0q",
        "outputId": "cd979a8d-91b4-499c-a830-23ffcfd9cd93"
      },
      "execution_count": null,
      "outputs": [
        {
          "output_type": "execute_result",
          "data": {
            "text/plain": [
              "array([ 3.,  6.,  9., 12., 15., 18., 21., 24.])"
            ]
          },
          "metadata": {},
          "execution_count": 7
        }
      ]
    },
    {
      "cell_type": "code",
      "source": [
        "# This is the relationship we want our NN to learn\n",
        "# X is independent, y is dependant\n",
        "y == X + 10"
      ],
      "metadata": {
        "colab": {
          "base_uri": "https://localhost:8080/"
        },
        "id": "Iun5BKliZXMt",
        "outputId": "603284c3-9706-4235-8eec-f582ca97b0bb"
      },
      "execution_count": null,
      "outputs": [
        {
          "output_type": "execute_result",
          "data": {
            "text/plain": [
              "array([ True,  True,  True,  True,  True,  True,  True,  True])"
            ]
          },
          "metadata": {},
          "execution_count": 8
        }
      ]
    },
    {
      "cell_type": "markdown",
      "source": [
        "### Input and Output shapes"
      ],
      "metadata": {
        "id": "6yJrgkQ0ZZ8q"
      }
    },
    {
      "cell_type": "code",
      "source": [
        "# Create a demo tensor for our housing price prediction problem\n",
        "house_info = tf.constant([\"bedroom\",\"bathroom\", \"garage\"])\n",
        "house_price = tf.constant([939700])\n",
        "house_info,house_price"
      ],
      "metadata": {
        "colab": {
          "base_uri": "https://localhost:8080/"
        },
        "id": "qcaXi-irZlSU",
        "outputId": "5ab3bcad-64af-4924-fe3d-29a8c5a146b6"
      },
      "execution_count": null,
      "outputs": [
        {
          "output_type": "execute_result",
          "data": {
            "text/plain": [
              "(<tf.Tensor: shape=(3,), dtype=string, numpy=array([b'bedroom', b'bathroom', b'garage'], dtype=object)>,\n",
              " <tf.Tensor: shape=(1,), dtype=int32, numpy=array([939700], dtype=int32)>)"
            ]
          },
          "metadata": {},
          "execution_count": 9
        }
      ]
    },
    {
      "cell_type": "code",
      "source": [
        "input_shape = X.shape\n",
        "output_shape = y.shape\n",
        "\n",
        "input_shape, output_shape"
      ],
      "metadata": {
        "colab": {
          "base_uri": "https://localhost:8080/"
        },
        "id": "lA2osOHAZ-px",
        "outputId": "73934780-b7cf-43e5-ef46-fb0bd68b9a92"
      },
      "execution_count": null,
      "outputs": [
        {
          "output_type": "execute_result",
          "data": {
            "text/plain": [
              "((8,), (8,))"
            ]
          },
          "metadata": {},
          "execution_count": 10
        }
      ]
    },
    {
      "cell_type": "code",
      "source": [
        "X[0], y[0]"
      ],
      "metadata": {
        "colab": {
          "base_uri": "https://localhost:8080/"
        },
        "id": "9EvQpL9waJfy",
        "outputId": "af58fd9e-3a8b-4c3b-ef2f-e5269e37216e"
      },
      "execution_count": null,
      "outputs": [
        {
          "output_type": "execute_result",
          "data": {
            "text/plain": [
              "(-7.0, 3.0)"
            ]
          },
          "metadata": {},
          "execution_count": 11
        }
      ]
    },
    {
      "cell_type": "code",
      "source": [
        "X[1], y[1]"
      ],
      "metadata": {
        "colab": {
          "base_uri": "https://localhost:8080/"
        },
        "id": "CVHnMP7OaXBa",
        "outputId": "6d6ca863-df76-4edd-8909-4f2b193f8d6e"
      },
      "execution_count": null,
      "outputs": [
        {
          "output_type": "execute_result",
          "data": {
            "text/plain": [
              "(-4.0, 6.0)"
            ]
          },
          "metadata": {},
          "execution_count": 12
        }
      ]
    },
    {
      "cell_type": "code",
      "source": [
        "# Rank 0 tensor (scalar) has 0 dimensions\n",
        "\n",
        "input_shape = X[0].shape\n",
        "output_shape = y[0].shape\n",
        "\n",
        "input_shape, output_shape"
      ],
      "metadata": {
        "colab": {
          "base_uri": "https://localhost:8080/"
        },
        "id": "_oy99EJ3aYWc",
        "outputId": "6c2d40da-263d-4dc9-8344-44f1e6b04fb4"
      },
      "execution_count": null,
      "outputs": [
        {
          "output_type": "execute_result",
          "data": {
            "text/plain": [
              "((), ())"
            ]
          },
          "metadata": {},
          "execution_count": 13
        }
      ]
    },
    {
      "cell_type": "code",
      "source": [
        "X[0].ndim"
      ],
      "metadata": {
        "colab": {
          "base_uri": "https://localhost:8080/"
        },
        "id": "iW-escqyabF_",
        "outputId": "0b6a2ed4-3237-4419-99e6-2b47c019c1cc"
      },
      "execution_count": null,
      "outputs": [
        {
          "output_type": "execute_result",
          "data": {
            "text/plain": [
              "0"
            ]
          },
          "metadata": {},
          "execution_count": 14
        }
      ]
    },
    {
      "cell_type": "code",
      "source": [
        "y[0].ndim"
      ],
      "metadata": {
        "colab": {
          "base_uri": "https://localhost:8080/"
        },
        "id": "ZDjvMWu2an4M",
        "outputId": "15308a40-e0aa-4e45-9087-50b00d2e47da"
      },
      "execution_count": null,
      "outputs": [
        {
          "output_type": "execute_result",
          "data": {
            "text/plain": [
              "0"
            ]
          },
          "metadata": {},
          "execution_count": 15
        }
      ]
    },
    {
      "cell_type": "code",
      "source": [
        "# Turn our NumPy arrays into tensors\n",
        "X = tf.constant(X)\n",
        "y= tf.constant(y)\n",
        "\n",
        "X,y"
      ],
      "metadata": {
        "colab": {
          "base_uri": "https://localhost:8080/"
        },
        "id": "xl3PLcAWapmi",
        "outputId": "30524816-6775-42b1-923e-df5b52ca4c59"
      },
      "execution_count": null,
      "outputs": [
        {
          "output_type": "execute_result",
          "data": {
            "text/plain": [
              "(<tf.Tensor: shape=(8,), dtype=float64, numpy=array([-7., -4., -1.,  2.,  5.,  8., 11., 14.])>,\n",
              " <tf.Tensor: shape=(8,), dtype=float64, numpy=array([ 3.,  6.,  9., 12., 15., 18., 21., 24.])>)"
            ]
          },
          "metadata": {},
          "execution_count": 16
        }
      ]
    },
    {
      "cell_type": "code",
      "source": [
        "input_shape = X[0].shape\n",
        "output_shape = y[0].shape\n",
        "input_shape,out"
      ],
      "metadata": {
        "colab": {
          "base_uri": "https://localhost:8080/",
          "height": 210
        },
        "id": "7WNQvksEiH8t",
        "outputId": "00d007ed-3d2b-4128-e59e-05a38391ca32"
      },
      "execution_count": null,
      "outputs": [
        {
          "output_type": "error",
          "ename": "NameError",
          "evalue": "ignored",
          "traceback": [
            "\u001b[0;31m---------------------------------------------------------------------------\u001b[0m",
            "\u001b[0;31mNameError\u001b[0m                                 Traceback (most recent call last)",
            "\u001b[0;32m<ipython-input-18-cc54a025ae4b>\u001b[0m in \u001b[0;36m<cell line: 3>\u001b[0;34m()\u001b[0m\n\u001b[1;32m      1\u001b[0m \u001b[0minput_shape\u001b[0m \u001b[0;34m=\u001b[0m \u001b[0mX\u001b[0m\u001b[0;34m[\u001b[0m\u001b[0;36m0\u001b[0m\u001b[0;34m]\u001b[0m\u001b[0;34m.\u001b[0m\u001b[0mshape\u001b[0m\u001b[0;34m\u001b[0m\u001b[0;34m\u001b[0m\u001b[0m\n\u001b[1;32m      2\u001b[0m \u001b[0moutput_shape\u001b[0m \u001b[0;34m=\u001b[0m \u001b[0my\u001b[0m\u001b[0;34m[\u001b[0m\u001b[0;36m0\u001b[0m\u001b[0;34m]\u001b[0m\u001b[0;34m.\u001b[0m\u001b[0mshape\u001b[0m\u001b[0;34m\u001b[0m\u001b[0;34m\u001b[0m\u001b[0m\n\u001b[0;32m----> 3\u001b[0;31m \u001b[0minput_shape\u001b[0m\u001b[0;34m,\u001b[0m\u001b[0mout\u001b[0m\u001b[0;34m\u001b[0m\u001b[0;34m\u001b[0m\u001b[0m\n\u001b[0m",
            "\u001b[0;31mNameError\u001b[0m: name 'out' is not defined"
          ]
        }
      ]
    },
    {
      "cell_type": "code",
      "source": [
        "plt.scatter(X,y)"
      ],
      "metadata": {
        "colab": {
          "base_uri": "https://localhost:8080/",
          "height": 452
        },
        "id": "nBZygU5QiSGl",
        "outputId": "85570d19-8988-4be0-8613-6400e0ab334e"
      },
      "execution_count": null,
      "outputs": [
        {
          "output_type": "execute_result",
          "data": {
            "text/plain": [
              "<matplotlib.collections.PathCollection at 0x7bcd05b75390>"
            ]
          },
          "metadata": {},
          "execution_count": 19
        },
        {
          "output_type": "display_data",
          "data": {
            "text/plain": [
              "<Figure size 640x480 with 1 Axes>"
            ],
            "image/png": "[encoded data removed]"
          },
          "metadata": {}
        }
      ]
    },
    {
      "cell_type": "markdown",
      "source": [
        "## Steps in modelling with TensorFlow\n",
        "\n",
        "1. **Creating a model** - define the input and output layers as well as hidden layers in a depe learning model\n",
        "2. **Compiling a model** - define the loss funtion (How wrong is the output) and the optimizer (how to improve) and evaluation metrics (what we can use to interpret the performance of our model).\n",
        "3. **Fitting a model** - letting the model try to find patterns between X and y (features and labels)\n"
      ],
      "metadata": {
        "id": "4yFy-BtSiZ0L"
      }
    },
    {
      "cell_type": "code",
      "source": [
        "X, y"
      ],
      "metadata": {
        "colab": {
          "base_uri": "https://localhost:8080/"
        },
        "id": "_LaKQ3VkmRoW",
        "outputId": "f3223c04-e4c0-4baf-c640-7305005052ba"
      },
      "execution_count": null,
      "outputs": [
        {
          "output_type": "execute_result",
          "data": {
            "text/plain": [
              "(<tf.Tensor: shape=(8,), dtype=float64, numpy=array([-7., -4., -1.,  2.,  5.,  8., 11., 14.])>,\n",
              " <tf.Tensor: shape=(8,), dtype=float64, numpy=array([ 3.,  6.,  9., 12., 15., 18., 21., 24.])>)"
            ]
          },
          "metadata": {},
          "execution_count": 20
        }
      ]
    },
    {
      "cell_type": "code",
      "source": [
        "tf.expand_dims(X, axis=-1)"
      ],
      "metadata": {
        "colab": {
          "base_uri": "https://localhost:8080/"
        },
        "id": "borWaRgVniDq",
        "outputId": "a6ece11c-26d4-4dc8-d777-927593d9f473"
      },
      "execution_count": null,
      "outputs": [
        {
          "output_type": "execute_result",
          "data": {
            "text/plain": [
              "<tf.Tensor: shape=(8, 1), dtype=float64, numpy=\n",
              "array([[-7.],\n",
              "       [-4.],\n",
              "       [-1.],\n",
              "       [ 2.],\n",
              "       [ 5.],\n",
              "       [ 8.],\n",
              "       [11.],\n",
              "       [14.]])>"
            ]
          },
          "metadata": {},
          "execution_count": 21
        }
      ]
    },
    {
      "cell_type": "code",
      "source": [
        "# import keras\n",
        "\n",
        "# Set random seed\n",
        "tf.random.set_seed(42)\n",
        "\n",
        "# 1. Create a model using the Sequential API\n",
        "model = tf.keras.Sequential([\n",
        "    tf.keras.layers.Dense(1)\n",
        "])\n",
        "\n",
        "# 2. Compile the model\n",
        "model.compile(loss=tf.keras.losses.mae, # mae = mean absolute error\n",
        "              optimizer=tf.keras.optimizers.SGD(), # SGD is short for stochastic gradient descent\n",
        "              metrics=[\"mae\"])\n",
        "\n",
        "# 3. Fit the model\n",
        "model.fit(tf.expand_dims(X, axis=-1), y, epochs=5)"
      ],
      "metadata": {
        "colab": {
          "base_uri": "https://localhost:8080/"
        },
        "id": "ng5cD6DJi8HC",
        "outputId": "8b10cc19-205d-4b97-8cb7-760be37bd826"
      },
      "execution_count": null,
      "outputs": [
        {
          "output_type": "stream",
          "name": "stdout",
          "text": [
            "Epoch 1/5\n",
            "1/1 [==============================] - 0s 495ms/step - loss: 14.5333 - mae: 14.5333\n",
            "Epoch 2/5\n",
            "1/1 [==============================] - 0s 11ms/step - loss: 14.4008 - mae: 14.4008\n",
            "Epoch 3/5\n",
            "1/1 [==============================] - 0s 10ms/step - loss: 14.2683 - mae: 14.2683\n",
            "Epoch 4/5\n",
            "1/1 [==============================] - 0s 9ms/step - loss: 14.1358 - mae: 14.1358\n",
            "Epoch 5/5\n",
            "1/1 [==============================] - 0s 12ms/step - loss: 14.0033 - mae: 14.0033\n"
          ]
        },
        {
          "output_type": "execute_result",
          "data": {
            "text/plain": [
              "<keras.src.callbacks.History at 0x7bcd05929bd0>"
            ]
          },
          "metadata": {},
          "execution_count": 22
        }
      ]
    },
    {
      "cell_type": "code",
      "source": [
        "# Check out X and y\n",
        "X,y\n"
      ],
      "metadata": {
        "colab": {
          "base_uri": "https://localhost:8080/"
        },
        "id": "IAENJvcvlFp3",
        "outputId": "badac74e-c6df-492e-c401-4d73e86c40a8"
      },
      "execution_count": null,
      "outputs": [
        {
          "output_type": "execute_result",
          "data": {
            "text/plain": [
              "(<tf.Tensor: shape=(8,), dtype=float64, numpy=array([-7., -4., -1.,  2.,  5.,  8., 11., 14.])>,\n",
              " <tf.Tensor: shape=(8,), dtype=float64, numpy=array([ 3.,  6.,  9., 12., 15., 18., 21., 24.])>)"
            ]
          },
          "metadata": {},
          "execution_count": 23
        }
      ]
    },
    {
      "cell_type": "code",
      "source": [
        "# Try and make a prediction using our model\n",
        "y_pred = model.predict([17.])\n",
        "y_pred"
      ],
      "metadata": {
        "colab": {
          "base_uri": "https://localhost:8080/"
        },
        "id": "rZAKyM31nzk7",
        "outputId": "5d20e38c-b083-4d65-f52e-40de61a6bd95"
      },
      "execution_count": null,
      "outputs": [
        {
          "output_type": "stream",
          "name": "stdout",
          "text": [
            "1/1 [==============================] - 0s 99ms/step\n"
          ]
        },
        {
          "output_type": "execute_result",
          "data": {
            "text/plain": [
              "array([[-1.9938419]], dtype=float32)"
            ]
          },
          "metadata": {},
          "execution_count": 24
        }
      ]
    },
    {
      "cell_type": "code",
      "source": [
        "# even with adding our loss the predition is not close to the expected value of 27\n",
        "y_pred + 16.7487"
      ],
      "metadata": {
        "colab": {
          "base_uri": "https://localhost:8080/"
        },
        "id": "x9Is675pn6d-",
        "outputId": "b44b18e2-b0be-473f-d4a8-28231c861c8e"
      },
      "execution_count": null,
      "outputs": [
        {
          "output_type": "execute_result",
          "data": {
            "text/plain": [
              "array([[14.754857]], dtype=float32)"
            ]
          },
          "metadata": {},
          "execution_count": 25
        }
      ]
    },
    {
      "cell_type": "markdown",
      "source": [
        "### Improving our model\n",
        "\n",
        "We can improve our model by altering our steps we used to create the model\n",
        "\n",
        "1. **Create a model** - Here we might add more layers, increase the number of hidden units (neurons) within each of the hidden layers, change the activation function of each layer\n",
        "2. **Compiling a model** - Here we might change the optimization function or perhaps the **learning rate** of the optimization function.\n",
        "3. **Fitting a model** - Here we might fit a model for more epochs (train it for longer) or on more data (give the model more examples to learn from)"
      ],
      "metadata": {
        "id": "dRZfoDTcoKqf"
      }
    },
    {
      "cell_type": "code",
      "source": [
        "# Lets rebuild our model\n",
        "\n",
        "# 1. Create a model using the Sequential API\n",
        "model = tf.keras.Sequential([\n",
        "    tf.keras.layers.Dense(1)\n",
        "])\n",
        "\n",
        "# 2. Compile the model\n",
        "model.compile(loss=tf.keras.losses.mae, # mae = mean absolute error\n",
        "              optimizer=tf.keras.optimizers.SGD(), # SGD is short for stochastic gradient descent\n",
        "              metrics=[\"mae\"])\n",
        "\n",
        "# 3. Fit the model (This time we will train for longer)\n",
        "model.fit(tf.expand_dims(X, axis=-1), y, epochs=100)"
      ],
      "metadata": {
        "id": "3Hvp6TcnqrrI",
        "colab": {
          "base_uri": "https://localhost:8080/"
        },
        "outputId": "8dcdaa76-8dd2-4054-bd8c-b6a3d94d8c4e"
      },
      "execution_count": null,
      "outputs": [
        {
          "output_type": "stream",
          "name": "stdout",
          "text": [
            "Epoch 1/100\n",
            "1/1 [==============================] - 0s 337ms/step - loss: 19.6683 - mae: 19.6683\n",
            "Epoch 2/100\n",
            "1/1 [==============================] - 0s 10ms/step - loss: 19.3870 - mae: 19.3870\n",
            "Epoch 3/100\n",
            "1/1 [==============================] - 0s 11ms/step - loss: 19.1058 - mae: 19.1058\n",
            "Epoch 4/100\n",
            "1/1 [==============================] - 0s 11ms/step - loss: 18.8245 - mae: 18.8245\n",
            "Epoch 5/100\n",
            "1/1 [==============================] - 0s 11ms/step - loss: 18.5433 - mae: 18.5433\n",
            "Epoch 6/100\n",
            "1/1 [==============================] - 0s 13ms/step - loss: 18.2620 - mae: 18.2620\n",
            "Epoch 7/100\n",
            "1/1 [==============================] - 0s 11ms/step - loss: 17.9808 - mae: 17.9808\n",
            "Epoch 8/100\n",
            "1/1 [==============================] - 0s 11ms/step - loss: 17.6995 - mae: 17.6995\n",
            "Epoch 9/100\n",
            "1/1 [==============================] - 0s 12ms/step - loss: 17.4183 - mae: 17.4183\n",
            "Epoch 10/100\n",
            "1/1 [==============================] - 0s 11ms/step - loss: 17.1370 - mae: 17.1370\n",
            "Epoch 11/100\n",
            "1/1 [==============================] - 0s 10ms/step - loss: 16.8558 - mae: 16.8558\n",
            "Epoch 12/100\n",
            "1/1 [==============================] - 0s 10ms/step - loss: 16.5745 - mae: 16.5745\n",
            "Epoch 13/100\n",
            "1/1 [==============================] - 0s 11ms/step - loss: 16.2933 - mae: 16.2933\n",
            "Epoch 14/100\n",
            "1/1 [==============================] - 0s 11ms/step - loss: 16.0120 - mae: 16.0120\n",
            "Epoch 15/100\n",
            "1/1 [==============================] - 0s 8ms/step - loss: 15.7308 - mae: 15.7308\n",
            "Epoch 16/100\n",
            "1/1 [==============================] - 0s 8ms/step - loss: 15.4495 - mae: 15.4495\n",
            "Epoch 17/100\n",
            "1/1 [==============================] - 0s 13ms/step - loss: 15.1683 - mae: 15.1683\n",
            "Epoch 18/100\n",
            "1/1 [==============================] - 0s 14ms/step - loss: 14.8870 - mae: 14.8870\n",
            "Epoch 19/100\n",
            "1/1 [==============================] - 0s 10ms/step - loss: 14.6697 - mae: 14.6697\n",
            "Epoch 20/100\n",
            "1/1 [==============================] - 0s 9ms/step - loss: 14.5372 - mae: 14.5372\n",
            "Epoch 21/100\n",
            "1/1 [==============================] - 0s 9ms/step - loss: 14.4047 - mae: 14.4047\n",
            "Epoch 22/100\n",
            "1/1 [==============================] - 0s 9ms/step - loss: 14.2722 - mae: 14.2722\n",
            "Epoch 23/100\n",
            "1/1 [==============================] - 0s 10ms/step - loss: 14.1397 - mae: 14.1397\n",
            "Epoch 24/100\n",
            "1/1 [==============================] - 0s 10ms/step - loss: 14.0072 - mae: 14.0072\n",
            "Epoch 25/100\n",
            "1/1 [==============================] - 0s 9ms/step - loss: 13.8747 - mae: 13.8747\n",
            "Epoch 26/100\n",
            "1/1 [==============================] - 0s 10ms/step - loss: 13.7422 - mae: 13.7422\n",
            "Epoch 27/100\n",
            "1/1 [==============================] - 0s 10ms/step - loss: 13.6097 - mae: 13.6097\n",
            "Epoch 28/100\n",
            "1/1 [==============================] - 0s 12ms/step - loss: 13.4772 - mae: 13.4772\n",
            "Epoch 29/100\n",
            "1/1 [==============================] - 0s 12ms/step - loss: 13.3447 - mae: 13.3447\n",
            "Epoch 30/100\n",
            "1/1 [==============================] - 0s 12ms/step - loss: 13.2122 - mae: 13.2122\n",
            "Epoch 31/100\n",
            "1/1 [==============================] - 0s 10ms/step - loss: 13.0797 - mae: 13.0797\n",
            "Epoch 32/100\n",
            "1/1 [==============================] - 0s 11ms/step - loss: 12.9472 - mae: 12.9472\n",
            "Epoch 33/100\n",
            "1/1 [==============================] - 0s 9ms/step - loss: 12.8147 - mae: 12.8147\n",
            "Epoch 34/100\n",
            "1/1 [==============================] - 0s 8ms/step - loss: 12.6822 - mae: 12.6822\n",
            "Epoch 35/100\n",
            "1/1 [==============================] - 0s 13ms/step - loss: 12.5497 - mae: 12.5497\n",
            "Epoch 36/100\n",
            "1/1 [==============================] - 0s 10ms/step - loss: 12.4172 - mae: 12.4172\n",
            "Epoch 37/100\n",
            "1/1 [==============================] - 0s 13ms/step - loss: 12.2847 - mae: 12.2847\n",
            "Epoch 38/100\n",
            "1/1 [==============================] - 0s 9ms/step - loss: 12.1522 - mae: 12.1522\n",
            "Epoch 39/100\n",
            "1/1 [==============================] - 0s 12ms/step - loss: 12.0197 - mae: 12.0197\n",
            "Epoch 40/100\n",
            "1/1 [==============================] - 0s 10ms/step - loss: 11.8872 - mae: 11.8872\n",
            "Epoch 41/100\n",
            "1/1 [==============================] - 0s 11ms/step - loss: 11.7547 - mae: 11.7547\n",
            "Epoch 42/100\n",
            "1/1 [==============================] - 0s 10ms/step - loss: 11.6222 - mae: 11.6222\n",
            "Epoch 43/100\n",
            "1/1 [==============================] - 0s 10ms/step - loss: 11.4897 - mae: 11.4897\n",
            "Epoch 44/100\n",
            "1/1 [==============================] - 0s 9ms/step - loss: 11.3572 - mae: 11.3572\n",
            "Epoch 45/100\n",
            "1/1 [==============================] - 0s 10ms/step - loss: 11.2247 - mae: 11.2247\n",
            "Epoch 46/100\n",
            "1/1 [==============================] - 0s 9ms/step - loss: 11.0922 - mae: 11.0922\n",
            "Epoch 47/100\n",
            "1/1 [==============================] - 0s 9ms/step - loss: 10.9597 - mae: 10.9597\n",
            "Epoch 48/100\n",
            "1/1 [==============================] - 0s 13ms/step - loss: 10.8272 - mae: 10.8272\n",
            "Epoch 49/100\n",
            "1/1 [==============================] - 0s 10ms/step - loss: 10.6947 - mae: 10.6947\n",
            "Epoch 50/100\n",
            "1/1 [==============================] - 0s 9ms/step - loss: 10.5622 - mae: 10.5622\n",
            "Epoch 51/100\n",
            "1/1 [==============================] - 0s 9ms/step - loss: 10.4297 - mae: 10.4297\n",
            "Epoch 52/100\n",
            "1/1 [==============================] - 0s 9ms/step - loss: 10.2972 - mae: 10.2972\n",
            "Epoch 53/100\n",
            "1/1 [==============================] - 0s 10ms/step - loss: 10.1647 - mae: 10.1647\n",
            "Epoch 54/100\n",
            "1/1 [==============================] - 0s 13ms/step - loss: 10.0322 - mae: 10.0322\n",
            "Epoch 55/100\n",
            "1/1 [==============================] - 0s 10ms/step - loss: 9.8997 - mae: 9.8997\n",
            "Epoch 56/100\n",
            "1/1 [==============================] - 0s 9ms/step - loss: 9.7672 - mae: 9.7672\n",
            "Epoch 57/100\n",
            "1/1 [==============================] - 0s 10ms/step - loss: 9.6347 - mae: 9.6347\n",
            "Epoch 58/100\n",
            "1/1 [==============================] - 0s 10ms/step - loss: 9.5022 - mae: 9.5022\n",
            "Epoch 59/100\n",
            "1/1 [==============================] - 0s 10ms/step - loss: 9.3697 - mae: 9.3697\n",
            "Epoch 60/100\n",
            "1/1 [==============================] - 0s 10ms/step - loss: 9.2372 - mae: 9.2372\n",
            "Epoch 61/100\n",
            "1/1 [==============================] - 0s 10ms/step - loss: 9.1047 - mae: 9.1047\n",
            "Epoch 62/100\n",
            "1/1 [==============================] - 0s 10ms/step - loss: 8.9722 - mae: 8.9722\n",
            "Epoch 63/100\n",
            "1/1 [==============================] - 0s 11ms/step - loss: 8.8397 - mae: 8.8397\n",
            "Epoch 64/100\n",
            "1/1 [==============================] - 0s 11ms/step - loss: 8.7072 - mae: 8.7072\n",
            "Epoch 65/100\n",
            "1/1 [==============================] - 0s 9ms/step - loss: 8.5747 - mae: 8.5747\n",
            "Epoch 66/100\n",
            "1/1 [==============================] - 0s 11ms/step - loss: 8.4422 - mae: 8.4422\n",
            "Epoch 67/100\n",
            "1/1 [==============================] - 0s 11ms/step - loss: 8.3097 - mae: 8.3097\n",
            "Epoch 68/100\n",
            "1/1 [==============================] - 0s 10ms/step - loss: 8.1772 - mae: 8.1772\n",
            "Epoch 69/100\n",
            "1/1 [==============================] - 0s 10ms/step - loss: 8.0447 - mae: 8.0447\n",
            "Epoch 70/100\n",
            "1/1 [==============================] - 0s 9ms/step - loss: 7.9122 - mae: 7.9122\n",
            "Epoch 71/100\n",
            "1/1 [==============================] - 0s 9ms/step - loss: 7.7797 - mae: 7.7797\n",
            "Epoch 72/100\n",
            "1/1 [==============================] - 0s 10ms/step - loss: 7.6472 - mae: 7.6472\n",
            "Epoch 73/100\n",
            "1/1 [==============================] - 0s 10ms/step - loss: 7.5147 - mae: 7.5147\n",
            "Epoch 74/100\n",
            "1/1 [==============================] - 0s 9ms/step - loss: 7.3822 - mae: 7.3822\n",
            "Epoch 75/100\n",
            "1/1 [==============================] - 0s 9ms/step - loss: 7.2497 - mae: 7.2497\n",
            "Epoch 76/100\n",
            "1/1 [==============================] - 0s 9ms/step - loss: 7.1172 - mae: 7.1172\n",
            "Epoch 77/100\n",
            "1/1 [==============================] - 0s 10ms/step - loss: 6.9847 - mae: 6.9847\n",
            "Epoch 78/100\n",
            "1/1 [==============================] - 0s 9ms/step - loss: 6.9563 - mae: 6.9563\n",
            "Epoch 79/100\n",
            "1/1 [==============================] - 0s 9ms/step - loss: 6.9506 - mae: 6.9506\n",
            "Epoch 80/100\n",
            "1/1 [==============================] - 0s 9ms/step - loss: 6.9450 - mae: 6.9450\n",
            "Epoch 81/100\n",
            "1/1 [==============================] - 0s 10ms/step - loss: 6.9394 - mae: 6.9394\n",
            "Epoch 82/100\n",
            "1/1 [==============================] - 0s 9ms/step - loss: 6.9338 - mae: 6.9338\n",
            "Epoch 83/100\n",
            "1/1 [==============================] - 0s 9ms/step - loss: 6.9281 - mae: 6.9281\n",
            "Epoch 84/100\n",
            "1/1 [==============================] - 0s 10ms/step - loss: 6.9225 - mae: 6.9225\n",
            "Epoch 85/100\n",
            "1/1 [==============================] - 0s 9ms/step - loss: 6.9169 - mae: 6.9169\n",
            "Epoch 86/100\n",
            "1/1 [==============================] - 0s 9ms/step - loss: 6.9113 - mae: 6.9113\n",
            "Epoch 87/100\n",
            "1/1 [==============================] - 0s 10ms/step - loss: 6.9056 - mae: 6.9056\n",
            "Epoch 88/100\n",
            "1/1 [==============================] - 0s 10ms/step - loss: 6.9000 - mae: 6.9000\n",
            "Epoch 89/100\n",
            "1/1 [==============================] - 0s 10ms/step - loss: 6.8944 - mae: 6.8944\n",
            "Epoch 90/100\n",
            "1/1 [==============================] - 0s 9ms/step - loss: 6.8888 - mae: 6.8888\n",
            "Epoch 91/100\n",
            "1/1 [==============================] - 0s 9ms/step - loss: 6.8831 - mae: 6.8831\n",
            "Epoch 92/100\n",
            "1/1 [==============================] - 0s 9ms/step - loss: 6.8775 - mae: 6.8775\n",
            "Epoch 93/100\n",
            "1/1 [==============================] - 0s 9ms/step - loss: 6.8719 - mae: 6.8719\n",
            "Epoch 94/100\n",
            "1/1 [==============================] - 0s 10ms/step - loss: 6.8663 - mae: 6.8663\n",
            "Epoch 95/100\n",
            "1/1 [==============================] - 0s 9ms/step - loss: 6.8606 - mae: 6.8606\n",
            "Epoch 96/100\n",
            "1/1 [==============================] - 0s 9ms/step - loss: 6.8550 - mae: 6.8550\n",
            "Epoch 97/100\n",
            "1/1 [==============================] - 0s 13ms/step - loss: 6.8494 - mae: 6.8494\n",
            "Epoch 98/100\n",
            "1/1 [==============================] - 0s 10ms/step - loss: 6.8438 - mae: 6.8438\n",
            "Epoch 99/100\n",
            "1/1 [==============================] - 0s 13ms/step - loss: 6.8381 - mae: 6.8381\n",
            "Epoch 100/100\n",
            "1/1 [==============================] - 0s 9ms/step - loss: 6.8325 - mae: 6.8325\n"
          ]
        },
        {
          "output_type": "execute_result",
          "data": {
            "text/plain": [
              "<keras.src.callbacks.History at 0x7bcd04f5b700>"
            ]
          },
          "metadata": {},
          "execution_count": 26
        }
      ]
    },
    {
      "cell_type": "code",
      "source": [
        "X, y"
      ],
      "metadata": {
        "id": "Y2rlY4zjqrN9",
        "colab": {
          "base_uri": "https://localhost:8080/"
        },
        "outputId": "49ab8c5e-7d3f-4fc5-f793-eef1d5751a1b"
      },
      "execution_count": null,
      "outputs": [
        {
          "output_type": "execute_result",
          "data": {
            "text/plain": [
              "(<tf.Tensor: shape=(8,), dtype=float64, numpy=array([-7., -4., -1.,  2.,  5.,  8., 11., 14.])>,\n",
              " <tf.Tensor: shape=(8,), dtype=float64, numpy=array([ 3.,  6.,  9., 12., 15., 18., 21., 24.])>)"
            ]
          },
          "metadata": {},
          "execution_count": 27
        }
      ]
    },
    {
      "cell_type": "code",
      "source": [
        "# Try and make a prediction using our model\n",
        "y_pred = model.predict([17.])\n",
        "y_pred"
      ],
      "metadata": {
        "colab": {
          "base_uri": "https://localhost:8080/"
        },
        "id": "kHmdneGErxgD",
        "outputId": "c86f49ad-49d1-40af-b78a-a6bfa7b00bef"
      },
      "execution_count": null,
      "outputs": [
        {
          "output_type": "stream",
          "name": "stdout",
          "text": [
            "1/1 [==============================] - 0s 63ms/step\n"
          ]
        },
        {
          "output_type": "execute_result",
          "data": {
            "text/plain": [
              "array([[29.665407]], dtype=float32)"
            ]
          },
          "metadata": {},
          "execution_count": 28
        }
      ]
    },
    {
      "cell_type": "code",
      "source": [
        "X = tf.expand_dims(X, axis=-1)\n",
        "X"
      ],
      "metadata": {
        "colab": {
          "base_uri": "https://localhost:8080/"
        },
        "id": "_RtTwEocwiDt",
        "outputId": "c720cb50-276e-4782-b017-b65edf38f575"
      },
      "execution_count": null,
      "outputs": [
        {
          "output_type": "execute_result",
          "data": {
            "text/plain": [
              "<tf.Tensor: shape=(8, 1), dtype=float64, numpy=\n",
              "array([[-7.],\n",
              "       [-4.],\n",
              "       [-1.],\n",
              "       [ 2.],\n",
              "       [ 5.],\n",
              "       [ 8.],\n",
              "       [11.],\n",
              "       [14.]])>"
            ]
          },
          "metadata": {},
          "execution_count": 29
        }
      ]
    },
    {
      "cell_type": "code",
      "source": [
        "# Lets rebuild our model with an additional hidden layer\n",
        "\n",
        "# 1. Create a model using the Sequential API\n",
        "model = tf.keras.Sequential([\n",
        "    tf.keras.layers.Dense(50, activation=None), # adding this hidden layer with 100 hidden units\n",
        "    tf.keras.layers.Dense(1)\n",
        "])\n",
        "\n",
        "# 2. Compile the model\n",
        "model.compile(loss=\"mae\", # mae = mean absolute error\n",
        "              optimizer=tf.keras.optimizers.Adam(lr=0.001), # Change the optimizer and lower the raise rate from default .001\n",
        "              metrics=[\"mae\"])\n",
        "\n",
        "# 3. Fit the model (This time we will train for longer)\n",
        "model.fit(X, y, epochs=100)"
      ],
      "metadata": {
        "colab": {
          "base_uri": "https://localhost:8080/"
        },
        "id": "0pM-FII_r1Yy",
        "outputId": "5ba9278a-1905-4b9b-f972-b2a749eaec68"
      },
      "execution_count": null,
      "outputs": [
        {
          "output_type": "stream",
          "name": "stderr",
          "text": [
            "WARNING:absl:`lr` is deprecated in Keras optimizer, please use `learning_rate` or use the legacy optimizer, e.g.,tf.keras.optimizers.legacy.Adam.\n"
          ]
        },
        {
          "output_type": "stream",
          "name": "stdout",
          "text": [
            "Epoch 1/100\n",
            "1/1 [==============================] - 1s 619ms/step - loss: 11.3326 - mae: 11.3326\n",
            "Epoch 2/100\n",
            "1/1 [==============================] - 0s 10ms/step - loss: 11.2625 - mae: 11.2625\n",
            "Epoch 3/100\n",
            "1/1 [==============================] - 0s 10ms/step - loss: 11.1924 - mae: 11.1924\n",
            "Epoch 4/100\n",
            "1/1 [==============================] - 0s 10ms/step - loss: 11.1221 - mae: 11.1221\n",
            "Epoch 5/100\n",
            "1/1 [==============================] - 0s 10ms/step - loss: 11.0517 - mae: 11.0517\n",
            "Epoch 6/100\n",
            "1/1 [==============================] - 0s 18ms/step - loss: 10.9812 - mae: 10.9812\n",
            "Epoch 7/100\n",
            "1/1 [==============================] - 0s 10ms/step - loss: 10.9105 - mae: 10.9105\n",
            "Epoch 8/100\n",
            "1/1 [==============================] - 0s 19ms/step - loss: 10.8397 - mae: 10.8397\n",
            "Epoch 9/100\n",
            "1/1 [==============================] - 0s 13ms/step - loss: 10.7687 - mae: 10.7687\n",
            "Epoch 10/100\n",
            "1/1 [==============================] - 0s 11ms/step - loss: 10.6976 - mae: 10.6976\n",
            "Epoch 11/100\n",
            "1/1 [==============================] - 0s 13ms/step - loss: 10.6264 - mae: 10.6264\n",
            "Epoch 12/100\n",
            "1/1 [==============================] - 0s 12ms/step - loss: 10.5549 - mae: 10.5549\n",
            "Epoch 13/100\n",
            "1/1 [==============================] - 0s 10ms/step - loss: 10.4833 - mae: 10.4833\n",
            "Epoch 14/100\n",
            "1/1 [==============================] - 0s 12ms/step - loss: 10.4115 - mae: 10.4115\n",
            "Epoch 15/100\n",
            "1/1 [==============================] - 0s 10ms/step - loss: 10.3396 - mae: 10.3396\n",
            "Epoch 16/100\n",
            "1/1 [==============================] - 0s 11ms/step - loss: 10.2674 - mae: 10.2674\n",
            "Epoch 17/100\n",
            "1/1 [==============================] - 0s 10ms/step - loss: 10.1950 - mae: 10.1950\n",
            "Epoch 18/100\n",
            "1/1 [==============================] - 0s 10ms/step - loss: 10.1224 - mae: 10.1224\n",
            "Epoch 19/100\n",
            "1/1 [==============================] - 0s 14ms/step - loss: 10.0496 - mae: 10.0496\n",
            "Epoch 20/100\n",
            "1/1 [==============================] - 0s 13ms/step - loss: 9.9765 - mae: 9.9765\n",
            "Epoch 21/100\n",
            "1/1 [==============================] - 0s 13ms/step - loss: 9.9033 - mae: 9.9033\n",
            "Epoch 22/100\n",
            "1/1 [==============================] - 0s 14ms/step - loss: 9.8297 - mae: 9.8297\n",
            "Epoch 23/100\n",
            "1/1 [==============================] - 0s 10ms/step - loss: 9.7559 - mae: 9.7559\n",
            "Epoch 24/100\n",
            "1/1 [==============================] - 0s 11ms/step - loss: 9.6819 - mae: 9.6819\n",
            "Epoch 25/100\n",
            "1/1 [==============================] - 0s 11ms/step - loss: 9.6076 - mae: 9.6076\n",
            "Epoch 26/100\n",
            "1/1 [==============================] - 0s 11ms/step - loss: 9.5330 - mae: 9.5330\n",
            "Epoch 27/100\n",
            "1/1 [==============================] - 0s 13ms/step - loss: 9.4581 - mae: 9.4581\n",
            "Epoch 28/100\n",
            "1/1 [==============================] - 0s 11ms/step - loss: 9.3829 - mae: 9.3829\n",
            "Epoch 29/100\n",
            "1/1 [==============================] - 0s 10ms/step - loss: 9.3073 - mae: 9.3073\n",
            "Epoch 30/100\n",
            "1/1 [==============================] - 0s 10ms/step - loss: 9.2315 - mae: 9.2315\n",
            "Epoch 31/100\n",
            "1/1 [==============================] - 0s 22ms/step - loss: 9.1553 - mae: 9.1553\n",
            "Epoch 32/100\n",
            "1/1 [==============================] - 0s 10ms/step - loss: 9.0788 - mae: 9.0788\n",
            "Epoch 33/100\n",
            "1/1 [==============================] - 0s 10ms/step - loss: 9.0019 - mae: 9.0019\n",
            "Epoch 34/100\n",
            "1/1 [==============================] - 0s 14ms/step - loss: 8.9247 - mae: 8.9247\n",
            "Epoch 35/100\n",
            "1/1 [==============================] - 0s 10ms/step - loss: 8.8470 - mae: 8.8470\n",
            "Epoch 36/100\n",
            "1/1 [==============================] - 0s 10ms/step - loss: 8.7690 - mae: 8.7690\n",
            "Epoch 37/100\n",
            "1/1 [==============================] - 0s 10ms/step - loss: 8.6906 - mae: 8.6906\n",
            "Epoch 38/100\n",
            "1/1 [==============================] - 0s 10ms/step - loss: 8.6118 - mae: 8.6118\n",
            "Epoch 39/100\n",
            "1/1 [==============================] - 0s 11ms/step - loss: 8.5326 - mae: 8.5326\n",
            "Epoch 40/100\n",
            "1/1 [==============================] - 0s 11ms/step - loss: 8.4530 - mae: 8.4530\n",
            "Epoch 41/100\n",
            "1/1 [==============================] - 0s 17ms/step - loss: 8.3729 - mae: 8.3729\n",
            "Epoch 42/100\n",
            "1/1 [==============================] - 0s 10ms/step - loss: 8.2924 - mae: 8.2924\n",
            "Epoch 43/100\n",
            "1/1 [==============================] - 0s 9ms/step - loss: 8.2115 - mae: 8.2115\n",
            "Epoch 44/100\n",
            "1/1 [==============================] - 0s 9ms/step - loss: 8.1300 - mae: 8.1300\n",
            "Epoch 45/100\n",
            "1/1 [==============================] - 0s 15ms/step - loss: 8.0482 - mae: 8.0482\n",
            "Epoch 46/100\n",
            "1/1 [==============================] - 0s 9ms/step - loss: 7.9658 - mae: 7.9658\n",
            "Epoch 47/100\n",
            "1/1 [==============================] - 0s 9ms/step - loss: 7.8830 - mae: 7.8830\n",
            "Epoch 48/100\n",
            "1/1 [==============================] - 0s 11ms/step - loss: 7.7997 - mae: 7.7997\n",
            "Epoch 49/100\n",
            "1/1 [==============================] - 0s 11ms/step - loss: 7.7159 - mae: 7.7159\n",
            "Epoch 50/100\n",
            "1/1 [==============================] - 0s 10ms/step - loss: 7.6316 - mae: 7.6316\n",
            "Epoch 51/100\n",
            "1/1 [==============================] - 0s 11ms/step - loss: 7.5468 - mae: 7.5468\n",
            "Epoch 52/100\n",
            "1/1 [==============================] - 0s 9ms/step - loss: 7.4614 - mae: 7.4614\n",
            "Epoch 53/100\n",
            "1/1 [==============================] - 0s 9ms/step - loss: 7.3756 - mae: 7.3756\n",
            "Epoch 54/100\n",
            "1/1 [==============================] - 0s 10ms/step - loss: 7.2892 - mae: 7.2892\n",
            "Epoch 55/100\n",
            "1/1 [==============================] - 0s 9ms/step - loss: 7.2022 - mae: 7.2022\n",
            "Epoch 56/100\n",
            "1/1 [==============================] - 0s 10ms/step - loss: 7.1147 - mae: 7.1147\n",
            "Epoch 57/100\n",
            "1/1 [==============================] - 0s 10ms/step - loss: 7.0267 - mae: 7.0267\n",
            "Epoch 58/100\n",
            "1/1 [==============================] - 0s 11ms/step - loss: 7.0157 - mae: 7.0157\n",
            "Epoch 59/100\n",
            "1/1 [==============================] - 0s 10ms/step - loss: 7.0055 - mae: 7.0055\n",
            "Epoch 60/100\n",
            "1/1 [==============================] - 0s 13ms/step - loss: 6.9956 - mae: 6.9956\n",
            "Epoch 61/100\n",
            "1/1 [==============================] - 0s 10ms/step - loss: 6.9858 - mae: 6.9858\n",
            "Epoch 62/100\n",
            "1/1 [==============================] - 0s 10ms/step - loss: 6.9761 - mae: 6.9761\n",
            "Epoch 63/100\n",
            "1/1 [==============================] - 0s 10ms/step - loss: 6.9666 - mae: 6.9666\n",
            "Epoch 64/100\n",
            "1/1 [==============================] - 0s 10ms/step - loss: 6.9573 - mae: 6.9573\n",
            "Epoch 65/100\n",
            "1/1 [==============================] - 0s 10ms/step - loss: 6.9480 - mae: 6.9480\n",
            "Epoch 66/100\n",
            "1/1 [==============================] - 0s 11ms/step - loss: 6.9389 - mae: 6.9389\n",
            "Epoch 67/100\n",
            "1/1 [==============================] - 0s 10ms/step - loss: 6.9299 - mae: 6.9299\n",
            "Epoch 68/100\n",
            "1/1 [==============================] - 0s 10ms/step - loss: 6.9209 - mae: 6.9209\n",
            "Epoch 69/100\n",
            "1/1 [==============================] - 0s 10ms/step - loss: 6.9120 - mae: 6.9120\n",
            "Epoch 70/100\n",
            "1/1 [==============================] - 0s 10ms/step - loss: 6.9114 - mae: 6.9114\n",
            "Epoch 71/100\n",
            "1/1 [==============================] - 0s 10ms/step - loss: 6.9184 - mae: 6.9184\n",
            "Epoch 72/100\n",
            "1/1 [==============================] - 0s 13ms/step - loss: 6.9190 - mae: 6.9190\n",
            "Epoch 73/100\n",
            "1/1 [==============================] - 0s 11ms/step - loss: 6.9138 - mae: 6.9138\n",
            "Epoch 74/100\n",
            "1/1 [==============================] - 0s 11ms/step - loss: 6.9035 - mae: 6.9035\n",
            "Epoch 75/100\n",
            "1/1 [==============================] - 0s 11ms/step - loss: 6.8885 - mae: 6.8885\n",
            "Epoch 76/100\n",
            "1/1 [==============================] - 0s 12ms/step - loss: 6.8694 - mae: 6.8694\n",
            "Epoch 77/100\n",
            "1/1 [==============================] - 0s 14ms/step - loss: 6.8524 - mae: 6.8524\n",
            "Epoch 78/100\n",
            "1/1 [==============================] - 0s 16ms/step - loss: 6.8459 - mae: 6.8459\n",
            "Epoch 79/100\n",
            "1/1 [==============================] - 0s 11ms/step - loss: 6.8392 - mae: 6.8392\n",
            "Epoch 80/100\n",
            "1/1 [==============================] - 0s 10ms/step - loss: 6.8324 - mae: 6.8324\n",
            "Epoch 81/100\n",
            "1/1 [==============================] - 0s 10ms/step - loss: 6.8254 - mae: 6.8254\n",
            "Epoch 82/100\n",
            "1/1 [==============================] - 0s 11ms/step - loss: 6.8183 - mae: 6.8183\n",
            "Epoch 83/100\n",
            "1/1 [==============================] - 0s 54ms/step - loss: 6.8111 - mae: 6.8111\n",
            "Epoch 84/100\n",
            "1/1 [==============================] - 0s 33ms/step - loss: 6.8037 - mae: 6.8037\n",
            "Epoch 85/100\n",
            "1/1 [==============================] - 0s 30ms/step - loss: 6.7962 - mae: 6.7962\n",
            "Epoch 86/100\n",
            "1/1 [==============================] - 0s 33ms/step - loss: 6.7887 - mae: 6.7887\n",
            "Epoch 87/100\n",
            "1/1 [==============================] - 0s 38ms/step - loss: 6.7810 - mae: 6.7810\n",
            "Epoch 88/100\n",
            "1/1 [==============================] - 0s 33ms/step - loss: 6.7732 - mae: 6.7732\n",
            "Epoch 89/100\n",
            "1/1 [==============================] - 0s 44ms/step - loss: 6.7654 - mae: 6.7654\n",
            "Epoch 90/100\n",
            "1/1 [==============================] - 0s 35ms/step - loss: 6.7574 - mae: 6.7574\n",
            "Epoch 91/100\n",
            "1/1 [==============================] - 0s 33ms/step - loss: 6.7494 - mae: 6.7494\n",
            "Epoch 92/100\n",
            "1/1 [==============================] - 0s 31ms/step - loss: 6.7413 - mae: 6.7413\n",
            "Epoch 93/100\n",
            "1/1 [==============================] - 0s 27ms/step - loss: 6.7332 - mae: 6.7332\n",
            "Epoch 94/100\n",
            "1/1 [==============================] - 0s 22ms/step - loss: 6.7249 - mae: 6.7249\n",
            "Epoch 95/100\n",
            "1/1 [==============================] - 0s 31ms/step - loss: 6.7166 - mae: 6.7166\n",
            "Epoch 96/100\n",
            "1/1 [==============================] - 0s 30ms/step - loss: 6.7083 - mae: 6.7083\n",
            "Epoch 97/100\n",
            "1/1 [==============================] - 0s 19ms/step - loss: 6.6999 - mae: 6.6999\n",
            "Epoch 98/100\n",
            "1/1 [==============================] - 0s 18ms/step - loss: 6.6914 - mae: 6.6914\n",
            "Epoch 99/100\n",
            "1/1 [==============================] - 0s 34ms/step - loss: 6.6829 - mae: 6.6829\n",
            "Epoch 100/100\n",
            "1/1 [==============================] - 0s 20ms/step - loss: 6.6743 - mae: 6.6743\n"
          ]
        },
        {
          "output_type": "execute_result",
          "data": {
            "text/plain": [
              "<keras.src.callbacks.History at 0x7bcd045be680>"
            ]
          },
          "metadata": {},
          "execution_count": 30
        }
      ]
    },
    {
      "cell_type": "code",
      "source": [
        "# Try and make a prediction using our model\n",
        "y_pred = model.predict([17])\n",
        "y_pred"
      ],
      "metadata": {
        "colab": {
          "base_uri": "https://localhost:8080/"
        },
        "id": "reAynLYisPRu",
        "outputId": "ca2ad500-7d1b-4ebe-b9a2-913e64083adf"
      },
      "execution_count": null,
      "outputs": [
        {
          "output_type": "stream",
          "name": "stdout",
          "text": [
            "1/1 [==============================] - 0s 92ms/step\n"
          ]
        },
        {
          "output_type": "execute_result",
          "data": {
            "text/plain": [
              "array([[31.41102]], dtype=float32)"
            ]
          },
          "metadata": {},
          "execution_count": 31
        }
      ]
    },
    {
      "cell_type": "markdown",
      "source": [
        "### Evaluating a model\n",
        "\n",
        "In practive a typical workflow when building neural networks\n",
        "\n",
        "```\n",
        "Build a Model -> fit -> evaluate -> tweak a model -> fit -> evaluate -> tweak a model ...\n",
        "```\n",
        "\n",
        "When evaluating:\n",
        "> \"Visualize, Visualize, Visualize\"\n",
        "\n",
        "* The data - what are we working with? What does it look like\n",
        "* The model - what does our model look like?\n",
        "* The training - How does the model perform during training\n",
        "* The predictions - How do the predictions of a model line up against the ground truth"
      ],
      "metadata": {
        "id": "FXhyPPGCsYGD"
      }
    },
    {
      "cell_type": "code",
      "source": [
        "# Make a bigger dataset\n",
        "X = tf.range(-100,100,4)\n",
        "X"
      ],
      "metadata": {
        "colab": {
          "base_uri": "https://localhost:8080/"
        },
        "id": "t8xgyGoVve3N",
        "outputId": "d03e2d6a-0901-4dde-b8ba-95771ac69209"
      },
      "execution_count": null,
      "outputs": [
        {
          "output_type": "execute_result",
          "data": {
            "text/plain": [
              "<tf.Tensor: shape=(50,), dtype=int32, numpy=\n",
              "array([-100,  -96,  -92,  -88,  -84,  -80,  -76,  -72,  -68,  -64,  -60,\n",
              "        -56,  -52,  -48,  -44,  -40,  -36,  -32,  -28,  -24,  -20,  -16,\n",
              "        -12,   -8,   -4,    0,    4,    8,   12,   16,   20,   24,   28,\n",
              "         32,   36,   40,   44,   48,   52,   56,   60,   64,   68,   72,\n",
              "         76,   80,   84,   88,   92,   96], dtype=int32)>"
            ]
          },
          "metadata": {},
          "execution_count": 32
        }
      ]
    },
    {
      "cell_type": "code",
      "source": [
        "# Make labels for the dataset\n",
        "y = X + 10\n",
        "y"
      ],
      "metadata": {
        "colab": {
          "base_uri": "https://localhost:8080/"
        },
        "id": "a-dK53X3xIvE",
        "outputId": "f9aeaf03-cb4a-44a2-9990-bb4cd6420867"
      },
      "execution_count": null,
      "outputs": [
        {
          "output_type": "execute_result",
          "data": {
            "text/plain": [
              "<tf.Tensor: shape=(50,), dtype=int32, numpy=\n",
              "array([-90, -86, -82, -78, -74, -70, -66, -62, -58, -54, -50, -46, -42,\n",
              "       -38, -34, -30, -26, -22, -18, -14, -10,  -6,  -2,   2,   6,  10,\n",
              "        14,  18,  22,  26,  30,  34,  38,  42,  46,  50,  54,  58,  62,\n",
              "        66,  70,  74,  78,  82,  86,  90,  94,  98, 102, 106], dtype=int32)>"
            ]
          },
          "metadata": {},
          "execution_count": 33
        }
      ]
    },
    {
      "cell_type": "code",
      "source": [
        "# Visualize the data\n",
        "import matplotlib.pyplot as plt\n",
        "\n",
        "plt.scatter(X,y)"
      ],
      "metadata": {
        "colab": {
          "base_uri": "https://localhost:8080/",
          "height": 447
        },
        "id": "B-hVtZagxXSn",
        "outputId": "9897b395-37d9-46e9-baae-dc95cbded801"
      },
      "execution_count": null,
      "outputs": [
        {
          "output_type": "execute_result",
          "data": {
            "text/plain": [
              "<matplotlib.collections.PathCollection at 0x7bcd04527fd0>"
            ]
          },
          "metadata": {},
          "execution_count": 34
        },
        {
          "output_type": "display_data",
          "data": {
            "text/plain": [
              "<Figure size 640x480 with 1 Axes>"
            ],
            "image/png": "[encoded data removed]"
          },
          "metadata": {}
        }
      ]
    },
    {
      "cell_type": "markdown",
      "source": [
        "### The 3 sets...\n",
        "\n",
        "* **Training set** - the model learns from this data 70-80% of the total data available\n",
        "* **Validation set** - the model gets tuned on this data 10-15% of the total data available\n",
        "* **Test set** - the model gets evaluated on this data to test what it has learned 10-15% of the total data available"
      ],
      "metadata": {
        "id": "tf7ZXw8ZxhUe"
      }
    },
    {
      "cell_type": "code",
      "source": [
        "# Check the length of how many samples we have\n",
        "\n",
        "len(X)"
      ],
      "metadata": {
        "colab": {
          "base_uri": "https://localhost:8080/"
        },
        "id": "aU5k-ckxyYVj",
        "outputId": "cba907b9-d062-40e5-f376-561f46f41740"
      },
      "execution_count": null,
      "outputs": [
        {
          "output_type": "execute_result",
          "data": {
            "text/plain": [
              "50"
            ]
          },
          "metadata": {},
          "execution_count": 35
        }
      ]
    },
    {
      "cell_type": "code",
      "source": [
        "# Split the data into Train and Test sets\n",
        "X_train = X[:40] # The first 40 to be training samples (80%)\n",
        "y_train = y[:40]\n",
        "\n",
        "X_test = X[40:] # last 10 are testing samples (20%)\n",
        "y_test = y[40:]\n",
        "\n",
        "len(X_train), len(X_test), len(y_train), len(y_test)"
      ],
      "metadata": {
        "colab": {
          "base_uri": "https://localhost:8080/"
        },
        "id": "O6y-scbVyv0z",
        "outputId": "bc7d760b-64a8-4cdd-c623-8edf01e1a1c8"
      },
      "execution_count": null,
      "outputs": [
        {
          "output_type": "execute_result",
          "data": {
            "text/plain": [
              "(40, 10, 40, 10)"
            ]
          },
          "metadata": {},
          "execution_count": 36
        }
      ]
    },
    {
      "cell_type": "markdown",
      "source": [
        "### Visualizing the data sets\n",
        "\n",
        "Now we have the data in training and test sets... lets visualize"
      ],
      "metadata": {
        "id": "4FaLlM5KzZ_j"
      }
    },
    {
      "cell_type": "code",
      "source": [
        "plt.figure(figsize=(10,7))\n",
        "\n",
        "#Plot training in red\n",
        "plt.scatter(X_train, y_train, c=\"b\", label=\"Training Data\")\n",
        "\n",
        "#Plot training in blue\n",
        "plt.scatter(X_test, y_test, c=\"g\", label=\"Test Data\")\n",
        "\n",
        "# Show a legend\n",
        "plt.legend();"
      ],
      "metadata": {
        "colab": {
          "base_uri": "https://localhost:8080/",
          "height": 599
        },
        "id": "LS3OEUz0zvFC",
        "outputId": "90f6b9fe-0885-4a2d-ebf2-07a378eca2f2"
      },
      "execution_count": null,
      "outputs": [
        {
          "output_type": "display_data",
          "data": {
            "text/plain": [
              "<Figure size 1000x700 with 1 Axes>"
            ],
            "image/png": "[encoded data removed]"
          },
          "metadata": {}
        }
      ]
    },
    {
      "cell_type": "code",
      "source": [
        "# Lets build a neural network for our data\n",
        "\n",
        "# 1. Create a model using the Sequential API\n",
        "model = tf.keras.Sequential([\n",
        "    tf.keras.layers.Dense(1)\n",
        "])\n",
        "\n",
        "# 2. Compile the model\n",
        "model.compile(loss=\"mae\", # mae = mean absolute error\n",
        "              optimizer=tf.keras.optimizers.SGD(),\n",
        "              metrics=[\"mae\"])\n",
        "\n",
        "# # 3. Fit the model (This time we will train for longer)\n",
        "# model.fit(tf.expand_dims(X_train, axis=-1), y_train, epochs=100)"
      ],
      "metadata": {
        "id": "PVqnnuI_0NYv"
      },
      "execution_count": null,
      "outputs": []
    },
    {
      "cell_type": "markdown",
      "source": [
        "### Visualizing the model"
      ],
      "metadata": {
        "id": "LuOdGVwK19zs"
      }
    },
    {
      "cell_type": "code",
      "source": [
        "model.summary()"
      ],
      "metadata": {
        "colab": {
          "base_uri": "https://localhost:8080/",
          "height": 297
        },
        "id": "LN0XnESR2MkS",
        "outputId": "ad2d55aa-3f45-4164-8d1a-9429c3c2aca0"
      },
      "execution_count": null,
      "outputs": [
        {
          "output_type": "error",
          "ename": "ValueError",
          "evalue": "ignored",
          "traceback": [
            "\u001b[0;31m---------------------------------------------------------------------------\u001b[0m",
            "\u001b[0;31mValueError\u001b[0m                                Traceback (most recent call last)",
            "\u001b[0;32m<ipython-input-39-5f15418b3570>\u001b[0m in \u001b[0;36m<cell line: 1>\u001b[0;34m()\u001b[0m\n\u001b[0;32m----> 1\u001b[0;31m \u001b[0mmodel\u001b[0m\u001b[0;34m.\u001b[0m\u001b[0msummary\u001b[0m\u001b[0;34m(\u001b[0m\u001b[0;34m)\u001b[0m\u001b[0;34m\u001b[0m\u001b[0;34m\u001b[0m\u001b[0m\n\u001b[0m",
            "\u001b[0;32m/usr/local/lib/python3.10/dist-packages/keras/src/engine/training.py\u001b[0m in \u001b[0;36msummary\u001b[0;34m(self, line_length, positions, print_fn, expand_nested, show_trainable, layer_range)\u001b[0m\n\u001b[1;32m   3480\u001b[0m         \"\"\"\n\u001b[1;32m   3481\u001b[0m         \u001b[0;32mif\u001b[0m \u001b[0;32mnot\u001b[0m \u001b[0mself\u001b[0m\u001b[0;34m.\u001b[0m\u001b[0mbuilt\u001b[0m\u001b[0;34m:\u001b[0m\u001b[0;34m\u001b[0m\u001b[0;34m\u001b[0m\u001b[0m\n\u001b[0;32m-> 3482\u001b[0;31m             raise ValueError(\n\u001b[0m\u001b[1;32m   3483\u001b[0m                 \u001b[0;34m\"This model has not yet been built. \"\u001b[0m\u001b[0;34m\u001b[0m\u001b[0;34m\u001b[0m\u001b[0m\n\u001b[1;32m   3484\u001b[0m                 \u001b[0;34m\"Build the model first by calling `build()` or by calling \"\u001b[0m\u001b[0;34m\u001b[0m\u001b[0;34m\u001b[0m\u001b[0m\n",
            "\u001b[0;31mValueError\u001b[0m: This model has not yet been built. Build the model first by calling `build()` or by calling the model on a batch of data."
          ]
        }
      ]
    },
    {
      "cell_type": "code",
      "source": [
        "# lets create a model which build autimatically by defining the input shape argument in the first layer\n",
        "\n",
        "tf.random.set_seed(42)\n",
        "\n",
        "# 1. Create a model\n",
        "model = tf.keras.Sequential([\n",
        "    tf.keras.layers.Dense(1, input_shape=[1]) # input_shape = [1] because we are only passing one number\n",
        "])\n",
        "\n",
        "# 2. Compile the model\n",
        "model.compile(loss=\"mae\",\n",
        "              optimizer=tf.keras.optimizers.SGD(),\n",
        "              metrics=[\"mae\"])"
      ],
      "metadata": {
        "id": "MXzKn0vX2NjT"
      },
      "execution_count": null,
      "outputs": []
    },
    {
      "cell_type": "code",
      "source": [
        "model.summary()"
      ],
      "metadata": {
        "id": "dZL04KEI6_Fn",
        "colab": {
          "base_uri": "https://localhost:8080/"
        },
        "outputId": "079ac9f4-27d9-4433-f06b-5d9a4d16adc6"
      },
      "execution_count": null,
      "outputs": [
        {
          "output_type": "stream",
          "name": "stdout",
          "text": [
            "Model: \"sequential_4\"\n",
            "_________________________________________________________________\n",
            " Layer (type)                Output Shape              Param #   \n",
            "=================================================================\n",
            " dense_5 (Dense)             (None, 1)                 2         \n",
            "                                                                 \n",
            "=================================================================\n",
            "Total params: 2 (8.00 Byte)\n",
            "Trainable params: 2 (8.00 Byte)\n",
            "Non-trainable params: 0 (0.00 Byte)\n",
            "_________________________________________________________________\n"
          ]
        }
      ]
    },
    {
      "cell_type": "markdown",
      "source": [
        "**Dense** = Fully connected hidden layer"
      ],
      "metadata": {
        "id": "VK2wU3_J7Jws"
      }
    },
    {
      "cell_type": "markdown",
      "source": [
        "* Total params - Total number of parameters in the model.\n",
        "* Trainable params - Parameters (patterns) the model can update as it trains\n",
        "* Non-Trainable params - Frozen patterns that we no longer want to train (typical when you bring in already learned patterns or params from other models during *transfer-learning*\n",
        "\n",
        "\n",
        "**Resource:**  MIT's into to Deep Learning https://www.youtube.com/watch?v=QDX-1M5Nj7s&list=PLtBw6njQRU-rwp5__7C0oIVt26ZgjG9NI&index=2"
      ],
      "metadata": {
        "id": "M_gSPFpI7doc"
      }
    },
    {
      "cell_type": "code",
      "source": [
        "# Modifying the number of units in a Dense layer to analyze the Trainable params\n",
        "\n",
        "tf.random.set_seed(42)\n",
        "\n",
        "# 1. Create a model\n",
        "model = tf.keras.Sequential([\n",
        "    tf.keras.layers.Dense(10, input_shape=[1]) # input_shape = [1] because we are only passing one number\n",
        "])\n",
        "\n",
        "# 2. Compile the model\n",
        "model.compile(loss=\"mae\",\n",
        "              optimizer=tf.keras.optimizers.SGD(),\n",
        "              metrics=[\"mae\"])\n",
        "\n",
        "model.summary()"
      ],
      "metadata": {
        "id": "xYg_DqQ57iMm",
        "colab": {
          "base_uri": "https://localhost:8080/"
        },
        "outputId": "e4a59134-b27c-4bcc-cf0d-e2007d039e03"
      },
      "execution_count": null,
      "outputs": [
        {
          "output_type": "stream",
          "name": "stdout",
          "text": [
            "Model: \"sequential_5\"\n",
            "_________________________________________________________________\n",
            " Layer (type)                Output Shape              Param #   \n",
            "=================================================================\n",
            " dense_6 (Dense)             (None, 10)                20        \n",
            "                                                                 \n",
            "=================================================================\n",
            "Total params: 20 (80.00 Byte)\n",
            "Trainable params: 20 (80.00 Byte)\n",
            "Non-trainable params: 0 (0.00 Byte)\n",
            "_________________________________________________________________\n"
          ]
        }
      ]
    },
    {
      "cell_type": "code",
      "source": [
        "# Modifying the number of units in a Dense layer to analyze the Trainable params\n",
        "\n",
        "tf.random.set_seed(42)\n",
        "\n",
        "# 1. Create a model\n",
        "model = tf.keras.Sequential([\n",
        "    tf.keras.layers.Dense(100, input_shape=[1], name=\"layer1\"), # input_shape = [1] because we are only passing one number\n",
        "    tf.keras.layers.Dense(100, input_shape=[1], name=\"layer2\"),\n",
        "    tf.keras.layers.Dense(1, input_shape=[1], name=\"layer3\")\n",
        "], name=\"nameOfModel\")\n",
        "\n",
        "# 2. Compile the model\n",
        "model.compile(loss=\"mae\",\n",
        "              optimizer=tf.keras.optimizers.Adam(lr=\"0.01\"),\n",
        "              metrics=[\"mae\"])\n",
        "\n",
        "model.summary()"
      ],
      "metadata": {
        "id": "nW8Uavlp9LFp",
        "colab": {
          "base_uri": "https://localhost:8080/"
        },
        "outputId": "6ba7ed94-9982-4055-b27e-25867f30b917"
      },
      "execution_count": null,
      "outputs": [
        {
          "output_type": "stream",
          "name": "stderr",
          "text": [
            "WARNING:absl:`lr` is deprecated in Keras optimizer, please use `learning_rate` or use the legacy optimizer, e.g.,tf.keras.optimizers.legacy.Adam.\n"
          ]
        },
        {
          "output_type": "stream",
          "name": "stdout",
          "text": [
            "Model: \"nameOfModel\"\n",
            "_________________________________________________________________\n",
            " Layer (type)                Output Shape              Param #   \n",
            "=================================================================\n",
            " layer1 (Dense)              (None, 100)               200       \n",
            "                                                                 \n",
            " layer2 (Dense)              (None, 100)               10100     \n",
            "                                                                 \n",
            " layer3 (Dense)              (None, 1)                 101       \n",
            "                                                                 \n",
            "=================================================================\n",
            "Total params: 10401 (40.63 KB)\n",
            "Trainable params: 10401 (40.63 KB)\n",
            "Non-trainable params: 0 (0.00 Byte)\n",
            "_________________________________________________________________\n"
          ]
        }
      ]
    },
    {
      "cell_type": "markdown",
      "source": [
        "*It seems like the number of trainable parameters is equal to 2 * the number of units in the Dense layer (2 trainable layers per hidden unit)*"
      ],
      "metadata": {
        "id": "ZxLL-MxR9YoJ"
      }
    },
    {
      "cell_type": "code",
      "source": [
        "# Lets fit our model to the training data\n",
        "\n",
        "# 3. Fit the model (This time we will train for longer)\n",
        "model.fit(tf.expand_dims(X_train, axis=-1), y_train, epochs=200, verbose=0)"
      ],
      "metadata": {
        "colab": {
          "base_uri": "https://localhost:8080/"
        },
        "id": "M6bV8cWL9lpL",
        "outputId": "af966bd4-a3a4-4a2c-d4ce-5bd51f26c486"
      },
      "execution_count": null,
      "outputs": [
        {
          "output_type": "execute_result",
          "data": {
            "text/plain": [
              "<keras.src.callbacks.History at 0x7bccf7fe8700>"
            ]
          },
          "metadata": {},
          "execution_count": 44
        }
      ]
    },
    {
      "cell_type": "code",
      "source": [
        "# Get a summary of our model\n",
        "model.summary()"
      ],
      "metadata": {
        "colab": {
          "base_uri": "https://localhost:8080/"
        },
        "id": "oXLNvC8x99Dv",
        "outputId": "df1fe7a0-472f-4cb1-f0cb-9ca57470eb7e"
      },
      "execution_count": null,
      "outputs": [
        {
          "output_type": "stream",
          "name": "stdout",
          "text": [
            "Model: \"nameOfModel\"\n",
            "_________________________________________________________________\n",
            " Layer (type)                Output Shape              Param #   \n",
            "=================================================================\n",
            " layer1 (Dense)              (None, 100)               200       \n",
            "                                                                 \n",
            " layer2 (Dense)              (None, 100)               10100     \n",
            "                                                                 \n",
            " layer3 (Dense)              (None, 1)                 101       \n",
            "                                                                 \n",
            "=================================================================\n",
            "Total params: 10401 (40.63 KB)\n",
            "Trainable params: 10401 (40.63 KB)\n",
            "Non-trainable params: 0 (0.00 Byte)\n",
            "_________________________________________________________________\n"
          ]
        }
      ]
    },
    {
      "cell_type": "code",
      "source": [
        "from tensorflow.keras.utils import plot_model\n",
        "\n",
        "plot_model(model, show_shapes=True)"
      ],
      "metadata": {
        "colab": {
          "base_uri": "https://localhost:8080/",
          "height": 422
        },
        "id": "hu444IJ2-SM0",
        "outputId": "b2a467d6-3269-4b5c-ea5f-fca4ef7a2657"
      },
      "execution_count": null,
      "outputs": [
        {
          "output_type": "execute_result",
          "data": {
            "image/png": "[encoded data removed]",
            "text/plain": [
              "<IPython.core.display.Image object>"
            ]
          },
          "metadata": {},
          "execution_count": 46
        }
      ]
    },
    {
      "cell_type": "markdown",
      "source": [
        "### Visualizing Predictions\n",
        "\n",
        "To visualize predictions it is a good idea to plot them against the ground truth labels.\n",
        "\n",
        "Often you'll see this in the form of `y_test` or `y_true` versus `y_pred`"
      ],
      "metadata": {
        "id": "-sAk3vSx-rID"
      }
    },
    {
      "cell_type": "code",
      "source": [
        "# Make Some predictions\n",
        "y_pred = model.predict(X_test)\n",
        "y_pred"
      ],
      "metadata": {
        "colab": {
          "base_uri": "https://localhost:8080/"
        },
        "id": "J_8D9GqcCmKv",
        "outputId": "76d18a59-0cff-4d22-f284-24ad48111fb7"
      },
      "execution_count": null,
      "outputs": [
        {
          "output_type": "stream",
          "name": "stdout",
          "text": [
            "1/1 [==============================] - 0s 57ms/step\n"
          ]
        },
        {
          "output_type": "execute_result",
          "data": {
            "text/plain": [
              "array([[ 67.37853 ],\n",
              "       [ 71.2085  ],\n",
              "       [ 75.03848 ],\n",
              "       [ 78.86846 ],\n",
              "       [ 82.69842 ],\n",
              "       [ 86.52839 ],\n",
              "       [ 90.358376],\n",
              "       [ 94.18834 ],\n",
              "       [ 98.01831 ],\n",
              "       [101.84827 ]], dtype=float32)"
            ]
          },
          "metadata": {},
          "execution_count": 47
        }
      ]
    },
    {
      "cell_type": "code",
      "source": [
        "y_test"
      ],
      "metadata": {
        "colab": {
          "base_uri": "https://localhost:8080/"
        },
        "id": "2pr5uRfBCsl9",
        "outputId": "c00457e4-79d1-44a8-9a76-dd7118c082d3"
      },
      "execution_count": null,
      "outputs": [
        {
          "output_type": "execute_result",
          "data": {
            "text/plain": [
              "<tf.Tensor: shape=(10,), dtype=int32, numpy=array([ 70,  74,  78,  82,  86,  90,  94,  98, 102, 106], dtype=int32)>"
            ]
          },
          "metadata": {},
          "execution_count": 48
        }
      ]
    },
    {
      "cell_type": "markdown",
      "source": [
        "**If you feel like you are going to reuse functionality, turn it into a function**"
      ],
      "metadata": {
        "id": "MTB6pBIEDA7B"
      }
    },
    {
      "cell_type": "code",
      "source": [
        "# Lets create a plotting function\n",
        "def plot_predictions(train_data=X_train,\n",
        "                     train_labels=y_train,\n",
        "                     test_data=X_test,\n",
        "                     test_labels=y_test,\n",
        "                     predictions=y_pred):\n",
        "  \"\"\"\n",
        "  Plots training data, test data and compares predictions to ground truth\n",
        "  \"\"\"\n",
        "  plt.figure(figsize=(10,7))\n",
        "\n",
        "  #Plot training data in blue\n",
        "  plt.scatter(train_data, train_labels, c=\"b\", label=\"Training Data\")\n",
        "\n",
        "  #Plot testing data in green\n",
        "  plt.scatter(test_data, test_labels, c=\"g\", label=\"Testing Data\")\n",
        "\n",
        "  #Plot model's predictions in red\n",
        "  plt.scatter(test_data, predictions, c=\"r\", label=\"Predictions\")\n",
        "\n",
        "  # Show the legend\n",
        "  plt.legend()"
      ],
      "metadata": {
        "id": "FH6KVk6_CzTD"
      },
      "execution_count": null,
      "outputs": []
    },
    {
      "cell_type": "code",
      "source": [
        "plot_predictions(train_data=X_train,\n",
        "                 train_labels=y_train,\n",
        "                 test_data=X_test,\n",
        "                 test_labels=y_test,\n",
        "                 predictions=y_pred)"
      ],
      "metadata": {
        "colab": {
          "base_uri": "https://localhost:8080/",
          "height": 599
        },
        "id": "rJJ7GORYD_1y",
        "outputId": "16ff7d1f-8b92-4fce-e262-77e1905a475d"
      },
      "execution_count": null,
      "outputs": [
        {
          "output_type": "display_data",
          "data": {
            "text/plain": [
              "<Figure size 1000x700 with 1 Axes>"
            ],
            "image/png": "[encoded data removed]"
          },
          "metadata": {}
        }
      ]
    },
    {
      "cell_type": "markdown",
      "source": [
        "### Evaluating our model's predictions with regression evaluation matrics\n",
        "\n",
        "Depending on the problem you're working on, there will be different evaluation metrics to evaluate your model's performance.\n",
        "\n",
        "Since we are working on a regression problem, two of the main metrics:\n",
        "* MAE - mean absolute error (on avg, how wrong is each of my model's predictions)\n",
        "* MSE - mean square error, \"square the average errors\""
      ],
      "metadata": {
        "id": "20env0TJECJV"
      }
    },
    {
      "cell_type": "code",
      "source": [
        "# Evaluate the model on the test\n",
        "model.evaluate(X_test, y_test)"
      ],
      "metadata": {
        "colab": {
          "base_uri": "https://localhost:8080/"
        },
        "id": "24FdLM8SEx2R",
        "outputId": "4aec64a1-747f-470a-837e-d76b08cabac7"
      },
      "execution_count": null,
      "outputs": [
        {
          "output_type": "stream",
          "name": "stdout",
          "text": [
            "1/1 [==============================] - 0s 148ms/step - loss: 3.3866 - mae: 3.3866\n"
          ]
        },
        {
          "output_type": "execute_result",
          "data": {
            "text/plain": [
              "[3.386592149734497, 3.386592149734497]"
            ]
          },
          "metadata": {},
          "execution_count": 51
        }
      ]
    },
    {
      "cell_type": "code",
      "source": [
        "tf.constant(y_pred)"
      ],
      "metadata": {
        "colab": {
          "base_uri": "https://localhost:8080/"
        },
        "id": "-dv--rLqHFR2",
        "outputId": "17f2563a-a608-4ff1-e0c4-7e9bc6d97d1d"
      },
      "execution_count": null,
      "outputs": [
        {
          "output_type": "execute_result",
          "data": {
            "text/plain": [
              "<tf.Tensor: shape=(10, 1), dtype=float32, numpy=\n",
              "array([[ 67.37853 ],\n",
              "       [ 71.2085  ],\n",
              "       [ 75.03848 ],\n",
              "       [ 78.86846 ],\n",
              "       [ 82.69842 ],\n",
              "       [ 86.52839 ],\n",
              "       [ 90.358376],\n",
              "       [ 94.18834 ],\n",
              "       [ 98.01831 ],\n",
              "       [101.84827 ]], dtype=float32)>"
            ]
          },
          "metadata": {},
          "execution_count": 52
        }
      ]
    },
    {
      "cell_type": "code",
      "source": [
        "y_test"
      ],
      "metadata": {
        "colab": {
          "base_uri": "https://localhost:8080/"
        },
        "id": "KZjfepg-HN6h",
        "outputId": "538b52df-fce9-4277-e2da-fedad0fb9a8f"
      },
      "execution_count": null,
      "outputs": [
        {
          "output_type": "execute_result",
          "data": {
            "text/plain": [
              "<tf.Tensor: shape=(10,), dtype=int32, numpy=array([ 70,  74,  78,  82,  86,  90,  94,  98, 102, 106], dtype=int32)>"
            ]
          },
          "metadata": {},
          "execution_count": 53
        }
      ]
    },
    {
      "cell_type": "markdown",
      "source": [
        "**The `y_test` and `y_pred` are not the same shape!!!!**"
      ],
      "metadata": {
        "id": "tX6rJEurIYRV"
      }
    },
    {
      "cell_type": "code",
      "source": [
        "# Calculate the Mean absolute error"
      ],
      "metadata": {
        "id": "6JohI_8sHOnK"
      },
      "execution_count": null,
      "outputs": []
    },
    {
      "cell_type": "code",
      "source": [
        "mae = tf.keras.losses.MAE(y_true=y_test,y_pred=y_pred)\n",
        "mae"
      ],
      "metadata": {
        "colab": {
          "base_uri": "https://localhost:8080/"
        },
        "id": "m5UyZvfEHTSS",
        "outputId": "6c991db2-59aa-4de6-af9b-8e56e14522f5"
      },
      "execution_count": null,
      "outputs": [
        {
          "output_type": "execute_result",
          "data": {
            "text/plain": [
              "<tf.Tensor: shape=(10,), dtype=float32, numpy=\n",
              "array([20.621468, 17.033197, 14.17691 , 12.052615, 10.660316, 10.      ,\n",
              "       10.071675, 10.875336, 12.410986, 14.70896 ], dtype=float32)>"
            ]
          },
          "metadata": {},
          "execution_count": 55
        }
      ]
    },
    {
      "cell_type": "code",
      "source": [
        "tf.squeeze(y_pred)"
      ],
      "metadata": {
        "colab": {
          "base_uri": "https://localhost:8080/"
        },
        "id": "ddWbE6CjHky-",
        "outputId": "a5716470-7739-40c1-ec81-00d6988232eb"
      },
      "execution_count": null,
      "outputs": [
        {
          "output_type": "execute_result",
          "data": {
            "text/plain": [
              "<tf.Tensor: shape=(10,), dtype=float32, numpy=\n",
              "array([ 67.37853 ,  71.2085  ,  75.03848 ,  78.86846 ,  82.69842 ,\n",
              "        86.52839 ,  90.358376,  94.18834 ,  98.01831 , 101.84827 ],\n",
              "      dtype=float32)>"
            ]
          },
          "metadata": {},
          "execution_count": 56
        }
      ]
    },
    {
      "cell_type": "markdown",
      "source": [
        "**We need to squeeze `y_pred` to make it the same shape as `y_test`**"
      ],
      "metadata": {
        "id": "Z0XuORB7Iqjy"
      }
    },
    {
      "cell_type": "code",
      "source": [
        "# Calculate the mean absolute error\n",
        "mae = tf.keras.losses.MAE(y_true=y_test,y_pred=tf.squeeze(y_pred))\n",
        "mae\n"
      ],
      "metadata": {
        "colab": {
          "base_uri": "https://localhost:8080/"
        },
        "id": "mdv6DrlyI07H",
        "outputId": "9dd413fb-42a6-4bc2-8875-76e43f0beb3a"
      },
      "execution_count": null,
      "outputs": [
        {
          "output_type": "execute_result",
          "data": {
            "text/plain": [
              "<tf.Tensor: shape=(), dtype=float32, numpy=3.3865921>"
            ]
          },
          "metadata": {},
          "execution_count": 57
        }
      ]
    },
    {
      "cell_type": "code",
      "source": [
        "# Evaluate the model on the test\n",
        "model.evaluate(X_test, y_test)"
      ],
      "metadata": {
        "colab": {
          "base_uri": "https://localhost:8080/"
        },
        "id": "9mtUIb_CI3Yd",
        "outputId": "4e534c52-b4fc-435a-ac03-8aa5f0e306e0"
      },
      "execution_count": null,
      "outputs": [
        {
          "output_type": "stream",
          "name": "stdout",
          "text": [
            "1/1 [==============================] - 0s 26ms/step - loss: 3.3866 - mae: 3.3866\n"
          ]
        },
        {
          "output_type": "execute_result",
          "data": {
            "text/plain": [
              "[3.386592149734497, 3.386592149734497]"
            ]
          },
          "metadata": {},
          "execution_count": 58
        }
      ]
    },
    {
      "cell_type": "markdown",
      "source": [
        "**The results are now the same**"
      ],
      "metadata": {
        "id": "Kdjyk8yQJAg0"
      }
    },
    {
      "cell_type": "code",
      "source": [
        "# Calculate the mean square error\n",
        "mse = tf.keras.losses.MSE(y_true=y_test,\n",
        "                          y_pred=tf.squeeze(y_pred))\n",
        "mse"
      ],
      "metadata": {
        "colab": {
          "base_uri": "https://localhost:8080/"
        },
        "id": "PGdKSkdSJLcz",
        "outputId": "0c0f71df-2bf6-4e2b-c450-3812d0d08665"
      },
      "execution_count": null,
      "outputs": [
        {
          "output_type": "execute_result",
          "data": {
            "text/plain": [
              "<tf.Tensor: shape=(), dtype=float32, numpy=11.707512>"
            ]
          },
          "metadata": {},
          "execution_count": 59
        }
      ]
    },
    {
      "cell_type": "code",
      "source": [
        "# Create a reusable function for MAE and MSE\n",
        "def mae(y_true, y_pred):\n",
        "  return tf.keras.losses.MAE(y_true=y_test,\n",
        "                             y_pred=tf.squeeze(y_pred)).numpy()\n",
        "\n",
        "def mse(y_true,y_pred):\n",
        "  return tf.keras.losses.MSE(y_true=y_true,\n",
        "                             y_pred=tf.squeeze(y_pred)).numpy()"
      ],
      "metadata": {
        "id": "oShAY4RiJYfS"
      },
      "execution_count": null,
      "outputs": []
    },
    {
      "cell_type": "markdown",
      "source": [
        "### Running experiments to improve our model\n",
        "\n",
        "```\n",
        "\"Experiment,Experiment,Experiment\"\n",
        "```\n",
        "\n",
        "1. Get more data - more examples for the model to train on (more opportunities to learn patterns)\n",
        "2. Make our model larger (using a more complex model) - more layers or more hidden units in each layer\n",
        "3. Train for longer -  give your model more of a chance to find patterns in the data\n",
        "\n",
        "Lets do 3 modelling experiments\n",
        "1. `Model 1:` Same as original model, 1 layer, but trained 100 epochs\n",
        "2. `Model 2`: 2 layers, trained for 100 epochs\n",
        "3. `Model 3:` 2 layers, trained for 500 epochs\n",
        "\n",
        "**Build Model 1**\n",
        "\n",
        "1 layer, but trained 100 epochs"
      ],
      "metadata": {
        "id": "jlYVtKisKqvI"
      }
    },
    {
      "cell_type": "code",
      "source": [
        "# Set random seed\n",
        "tf.random.set_seed(42)\n",
        "\n",
        "#1. Create Model\n",
        "model_1 = tf.keras.Sequential([\n",
        "    tf.keras.layers.Dense(1)\n",
        "])\n",
        "\n",
        "#2 Compile your model\n",
        "model_1.compile(loss=tf.keras.losses.mae,\n",
        "              optimizer=tf.keras.optimizers.SGD(),\n",
        "              metrics=[\"mae\"])\n",
        "\n",
        "#3. Fit the model\n",
        "model_1.fit(tf.expand_dims(X_train,-1),y_train,epochs=100,verbose=0)"
      ],
      "metadata": {
        "colab": {
          "base_uri": "https://localhost:8080/"
        },
        "id": "3LdcVC0ULc6q",
        "outputId": "e9528296-1e6c-4939-ce27-a9a1bc2db4f6"
      },
      "execution_count": null,
      "outputs": [
        {
          "output_type": "execute_result",
          "data": {
            "text/plain": [
              "<keras.src.callbacks.History at 0x7bcd055e38e0>"
            ]
          },
          "metadata": {},
          "execution_count": 61
        }
      ]
    },
    {
      "cell_type": "code",
      "source": [
        "plot_model(model_1, show_shapes=True)"
      ],
      "metadata": {
        "colab": {
          "base_uri": "https://localhost:8080/",
          "height": 201
        },
        "id": "hJWWZ4-nbB6v",
        "outputId": "f7fe3e5d-5c45-4f95-d0cf-8207e2f61f9d"
      },
      "execution_count": null,
      "outputs": [
        {
          "output_type": "execute_result",
          "data": {
            "image/png": "[encoded data removed]",
            "text/plain": [
              "<IPython.core.display.Image object>"
            ]
          },
          "metadata": {},
          "execution_count": 62
        }
      ]
    },
    {
      "cell_type": "code",
      "source": [
        "# Make and plot predictions for model_1\n",
        "y_preds_1 = model_1.predict(X_test)\n",
        "plot_predictions(predictions=y_preds_1)"
      ],
      "metadata": {
        "colab": {
          "base_uri": "https://localhost:8080/",
          "height": 654
        },
        "id": "68KtdkpbNOjW",
        "outputId": "0022c893-d581-4981-e77c-3d15128917dc"
      },
      "execution_count": null,
      "outputs": [
        {
          "output_type": "stream",
          "name": "stderr",
          "text": [
            "WARNING:tensorflow:5 out of the last 5 calls to <function Model.make_predict_function.<locals>.predict_function at 0x7bccf7f6f760> triggered tf.function retracing. Tracing is expensive and the excessive number of tracings could be due to (1) creating @tf.function repeatedly in a loop, (2) passing tensors with different shapes, (3) passing Python objects instead of tensors. For (1), please define your @tf.function outside of the loop. For (2), @tf.function has reduce_retracing=True option that can avoid unnecessary retracing. For (3), please refer to https://www.tensorflow.org/guide/function#controlling_retracing and https://www.tensorflow.org/api_docs/python/tf/function for  more details.\n"
          ]
        },
        {
          "output_type": "stream",
          "name": "stdout",
          "text": [
            "1/1 [==============================] - 0s 71ms/step\n"
          ]
        },
        {
          "output_type": "display_data",
          "data": {
            "text/plain": [
              "<Figure size 1000x700 with 1 Axes>"
            ],
            "image/png": "[encoded data removed]"
          },
          "metadata": {}
        }
      ]
    },
    {
      "cell_type": "code",
      "source": [
        "# Calculate evaluiation metrics for model_1\n",
        "mae_1 = mae(y_test,y_preds_1)\n",
        "mse_1 = mse(y_test,y_preds_1)\n",
        "\n",
        "mae_1,mse_1"
      ],
      "metadata": {
        "colab": {
          "base_uri": "https://localhost:8080/"
        },
        "id": "4DajO0dTNqLi",
        "outputId": "3f884c90-d05a-4e5f-98ff-6c441eaff4d6"
      },
      "execution_count": null,
      "outputs": [
        {
          "output_type": "execute_result",
          "data": {
            "text/plain": [
              "(30.658787, 950.38947)"
            ]
          },
          "metadata": {},
          "execution_count": 64
        }
      ]
    },
    {
      "cell_type": "markdown",
      "source": [
        "**Build Model 2**\n",
        "\n",
        "2 layer, but trained 100 epochs"
      ],
      "metadata": {
        "id": "gPgyFU8rORIh"
      }
    },
    {
      "cell_type": "code",
      "source": [
        "# Set random seed\n",
        "tf.random.set_seed(42)\n",
        "\n",
        "#1. Create Model\n",
        "model_2 = tf.keras.Sequential([\n",
        "    tf.keras.layers.Dense(10),\n",
        "    tf.keras.layers.Dense(1)\n",
        "])\n",
        "\n",
        "#2 Compile your model\n",
        "model_2.compile(loss=tf.keras.losses.mae,\n",
        "              optimizer=tf.keras.optimizers.SGD(),\n",
        "              metrics=[\"mae\"])\n",
        "\n",
        "#3. Fit the model\n",
        "model_2.fit(tf.expand_dims(X_train,-1),y_train,epochs=100,verbose=0)"
      ],
      "metadata": {
        "colab": {
          "base_uri": "https://localhost:8080/"
        },
        "id": "I8xmBxHtf0M9",
        "outputId": "b63d8378-95e1-47d2-fbac-33c3453ef841"
      },
      "execution_count": null,
      "outputs": [
        {
          "output_type": "execute_result",
          "data": {
            "text/plain": [
              "<keras.src.callbacks.History at 0x7bcd0551e0b0>"
            ]
          },
          "metadata": {},
          "execution_count": 65
        }
      ]
    },
    {
      "cell_type": "code",
      "source": [
        "plot_model(model_2, show_shapes=True)"
      ],
      "metadata": {
        "colab": {
          "base_uri": "https://localhost:8080/",
          "height": 312
        },
        "id": "EX80HWjZbFoN",
        "outputId": "7d09fc93-8526-49db-c764-62c8978f6d3f"
      },
      "execution_count": null,
      "outputs": [
        {
          "output_type": "execute_result",
          "data": {
            "image/png": "[encoded data removed]",
            "text/plain": [
              "<IPython.core.display.Image object>"
            ]
          },
          "metadata": {},
          "execution_count": 66
        }
      ]
    },
    {
      "cell_type": "code",
      "source": [
        "# Make and plot predictions for model_2\n",
        "y_preds_2 = model_2.predict(X_test)\n",
        "plot_predictions(predictions=y_preds_2)"
      ],
      "metadata": {
        "colab": {
          "base_uri": "https://localhost:8080/",
          "height": 654
        },
        "id": "hLyAc2TcgpV1",
        "outputId": "6bd879d2-357a-4cb5-e4e9-534df9b2ce0d"
      },
      "execution_count": null,
      "outputs": [
        {
          "output_type": "stream",
          "name": "stderr",
          "text": [
            "WARNING:tensorflow:6 out of the last 6 calls to <function Model.make_predict_function.<locals>.predict_function at 0x7bcd056facb0> triggered tf.function retracing. Tracing is expensive and the excessive number of tracings could be due to (1) creating @tf.function repeatedly in a loop, (2) passing tensors with different shapes, (3) passing Python objects instead of tensors. For (1), please define your @tf.function outside of the loop. For (2), @tf.function has reduce_retracing=True option that can avoid unnecessary retracing. For (3), please refer to https://www.tensorflow.org/guide/function#controlling_retracing and https://www.tensorflow.org/api_docs/python/tf/function for  more details.\n"
          ]
        },
        {
          "output_type": "stream",
          "name": "stdout",
          "text": [
            "1/1 [==============================] - 0s 86ms/step\n"
          ]
        },
        {
          "output_type": "display_data",
          "data": {
            "text/plain": [
              "<Figure size 1000x700 with 1 Axes>"
            ],
            "image/png": "[encoded data removed]"
          },
          "metadata": {}
        }
      ]
    },
    {
      "cell_type": "code",
      "source": [
        "# Calculate evaluiation metrics for model_2\n",
        "mae_2 = mae(y_test,y_preds_2)\n",
        "mse_2 = mse(y_test,y_preds_2)\n",
        "\n",
        "mae_2,mse_2"
      ],
      "metadata": {
        "colab": {
          "base_uri": "https://localhost:8080/"
        },
        "id": "efFM0Thsg0Wv",
        "outputId": "4eff571b-b6c0-418b-98db-4b62058778b7"
      },
      "execution_count": null,
      "outputs": [
        {
          "output_type": "execute_result",
          "data": {
            "text/plain": [
              "(17.68848, 327.50903)"
            ]
          },
          "metadata": {},
          "execution_count": 68
        }
      ]
    },
    {
      "cell_type": "markdown",
      "source": [
        "**Build Model 3**\n",
        "\n",
        "2 layers, trained for 500 epochs"
      ],
      "metadata": {
        "id": "bU_V424Eg8bf"
      }
    },
    {
      "cell_type": "code",
      "source": [
        "tf.random.set_seed(42)\n",
        "\n",
        "# 1. Create the model\n",
        "model_3 = tf.keras.Sequential([\n",
        "    tf.keras.layers.Dense(10),\n",
        "    tf.keras.layers.Dense(1)\n",
        "])\n",
        "\n",
        "# 2. Compile the model\n",
        "model_3.compile(loss=tf.keras.losses.mae,\n",
        "              optimizer=tf.keras.optimizers.SGD(),\n",
        "              metrics=[\"mae\"])\n",
        "\n",
        "# 3. Fit the model\n",
        "model_3.fit(tf.expand_dims(X_train,axis=-1),y_train,epochs=500, verbose=0)"
      ],
      "metadata": {
        "colab": {
          "base_uri": "https://localhost:8080/"
        },
        "id": "nke-x5OOhHXW",
        "outputId": "00d4e456-ead9-433c-d8a9-856a82fda153"
      },
      "execution_count": null,
      "outputs": [
        {
          "output_type": "execute_result",
          "data": {
            "text/plain": [
              "<keras.src.callbacks.History at 0x7bcd04506290>"
            ]
          },
          "metadata": {},
          "execution_count": 69
        }
      ]
    },
    {
      "cell_type": "code",
      "source": [
        "plot_model(model_3, show_shapes=True)"
      ],
      "metadata": {
        "colab": {
          "base_uri": "https://localhost:8080/",
          "height": 312
        },
        "id": "gTDz7ilZbIMj",
        "outputId": "25575cd6-a063-4799-dff8-5c8a18f2b8b5"
      },
      "execution_count": null,
      "outputs": [
        {
          "output_type": "execute_result",
          "data": {
            "image/png": "[encoded data removed]",
            "text/plain": [
              "<IPython.core.display.Image object>"
            ]
          },
          "metadata": {},
          "execution_count": 70
        }
      ]
    },
    {
      "cell_type": "code",
      "source": [
        "# Make predictions on model 3\n",
        "y_preds_3 = model_3.predict(X_test)\n",
        "plot_predictions(predictions=y_preds_3)"
      ],
      "metadata": {
        "colab": {
          "base_uri": "https://localhost:8080/",
          "height": 616
        },
        "id": "kg3JMyV3h4BF",
        "outputId": "b90ab3bd-65e4-4af4-dc72-2eedadce3a86"
      },
      "execution_count": null,
      "outputs": [
        {
          "output_type": "stream",
          "name": "stdout",
          "text": [
            "1/1 [==============================] - 0s 55ms/step\n"
          ]
        },
        {
          "output_type": "display_data",
          "data": {
            "text/plain": [
              "<Figure size 1000x700 with 1 Axes>"
            ],
            "image/png": "[encoded data removed]"
          },
          "metadata": {}
        }
      ]
    },
    {
      "cell_type": "code",
      "source": [
        "# Calculate evaluiation metrics for model_3\n",
        "mae_3 = mae(y_test,y_preds_3)\n",
        "mse_3 = mse(y_test,y_preds_3)\n",
        "\n",
        "mae_3,mse_3"
      ],
      "metadata": {
        "colab": {
          "base_uri": "https://localhost:8080/"
        },
        "id": "N3Kt8_cOiRSK",
        "outputId": "f1b25f3d-8b0f-440b-b8b0-598bbe646fcd"
      },
      "execution_count": null,
      "outputs": [
        {
          "output_type": "execute_result",
          "data": {
            "text/plain": [
              "(67.91804, 4697.3486)"
            ]
          },
          "metadata": {},
          "execution_count": 72
        }
      ]
    },
    {
      "cell_type": "markdown",
      "source": [
        "**OVERFIT THE MODEL**"
      ],
      "metadata": {
        "id": "kqtVXHHgjIhp"
      }
    },
    {
      "cell_type": "markdown",
      "source": [
        "## Comparing the results of our expiriments"
      ],
      "metadata": {
        "id": "a_jF9Lohk1AI"
      }
    },
    {
      "cell_type": "code",
      "source": [
        "# Let's compare our model's results using a pandas DataFrame\n",
        "import pandas as pd\n",
        "\n",
        "model_results = [[\"model_1\", mae_1, mse_1],\n",
        "                 [\"model_2\", mae_2, mse_2],\n",
        "                 [\"model_3\", mae_3, mse_3]]\n",
        "\n",
        "all_results = pd.DataFrame(model_results, columns=[\"model\", \"mae\", \"mse\"])\n",
        "all_results"
      ],
      "metadata": {
        "colab": {
          "base_uri": "https://localhost:8080/",
          "height": 143
        },
        "id": "mbSiphe6lJae",
        "outputId": "9b1c3edf-69db-4443-d3d7-7f54f4fc3ac4"
      },
      "execution_count": null,
      "outputs": [
        {
          "output_type": "execute_result",
          "data": {
            "text/plain": [
              "     model        mae          mse\n",
              "0  model_1  30.658787   950.389465\n",
              "1  model_2  17.688480   327.509033\n",
              "2  model_3  67.918037  4697.348633"
            ],
            "text/html": [
              "\n",
              "  <div id=\"df-e61ace69-57fc-4cdb-b570-92c983a3543e\" class=\"colab-df-container\">\n",
              "    <div>\n",
              "<style scoped>\n",
              "    .dataframe tbody tr th:only-of-type {\n",
              "        vertical-align: middle;\n",
              "    }\n",
              "\n",
              "    .dataframe tbody tr th {\n",
              "        vertical-align: top;\n",
              "    }\n",
              "\n",
              "    .dataframe thead th {\n",
              "        text-align: right;\n",
              "    }\n",
              "</style>\n",
              "<table border=\"1\" class=\"dataframe\">\n",
              "  <thead>\n",
              "    <tr style=\"text-align: right;\">\n",
              "      <th></th>\n",
              "      <th>model</th>\n",
              "      <th>mae</th>\n",
              "      <th>mse</th>\n",
              "    </tr>\n",
              "  </thead>\n",
              "  <tbody>\n",
              "    <tr>\n",
              "      <th>0</th>\n",
              "      <td>model_1</td>\n",
              "      <td>30.658787</td>\n",
              "      <td>950.389465</td>\n",
              "    </tr>\n",
              "    <tr>\n",
              "      <th>1</th>\n",
              "      <td>model_2</td>\n",
              "      <td>17.688480</td>\n",
              "      <td>327.509033</td>\n",
              "    </tr>\n",
              "    <tr>\n",
              "      <th>2</th>\n",
              "      <td>model_3</td>\n",
              "      <td>67.918037</td>\n",
              "      <td>4697.348633</td>\n",
              "    </tr>\n",
              "  </tbody>\n",
              "</table>\n",
              "</div>\n",
              "    <div class=\"colab-df-buttons\">\n",
              "\n",
              "  <div class=\"colab-df-container\">\n",
              "    <button class=\"colab-df-convert\" onclick=\"convertToInteractive('df-e61ace69-57fc-4cdb-b570-92c983a3543e')\"\n",
              "            title=\"Convert this dataframe to an interactive table.\"\n",
              "            style=\"display:none;\">\n",
              "\n",
              "  <svg xmlns=\"http://www.w3.org/2000/svg\" height=\"24px\" viewBox=\"0 -960 960 960\">\n",
              "    <path d=\"M120-120v-720h720v720H120Zm60-500h600v-160H180v160Zm220 220h160v-160H400v160Zm0 220h160v-160H400v160ZM180-400h160v-160H180v160Zm440 0h160v-160H620v160ZM180-180h160v-160H180v160Zm440 0h160v-160H620v160Z\"/>\n",
              "  </svg>\n",
              "    </button>\n",
              "\n",
              "  <style>\n",
              "    .colab-df-container {\n",
              "      display:flex;\n",
              "      gap: 12px;\n",
              "    }\n",
              "\n",
              "    .colab-df-convert {\n",
              "      background-color: #E8F0FE;\n",
              "      border: none;\n",
              "      border-radius: 50%;\n",
              "      cursor: pointer;\n",
              "      display: none;\n",
              "      fill: #1967D2;\n",
              "      height: 32px;\n",
              "      padding: 0 0 0 0;\n",
              "      width: 32px;\n",
              "    }\n",
              "\n",
              "    .colab-df-convert:hover {\n",
              "      background-color: #E2EBFA;\n",
              "      box-shadow: 0px 1px 2px rgba(60, 64, 67, 0.3), 0px 1px 3px 1px rgba(60, 64, 67, 0.15);\n",
              "      fill: #174EA6;\n",
              "    }\n",
              "\n",
              "    .colab-df-buttons div {\n",
              "      margin-bottom: 4px;\n",
              "    }\n",
              "\n",
              "    [theme=dark] .colab-df-convert {\n",
              "      background-color: #3B4455;\n",
              "      fill: #D2E3FC;\n",
              "    }\n",
              "\n",
              "    [theme=dark] .colab-df-convert:hover {\n",
              "      background-color: #434B5C;\n",
              "      box-shadow: 0px 1px 3px 1px rgba(0, 0, 0, 0.15);\n",
              "      filter: drop-shadow(0px 1px 2px rgba(0, 0, 0, 0.3));\n",
              "      fill: #FFFFFF;\n",
              "    }\n",
              "  </style>\n",
              "\n",
              "    <script>\n",
              "      const buttonEl =\n",
              "        document.querySelector('#df-e61ace69-57fc-4cdb-b570-92c983a3543e button.colab-df-convert');\n",
              "      buttonEl.style.display =\n",
              "        google.colab.kernel.accessAllowed ? 'block' : 'none';\n",
              "\n",
              "      async function convertToInteractive(key) {\n",
              "        const element = document.querySelector('#df-e61ace69-57fc-4cdb-b570-92c983a3543e');\n",
              "        const dataTable =\n",
              "          await google.colab.kernel.invokeFunction('convertToInteractive',\n",
              "                                                    [key], {});\n",
              "        if (!dataTable) return;\n",
              "\n",
              "        const docLinkHtml = 'Like what you see? Visit the ' +\n",
              "          '<a target=\"_blank\" href=https://colab.research.google.com/notebooks/data_table.ipynb>data table notebook</a>'\n",
              "          + ' to learn more about interactive tables.';\n",
              "        element.innerHTML = '';\n",
              "        dataTable['output_type'] = 'display_data';\n",
              "        await google.colab.output.renderOutput(dataTable, element);\n",
              "        const docLink = document.createElement('div');\n",
              "        docLink.innerHTML = docLinkHtml;\n",
              "        element.appendChild(docLink);\n",
              "      }\n",
              "    </script>\n",
              "  </div>\n",
              "\n",
              "\n",
              "<div id=\"df-ecb3fb73-d629-4d25-9c0f-60a746feb260\">\n",
              "  <button class=\"colab-df-quickchart\" onclick=\"quickchart('df-ecb3fb73-d629-4d25-9c0f-60a746feb260')\"\n",
              "            title=\"Suggest charts\"\n",
              "            style=\"display:none;\">\n",
              "\n",
              "<svg xmlns=\"http://www.w3.org/2000/svg\" height=\"24px\"viewBox=\"0 0 24 24\"\n",
              "     width=\"24px\">\n",
              "    <g>\n",
              "        <path d=\"M19 3H5c-1.1 0-2 .9-2 2v14c0 1.1.9 2 2 2h14c1.1 0 2-.9 2-2V5c0-1.1-.9-2-2-2zM9 17H7v-7h2v7zm4 0h-2V7h2v10zm4 0h-2v-4h2v4z\"/>\n",
              "    </g>\n",
              "</svg>\n",
              "  </button>\n",
              "\n",
              "<style>\n",
              "  .colab-df-quickchart {\n",
              "      --bg-color: #E8F0FE;\n",
              "      --fill-color: #1967D2;\n",
              "      --hover-bg-color: #E2EBFA;\n",
              "      --hover-fill-color: #174EA6;\n",
              "      --disabled-fill-color: #AAA;\n",
              "      --disabled-bg-color: #DDD;\n",
              "  }\n",
              "\n",
              "  [theme=dark] .colab-df-quickchart {\n",
              "      --bg-color: #3B4455;\n",
              "      --fill-color: #D2E3FC;\n",
              "      --hover-bg-color: #434B5C;\n",
              "      --hover-fill-color: #FFFFFF;\n",
              "      --disabled-bg-color: #3B4455;\n",
              "      --disabled-fill-color: #666;\n",
              "  }\n",
              "\n",
              "  .colab-df-quickchart {\n",
              "    background-color: var(--bg-color);\n",
              "    border: none;\n",
              "    border-radius: 50%;\n",
              "    cursor: pointer;\n",
              "    display: none;\n",
              "    fill: var(--fill-color);\n",
              "    height: 32px;\n",
              "    padding: 0;\n",
              "    width: 32px;\n",
              "  }\n",
              "\n",
              "  .colab-df-quickchart:hover {\n",
              "    background-color: var(--hover-bg-color);\n",
              "    box-shadow: 0 1px 2px rgba(60, 64, 67, 0.3), 0 1px 3px 1px rgba(60, 64, 67, 0.15);\n",
              "    fill: var(--button-hover-fill-color);\n",
              "  }\n",
              "\n",
              "  .colab-df-quickchart-complete:disabled,\n",
              "  .colab-df-quickchart-complete:disabled:hover {\n",
              "    background-color: var(--disabled-bg-color);\n",
              "    fill: var(--disabled-fill-color);\n",
              "    box-shadow: none;\n",
              "  }\n",
              "\n",
              "  .colab-df-spinner {\n",
              "    border: 2px solid var(--fill-color);\n",
              "    border-color: transparent;\n",
              "    border-bottom-color: var(--fill-color);\n",
              "    animation:\n",
              "      spin 1s steps(1) infinite;\n",
              "  }\n",
              "\n",
              "  @keyframes spin {\n",
              "    0% {\n",
              "      border-color: transparent;\n",
              "      border-bottom-color: var(--fill-color);\n",
              "      border-left-color: var(--fill-color);\n",
              "    }\n",
              "    20% {\n",
              "      border-color: transparent;\n",
              "      border-left-color: var(--fill-color);\n",
              "      border-top-color: var(--fill-color);\n",
              "    }\n",
              "    30% {\n",
              "      border-color: transparent;\n",
              "      border-left-color: var(--fill-color);\n",
              "      border-top-color: var(--fill-color);\n",
              "      border-right-color: var(--fill-color);\n",
              "    }\n",
              "    40% {\n",
              "      border-color: transparent;\n",
              "      border-right-color: var(--fill-color);\n",
              "      border-top-color: var(--fill-color);\n",
              "    }\n",
              "    60% {\n",
              "      border-color: transparent;\n",
              "      border-right-color: var(--fill-color);\n",
              "    }\n",
              "    80% {\n",
              "      border-color: transparent;\n",
              "      border-right-color: var(--fill-color);\n",
              "      border-bottom-color: var(--fill-color);\n",
              "    }\n",
              "    90% {\n",
              "      border-color: transparent;\n",
              "      border-bottom-color: var(--fill-color);\n",
              "    }\n",
              "  }\n",
              "</style>\n",
              "\n",
              "  <script>\n",
              "    async function quickchart(key) {\n",
              "      const quickchartButtonEl =\n",
              "        document.querySelector('#' + key + ' button');\n",
              "      quickchartButtonEl.disabled = true;  // To prevent multiple clicks.\n",
              "      quickchartButtonEl.classList.add('colab-df-spinner');\n",
              "      try {\n",
              "        const charts = await google.colab.kernel.invokeFunction(\n",
              "            'suggestCharts', [key], {});\n",
              "      } catch (error) {\n",
              "        console.error('Error during call to suggestCharts:', error);\n",
              "      }\n",
              "      quickchartButtonEl.classList.remove('colab-df-spinner');\n",
              "      quickchartButtonEl.classList.add('colab-df-quickchart-complete');\n",
              "    }\n",
              "    (() => {\n",
              "      let quickchartButtonEl =\n",
              "        document.querySelector('#df-ecb3fb73-d629-4d25-9c0f-60a746feb260 button');\n",
              "      quickchartButtonEl.style.display =\n",
              "        google.colab.kernel.accessAllowed ? 'block' : 'none';\n",
              "    })();\n",
              "  </script>\n",
              "</div>\n",
              "    </div>\n",
              "  </div>\n"
            ]
          },
          "metadata": {},
          "execution_count": 73
        }
      ]
    },
    {
      "cell_type": "markdown",
      "source": [
        "**Looks like Model_2 ran the best**"
      ],
      "metadata": {
        "id": "dc-Zqsv8mjX6"
      }
    },
    {
      "cell_type": "code",
      "source": [
        "model_2.summary()"
      ],
      "metadata": {
        "colab": {
          "base_uri": "https://localhost:8080/"
        },
        "id": "4GNFH1ygl8Nz",
        "outputId": "36ad3ce6-7a44-48e2-bd7a-0e7e1ec48d92"
      },
      "execution_count": null,
      "outputs": [
        {
          "output_type": "stream",
          "name": "stdout",
          "text": [
            "Model: \"sequential_7\"\n",
            "_________________________________________________________________\n",
            " Layer (type)                Output Shape              Param #   \n",
            "=================================================================\n",
            " dense_8 (Dense)             (None, 10)                20        \n",
            "                                                                 \n",
            " dense_9 (Dense)             (None, 1)                 11        \n",
            "                                                                 \n",
            "=================================================================\n",
            "Total params: 31 (124.00 Byte)\n",
            "Trainable params: 31 (124.00 Byte)\n",
            "Non-trainable params: 0 (0.00 Byte)\n",
            "_________________________________________________________________\n"
          ]
        }
      ]
    },
    {
      "cell_type": "markdown",
      "source": [
        "## Tracking your expiriments\n",
        "\n",
        "One really good habit is to track the results of your expiriments. And when doing so it can be tedious when running lots of expiriments. Luckily there are tools to help us\n",
        "\n",
        "**Resource:** As you build more models, you'll want to look into using:\n",
        "* TensorBoard - a component of the TensorFlow library to help track the modelling experiments\n",
        "* Weights & Biases - a tool for tracking all kinds of ML experiments\n"
      ],
      "metadata": {
        "id": "YsG9fpPBmYyS"
      }
    },
    {
      "cell_type": "markdown",
      "source": [
        "## Saving our Models\n",
        "\n",
        "Saving our models allows us to use them outside of Google Colab (or original training environment) such as in a web app or a mobile app\n",
        "\n",
        "There are 2 main formats:\n",
        "1. `SavedModel` (Default)\n",
        "2. `HDF5`\n",
        "3. `keras` *NEW*\n"
      ],
      "metadata": {
        "id": "98i9fuZfnvPz"
      }
    },
    {
      "cell_type": "code",
      "source": [
        "# Save a model using the SavedModel format\n",
        "model_2.save(\"best_model_SavedModel_format\")"
      ],
      "metadata": {
        "id": "lMjJhr8Hn9A0"
      },
      "execution_count": null,
      "outputs": []
    },
    {
      "cell_type": "code",
      "source": [
        "# Save a model as HDF5 format\n",
        "model_2.save(\"best_model_HDF5_format.h5\")"
      ],
      "metadata": {
        "colab": {
          "base_uri": "https://localhost:8080/"
        },
        "id": "ITkEjtiqcFaX",
        "outputId": "1613415c-f805-4594-80cf-e22f480a99ed"
      },
      "execution_count": null,
      "outputs": [
        {
          "output_type": "stream",
          "name": "stderr",
          "text": [
            "/usr/local/lib/python3.10/dist-packages/keras/src/engine/training.py:3079: UserWarning: You are saving your model as an HDF5 file via `model.save()`. This file format is considered legacy. We recommend using instead the native Keras format, e.g. `model.save('my_model.keras')`.\n",
            "  saving_api.save_model(\n"
          ]
        }
      ]
    },
    {
      "cell_type": "code",
      "source": [
        "# Save a model using keras format\n",
        "model_2.save(\"best_model_keras_format.keras\")"
      ],
      "metadata": {
        "id": "huJwAQonc-Rd"
      },
      "execution_count": null,
      "outputs": []
    },
    {
      "cell_type": "markdown",
      "source": [
        "##Loading in a saved model"
      ],
      "metadata": {
        "id": "G12xW7eud8ZA"
      }
    },
    {
      "cell_type": "code",
      "source": [
        "#Load in the model from each save format to reevaluate and make sure it saved correctly\n",
        "#Load SavedModel\n",
        "loaded_SavedModel_format = tf.keras.models.load_model(\"/content/best_model_SavedModel_format\")\n",
        "loaded_HDF5_format = tf.keras.models.load_model(\"/content/best_model_HDF5_format.h5\")\n",
        "loaded_keras_format = tf.keras.models.load_model(\"/content/best_model_keras_format.keras\")"
      ],
      "metadata": {
        "id": "dSugQ1sMdZry"
      },
      "execution_count": null,
      "outputs": []
    },
    {
      "cell_type": "code",
      "source": [
        "loaded_SavedModel_format.summary()"
      ],
      "metadata": {
        "colab": {
          "base_uri": "https://localhost:8080/"
        },
        "id": "DdC5fkJ8ek0g",
        "outputId": "fa62bfd8-3777-403e-a839-c919c8983bcc"
      },
      "execution_count": null,
      "outputs": [
        {
          "output_type": "stream",
          "name": "stdout",
          "text": [
            "Model: \"sequential_7\"\n",
            "_________________________________________________________________\n",
            " Layer (type)                Output Shape              Param #   \n",
            "=================================================================\n",
            " dense_8 (Dense)             (None, 10)                20        \n",
            "                                                                 \n",
            " dense_9 (Dense)             (None, 1)                 11        \n",
            "                                                                 \n",
            "=================================================================\n",
            "Total params: 31 (124.00 Byte)\n",
            "Trainable params: 31 (124.00 Byte)\n",
            "Non-trainable params: 0 (0.00 Byte)\n",
            "_________________________________________________________________\n"
          ]
        }
      ]
    },
    {
      "cell_type": "code",
      "source": [
        "loaded_HDF5_format.summary()"
      ],
      "metadata": {
        "colab": {
          "base_uri": "https://localhost:8080/"
        },
        "id": "nsI5bD1PewDP",
        "outputId": "8b9a5c82-8cd5-47ee-b837-5c1e18ff3851"
      },
      "execution_count": null,
      "outputs": [
        {
          "output_type": "stream",
          "name": "stdout",
          "text": [
            "Model: \"sequential_7\"\n",
            "_________________________________________________________________\n",
            " Layer (type)                Output Shape              Param #   \n",
            "=================================================================\n",
            " dense_8 (Dense)             (None, 10)                20        \n",
            "                                                                 \n",
            " dense_9 (Dense)             (None, 1)                 11        \n",
            "                                                                 \n",
            "=================================================================\n",
            "Total params: 31 (124.00 Byte)\n",
            "Trainable params: 31 (124.00 Byte)\n",
            "Non-trainable params: 0 (0.00 Byte)\n",
            "_________________________________________________________________\n"
          ]
        }
      ]
    },
    {
      "cell_type": "code",
      "source": [
        "loaded_keras_format.summary()"
      ],
      "metadata": {
        "colab": {
          "base_uri": "https://localhost:8080/"
        },
        "id": "sAlsZIqPeyw1",
        "outputId": "05e27305-611c-4e30-984f-b38f1d590532"
      },
      "execution_count": null,
      "outputs": [
        {
          "output_type": "stream",
          "name": "stdout",
          "text": [
            "Model: \"sequential_7\"\n",
            "_________________________________________________________________\n",
            " Layer (type)                Output Shape              Param #   \n",
            "=================================================================\n",
            " dense_8 (Dense)             (None, 10)                20        \n",
            "                                                                 \n",
            " dense_9 (Dense)             (None, 1)                 11        \n",
            "                                                                 \n",
            "=================================================================\n",
            "Total params: 31 (124.00 Byte)\n",
            "Trainable params: 31 (124.00 Byte)\n",
            "Non-trainable params: 0 (0.00 Byte)\n",
            "_________________________________________________________________\n"
          ]
        }
      ]
    },
    {
      "cell_type": "code",
      "source": [
        "model_2.summary()"
      ],
      "metadata": {
        "colab": {
          "base_uri": "https://localhost:8080/"
        },
        "id": "7m8wTT3de1Ox",
        "outputId": "ee54ce83-6d71-4681-9f88-270870d3707e"
      },
      "execution_count": null,
      "outputs": [
        {
          "output_type": "stream",
          "name": "stdout",
          "text": [
            "Model: \"sequential_7\"\n",
            "_________________________________________________________________\n",
            " Layer (type)                Output Shape              Param #   \n",
            "=================================================================\n",
            " dense_8 (Dense)             (None, 10)                20        \n",
            "                                                                 \n",
            " dense_9 (Dense)             (None, 1)                 11        \n",
            "                                                                 \n",
            "=================================================================\n",
            "Total params: 31 (124.00 Byte)\n",
            "Trainable params: 31 (124.00 Byte)\n",
            "Non-trainable params: 0 (0.00 Byte)\n",
            "_________________________________________________________________\n"
          ]
        }
      ]
    },
    {
      "cell_type": "code",
      "source": [
        "# Check the patterns to make sure they are identical\n",
        "model_2_preds = model_2.predict(X_test)\n",
        "SavedModel_preds = loaded_SavedModel_format.predict(X_test)\n",
        "model_2_preds == SavedModel_preds"
      ],
      "metadata": {
        "colab": {
          "base_uri": "https://localhost:8080/"
        },
        "id": "ynHL6w79e62I",
        "outputId": "9661fc00-d3fd-412a-e36c-04eb93e50247"
      },
      "execution_count": null,
      "outputs": [
        {
          "output_type": "stream",
          "name": "stdout",
          "text": [
            "1/1 [==============================] - 0s 58ms/step\n",
            "1/1 [==============================] - 0s 54ms/step\n"
          ]
        },
        {
          "output_type": "execute_result",
          "data": {
            "text/plain": [
              "array([[ True],\n",
              "       [ True],\n",
              "       [ True],\n",
              "       [ True],\n",
              "       [ True],\n",
              "       [ True],\n",
              "       [ True],\n",
              "       [ True],\n",
              "       [ True],\n",
              "       [ True]])"
            ]
          },
          "metadata": {},
          "execution_count": 83
        }
      ]
    },
    {
      "cell_type": "code",
      "source": [
        "HDF5_preds = loaded_HDF5_format.predict(X_test)\n",
        "model_2_preds == HDF5_preds"
      ],
      "metadata": {
        "colab": {
          "base_uri": "https://localhost:8080/"
        },
        "id": "OKZrL-urfZ_A",
        "outputId": "62e0f758-cbce-48c0-e6e3-2edb4eeae310"
      },
      "execution_count": null,
      "outputs": [
        {
          "output_type": "stream",
          "name": "stdout",
          "text": [
            "1/1 [==============================] - 0s 53ms/step\n"
          ]
        },
        {
          "output_type": "execute_result",
          "data": {
            "text/plain": [
              "array([[ True],\n",
              "       [ True],\n",
              "       [ True],\n",
              "       [ True],\n",
              "       [ True],\n",
              "       [ True],\n",
              "       [ True],\n",
              "       [ True],\n",
              "       [ True],\n",
              "       [ True]])"
            ]
          },
          "metadata": {},
          "execution_count": 84
        }
      ]
    },
    {
      "cell_type": "code",
      "source": [
        "keras_preds = loaded_keras_format.predict(X_test)\n",
        "model_2_preds == keras_preds"
      ],
      "metadata": {
        "colab": {
          "base_uri": "https://localhost:8080/"
        },
        "id": "GTr9tWJpgI4i",
        "outputId": "8b2ae602-274a-4113-8d97-d7d51da95ba0"
      },
      "execution_count": null,
      "outputs": [
        {
          "output_type": "stream",
          "name": "stdout",
          "text": [
            "1/1 [==============================] - 0s 59ms/step\n"
          ]
        },
        {
          "output_type": "execute_result",
          "data": {
            "text/plain": [
              "array([[ True],\n",
              "       [ True],\n",
              "       [ True],\n",
              "       [ True],\n",
              "       [ True],\n",
              "       [ True],\n",
              "       [ True],\n",
              "       [ True],\n",
              "       [ True],\n",
              "       [ True]])"
            ]
          },
          "metadata": {},
          "execution_count": 85
        }
      ]
    },
    {
      "cell_type": "markdown",
      "source": [
        "## Download a model or any other file from Google Colab\n",
        "\n",
        "1. Go to \"Files\" tab and right click on the file you're after and click download\n",
        "2. Use code (see below)]\n",
        "3. Save it to Google Drive"
      ],
      "metadata": {
        "id": "0_E_HxExgQ4M"
      }
    },
    {
      "cell_type": "code",
      "source": [
        "# Download a file from Google Colab\n",
        "from google.colab import files\n",
        "files.download(\"/content/best_model_HDF5_format.h5\")"
      ],
      "metadata": {
        "colab": {
          "base_uri": "https://localhost:8080/",
          "height": 17
        },
        "id": "P9eTFEMVg0eP",
        "outputId": "dca582ee-734b-4c82-af3c-d3780df84d70"
      },
      "execution_count": null,
      "outputs": [
        {
          "output_type": "display_data",
          "data": {
            "text/plain": [
              "<IPython.core.display.Javascript object>"
            ],
            "application/javascript": [
              "\n",
              "    async function download(id, filename, size) {\n",
              "      if (!google.colab.kernel.accessAllowed) {\n",
              "        return;\n",
              "      }\n",
              "      const div = document.createElement('div');\n",
              "      const label = document.createElement('label');\n",
              "      label.textContent = `Downloading \"${filename}\": `;\n",
              "      div.appendChild(label);\n",
              "      const progress = document.createElement('progress');\n",
              "      progress.max = size;\n",
              "      div.appendChild(progress);\n",
              "      document.body.appendChild(div);\n",
              "\n",
              "      const buffers = [];\n",
              "      let downloaded = 0;\n",
              "\n",
              "      const channel = await google.colab.kernel.comms.open(id);\n",
              "      // Send a message to notify the kernel that we're ready.\n",
              "      channel.send({})\n",
              "\n",
              "      for await (const message of channel.messages) {\n",
              "        // Send a message to notify the kernel that we're ready.\n",
              "        channel.send({})\n",
              "        if (message.buffers) {\n",
              "          for (const buffer of message.buffers) {\n",
              "            buffers.push(buffer);\n",
              "            downloaded += buffer.byteLength;\n",
              "            progress.value = downloaded;\n",
              "          }\n",
              "        }\n",
              "      }\n",
              "      const blob = new Blob(buffers, {type: 'application/binary'});\n",
              "      const a = document.createElement('a');\n",
              "      a.href = window.URL.createObjectURL(blob);\n",
              "      a.download = filename;\n",
              "      div.appendChild(a);\n",
              "      a.click();\n",
              "      div.remove();\n",
              "    }\n",
              "  "
            ]
          },
          "metadata": {}
        },
        {
          "output_type": "display_data",
          "data": {
            "text/plain": [
              "<IPython.core.display.Javascript object>"
            ],
            "application/javascript": [
              "download(\"download_85035e32-6515-45c3-94ee-c7a0d0140717\", \"best_model_HDF5_format.h5\", 21952)"
            ]
          },
          "metadata": {}
        }
      ]
    },
    {
      "cell_type": "code",
      "source": [
        "from google.colab import drive\n",
        "drive.mount('/content/drive')"
      ],
      "metadata": {
        "colab": {
          "base_uri": "https://localhost:8080/"
        },
        "id": "woJIpMDqh4Fe",
        "outputId": "e8884193-247c-403d-ac6e-67f1133c1b0e"
      },
      "execution_count": null,
      "outputs": [
        {
          "output_type": "stream",
          "name": "stdout",
          "text": [
            "Mounted at /content/drive\n"
          ]
        }
      ]
    },
    {
      "cell_type": "code",
      "source": [
        "# Copy a file over to Google Drive\n",
        "!cp -r /content/best_model_SavedModel_format /content/drive/MyDrive/TensorFlow_Courses/Daniel_Bourke_Intro_Course"
      ],
      "metadata": {
        "id": "FGcsC2A-hlCH"
      },
      "execution_count": null,
      "outputs": []
    },
    {
      "cell_type": "code",
      "source": [
        "!cp /content/best_model_HDF5_format.h5 /content/drive/MyDrive/TensorFlow_Courses/Daniel_Bourke_Intro_Course"
      ],
      "metadata": {
        "id": "Jn_wlxXSjgFv"
      },
      "execution_count": null,
      "outputs": []
    },
    {
      "cell_type": "code",
      "source": [
        "!cp /content/best_model_keras_format.keras /content/drive/MyDrive/TensorFlow_Courses/Daniel_Bourke_Intro_Course"
      ],
      "metadata": {
        "id": "hfdPAr3ljx7E"
      },
      "execution_count": null,
      "outputs": []
    },
    {
      "cell_type": "code",
      "source": [
        "!ls /content/drive/MyDrive/TensorFlow_Courses/Daniel_Bourke_Intro_Course"
      ],
      "metadata": {
        "colab": {
          "base_uri": "https://localhost:8080/"
        },
        "id": "x_Zdkz5kj1FI",
        "outputId": "6373b2fb-5621-4af6-c1b4-594fb766721e"
      },
      "execution_count": null,
      "outputs": [
        {
          "output_type": "stream",
          "name": "stdout",
          "text": [
            "best_model_HDF5_format.h5  best_model_keras_format.keras  best_model_SavedModel_format\n"
          ]
        }
      ]
    },
    {
      "cell_type": "markdown",
      "source": [
        "## A larger example"
      ],
      "metadata": {
        "id": "kBpR7_c2j61B"
      }
    },
    {
      "cell_type": "code",
      "source": [
        "X_train, y_train"
      ],
      "metadata": {
        "colab": {
          "base_uri": "https://localhost:8080/"
        },
        "id": "bxbmTs7_kjOZ",
        "outputId": "0fbc59f6-757c-483e-9d1b-ab3af1821a26"
      },
      "execution_count": null,
      "outputs": [
        {
          "output_type": "execute_result",
          "data": {
            "text/plain": [
              "(<tf.Tensor: shape=(40,), dtype=int32, numpy=\n",
              " array([-100,  -96,  -92,  -88,  -84,  -80,  -76,  -72,  -68,  -64,  -60,\n",
              "         -56,  -52,  -48,  -44,  -40,  -36,  -32,  -28,  -24,  -20,  -16,\n",
              "         -12,   -8,   -4,    0,    4,    8,   12,   16,   20,   24,   28,\n",
              "          32,   36,   40,   44,   48,   52,   56], dtype=int32)>,\n",
              " <tf.Tensor: shape=(40,), dtype=int32, numpy=\n",
              " array([-90, -86, -82, -78, -74, -70, -66, -62, -58, -54, -50, -46, -42,\n",
              "        -38, -34, -30, -26, -22, -18, -14, -10,  -6,  -2,   2,   6,  10,\n",
              "         14,  18,  22,  26,  30,  34,  38,  42,  46,  50,  54,  58,  62,\n",
              "         66], dtype=int32)>)"
            ]
          },
          "metadata": {},
          "execution_count": 111
        }
      ]
    },
    {
      "cell_type": "code",
      "source": [
        "# Import the required libraries\n",
        "import tensorflow as tf\n",
        "import pandas as pd\n",
        "import matplotlib.pyplot as plt\n"
      ],
      "metadata": {
        "id": "PfS4OdzHkqob"
      },
      "execution_count": 10,
      "outputs": []
    },
    {
      "cell_type": "code",
      "source": [
        "# Read in the insurance dataset\n",
        "insurance = pd.read_csv(\"https://raw.githubusercontent.com/stedy/Machine-Learning-with-R-datasets/master/insurance.csv\")\n",
        "insurance"
      ],
      "metadata": {
        "colab": {
          "base_uri": "https://localhost:8080/",
          "height": 423
        },
        "id": "oia16cjxlXSs",
        "outputId": "5209ea87-c5c9-4be2-8002-867463e7c418"
      },
      "execution_count": 11,
      "outputs": [
        {
          "output_type": "execute_result",
          "data": {
            "text/plain": [
              "      age     sex     bmi  children smoker     region      charges\n",
              "0      19  female  27.900         0    yes  southwest  16884.92400\n",
              "1      18    male  33.770         1     no  southeast   1725.55230\n",
              "2      28    male  33.000         3     no  southeast   4449.46200\n",
              "3      33    male  22.705         0     no  northwest  21984.47061\n",
              "4      32    male  28.880         0     no  northwest   3866.85520\n",
              "...   ...     ...     ...       ...    ...        ...          ...\n",
              "1333   50    male  30.970         3     no  northwest  10600.54830\n",
              "1334   18  female  31.920         0     no  northeast   2205.98080\n",
              "1335   18  female  36.850         0     no  southeast   1629.83350\n",
              "1336   21  female  25.800         0     no  southwest   2007.94500\n",
              "1337   61  female  29.070         0    yes  northwest  29141.36030\n",
              "\n",
              "[1338 rows x 7 columns]"
            ],
            "text/html": [
              "\n",
              "  <div id=\"df-cc828ab3-c123-49dd-88af-710dfa353851\" class=\"colab-df-container\">\n",
              "    <div>\n",
              "<style scoped>\n",
              "    .dataframe tbody tr th:only-of-type {\n",
              "        vertical-align: middle;\n",
              "    }\n",
              "\n",
              "    .dataframe tbody tr th {\n",
              "        vertical-align: top;\n",
              "    }\n",
              "\n",
              "    .dataframe thead th {\n",
              "        text-align: right;\n",
              "    }\n",
              "</style>\n",
              "<table border=\"1\" class=\"dataframe\">\n",
              "  <thead>\n",
              "    <tr style=\"text-align: right;\">\n",
              "      <th></th>\n",
              "      <th>age</th>\n",
              "      <th>sex</th>\n",
              "      <th>bmi</th>\n",
              "      <th>children</th>\n",
              "      <th>smoker</th>\n",
              "      <th>region</th>\n",
              "      <th>charges</th>\n",
              "    </tr>\n",
              "  </thead>\n",
              "  <tbody>\n",
              "    <tr>\n",
              "      <th>0</th>\n",
              "      <td>19</td>\n",
              "      <td>female</td>\n",
              "      <td>27.900</td>\n",
              "      <td>0</td>\n",
              "      <td>yes</td>\n",
              "      <td>southwest</td>\n",
              "      <td>16884.92400</td>\n",
              "    </tr>\n",
              "    <tr>\n",
              "      <th>1</th>\n",
              "      <td>18</td>\n",
              "      <td>male</td>\n",
              "      <td>33.770</td>\n",
              "      <td>1</td>\n",
              "      <td>no</td>\n",
              "      <td>southeast</td>\n",
              "      <td>1725.55230</td>\n",
              "    </tr>\n",
              "    <tr>\n",
              "      <th>2</th>\n",
              "      <td>28</td>\n",
              "      <td>male</td>\n",
              "      <td>33.000</td>\n",
              "      <td>3</td>\n",
              "      <td>no</td>\n",
              "      <td>southeast</td>\n",
              "      <td>4449.46200</td>\n",
              "    </tr>\n",
              "    <tr>\n",
              "      <th>3</th>\n",
              "      <td>33</td>\n",
              "      <td>male</td>\n",
              "      <td>22.705</td>\n",
              "      <td>0</td>\n",
              "      <td>no</td>\n",
              "      <td>northwest</td>\n",
              "      <td>21984.47061</td>\n",
              "    </tr>\n",
              "    <tr>\n",
              "      <th>4</th>\n",
              "      <td>32</td>\n",
              "      <td>male</td>\n",
              "      <td>28.880</td>\n",
              "      <td>0</td>\n",
              "      <td>no</td>\n",
              "      <td>northwest</td>\n",
              "      <td>3866.85520</td>\n",
              "    </tr>\n",
              "    <tr>\n",
              "      <th>...</th>\n",
              "      <td>...</td>\n",
              "      <td>...</td>\n",
              "      <td>...</td>\n",
              "      <td>...</td>\n",
              "      <td>...</td>\n",
              "      <td>...</td>\n",
              "      <td>...</td>\n",
              "    </tr>\n",
              "    <tr>\n",
              "      <th>1333</th>\n",
              "      <td>50</td>\n",
              "      <td>male</td>\n",
              "      <td>30.970</td>\n",
              "      <td>3</td>\n",
              "      <td>no</td>\n",
              "      <td>northwest</td>\n",
              "      <td>10600.54830</td>\n",
              "    </tr>\n",
              "    <tr>\n",
              "      <th>1334</th>\n",
              "      <td>18</td>\n",
              "      <td>female</td>\n",
              "      <td>31.920</td>\n",
              "      <td>0</td>\n",
              "      <td>no</td>\n",
              "      <td>northeast</td>\n",
              "      <td>2205.98080</td>\n",
              "    </tr>\n",
              "    <tr>\n",
              "      <th>1335</th>\n",
              "      <td>18</td>\n",
              "      <td>female</td>\n",
              "      <td>36.850</td>\n",
              "      <td>0</td>\n",
              "      <td>no</td>\n",
              "      <td>southeast</td>\n",
              "      <td>1629.83350</td>\n",
              "    </tr>\n",
              "    <tr>\n",
              "      <th>1336</th>\n",
              "      <td>21</td>\n",
              "      <td>female</td>\n",
              "      <td>25.800</td>\n",
              "      <td>0</td>\n",
              "      <td>no</td>\n",
              "      <td>southwest</td>\n",
              "      <td>2007.94500</td>\n",
              "    </tr>\n",
              "    <tr>\n",
              "      <th>1337</th>\n",
              "      <td>61</td>\n",
              "      <td>female</td>\n",
              "      <td>29.070</td>\n",
              "      <td>0</td>\n",
              "      <td>yes</td>\n",
              "      <td>northwest</td>\n",
              "      <td>29141.36030</td>\n",
              "    </tr>\n",
              "  </tbody>\n",
              "</table>\n",
              "<p>1338 rows × 7 columns</p>\n",
              "</div>\n",
              "    <div class=\"colab-df-buttons\">\n",
              "\n",
              "  <div class=\"colab-df-container\">\n",
              "    <button class=\"colab-df-convert\" onclick=\"convertToInteractive('df-cc828ab3-c123-49dd-88af-710dfa353851')\"\n",
              "            title=\"Convert this dataframe to an interactive table.\"\n",
              "            style=\"display:none;\">\n",
              "\n",
              "  <svg xmlns=\"http://www.w3.org/2000/svg\" height=\"24px\" viewBox=\"0 -960 960 960\">\n",
              "    <path d=\"M120-120v-720h720v720H120Zm60-500h600v-160H180v160Zm220 220h160v-160H400v160Zm0 220h160v-160H400v160ZM180-400h160v-160H180v160Zm440 0h160v-160H620v160ZM180-180h160v-160H180v160Zm440 0h160v-160H620v160Z\"/>\n",
              "  </svg>\n",
              "    </button>\n",
              "\n",
              "  <style>\n",
              "    .colab-df-container {\n",
              "      display:flex;\n",
              "      gap: 12px;\n",
              "    }\n",
              "\n",
              "    .colab-df-convert {\n",
              "      background-color: #E8F0FE;\n",
              "      border: none;\n",
              "      border-radius: 50%;\n",
              "      cursor: pointer;\n",
              "      display: none;\n",
              "      fill: #1967D2;\n",
              "      height: 32px;\n",
              "      padding: 0 0 0 0;\n",
              "      width: 32px;\n",
              "    }\n",
              "\n",
              "    .colab-df-convert:hover {\n",
              "      background-color: #E2EBFA;\n",
              "      box-shadow: 0px 1px 2px rgba(60, 64, 67, 0.3), 0px 1px 3px 1px rgba(60, 64, 67, 0.15);\n",
              "      fill: #174EA6;\n",
              "    }\n",
              "\n",
              "    .colab-df-buttons div {\n",
              "      margin-bottom: 4px;\n",
              "    }\n",
              "\n",
              "    [theme=dark] .colab-df-convert {\n",
              "      background-color: #3B4455;\n",
              "      fill: #D2E3FC;\n",
              "    }\n",
              "\n",
              "    [theme=dark] .colab-df-convert:hover {\n",
              "      background-color: #434B5C;\n",
              "      box-shadow: 0px 1px 3px 1px rgba(0, 0, 0, 0.15);\n",
              "      filter: drop-shadow(0px 1px 2px rgba(0, 0, 0, 0.3));\n",
              "      fill: #FFFFFF;\n",
              "    }\n",
              "  </style>\n",
              "\n",
              "    <script>\n",
              "      const buttonEl =\n",
              "        document.querySelector('#df-cc828ab3-c123-49dd-88af-710dfa353851 button.colab-df-convert');\n",
              "      buttonEl.style.display =\n",
              "        google.colab.kernel.accessAllowed ? 'block' : 'none';\n",
              "\n",
              "      async function convertToInteractive(key) {\n",
              "        const element = document.querySelector('#df-cc828ab3-c123-49dd-88af-710dfa353851');\n",
              "        const dataTable =\n",
              "          await google.colab.kernel.invokeFunction('convertToInteractive',\n",
              "                                                    [key], {});\n",
              "        if (!dataTable) return;\n",
              "\n",
              "        const docLinkHtml = 'Like what you see? Visit the ' +\n",
              "          '<a target=\"_blank\" href=https://colab.research.google.com/notebooks/data_table.ipynb>data table notebook</a>'\n",
              "          + ' to learn more about interactive tables.';\n",
              "        element.innerHTML = '';\n",
              "        dataTable['output_type'] = 'display_data';\n",
              "        await google.colab.output.renderOutput(dataTable, element);\n",
              "        const docLink = document.createElement('div');\n",
              "        docLink.innerHTML = docLinkHtml;\n",
              "        element.appendChild(docLink);\n",
              "      }\n",
              "    </script>\n",
              "  </div>\n",
              "\n",
              "\n",
              "<div id=\"df-af01f009-16f2-4710-b2c0-c3b94d494095\">\n",
              "  <button class=\"colab-df-quickchart\" onclick=\"quickchart('df-af01f009-16f2-4710-b2c0-c3b94d494095')\"\n",
              "            title=\"Suggest charts\"\n",
              "            style=\"display:none;\">\n",
              "\n",
              "<svg xmlns=\"http://www.w3.org/2000/svg\" height=\"24px\"viewBox=\"0 0 24 24\"\n",
              "     width=\"24px\">\n",
              "    <g>\n",
              "        <path d=\"M19 3H5c-1.1 0-2 .9-2 2v14c0 1.1.9 2 2 2h14c1.1 0 2-.9 2-2V5c0-1.1-.9-2-2-2zM9 17H7v-7h2v7zm4 0h-2V7h2v10zm4 0h-2v-4h2v4z\"/>\n",
              "    </g>\n",
              "</svg>\n",
              "  </button>\n",
              "\n",
              "<style>\n",
              "  .colab-df-quickchart {\n",
              "      --bg-color: #E8F0FE;\n",
              "      --fill-color: #1967D2;\n",
              "      --hover-bg-color: #E2EBFA;\n",
              "      --hover-fill-color: #174EA6;\n",
              "      --disabled-fill-color: #AAA;\n",
              "      --disabled-bg-color: #DDD;\n",
              "  }\n",
              "\n",
              "  [theme=dark] .colab-df-quickchart {\n",
              "      --bg-color: #3B4455;\n",
              "      --fill-color: #D2E3FC;\n",
              "      --hover-bg-color: #434B5C;\n",
              "      --hover-fill-color: #FFFFFF;\n",
              "      --disabled-bg-color: #3B4455;\n",
              "      --disabled-fill-color: #666;\n",
              "  }\n",
              "\n",
              "  .colab-df-quickchart {\n",
              "    background-color: var(--bg-color);\n",
              "    border: none;\n",
              "    border-radius: 50%;\n",
              "    cursor: pointer;\n",
              "    display: none;\n",
              "    fill: var(--fill-color);\n",
              "    height: 32px;\n",
              "    padding: 0;\n",
              "    width: 32px;\n",
              "  }\n",
              "\n",
              "  .colab-df-quickchart:hover {\n",
              "    background-color: var(--hover-bg-color);\n",
              "    box-shadow: 0 1px 2px rgba(60, 64, 67, 0.3), 0 1px 3px 1px rgba(60, 64, 67, 0.15);\n",
              "    fill: var(--button-hover-fill-color);\n",
              "  }\n",
              "\n",
              "  .colab-df-quickchart-complete:disabled,\n",
              "  .colab-df-quickchart-complete:disabled:hover {\n",
              "    background-color: var(--disabled-bg-color);\n",
              "    fill: var(--disabled-fill-color);\n",
              "    box-shadow: none;\n",
              "  }\n",
              "\n",
              "  .colab-df-spinner {\n",
              "    border: 2px solid var(--fill-color);\n",
              "    border-color: transparent;\n",
              "    border-bottom-color: var(--fill-color);\n",
              "    animation:\n",
              "      spin 1s steps(1) infinite;\n",
              "  }\n",
              "\n",
              "  @keyframes spin {\n",
              "    0% {\n",
              "      border-color: transparent;\n",
              "      border-bottom-color: var(--fill-color);\n",
              "      border-left-color: var(--fill-color);\n",
              "    }\n",
              "    20% {\n",
              "      border-color: transparent;\n",
              "      border-left-color: var(--fill-color);\n",
              "      border-top-color: var(--fill-color);\n",
              "    }\n",
              "    30% {\n",
              "      border-color: transparent;\n",
              "      border-left-color: var(--fill-color);\n",
              "      border-top-color: var(--fill-color);\n",
              "      border-right-color: var(--fill-color);\n",
              "    }\n",
              "    40% {\n",
              "      border-color: transparent;\n",
              "      border-right-color: var(--fill-color);\n",
              "      border-top-color: var(--fill-color);\n",
              "    }\n",
              "    60% {\n",
              "      border-color: transparent;\n",
              "      border-right-color: var(--fill-color);\n",
              "    }\n",
              "    80% {\n",
              "      border-color: transparent;\n",
              "      border-right-color: var(--fill-color);\n",
              "      border-bottom-color: var(--fill-color);\n",
              "    }\n",
              "    90% {\n",
              "      border-color: transparent;\n",
              "      border-bottom-color: var(--fill-color);\n",
              "    }\n",
              "  }\n",
              "</style>\n",
              "\n",
              "  <script>\n",
              "    async function quickchart(key) {\n",
              "      const quickchartButtonEl =\n",
              "        document.querySelector('#' + key + ' button');\n",
              "      quickchartButtonEl.disabled = true;  // To prevent multiple clicks.\n",
              "      quickchartButtonEl.classList.add('colab-df-spinner');\n",
              "      try {\n",
              "        const charts = await google.colab.kernel.invokeFunction(\n",
              "            'suggestCharts', [key], {});\n",
              "      } catch (error) {\n",
              "        console.error('Error during call to suggestCharts:', error);\n",
              "      }\n",
              "      quickchartButtonEl.classList.remove('colab-df-spinner');\n",
              "      quickchartButtonEl.classList.add('colab-df-quickchart-complete');\n",
              "    }\n",
              "    (() => {\n",
              "      let quickchartButtonEl =\n",
              "        document.querySelector('#df-af01f009-16f2-4710-b2c0-c3b94d494095 button');\n",
              "      quickchartButtonEl.style.display =\n",
              "        google.colab.kernel.accessAllowed ? 'block' : 'none';\n",
              "    })();\n",
              "  </script>\n",
              "</div>\n",
              "    </div>\n",
              "  </div>\n"
            ]
          },
          "metadata": {},
          "execution_count": 11
        }
      ]
    },
    {
      "cell_type": "code",
      "source": [
        "# Convert non-numerical columns into numbers using one-hot encoding\n",
        "# pandas.get_dummies()\n",
        "insurance_one_hot = pd.get_dummies(insurance)\n",
        "insurance_one_hot"
      ],
      "metadata": {
        "colab": {
          "base_uri": "https://localhost:8080/",
          "height": 423
        },
        "id": "cytzV10rlZcl",
        "outputId": "20add421-20d3-4632-dfa9-51f4b6ade0d4"
      },
      "execution_count": 12,
      "outputs": [
        {
          "output_type": "execute_result",
          "data": {
            "text/plain": [
              "      age     bmi  children      charges  sex_female  sex_male  smoker_no  \\\n",
              "0      19  27.900         0  16884.92400           1         0          0   \n",
              "1      18  33.770         1   1725.55230           0         1          1   \n",
              "2      28  33.000         3   4449.46200           0         1          1   \n",
              "3      33  22.705         0  21984.47061           0         1          1   \n",
              "4      32  28.880         0   3866.85520           0         1          1   \n",
              "...   ...     ...       ...          ...         ...       ...        ...   \n",
              "1333   50  30.970         3  10600.54830           0         1          1   \n",
              "1334   18  31.920         0   2205.98080           1         0          1   \n",
              "1335   18  36.850         0   1629.83350           1         0          1   \n",
              "1336   21  25.800         0   2007.94500           1         0          1   \n",
              "1337   61  29.070         0  29141.36030           1         0          0   \n",
              "\n",
              "      smoker_yes  region_northeast  region_northwest  region_southeast  \\\n",
              "0              1                 0                 0                 0   \n",
              "1              0                 0                 0                 1   \n",
              "2              0                 0                 0                 1   \n",
              "3              0                 0                 1                 0   \n",
              "4              0                 0                 1                 0   \n",
              "...          ...               ...               ...               ...   \n",
              "1333           0                 0                 1                 0   \n",
              "1334           0                 1                 0                 0   \n",
              "1335           0                 0                 0                 1   \n",
              "1336           0                 0                 0                 0   \n",
              "1337           1                 0                 1                 0   \n",
              "\n",
              "      region_southwest  \n",
              "0                    1  \n",
              "1                    0  \n",
              "2                    0  \n",
              "3                    0  \n",
              "4                    0  \n",
              "...                ...  \n",
              "1333                 0  \n",
              "1334                 0  \n",
              "1335                 0  \n",
              "1336                 1  \n",
              "1337                 0  \n",
              "\n",
              "[1338 rows x 12 columns]"
            ],
            "text/html": [
              "\n",
              "  <div id=\"df-593b5fb8-ecc0-440d-b2a0-8cfb3cd332de\" class=\"colab-df-container\">\n",
              "    <div>\n",
              "<style scoped>\n",
              "    .dataframe tbody tr th:only-of-type {\n",
              "        vertical-align: middle;\n",
              "    }\n",
              "\n",
              "    .dataframe tbody tr th {\n",
              "        vertical-align: top;\n",
              "    }\n",
              "\n",
              "    .dataframe thead th {\n",
              "        text-align: right;\n",
              "    }\n",
              "</style>\n",
              "<table border=\"1\" class=\"dataframe\">\n",
              "  <thead>\n",
              "    <tr style=\"text-align: right;\">\n",
              "      <th></th>\n",
              "      <th>age</th>\n",
              "      <th>bmi</th>\n",
              "      <th>children</th>\n",
              "      <th>charges</th>\n",
              "      <th>sex_female</th>\n",
              "      <th>sex_male</th>\n",
              "      <th>smoker_no</th>\n",
              "      <th>smoker_yes</th>\n",
              "      <th>region_northeast</th>\n",
              "      <th>region_northwest</th>\n",
              "      <th>region_southeast</th>\n",
              "      <th>region_southwest</th>\n",
              "    </tr>\n",
              "  </thead>\n",
              "  <tbody>\n",
              "    <tr>\n",
              "      <th>0</th>\n",
              "      <td>19</td>\n",
              "      <td>27.900</td>\n",
              "      <td>0</td>\n",
              "      <td>16884.92400</td>\n",
              "      <td>1</td>\n",
              "      <td>0</td>\n",
              "      <td>0</td>\n",
              "      <td>1</td>\n",
              "      <td>0</td>\n",
              "      <td>0</td>\n",
              "      <td>0</td>\n",
              "      <td>1</td>\n",
              "    </tr>\n",
              "    <tr>\n",
              "      <th>1</th>\n",
              "      <td>18</td>\n",
              "      <td>33.770</td>\n",
              "      <td>1</td>\n",
              "      <td>1725.55230</td>\n",
              "      <td>0</td>\n",
              "      <td>1</td>\n",
              "      <td>1</td>\n",
              "      <td>0</td>\n",
              "      <td>0</td>\n",
              "      <td>0</td>\n",
              "      <td>1</td>\n",
              "      <td>0</td>\n",
              "    </tr>\n",
              "    <tr>\n",
              "      <th>2</th>\n",
              "      <td>28</td>\n",
              "      <td>33.000</td>\n",
              "      <td>3</td>\n",
              "      <td>4449.46200</td>\n",
              "      <td>0</td>\n",
              "      <td>1</td>\n",
              "      <td>1</td>\n",
              "      <td>0</td>\n",
              "      <td>0</td>\n",
              "      <td>0</td>\n",
              "      <td>1</td>\n",
              "      <td>0</td>\n",
              "    </tr>\n",
              "    <tr>\n",
              "      <th>3</th>\n",
              "      <td>33</td>\n",
              "      <td>22.705</td>\n",
              "      <td>0</td>\n",
              "      <td>21984.47061</td>\n",
              "      <td>0</td>\n",
              "      <td>1</td>\n",
              "      <td>1</td>\n",
              "      <td>0</td>\n",
              "      <td>0</td>\n",
              "      <td>1</td>\n",
              "      <td>0</td>\n",
              "      <td>0</td>\n",
              "    </tr>\n",
              "    <tr>\n",
              "      <th>4</th>\n",
              "      <td>32</td>\n",
              "      <td>28.880</td>\n",
              "      <td>0</td>\n",
              "      <td>3866.85520</td>\n",
              "      <td>0</td>\n",
              "      <td>1</td>\n",
              "      <td>1</td>\n",
              "      <td>0</td>\n",
              "      <td>0</td>\n",
              "      <td>1</td>\n",
              "      <td>0</td>\n",
              "      <td>0</td>\n",
              "    </tr>\n",
              "    <tr>\n",
              "      <th>...</th>\n",
              "      <td>...</td>\n",
              "      <td>...</td>\n",
              "      <td>...</td>\n",
              "      <td>...</td>\n",
              "      <td>...</td>\n",
              "      <td>...</td>\n",
              "      <td>...</td>\n",
              "      <td>...</td>\n",
              "      <td>...</td>\n",
              "      <td>...</td>\n",
              "      <td>...</td>\n",
              "      <td>...</td>\n",
              "    </tr>\n",
              "    <tr>\n",
              "      <th>1333</th>\n",
              "      <td>50</td>\n",
              "      <td>30.970</td>\n",
              "      <td>3</td>\n",
              "      <td>10600.54830</td>\n",
              "      <td>0</td>\n",
              "      <td>1</td>\n",
              "      <td>1</td>\n",
              "      <td>0</td>\n",
              "      <td>0</td>\n",
              "      <td>1</td>\n",
              "      <td>0</td>\n",
              "      <td>0</td>\n",
              "    </tr>\n",
              "    <tr>\n",
              "      <th>1334</th>\n",
              "      <td>18</td>\n",
              "      <td>31.920</td>\n",
              "      <td>0</td>\n",
              "      <td>2205.98080</td>\n",
              "      <td>1</td>\n",
              "      <td>0</td>\n",
              "      <td>1</td>\n",
              "      <td>0</td>\n",
              "      <td>1</td>\n",
              "      <td>0</td>\n",
              "      <td>0</td>\n",
              "      <td>0</td>\n",
              "    </tr>\n",
              "    <tr>\n",
              "      <th>1335</th>\n",
              "      <td>18</td>\n",
              "      <td>36.850</td>\n",
              "      <td>0</td>\n",
              "      <td>1629.83350</td>\n",
              "      <td>1</td>\n",
              "      <td>0</td>\n",
              "      <td>1</td>\n",
              "      <td>0</td>\n",
              "      <td>0</td>\n",
              "      <td>0</td>\n",
              "      <td>1</td>\n",
              "      <td>0</td>\n",
              "    </tr>\n",
              "    <tr>\n",
              "      <th>1336</th>\n",
              "      <td>21</td>\n",
              "      <td>25.800</td>\n",
              "      <td>0</td>\n",
              "      <td>2007.94500</td>\n",
              "      <td>1</td>\n",
              "      <td>0</td>\n",
              "      <td>1</td>\n",
              "      <td>0</td>\n",
              "      <td>0</td>\n",
              "      <td>0</td>\n",
              "      <td>0</td>\n",
              "      <td>1</td>\n",
              "    </tr>\n",
              "    <tr>\n",
              "      <th>1337</th>\n",
              "      <td>61</td>\n",
              "      <td>29.070</td>\n",
              "      <td>0</td>\n",
              "      <td>29141.36030</td>\n",
              "      <td>1</td>\n",
              "      <td>0</td>\n",
              "      <td>0</td>\n",
              "      <td>1</td>\n",
              "      <td>0</td>\n",
              "      <td>1</td>\n",
              "      <td>0</td>\n",
              "      <td>0</td>\n",
              "    </tr>\n",
              "  </tbody>\n",
              "</table>\n",
              "<p>1338 rows × 12 columns</p>\n",
              "</div>\n",
              "    <div class=\"colab-df-buttons\">\n",
              "\n",
              "  <div class=\"colab-df-container\">\n",
              "    <button class=\"colab-df-convert\" onclick=\"convertToInteractive('df-593b5fb8-ecc0-440d-b2a0-8cfb3cd332de')\"\n",
              "            title=\"Convert this dataframe to an interactive table.\"\n",
              "            style=\"display:none;\">\n",
              "\n",
              "  <svg xmlns=\"http://www.w3.org/2000/svg\" height=\"24px\" viewBox=\"0 -960 960 960\">\n",
              "    <path d=\"M120-120v-720h720v720H120Zm60-500h600v-160H180v160Zm220 220h160v-160H400v160Zm0 220h160v-160H400v160ZM180-400h160v-160H180v160Zm440 0h160v-160H620v160ZM180-180h160v-160H180v160Zm440 0h160v-160H620v160Z\"/>\n",
              "  </svg>\n",
              "    </button>\n",
              "\n",
              "  <style>\n",
              "    .colab-df-container {\n",
              "      display:flex;\n",
              "      gap: 12px;\n",
              "    }\n",
              "\n",
              "    .colab-df-convert {\n",
              "      background-color: #E8F0FE;\n",
              "      border: none;\n",
              "      border-radius: 50%;\n",
              "      cursor: pointer;\n",
              "      display: none;\n",
              "      fill: #1967D2;\n",
              "      height: 32px;\n",
              "      padding: 0 0 0 0;\n",
              "      width: 32px;\n",
              "    }\n",
              "\n",
              "    .colab-df-convert:hover {\n",
              "      background-color: #E2EBFA;\n",
              "      box-shadow: 0px 1px 2px rgba(60, 64, 67, 0.3), 0px 1px 3px 1px rgba(60, 64, 67, 0.15);\n",
              "      fill: #174EA6;\n",
              "    }\n",
              "\n",
              "    .colab-df-buttons div {\n",
              "      margin-bottom: 4px;\n",
              "    }\n",
              "\n",
              "    [theme=dark] .colab-df-convert {\n",
              "      background-color: #3B4455;\n",
              "      fill: #D2E3FC;\n",
              "    }\n",
              "\n",
              "    [theme=dark] .colab-df-convert:hover {\n",
              "      background-color: #434B5C;\n",
              "      box-shadow: 0px 1px 3px 1px rgba(0, 0, 0, 0.15);\n",
              "      filter: drop-shadow(0px 1px 2px rgba(0, 0, 0, 0.3));\n",
              "      fill: #FFFFFF;\n",
              "    }\n",
              "  </style>\n",
              "\n",
              "    <script>\n",
              "      const buttonEl =\n",
              "        document.querySelector('#df-593b5fb8-ecc0-440d-b2a0-8cfb3cd332de button.colab-df-convert');\n",
              "      buttonEl.style.display =\n",
              "        google.colab.kernel.accessAllowed ? 'block' : 'none';\n",
              "\n",
              "      async function convertToInteractive(key) {\n",
              "        const element = document.querySelector('#df-593b5fb8-ecc0-440d-b2a0-8cfb3cd332de');\n",
              "        const dataTable =\n",
              "          await google.colab.kernel.invokeFunction('convertToInteractive',\n",
              "                                                    [key], {});\n",
              "        if (!dataTable) return;\n",
              "\n",
              "        const docLinkHtml = 'Like what you see? Visit the ' +\n",
              "          '<a target=\"_blank\" href=https://colab.research.google.com/notebooks/data_table.ipynb>data table notebook</a>'\n",
              "          + ' to learn more about interactive tables.';\n",
              "        element.innerHTML = '';\n",
              "        dataTable['output_type'] = 'display_data';\n",
              "        await google.colab.output.renderOutput(dataTable, element);\n",
              "        const docLink = document.createElement('div');\n",
              "        docLink.innerHTML = docLinkHtml;\n",
              "        element.appendChild(docLink);\n",
              "      }\n",
              "    </script>\n",
              "  </div>\n",
              "\n",
              "\n",
              "<div id=\"df-1c31aa2c-343a-4494-a263-43a18f8cd06a\">\n",
              "  <button class=\"colab-df-quickchart\" onclick=\"quickchart('df-1c31aa2c-343a-4494-a263-43a18f8cd06a')\"\n",
              "            title=\"Suggest charts\"\n",
              "            style=\"display:none;\">\n",
              "\n",
              "<svg xmlns=\"http://www.w3.org/2000/svg\" height=\"24px\"viewBox=\"0 0 24 24\"\n",
              "     width=\"24px\">\n",
              "    <g>\n",
              "        <path d=\"M19 3H5c-1.1 0-2 .9-2 2v14c0 1.1.9 2 2 2h14c1.1 0 2-.9 2-2V5c0-1.1-.9-2-2-2zM9 17H7v-7h2v7zm4 0h-2V7h2v10zm4 0h-2v-4h2v4z\"/>\n",
              "    </g>\n",
              "</svg>\n",
              "  </button>\n",
              "\n",
              "<style>\n",
              "  .colab-df-quickchart {\n",
              "      --bg-color: #E8F0FE;\n",
              "      --fill-color: #1967D2;\n",
              "      --hover-bg-color: #E2EBFA;\n",
              "      --hover-fill-color: #174EA6;\n",
              "      --disabled-fill-color: #AAA;\n",
              "      --disabled-bg-color: #DDD;\n",
              "  }\n",
              "\n",
              "  [theme=dark] .colab-df-quickchart {\n",
              "      --bg-color: #3B4455;\n",
              "      --fill-color: #D2E3FC;\n",
              "      --hover-bg-color: #434B5C;\n",
              "      --hover-fill-color: #FFFFFF;\n",
              "      --disabled-bg-color: #3B4455;\n",
              "      --disabled-fill-color: #666;\n",
              "  }\n",
              "\n",
              "  .colab-df-quickchart {\n",
              "    background-color: var(--bg-color);\n",
              "    border: none;\n",
              "    border-radius: 50%;\n",
              "    cursor: pointer;\n",
              "    display: none;\n",
              "    fill: var(--fill-color);\n",
              "    height: 32px;\n",
              "    padding: 0;\n",
              "    width: 32px;\n",
              "  }\n",
              "\n",
              "  .colab-df-quickchart:hover {\n",
              "    background-color: var(--hover-bg-color);\n",
              "    box-shadow: 0 1px 2px rgba(60, 64, 67, 0.3), 0 1px 3px 1px rgba(60, 64, 67, 0.15);\n",
              "    fill: var(--button-hover-fill-color);\n",
              "  }\n",
              "\n",
              "  .colab-df-quickchart-complete:disabled,\n",
              "  .colab-df-quickchart-complete:disabled:hover {\n",
              "    background-color: var(--disabled-bg-color);\n",
              "    fill: var(--disabled-fill-color);\n",
              "    box-shadow: none;\n",
              "  }\n",
              "\n",
              "  .colab-df-spinner {\n",
              "    border: 2px solid var(--fill-color);\n",
              "    border-color: transparent;\n",
              "    border-bottom-color: var(--fill-color);\n",
              "    animation:\n",
              "      spin 1s steps(1) infinite;\n",
              "  }\n",
              "\n",
              "  @keyframes spin {\n",
              "    0% {\n",
              "      border-color: transparent;\n",
              "      border-bottom-color: var(--fill-color);\n",
              "      border-left-color: var(--fill-color);\n",
              "    }\n",
              "    20% {\n",
              "      border-color: transparent;\n",
              "      border-left-color: var(--fill-color);\n",
              "      border-top-color: var(--fill-color);\n",
              "    }\n",
              "    30% {\n",
              "      border-color: transparent;\n",
              "      border-left-color: var(--fill-color);\n",
              "      border-top-color: var(--fill-color);\n",
              "      border-right-color: var(--fill-color);\n",
              "    }\n",
              "    40% {\n",
              "      border-color: transparent;\n",
              "      border-right-color: var(--fill-color);\n",
              "      border-top-color: var(--fill-color);\n",
              "    }\n",
              "    60% {\n",
              "      border-color: transparent;\n",
              "      border-right-color: var(--fill-color);\n",
              "    }\n",
              "    80% {\n",
              "      border-color: transparent;\n",
              "      border-right-color: var(--fill-color);\n",
              "      border-bottom-color: var(--fill-color);\n",
              "    }\n",
              "    90% {\n",
              "      border-color: transparent;\n",
              "      border-bottom-color: var(--fill-color);\n",
              "    }\n",
              "  }\n",
              "</style>\n",
              "\n",
              "  <script>\n",
              "    async function quickchart(key) {\n",
              "      const quickchartButtonEl =\n",
              "        document.querySelector('#' + key + ' button');\n",
              "      quickchartButtonEl.disabled = true;  // To prevent multiple clicks.\n",
              "      quickchartButtonEl.classList.add('colab-df-spinner');\n",
              "      try {\n",
              "        const charts = await google.colab.kernel.invokeFunction(\n",
              "            'suggestCharts', [key], {});\n",
              "      } catch (error) {\n",
              "        console.error('Error during call to suggestCharts:', error);\n",
              "      }\n",
              "      quickchartButtonEl.classList.remove('colab-df-spinner');\n",
              "      quickchartButtonEl.classList.add('colab-df-quickchart-complete');\n",
              "    }\n",
              "    (() => {\n",
              "      let quickchartButtonEl =\n",
              "        document.querySelector('#df-1c31aa2c-343a-4494-a263-43a18f8cd06a button');\n",
              "      quickchartButtonEl.style.display =\n",
              "        google.colab.kernel.accessAllowed ? 'block' : 'none';\n",
              "    })();\n",
              "  </script>\n",
              "</div>\n",
              "    </div>\n",
              "  </div>\n"
            ]
          },
          "metadata": {},
          "execution_count": 12
        }
      ]
    },
    {
      "cell_type": "code",
      "source": [
        "# Create X and y values (features and labels)\n",
        "X = insurance_one_hot.drop(\"charges\",axis=1)\n",
        "y = insurance_one_hot[\"charges\"]"
      ],
      "metadata": {
        "id": "58yM8H2qnB8a"
      },
      "execution_count": 13,
      "outputs": []
    },
    {
      "cell_type": "code",
      "source": [
        "# View X\n",
        "X.head()"
      ],
      "metadata": {
        "colab": {
          "base_uri": "https://localhost:8080/",
          "height": 206
        },
        "id": "AXKrMz3NoSC_",
        "outputId": "3bd57f44-4c3e-4208-ec92-59154f014fe6"
      },
      "execution_count": 14,
      "outputs": [
        {
          "output_type": "execute_result",
          "data": {
            "text/plain": [
              "   age     bmi  children  sex_female  sex_male  smoker_no  smoker_yes  \\\n",
              "0   19  27.900         0           1         0          0           1   \n",
              "1   18  33.770         1           0         1          1           0   \n",
              "2   28  33.000         3           0         1          1           0   \n",
              "3   33  22.705         0           0         1          1           0   \n",
              "4   32  28.880         0           0         1          1           0   \n",
              "\n",
              "   region_northeast  region_northwest  region_southeast  region_southwest  \n",
              "0                 0                 0                 0                 1  \n",
              "1                 0                 0                 1                 0  \n",
              "2                 0                 0                 1                 0  \n",
              "3                 0                 1                 0                 0  \n",
              "4                 0                 1                 0                 0  "
            ],
            "text/html": [
              "\n",
              "  <div id=\"df-4fa96622-9056-4bfd-af57-eef56dd953b7\" class=\"colab-df-container\">\n",
              "    <div>\n",
              "<style scoped>\n",
              "    .dataframe tbody tr th:only-of-type {\n",
              "        vertical-align: middle;\n",
              "    }\n",
              "\n",
              "    .dataframe tbody tr th {\n",
              "        vertical-align: top;\n",
              "    }\n",
              "\n",
              "    .dataframe thead th {\n",
              "        text-align: right;\n",
              "    }\n",
              "</style>\n",
              "<table border=\"1\" class=\"dataframe\">\n",
              "  <thead>\n",
              "    <tr style=\"text-align: right;\">\n",
              "      <th></th>\n",
              "      <th>age</th>\n",
              "      <th>bmi</th>\n",
              "      <th>children</th>\n",
              "      <th>sex_female</th>\n",
              "      <th>sex_male</th>\n",
              "      <th>smoker_no</th>\n",
              "      <th>smoker_yes</th>\n",
              "      <th>region_northeast</th>\n",
              "      <th>region_northwest</th>\n",
              "      <th>region_southeast</th>\n",
              "      <th>region_southwest</th>\n",
              "    </tr>\n",
              "  </thead>\n",
              "  <tbody>\n",
              "    <tr>\n",
              "      <th>0</th>\n",
              "      <td>19</td>\n",
              "      <td>27.900</td>\n",
              "      <td>0</td>\n",
              "      <td>1</td>\n",
              "      <td>0</td>\n",
              "      <td>0</td>\n",
              "      <td>1</td>\n",
              "      <td>0</td>\n",
              "      <td>0</td>\n",
              "      <td>0</td>\n",
              "      <td>1</td>\n",
              "    </tr>\n",
              "    <tr>\n",
              "      <th>1</th>\n",
              "      <td>18</td>\n",
              "      <td>33.770</td>\n",
              "      <td>1</td>\n",
              "      <td>0</td>\n",
              "      <td>1</td>\n",
              "      <td>1</td>\n",
              "      <td>0</td>\n",
              "      <td>0</td>\n",
              "      <td>0</td>\n",
              "      <td>1</td>\n",
              "      <td>0</td>\n",
              "    </tr>\n",
              "    <tr>\n",
              "      <th>2</th>\n",
              "      <td>28</td>\n",
              "      <td>33.000</td>\n",
              "      <td>3</td>\n",
              "      <td>0</td>\n",
              "      <td>1</td>\n",
              "      <td>1</td>\n",
              "      <td>0</td>\n",
              "      <td>0</td>\n",
              "      <td>0</td>\n",
              "      <td>1</td>\n",
              "      <td>0</td>\n",
              "    </tr>\n",
              "    <tr>\n",
              "      <th>3</th>\n",
              "      <td>33</td>\n",
              "      <td>22.705</td>\n",
              "      <td>0</td>\n",
              "      <td>0</td>\n",
              "      <td>1</td>\n",
              "      <td>1</td>\n",
              "      <td>0</td>\n",
              "      <td>0</td>\n",
              "      <td>1</td>\n",
              "      <td>0</td>\n",
              "      <td>0</td>\n",
              "    </tr>\n",
              "    <tr>\n",
              "      <th>4</th>\n",
              "      <td>32</td>\n",
              "      <td>28.880</td>\n",
              "      <td>0</td>\n",
              "      <td>0</td>\n",
              "      <td>1</td>\n",
              "      <td>1</td>\n",
              "      <td>0</td>\n",
              "      <td>0</td>\n",
              "      <td>1</td>\n",
              "      <td>0</td>\n",
              "      <td>0</td>\n",
              "    </tr>\n",
              "  </tbody>\n",
              "</table>\n",
              "</div>\n",
              "    <div class=\"colab-df-buttons\">\n",
              "\n",
              "  <div class=\"colab-df-container\">\n",
              "    <button class=\"colab-df-convert\" onclick=\"convertToInteractive('df-4fa96622-9056-4bfd-af57-eef56dd953b7')\"\n",
              "            title=\"Convert this dataframe to an interactive table.\"\n",
              "            style=\"display:none;\">\n",
              "\n",
              "  <svg xmlns=\"http://www.w3.org/2000/svg\" height=\"24px\" viewBox=\"0 -960 960 960\">\n",
              "    <path d=\"M120-120v-720h720v720H120Zm60-500h600v-160H180v160Zm220 220h160v-160H400v160Zm0 220h160v-160H400v160ZM180-400h160v-160H180v160Zm440 0h160v-160H620v160ZM180-180h160v-160H180v160Zm440 0h160v-160H620v160Z\"/>\n",
              "  </svg>\n",
              "    </button>\n",
              "\n",
              "  <style>\n",
              "    .colab-df-container {\n",
              "      display:flex;\n",
              "      gap: 12px;\n",
              "    }\n",
              "\n",
              "    .colab-df-convert {\n",
              "      background-color: #E8F0FE;\n",
              "      border: none;\n",
              "      border-radius: 50%;\n",
              "      cursor: pointer;\n",
              "      display: none;\n",
              "      fill: #1967D2;\n",
              "      height: 32px;\n",
              "      padding: 0 0 0 0;\n",
              "      width: 32px;\n",
              "    }\n",
              "\n",
              "    .colab-df-convert:hover {\n",
              "      background-color: #E2EBFA;\n",
              "      box-shadow: 0px 1px 2px rgba(60, 64, 67, 0.3), 0px 1px 3px 1px rgba(60, 64, 67, 0.15);\n",
              "      fill: #174EA6;\n",
              "    }\n",
              "\n",
              "    .colab-df-buttons div {\n",
              "      margin-bottom: 4px;\n",
              "    }\n",
              "\n",
              "    [theme=dark] .colab-df-convert {\n",
              "      background-color: #3B4455;\n",
              "      fill: #D2E3FC;\n",
              "    }\n",
              "\n",
              "    [theme=dark] .colab-df-convert:hover {\n",
              "      background-color: #434B5C;\n",
              "      box-shadow: 0px 1px 3px 1px rgba(0, 0, 0, 0.15);\n",
              "      filter: drop-shadow(0px 1px 2px rgba(0, 0, 0, 0.3));\n",
              "      fill: #FFFFFF;\n",
              "    }\n",
              "  </style>\n",
              "\n",
              "    <script>\n",
              "      const buttonEl =\n",
              "        document.querySelector('#df-4fa96622-9056-4bfd-af57-eef56dd953b7 button.colab-df-convert');\n",
              "      buttonEl.style.display =\n",
              "        google.colab.kernel.accessAllowed ? 'block' : 'none';\n",
              "\n",
              "      async function convertToInteractive(key) {\n",
              "        const element = document.querySelector('#df-4fa96622-9056-4bfd-af57-eef56dd953b7');\n",
              "        const dataTable =\n",
              "          await google.colab.kernel.invokeFunction('convertToInteractive',\n",
              "                                                    [key], {});\n",
              "        if (!dataTable) return;\n",
              "\n",
              "        const docLinkHtml = 'Like what you see? Visit the ' +\n",
              "          '<a target=\"_blank\" href=https://colab.research.google.com/notebooks/data_table.ipynb>data table notebook</a>'\n",
              "          + ' to learn more about interactive tables.';\n",
              "        element.innerHTML = '';\n",
              "        dataTable['output_type'] = 'display_data';\n",
              "        await google.colab.output.renderOutput(dataTable, element);\n",
              "        const docLink = document.createElement('div');\n",
              "        docLink.innerHTML = docLinkHtml;\n",
              "        element.appendChild(docLink);\n",
              "      }\n",
              "    </script>\n",
              "  </div>\n",
              "\n",
              "\n",
              "<div id=\"df-cd422b3f-ad4c-47c8-8ee0-f2b9049f5ff1\">\n",
              "  <button class=\"colab-df-quickchart\" onclick=\"quickchart('df-cd422b3f-ad4c-47c8-8ee0-f2b9049f5ff1')\"\n",
              "            title=\"Suggest charts\"\n",
              "            style=\"display:none;\">\n",
              "\n",
              "<svg xmlns=\"http://www.w3.org/2000/svg\" height=\"24px\"viewBox=\"0 0 24 24\"\n",
              "     width=\"24px\">\n",
              "    <g>\n",
              "        <path d=\"M19 3H5c-1.1 0-2 .9-2 2v14c0 1.1.9 2 2 2h14c1.1 0 2-.9 2-2V5c0-1.1-.9-2-2-2zM9 17H7v-7h2v7zm4 0h-2V7h2v10zm4 0h-2v-4h2v4z\"/>\n",
              "    </g>\n",
              "</svg>\n",
              "  </button>\n",
              "\n",
              "<style>\n",
              "  .colab-df-quickchart {\n",
              "      --bg-color: #E8F0FE;\n",
              "      --fill-color: #1967D2;\n",
              "      --hover-bg-color: #E2EBFA;\n",
              "      --hover-fill-color: #174EA6;\n",
              "      --disabled-fill-color: #AAA;\n",
              "      --disabled-bg-color: #DDD;\n",
              "  }\n",
              "\n",
              "  [theme=dark] .colab-df-quickchart {\n",
              "      --bg-color: #3B4455;\n",
              "      --fill-color: #D2E3FC;\n",
              "      --hover-bg-color: #434B5C;\n",
              "      --hover-fill-color: #FFFFFF;\n",
              "      --disabled-bg-color: #3B4455;\n",
              "      --disabled-fill-color: #666;\n",
              "  }\n",
              "\n",
              "  .colab-df-quickchart {\n",
              "    background-color: var(--bg-color);\n",
              "    border: none;\n",
              "    border-radius: 50%;\n",
              "    cursor: pointer;\n",
              "    display: none;\n",
              "    fill: var(--fill-color);\n",
              "    height: 32px;\n",
              "    padding: 0;\n",
              "    width: 32px;\n",
              "  }\n",
              "\n",
              "  .colab-df-quickchart:hover {\n",
              "    background-color: var(--hover-bg-color);\n",
              "    box-shadow: 0 1px 2px rgba(60, 64, 67, 0.3), 0 1px 3px 1px rgba(60, 64, 67, 0.15);\n",
              "    fill: var(--button-hover-fill-color);\n",
              "  }\n",
              "\n",
              "  .colab-df-quickchart-complete:disabled,\n",
              "  .colab-df-quickchart-complete:disabled:hover {\n",
              "    background-color: var(--disabled-bg-color);\n",
              "    fill: var(--disabled-fill-color);\n",
              "    box-shadow: none;\n",
              "  }\n",
              "\n",
              "  .colab-df-spinner {\n",
              "    border: 2px solid var(--fill-color);\n",
              "    border-color: transparent;\n",
              "    border-bottom-color: var(--fill-color);\n",
              "    animation:\n",
              "      spin 1s steps(1) infinite;\n",
              "  }\n",
              "\n",
              "  @keyframes spin {\n",
              "    0% {\n",
              "      border-color: transparent;\n",
              "      border-bottom-color: var(--fill-color);\n",
              "      border-left-color: var(--fill-color);\n",
              "    }\n",
              "    20% {\n",
              "      border-color: transparent;\n",
              "      border-left-color: var(--fill-color);\n",
              "      border-top-color: var(--fill-color);\n",
              "    }\n",
              "    30% {\n",
              "      border-color: transparent;\n",
              "      border-left-color: var(--fill-color);\n",
              "      border-top-color: var(--fill-color);\n",
              "      border-right-color: var(--fill-color);\n",
              "    }\n",
              "    40% {\n",
              "      border-color: transparent;\n",
              "      border-right-color: var(--fill-color);\n",
              "      border-top-color: var(--fill-color);\n",
              "    }\n",
              "    60% {\n",
              "      border-color: transparent;\n",
              "      border-right-color: var(--fill-color);\n",
              "    }\n",
              "    80% {\n",
              "      border-color: transparent;\n",
              "      border-right-color: var(--fill-color);\n",
              "      border-bottom-color: var(--fill-color);\n",
              "    }\n",
              "    90% {\n",
              "      border-color: transparent;\n",
              "      border-bottom-color: var(--fill-color);\n",
              "    }\n",
              "  }\n",
              "</style>\n",
              "\n",
              "  <script>\n",
              "    async function quickchart(key) {\n",
              "      const quickchartButtonEl =\n",
              "        document.querySelector('#' + key + ' button');\n",
              "      quickchartButtonEl.disabled = true;  // To prevent multiple clicks.\n",
              "      quickchartButtonEl.classList.add('colab-df-spinner');\n",
              "      try {\n",
              "        const charts = await google.colab.kernel.invokeFunction(\n",
              "            'suggestCharts', [key], {});\n",
              "      } catch (error) {\n",
              "        console.error('Error during call to suggestCharts:', error);\n",
              "      }\n",
              "      quickchartButtonEl.classList.remove('colab-df-spinner');\n",
              "      quickchartButtonEl.classList.add('colab-df-quickchart-complete');\n",
              "    }\n",
              "    (() => {\n",
              "      let quickchartButtonEl =\n",
              "        document.querySelector('#df-cd422b3f-ad4c-47c8-8ee0-f2b9049f5ff1 button');\n",
              "      quickchartButtonEl.style.display =\n",
              "        google.colab.kernel.accessAllowed ? 'block' : 'none';\n",
              "    })();\n",
              "  </script>\n",
              "</div>\n",
              "    </div>\n",
              "  </div>\n"
            ]
          },
          "metadata": {},
          "execution_count": 14
        }
      ]
    },
    {
      "cell_type": "code",
      "source": [
        "# View y\n",
        "y.head()"
      ],
      "metadata": {
        "colab": {
          "base_uri": "https://localhost:8080/"
        },
        "id": "YNEcy-3xoU2d",
        "outputId": "a267d251-5be1-4fc2-c2ab-bd9a4e532700"
      },
      "execution_count": 15,
      "outputs": [
        {
          "output_type": "execute_result",
          "data": {
            "text/plain": [
              "0    16884.92400\n",
              "1     1725.55230\n",
              "2     4449.46200\n",
              "3    21984.47061\n",
              "4     3866.85520\n",
              "Name: charges, dtype: float64"
            ]
          },
          "metadata": {},
          "execution_count": 15
        }
      ]
    },
    {
      "cell_type": "code",
      "source": [
        "# Create training and test\n",
        "from sklearn.model_selection import train_test_split\n",
        "X_train, X_test, y_train, y_test = train_test_split(X, y, test_size=0.2, random_state=42)\n",
        "len(X),len(X_train), len(X_test)"
      ],
      "metadata": {
        "colab": {
          "base_uri": "https://localhost:8080/"
        },
        "id": "CJ63i4Pwn2JU",
        "outputId": "19d5a2db-c9bc-4042-813f-138ee6d0e46a"
      },
      "execution_count": 16,
      "outputs": [
        {
          "output_type": "execute_result",
          "data": {
            "text/plain": [
              "(1338, 1070, 268)"
            ]
          },
          "metadata": {},
          "execution_count": 16
        }
      ]
    },
    {
      "cell_type": "code",
      "source": [
        "# Build a neural network\n",
        "tf.random.set_seed(42)\n",
        "\n",
        "# 1. Create a Model\n",
        "insurance_model = tf.keras.Sequential([\n",
        "    tf.keras.layers.Dense(10),\n",
        "    tf.keras.layers.Dense(1)\n",
        "])\n",
        "\n",
        "# 2. Compile the model\n",
        "insurance_model.compile(loss=tf.keras.losses.mae,\n",
        "                        optimizer=tf.keras.optimizers.SGD(),\n",
        "                        metrics=[\"mae\"])\n",
        "\n",
        "# 3. Fit the model\n",
        "insurance_model.fit(X_train, y_train, epochs=100)"
      ],
      "metadata": {
        "colab": {
          "base_uri": "https://localhost:8080/"
        },
        "id": "oZFSizFXn20D",
        "outputId": "6cf0b9fa-b666-40cb-842c-037c41c62871"
      },
      "execution_count": 17,
      "outputs": [
        {
          "output_type": "stream",
          "name": "stdout",
          "text": [
            "Epoch 1/100\n",
            "34/34 [==============================] - 1s 2ms/step - loss: 8646.8740 - mae: 8646.8740\n",
            "Epoch 2/100\n",
            "34/34 [==============================] - 0s 2ms/step - loss: 7860.8652 - mae: 7860.8652\n",
            "Epoch 3/100\n",
            "34/34 [==============================] - 0s 2ms/step - loss: 7549.0176 - mae: 7549.0176\n",
            "Epoch 4/100\n",
            "34/34 [==============================] - 0s 2ms/step - loss: 7680.7002 - mae: 7680.7002\n",
            "Epoch 5/100\n",
            "34/34 [==============================] - 0s 2ms/step - loss: 7748.0552 - mae: 7748.0552\n",
            "Epoch 6/100\n",
            "34/34 [==============================] - 0s 2ms/step - loss: 7653.3452 - mae: 7653.3452\n",
            "Epoch 7/100\n",
            "34/34 [==============================] - 0s 2ms/step - loss: 7594.5449 - mae: 7594.5449\n",
            "Epoch 8/100\n",
            "34/34 [==============================] - 0s 2ms/step - loss: 7800.4150 - mae: 7800.4150\n",
            "Epoch 9/100\n",
            "34/34 [==============================] - 0s 2ms/step - loss: 7595.2524 - mae: 7595.2524\n",
            "Epoch 10/100\n",
            "34/34 [==============================] - 0s 2ms/step - loss: 7730.4727 - mae: 7730.4727\n",
            "Epoch 11/100\n",
            "34/34 [==============================] - 0s 2ms/step - loss: 7504.2935 - mae: 7504.2935\n",
            "Epoch 12/100\n",
            "34/34 [==============================] - 0s 2ms/step - loss: 7678.0112 - mae: 7678.0112\n",
            "Epoch 13/100\n",
            "34/34 [==============================] - 0s 2ms/step - loss: 7698.3804 - mae: 7698.3804\n",
            "Epoch 14/100\n",
            "34/34 [==============================] - 0s 2ms/step - loss: 7707.5273 - mae: 7707.5273\n",
            "Epoch 15/100\n",
            "34/34 [==============================] - 0s 2ms/step - loss: 7674.9922 - mae: 7674.9922\n",
            "Epoch 16/100\n",
            "34/34 [==============================] - 0s 2ms/step - loss: 7688.3345 - mae: 7688.3345\n",
            "Epoch 17/100\n",
            "34/34 [==============================] - 0s 2ms/step - loss: 7573.2002 - mae: 7573.2002\n",
            "Epoch 18/100\n",
            "34/34 [==============================] - 0s 2ms/step - loss: 7828.9536 - mae: 7828.9536\n",
            "Epoch 19/100\n",
            "34/34 [==============================] - 0s 2ms/step - loss: 7665.9663 - mae: 7665.9663\n",
            "Epoch 20/100\n",
            "34/34 [==============================] - 0s 2ms/step - loss: 7879.4521 - mae: 7879.4521\n",
            "Epoch 21/100\n",
            "34/34 [==============================] - 0s 2ms/step - loss: 7538.7144 - mae: 7538.7144\n",
            "Epoch 22/100\n",
            "34/34 [==============================] - 0s 2ms/step - loss: 7776.8599 - mae: 7776.8599\n",
            "Epoch 23/100\n",
            "34/34 [==============================] - 0s 2ms/step - loss: 7659.0825 - mae: 7659.0825\n",
            "Epoch 24/100\n",
            "34/34 [==============================] - 0s 3ms/step - loss: 7555.9663 - mae: 7555.9663\n",
            "Epoch 25/100\n",
            "34/34 [==============================] - 0s 3ms/step - loss: 7668.1250 - mae: 7668.1250\n",
            "Epoch 26/100\n",
            "34/34 [==============================] - 0s 3ms/step - loss: 7633.8486 - mae: 7633.8486\n",
            "Epoch 27/100\n",
            "34/34 [==============================] - 0s 4ms/step - loss: 7561.1201 - mae: 7561.1201\n",
            "Epoch 28/100\n",
            "34/34 [==============================] - 0s 3ms/step - loss: 7412.4995 - mae: 7412.4995\n",
            "Epoch 29/100\n",
            "34/34 [==============================] - 0s 3ms/step - loss: 7693.6162 - mae: 7693.6162\n",
            "Epoch 30/100\n",
            "34/34 [==============================] - 0s 3ms/step - loss: 7721.8252 - mae: 7721.8252\n",
            "Epoch 31/100\n",
            "34/34 [==============================] - 0s 3ms/step - loss: 7470.0498 - mae: 7470.0498\n",
            "Epoch 32/100\n",
            "34/34 [==============================] - 0s 4ms/step - loss: 7511.0503 - mae: 7511.0503\n",
            "Epoch 33/100\n",
            "34/34 [==============================] - 0s 3ms/step - loss: 7463.3315 - mae: 7463.3315\n",
            "Epoch 34/100\n",
            "34/34 [==============================] - 0s 3ms/step - loss: 7487.3076 - mae: 7487.3076\n",
            "Epoch 35/100\n",
            "34/34 [==============================] - 0s 3ms/step - loss: 7597.1636 - mae: 7597.1636\n",
            "Epoch 36/100\n",
            "34/34 [==============================] - 0s 3ms/step - loss: 7601.9521 - mae: 7601.9521\n",
            "Epoch 37/100\n",
            "34/34 [==============================] - 0s 3ms/step - loss: 7558.9419 - mae: 7558.9419\n",
            "Epoch 38/100\n",
            "34/34 [==============================] - 0s 3ms/step - loss: 7522.0410 - mae: 7522.0410\n",
            "Epoch 39/100\n",
            "34/34 [==============================] - 0s 4ms/step - loss: 7538.9912 - mae: 7538.9912\n",
            "Epoch 40/100\n",
            "34/34 [==============================] - 0s 3ms/step - loss: 7524.9634 - mae: 7524.9634\n",
            "Epoch 41/100\n",
            "34/34 [==============================] - 0s 3ms/step - loss: 7737.5405 - mae: 7737.5405\n",
            "Epoch 42/100\n",
            "34/34 [==============================] - 0s 3ms/step - loss: 7564.6460 - mae: 7564.6460\n",
            "Epoch 43/100\n",
            "34/34 [==============================] - 0s 3ms/step - loss: 7709.5938 - mae: 7709.5938\n",
            "Epoch 44/100\n",
            "34/34 [==============================] - 0s 3ms/step - loss: 7507.6162 - mae: 7507.6162\n",
            "Epoch 45/100\n",
            "34/34 [==============================] - 0s 3ms/step - loss: 7456.0449 - mae: 7456.0449\n",
            "Epoch 46/100\n",
            "34/34 [==============================] - 0s 3ms/step - loss: 7443.1553 - mae: 7443.1553\n",
            "Epoch 47/100\n",
            "34/34 [==============================] - 0s 3ms/step - loss: 7496.3647 - mae: 7496.3647\n",
            "Epoch 48/100\n",
            "34/34 [==============================] - 0s 3ms/step - loss: 7460.5713 - mae: 7460.5713\n",
            "Epoch 49/100\n",
            "34/34 [==============================] - 0s 3ms/step - loss: 7558.7095 - mae: 7558.7095\n",
            "Epoch 50/100\n",
            "34/34 [==============================] - 0s 3ms/step - loss: 7488.4956 - mae: 7488.4956\n",
            "Epoch 51/100\n",
            "34/34 [==============================] - 0s 3ms/step - loss: 7363.6201 - mae: 7363.6201\n",
            "Epoch 52/100\n",
            "34/34 [==============================] - 0s 3ms/step - loss: 7540.6587 - mae: 7540.6587\n",
            "Epoch 53/100\n",
            "34/34 [==============================] - 0s 3ms/step - loss: 7538.5283 - mae: 7538.5283\n",
            "Epoch 54/100\n",
            "34/34 [==============================] - 0s 2ms/step - loss: 7154.7437 - mae: 7154.7437\n",
            "Epoch 55/100\n",
            "34/34 [==============================] - 0s 2ms/step - loss: 7202.6577 - mae: 7202.6577\n",
            "Epoch 56/100\n",
            "34/34 [==============================] - 0s 2ms/step - loss: 7421.7061 - mae: 7421.7061\n",
            "Epoch 57/100\n",
            "34/34 [==============================] - 0s 2ms/step - loss: 7266.1479 - mae: 7266.1479\n",
            "Epoch 58/100\n",
            "34/34 [==============================] - 0s 2ms/step - loss: 7563.0454 - mae: 7563.0454\n",
            "Epoch 59/100\n",
            "34/34 [==============================] - 0s 2ms/step - loss: 7635.7319 - mae: 7635.7319\n",
            "Epoch 60/100\n",
            "34/34 [==============================] - 0s 2ms/step - loss: 7502.4321 - mae: 7502.4321\n",
            "Epoch 61/100\n",
            "34/34 [==============================] - 0s 2ms/step - loss: 7452.2305 - mae: 7452.2305\n",
            "Epoch 62/100\n",
            "34/34 [==============================] - 0s 2ms/step - loss: 7485.7954 - mae: 7485.7954\n",
            "Epoch 63/100\n",
            "34/34 [==============================] - 0s 2ms/step - loss: 7301.3350 - mae: 7301.3350\n",
            "Epoch 64/100\n",
            "34/34 [==============================] - 0s 2ms/step - loss: 7481.0210 - mae: 7481.0210\n",
            "Epoch 65/100\n",
            "34/34 [==============================] - 0s 2ms/step - loss: 7547.8076 - mae: 7547.8076\n",
            "Epoch 66/100\n",
            "34/34 [==============================] - 0s 2ms/step - loss: 7382.9175 - mae: 7382.9175\n",
            "Epoch 67/100\n",
            "34/34 [==============================] - 0s 2ms/step - loss: 7316.1406 - mae: 7316.1406\n",
            "Epoch 68/100\n",
            "34/34 [==============================] - 0s 2ms/step - loss: 7550.2598 - mae: 7550.2598\n",
            "Epoch 69/100\n",
            "34/34 [==============================] - 0s 2ms/step - loss: 7514.7344 - mae: 7514.7344\n",
            "Epoch 70/100\n",
            "34/34 [==============================] - 0s 2ms/step - loss: 7677.9331 - mae: 7677.9331\n",
            "Epoch 71/100\n",
            "34/34 [==============================] - 0s 2ms/step - loss: 7125.0596 - mae: 7125.0596\n",
            "Epoch 72/100\n",
            "34/34 [==============================] - 0s 2ms/step - loss: 7231.5347 - mae: 7231.5347\n",
            "Epoch 73/100\n",
            "34/34 [==============================] - 0s 2ms/step - loss: 7475.1821 - mae: 7475.1821\n",
            "Epoch 74/100\n",
            "34/34 [==============================] - 0s 2ms/step - loss: 7416.3032 - mae: 7416.3032\n",
            "Epoch 75/100\n",
            "34/34 [==============================] - 0s 2ms/step - loss: 7143.8286 - mae: 7143.8286\n",
            "Epoch 76/100\n",
            "34/34 [==============================] - 0s 2ms/step - loss: 7188.2900 - mae: 7188.2900\n",
            "Epoch 77/100\n",
            "34/34 [==============================] - 0s 2ms/step - loss: 7543.2900 - mae: 7543.2900\n",
            "Epoch 78/100\n",
            "34/34 [==============================] - 0s 2ms/step - loss: 7127.9355 - mae: 7127.9355\n",
            "Epoch 79/100\n",
            "34/34 [==============================] - 0s 2ms/step - loss: 7399.9077 - mae: 7399.9077\n",
            "Epoch 80/100\n",
            "34/34 [==============================] - 0s 2ms/step - loss: 7317.2227 - mae: 7317.2227\n",
            "Epoch 81/100\n",
            "34/34 [==============================] - 0s 2ms/step - loss: 7232.7939 - mae: 7232.7939\n",
            "Epoch 82/100\n",
            "34/34 [==============================] - 0s 2ms/step - loss: 7086.4233 - mae: 7086.4233\n",
            "Epoch 83/100\n",
            "34/34 [==============================] - 0s 2ms/step - loss: 7503.4995 - mae: 7503.4995\n",
            "Epoch 84/100\n",
            "34/34 [==============================] - 0s 2ms/step - loss: 7171.8794 - mae: 7171.8794\n",
            "Epoch 85/100\n",
            "34/34 [==============================] - 0s 2ms/step - loss: 7482.9468 - mae: 7482.9468\n",
            "Epoch 86/100\n",
            "34/34 [==============================] - 0s 2ms/step - loss: 7447.6733 - mae: 7447.6733\n",
            "Epoch 87/100\n",
            "34/34 [==============================] - 0s 2ms/step - loss: 7271.9258 - mae: 7271.9258\n",
            "Epoch 88/100\n",
            "34/34 [==============================] - 0s 2ms/step - loss: 7215.3906 - mae: 7215.3906\n",
            "Epoch 89/100\n",
            "34/34 [==============================] - 0s 2ms/step - loss: 7103.2744 - mae: 7103.2744\n",
            "Epoch 90/100\n",
            "34/34 [==============================] - 0s 2ms/step - loss: 7007.0879 - mae: 7007.0879\n",
            "Epoch 91/100\n",
            "34/34 [==============================] - 0s 2ms/step - loss: 7246.9473 - mae: 7246.9473\n",
            "Epoch 92/100\n",
            "34/34 [==============================] - 0s 2ms/step - loss: 7407.8364 - mae: 7407.8364\n",
            "Epoch 93/100\n",
            "34/34 [==============================] - 0s 2ms/step - loss: 7446.0283 - mae: 7446.0283\n",
            "Epoch 94/100\n",
            "34/34 [==============================] - 0s 2ms/step - loss: 7242.2144 - mae: 7242.2144\n",
            "Epoch 95/100\n",
            "34/34 [==============================] - 0s 2ms/step - loss: 7344.7368 - mae: 7344.7368\n",
            "Epoch 96/100\n",
            "34/34 [==============================] - 0s 2ms/step - loss: 7325.3242 - mae: 7325.3242\n",
            "Epoch 97/100\n",
            "34/34 [==============================] - 0s 2ms/step - loss: 7283.0024 - mae: 7283.0024\n",
            "Epoch 98/100\n",
            "34/34 [==============================] - 0s 2ms/step - loss: 7343.7764 - mae: 7343.7764\n",
            "Epoch 99/100\n",
            "34/34 [==============================] - 0s 2ms/step - loss: 7356.0938 - mae: 7356.0938\n",
            "Epoch 100/100\n",
            "34/34 [==============================] - 0s 2ms/step - loss: 7314.5991 - mae: 7314.5991\n"
          ]
        },
        {
          "output_type": "execute_result",
          "data": {
            "text/plain": [
              "<keras.src.callbacks.History at 0x7e768c7e28c0>"
            ]
          },
          "metadata": {},
          "execution_count": 17
        }
      ]
    },
    {
      "cell_type": "code",
      "source": [
        "# Check the results of the insurance_model on the test data\n",
        "\n",
        "insurance_model.evaluate(X_test, y_test)"
      ],
      "metadata": {
        "colab": {
          "base_uri": "https://localhost:8080/"
        },
        "id": "excgFPEQrd-B",
        "outputId": "de0fc818-8add-42aa-d74a-861e6548ab92"
      },
      "execution_count": 18,
      "outputs": [
        {
          "output_type": "stream",
          "name": "stdout",
          "text": [
            "9/9 [==============================] - 0s 2ms/step - loss: 8751.1455 - mae: 8751.1455\n"
          ]
        },
        {
          "output_type": "execute_result",
          "data": {
            "text/plain": [
              "[8751.1455078125, 8751.1455078125]"
            ]
          },
          "metadata": {},
          "execution_count": 18
        }
      ]
    },
    {
      "cell_type": "code",
      "source": [
        "# this mae is proving that our model is substantially wrong, here is the median and mean to cross reference\n",
        "y_train.median(), y_train.mean()"
      ],
      "metadata": {
        "colab": {
          "base_uri": "https://localhost:8080/"
        },
        "id": "342RmyqPr7DN",
        "outputId": "69af6f55-fb11-40bb-ace3-8fcc721dbbc5"
      },
      "execution_count": 19,
      "outputs": [
        {
          "output_type": "execute_result",
          "data": {
            "text/plain": [
              "(9575.4421, 13346.089736364485)"
            ]
          },
          "metadata": {},
          "execution_count": 19
        }
      ]
    },
    {
      "cell_type": "markdown",
      "source": [
        "Let's run some expirements to improve the model\n",
        "\n",
        "To try and improve our model, we'll run 2 expirements\n",
        "1. Add an extra layer with more hidden units and use Adam optimizer\n",
        "2. Same as above but Train for longer\n",
        "3. Same as above, but extend the training time and implement `EarlyStopping` callback"
      ],
      "metadata": {
        "id": "k98uz6rSsQly"
      }
    },
    {
      "cell_type": "markdown",
      "source": [
        "**Build experiment #1**"
      ],
      "metadata": {
        "id": "yldxL1F2vDm1"
      }
    },
    {
      "cell_type": "code",
      "source": [
        "# Set random seed\n",
        "tf.random.set_seed(42)\n",
        "\n",
        "# 1. Create the model\n",
        "insurance_model_2 = tf.keras.Sequential([\n",
        "    tf.keras.layers.Dense(100), # added this layer\n",
        "    tf.keras.layers.Dense(10),\n",
        "    tf.keras.layers.Dense(1)\n",
        "])\n",
        "\n",
        "# 2. Compile the model\n",
        "insurance_model_2.compile(loss=tf.keras.losses.mae,\n",
        "                          optimizer=tf.keras.optimizers.Adam(),\n",
        "                          metrics=[\"mae\"])\n",
        "\n",
        "# 3. Fit the model\n",
        "history_2 = insurance_model_2.fit(X_train, y_train, epochs=100, verbose=1)"
      ],
      "metadata": {
        "colab": {
          "base_uri": "https://localhost:8080/"
        },
        "id": "klp6ckKQsXLC",
        "outputId": "84fffd84-4783-40a8-af88-65c8f2548622"
      },
      "execution_count": 20,
      "outputs": [
        {
          "output_type": "stream",
          "name": "stdout",
          "text": [
            "Epoch 1/100\n",
            "34/34 [==============================] - 1s 2ms/step - loss: 13263.9971 - mae: 13263.9971\n",
            "Epoch 2/100\n",
            "34/34 [==============================] - 0s 2ms/step - loss: 13032.9238 - mae: 13032.9238\n",
            "Epoch 3/100\n",
            "34/34 [==============================] - 0s 2ms/step - loss: 12574.7979 - mae: 12574.7979\n",
            "Epoch 4/100\n",
            "34/34 [==============================] - 0s 2ms/step - loss: 11719.0098 - mae: 11719.0098\n",
            "Epoch 5/100\n",
            "34/34 [==============================] - 0s 2ms/step - loss: 10397.0986 - mae: 10397.0986\n",
            "Epoch 6/100\n",
            "34/34 [==============================] - 0s 2ms/step - loss: 8898.8857 - mae: 8898.8857\n",
            "Epoch 7/100\n",
            "34/34 [==============================] - 0s 2ms/step - loss: 7780.3530 - mae: 7780.3530\n",
            "Epoch 8/100\n",
            "34/34 [==============================] - 0s 2ms/step - loss: 7459.0317 - mae: 7459.0317\n",
            "Epoch 9/100\n",
            "34/34 [==============================] - 0s 2ms/step - loss: 7418.3594 - mae: 7418.3594\n",
            "Epoch 10/100\n",
            "34/34 [==============================] - 0s 2ms/step - loss: 7397.7798 - mae: 7397.7798\n",
            "Epoch 11/100\n",
            "34/34 [==============================] - 0s 2ms/step - loss: 7377.6128 - mae: 7377.6128\n",
            "Epoch 12/100\n",
            "34/34 [==============================] - 0s 2ms/step - loss: 7353.8091 - mae: 7353.8091\n",
            "Epoch 13/100\n",
            "34/34 [==============================] - 0s 3ms/step - loss: 7331.6445 - mae: 7331.6445\n",
            "Epoch 14/100\n",
            "34/34 [==============================] - 0s 3ms/step - loss: 7307.2114 - mae: 7307.2114\n",
            "Epoch 15/100\n",
            "34/34 [==============================] - 0s 2ms/step - loss: 7286.5713 - mae: 7286.5713\n",
            "Epoch 16/100\n",
            "34/34 [==============================] - 0s 3ms/step - loss: 7262.0249 - mae: 7262.0249\n",
            "Epoch 17/100\n",
            "34/34 [==============================] - 0s 2ms/step - loss: 7239.4468 - mae: 7239.4468\n",
            "Epoch 18/100\n",
            "34/34 [==============================] - 0s 2ms/step - loss: 7213.7510 - mae: 7213.7510\n",
            "Epoch 19/100\n",
            "34/34 [==============================] - 0s 2ms/step - loss: 7188.6626 - mae: 7188.6626\n",
            "Epoch 20/100\n",
            "34/34 [==============================] - 0s 2ms/step - loss: 7162.0000 - mae: 7162.0000\n",
            "Epoch 21/100\n",
            "34/34 [==============================] - 0s 2ms/step - loss: 7140.2217 - mae: 7140.2217\n",
            "Epoch 22/100\n",
            "34/34 [==============================] - 0s 2ms/step - loss: 7109.4014 - mae: 7109.4014\n",
            "Epoch 23/100\n",
            "34/34 [==============================] - 0s 2ms/step - loss: 7081.6621 - mae: 7081.6621\n",
            "Epoch 24/100\n",
            "34/34 [==============================] - 0s 2ms/step - loss: 7052.3521 - mae: 7052.3521\n",
            "Epoch 25/100\n",
            "34/34 [==============================] - 0s 2ms/step - loss: 7029.2627 - mae: 7029.2627\n",
            "Epoch 26/100\n",
            "34/34 [==============================] - 0s 3ms/step - loss: 6995.0825 - mae: 6995.0825\n",
            "Epoch 27/100\n",
            "34/34 [==============================] - 0s 2ms/step - loss: 6962.7271 - mae: 6962.7271\n",
            "Epoch 28/100\n",
            "34/34 [==============================] - 0s 2ms/step - loss: 6929.7007 - mae: 6929.7007\n",
            "Epoch 29/100\n",
            "34/34 [==============================] - 0s 2ms/step - loss: 6896.6987 - mae: 6896.6987\n",
            "Epoch 30/100\n",
            "34/34 [==============================] - 0s 2ms/step - loss: 6867.2495 - mae: 6867.2495\n",
            "Epoch 31/100\n",
            "34/34 [==============================] - 0s 2ms/step - loss: 6830.4536 - mae: 6830.4536\n",
            "Epoch 32/100\n",
            "34/34 [==============================] - 0s 2ms/step - loss: 6796.8540 - mae: 6796.8540\n",
            "Epoch 33/100\n",
            "34/34 [==============================] - 0s 2ms/step - loss: 6759.2642 - mae: 6759.2642\n",
            "Epoch 34/100\n",
            "34/34 [==============================] - 0s 2ms/step - loss: 6722.1899 - mae: 6722.1899\n",
            "Epoch 35/100\n",
            "34/34 [==============================] - 0s 2ms/step - loss: 6684.6196 - mae: 6684.6196\n",
            "Epoch 36/100\n",
            "34/34 [==============================] - 0s 2ms/step - loss: 6646.5894 - mae: 6646.5894\n",
            "Epoch 37/100\n",
            "34/34 [==============================] - 0s 2ms/step - loss: 6608.5591 - mae: 6608.5591\n",
            "Epoch 38/100\n",
            "34/34 [==============================] - 0s 3ms/step - loss: 6576.8428 - mae: 6576.8428\n",
            "Epoch 39/100\n",
            "34/34 [==============================] - 0s 2ms/step - loss: 6542.5942 - mae: 6542.5942\n",
            "Epoch 40/100\n",
            "34/34 [==============================] - 0s 2ms/step - loss: 6517.0815 - mae: 6517.0815\n",
            "Epoch 41/100\n",
            "34/34 [==============================] - 0s 2ms/step - loss: 6497.6533 - mae: 6497.6533\n",
            "Epoch 42/100\n",
            "34/34 [==============================] - 0s 2ms/step - loss: 6479.5435 - mae: 6479.5435\n",
            "Epoch 43/100\n",
            "34/34 [==============================] - 0s 2ms/step - loss: 6463.7881 - mae: 6463.7881\n",
            "Epoch 44/100\n",
            "34/34 [==============================] - 0s 2ms/step - loss: 6446.2817 - mae: 6446.2817\n",
            "Epoch 45/100\n",
            "34/34 [==============================] - 0s 2ms/step - loss: 6439.4531 - mae: 6439.4531\n",
            "Epoch 46/100\n",
            "34/34 [==============================] - 0s 2ms/step - loss: 6419.3184 - mae: 6419.3184\n",
            "Epoch 47/100\n",
            "34/34 [==============================] - 0s 3ms/step - loss: 6404.9458 - mae: 6404.9458\n",
            "Epoch 48/100\n",
            "34/34 [==============================] - 0s 2ms/step - loss: 6390.0000 - mae: 6390.0000\n",
            "Epoch 49/100\n",
            "34/34 [==============================] - 0s 3ms/step - loss: 6378.6172 - mae: 6378.6172\n",
            "Epoch 50/100\n",
            "34/34 [==============================] - 0s 2ms/step - loss: 6363.4717 - mae: 6363.4717\n",
            "Epoch 51/100\n",
            "34/34 [==============================] - 0s 2ms/step - loss: 6348.6797 - mae: 6348.6797\n",
            "Epoch 52/100\n",
            "34/34 [==============================] - 0s 3ms/step - loss: 6334.7251 - mae: 6334.7251\n",
            "Epoch 53/100\n",
            "34/34 [==============================] - 0s 2ms/step - loss: 6318.7026 - mae: 6318.7026\n",
            "Epoch 54/100\n",
            "34/34 [==============================] - 0s 2ms/step - loss: 6302.9360 - mae: 6302.9360\n",
            "Epoch 55/100\n",
            "34/34 [==============================] - 0s 2ms/step - loss: 6287.7437 - mae: 6287.7437\n",
            "Epoch 56/100\n",
            "34/34 [==============================] - 0s 2ms/step - loss: 6272.6626 - mae: 6272.6626\n",
            "Epoch 57/100\n",
            "34/34 [==============================] - 0s 2ms/step - loss: 6256.5146 - mae: 6256.5146\n",
            "Epoch 58/100\n",
            "34/34 [==============================] - 0s 3ms/step - loss: 6240.6787 - mae: 6240.6787\n",
            "Epoch 59/100\n",
            "34/34 [==============================] - 0s 4ms/step - loss: 6223.4653 - mae: 6223.4653\n",
            "Epoch 60/100\n",
            "34/34 [==============================] - 0s 4ms/step - loss: 6209.9824 - mae: 6209.9824\n",
            "Epoch 61/100\n",
            "34/34 [==============================] - 0s 3ms/step - loss: 6187.7363 - mae: 6187.7363\n",
            "Epoch 62/100\n",
            "34/34 [==============================] - 0s 3ms/step - loss: 6173.9033 - mae: 6173.9033\n",
            "Epoch 63/100\n",
            "34/34 [==============================] - 0s 3ms/step - loss: 6151.7490 - mae: 6151.7490\n",
            "Epoch 64/100\n",
            "34/34 [==============================] - 0s 4ms/step - loss: 6130.7251 - mae: 6130.7251\n",
            "Epoch 65/100\n",
            "34/34 [==============================] - 0s 3ms/step - loss: 6111.4268 - mae: 6111.4268\n",
            "Epoch 66/100\n",
            "34/34 [==============================] - 0s 4ms/step - loss: 6090.1538 - mae: 6090.1538\n",
            "Epoch 67/100\n",
            "34/34 [==============================] - 0s 3ms/step - loss: 6074.0210 - mae: 6074.0210\n",
            "Epoch 68/100\n",
            "34/34 [==============================] - 0s 4ms/step - loss: 6047.7021 - mae: 6047.7021\n",
            "Epoch 69/100\n",
            "34/34 [==============================] - 0s 4ms/step - loss: 6027.3564 - mae: 6027.3564\n",
            "Epoch 70/100\n",
            "34/34 [==============================] - 0s 3ms/step - loss: 6002.8560 - mae: 6002.8560\n",
            "Epoch 71/100\n",
            "34/34 [==============================] - 0s 3ms/step - loss: 5978.5225 - mae: 5978.5225\n",
            "Epoch 72/100\n",
            "34/34 [==============================] - 0s 3ms/step - loss: 5953.9854 - mae: 5953.9854\n",
            "Epoch 73/100\n",
            "34/34 [==============================] - 0s 3ms/step - loss: 5935.8149 - mae: 5935.8149\n",
            "Epoch 74/100\n",
            "34/34 [==============================] - 0s 3ms/step - loss: 5900.9727 - mae: 5900.9727\n",
            "Epoch 75/100\n",
            "34/34 [==============================] - 0s 3ms/step - loss: 5874.1616 - mae: 5874.1616\n",
            "Epoch 76/100\n",
            "34/34 [==============================] - 0s 3ms/step - loss: 5852.9722 - mae: 5852.9722\n",
            "Epoch 77/100\n",
            "34/34 [==============================] - 0s 4ms/step - loss: 5816.3560 - mae: 5816.3560\n",
            "Epoch 78/100\n",
            "34/34 [==============================] - 0s 3ms/step - loss: 5784.4805 - mae: 5784.4805\n",
            "Epoch 79/100\n",
            "34/34 [==============================] - 0s 3ms/step - loss: 5751.7812 - mae: 5751.7812\n",
            "Epoch 80/100\n",
            "34/34 [==============================] - 0s 3ms/step - loss: 5717.0127 - mae: 5717.0127\n",
            "Epoch 81/100\n",
            "34/34 [==============================] - 0s 4ms/step - loss: 5683.5195 - mae: 5683.5195\n",
            "Epoch 82/100\n",
            "34/34 [==============================] - 0s 4ms/step - loss: 5646.1797 - mae: 5646.1797\n",
            "Epoch 83/100\n",
            "34/34 [==============================] - 0s 4ms/step - loss: 5609.3423 - mae: 5609.3423\n",
            "Epoch 84/100\n",
            "34/34 [==============================] - 0s 2ms/step - loss: 5564.7251 - mae: 5564.7251\n",
            "Epoch 85/100\n",
            "34/34 [==============================] - 0s 2ms/step - loss: 5526.8169 - mae: 5526.8169\n",
            "Epoch 86/100\n",
            "34/34 [==============================] - 0s 3ms/step - loss: 5483.9194 - mae: 5483.9194\n",
            "Epoch 87/100\n",
            "34/34 [==============================] - 0s 2ms/step - loss: 5437.2554 - mae: 5437.2554\n",
            "Epoch 88/100\n",
            "34/34 [==============================] - 0s 2ms/step - loss: 5389.3184 - mae: 5389.3184\n",
            "Epoch 89/100\n",
            "34/34 [==============================] - 0s 2ms/step - loss: 5336.5391 - mae: 5336.5391\n",
            "Epoch 90/100\n",
            "34/34 [==============================] - 0s 2ms/step - loss: 5280.3506 - mae: 5280.3506\n",
            "Epoch 91/100\n",
            "34/34 [==============================] - 0s 2ms/step - loss: 5229.0454 - mae: 5229.0454\n",
            "Epoch 92/100\n",
            "34/34 [==============================] - 0s 2ms/step - loss: 5167.7959 - mae: 5167.7959\n",
            "Epoch 93/100\n",
            "34/34 [==============================] - 0s 2ms/step - loss: 5109.8398 - mae: 5109.8398\n",
            "Epoch 94/100\n",
            "34/34 [==============================] - 0s 2ms/step - loss: 5044.0591 - mae: 5044.0591\n",
            "Epoch 95/100\n",
            "34/34 [==============================] - 0s 2ms/step - loss: 4977.7310 - mae: 4977.7310\n",
            "Epoch 96/100\n",
            "34/34 [==============================] - 0s 2ms/step - loss: 4919.5054 - mae: 4919.5054\n",
            "Epoch 97/100\n",
            "34/34 [==============================] - 0s 2ms/step - loss: 4842.3608 - mae: 4842.3608\n",
            "Epoch 98/100\n",
            "34/34 [==============================] - 0s 3ms/step - loss: 4762.7402 - mae: 4762.7402\n",
            "Epoch 99/100\n",
            "34/34 [==============================] - 0s 2ms/step - loss: 4678.8833 - mae: 4678.8833\n",
            "Epoch 100/100\n",
            "34/34 [==============================] - 0s 2ms/step - loss: 4608.4224 - mae: 4608.4224\n"
          ]
        }
      ]
    },
    {
      "cell_type": "code",
      "source": [
        "# Evalute the larger model\n",
        "insurance_model_2.evaluate(X_test,y_test)"
      ],
      "metadata": {
        "colab": {
          "base_uri": "https://localhost:8080/"
        },
        "id": "yn4kaGZ6tudt",
        "outputId": "df60d5c6-58ad-42c0-b226-9c84e5c63e34"
      },
      "execution_count": 21,
      "outputs": [
        {
          "output_type": "stream",
          "name": "stdout",
          "text": [
            "9/9 [==============================] - 0s 2ms/step - loss: 4498.2998 - mae: 4498.2998\n"
          ]
        },
        {
          "output_type": "execute_result",
          "data": {
            "text/plain": [
              "[4498.2998046875, 4498.2998046875]"
            ]
          },
          "metadata": {},
          "execution_count": 21
        }
      ]
    },
    {
      "cell_type": "code",
      "source": [
        "insurance_model.evaluate(X_test,y_test)"
      ],
      "metadata": {
        "colab": {
          "base_uri": "https://localhost:8080/"
        },
        "id": "-OWwAXqquOxE",
        "outputId": "1629b450-d545-4504-8e2d-00e0df81e73e"
      },
      "execution_count": 22,
      "outputs": [
        {
          "output_type": "stream",
          "name": "stdout",
          "text": [
            "9/9 [==============================] - 0s 2ms/step - loss: 8751.1455 - mae: 8751.1455\n"
          ]
        },
        {
          "output_type": "execute_result",
          "data": {
            "text/plain": [
              "[8751.1455078125, 8751.1455078125]"
            ]
          },
          "metadata": {},
          "execution_count": 22
        }
      ]
    },
    {
      "cell_type": "code",
      "source": [
        "# Plot the history (also known as a loss curve or a training curve)\n",
        "pd.DataFrame(history_2.history).plot()\n",
        "plt.ylabel(\"loss\")\n",
        "plt.xlabel(\"epochs\")"
      ],
      "metadata": {
        "colab": {
          "base_uri": "https://localhost:8080/",
          "height": 466
        },
        "id": "1Tpoi5FNwnJC",
        "outputId": "676b6b96-8dd0-4fee-fa9b-23ea49b0d087"
      },
      "execution_count": 23,
      "outputs": [
        {
          "output_type": "execute_result",
          "data": {
            "text/plain": [
              "Text(0.5, 0, 'epochs')"
            ]
          },
          "metadata": {},
          "execution_count": 23
        },
        {
          "output_type": "display_data",
          "data": {
            "text/plain": [
              "<Figure size 640x480 with 1 Axes>"
            ],
            "image/png": "[encoded data removed]"
          },
          "metadata": {}
        }
      ]
    },
    {
      "cell_type": "markdown",
      "source": [
        "*Improved by ~3000*\n",
        "\n",
        "**Build Experiment #2**"
      ],
      "metadata": {
        "id": "u656hyWjuzyB"
      }
    },
    {
      "cell_type": "code",
      "source": [
        "# Set random seed\n",
        "tf.random.set_seed(42)\n",
        "\n",
        "# 1. Create the model\n",
        "insurance_model_3 = tf.keras.Sequential([\n",
        "    tf.keras.layers.Dense(100),\n",
        "    tf.keras.layers.Dense(10),\n",
        "    tf.keras.layers.Dense(1)\n",
        "])\n",
        "\n",
        "# 2. Compile the model\n",
        "insurance_model_3.compile(loss=tf.keras.losses.mae,\n",
        "                          optimizer=tf.keras.optimizers.Adam(),\n",
        "                          metrics=[\"mae\"])\n",
        "\n",
        "# 3. Fit the model\n",
        "history_3 = insurance_model_3.fit(X_train, y_train, epochs=200, verbose=2) #increased the number of epochs to 200"
      ],
      "metadata": {
        "colab": {
          "base_uri": "https://localhost:8080/"
        },
        "id": "ttPQLUxZu6D3",
        "outputId": "b7e2b3d0-fadf-4dfb-81ae-9845d2c77cf5"
      },
      "execution_count": 24,
      "outputs": [
        {
          "output_type": "stream",
          "name": "stdout",
          "text": [
            "Epoch 1/200\n",
            "34/34 - 1s - loss: 13307.5000 - mae: 13307.5000 - 806ms/epoch - 24ms/step\n",
            "Epoch 2/200\n",
            "34/34 - 0s - loss: 13155.1836 - mae: 13155.1836 - 64ms/epoch - 2ms/step\n",
            "Epoch 3/200\n",
            "34/34 - 0s - loss: 12835.0420 - mae: 12835.0420 - 70ms/epoch - 2ms/step\n",
            "Epoch 4/200\n",
            "34/34 - 0s - loss: 12191.1699 - mae: 12191.1699 - 63ms/epoch - 2ms/step\n",
            "Epoch 5/200\n",
            "34/34 - 0s - loss: 11081.0869 - mae: 11081.0869 - 65ms/epoch - 2ms/step\n",
            "Epoch 6/200\n",
            "34/34 - 0s - loss: 9614.2480 - mae: 9614.2480 - 73ms/epoch - 2ms/step\n",
            "Epoch 7/200\n",
            "34/34 - 0s - loss: 8243.9746 - mae: 8243.9746 - 61ms/epoch - 2ms/step\n",
            "Epoch 8/200\n",
            "34/34 - 0s - loss: 7554.0669 - mae: 7554.0669 - 62ms/epoch - 2ms/step\n",
            "Epoch 9/200\n",
            "34/34 - 0s - loss: 7436.3223 - mae: 7436.3223 - 66ms/epoch - 2ms/step\n",
            "Epoch 10/200\n",
            "34/34 - 0s - loss: 7414.5737 - mae: 7414.5737 - 58ms/epoch - 2ms/step\n",
            "Epoch 11/200\n",
            "34/34 - 0s - loss: 7395.5239 - mae: 7395.5239 - 74ms/epoch - 2ms/step\n",
            "Epoch 12/200\n",
            "34/34 - 0s - loss: 7373.1665 - mae: 7373.1665 - 66ms/epoch - 2ms/step\n",
            "Epoch 13/200\n",
            "34/34 - 0s - loss: 7352.4023 - mae: 7352.4023 - 64ms/epoch - 2ms/step\n",
            "Epoch 14/200\n",
            "34/34 - 0s - loss: 7329.5713 - mae: 7329.5713 - 60ms/epoch - 2ms/step\n",
            "Epoch 15/200\n",
            "34/34 - 0s - loss: 7310.1313 - mae: 7310.1313 - 64ms/epoch - 2ms/step\n",
            "Epoch 16/200\n",
            "34/34 - 0s - loss: 7287.6831 - mae: 7287.6831 - 66ms/epoch - 2ms/step\n",
            "Epoch 17/200\n",
            "34/34 - 0s - loss: 7267.1792 - mae: 7267.1792 - 68ms/epoch - 2ms/step\n",
            "Epoch 18/200\n",
            "34/34 - 0s - loss: 7243.2881 - mae: 7243.2881 - 72ms/epoch - 2ms/step\n",
            "Epoch 19/200\n",
            "34/34 - 0s - loss: 7220.6235 - mae: 7220.6235 - 64ms/epoch - 2ms/step\n",
            "Epoch 20/200\n",
            "34/34 - 0s - loss: 7196.7114 - mae: 7196.7114 - 67ms/epoch - 2ms/step\n",
            "Epoch 21/200\n",
            "34/34 - 0s - loss: 7177.8062 - mae: 7177.8062 - 69ms/epoch - 2ms/step\n",
            "Epoch 22/200\n",
            "34/34 - 0s - loss: 7149.3623 - mae: 7149.3623 - 70ms/epoch - 2ms/step\n",
            "Epoch 23/200\n",
            "34/34 - 0s - loss: 7123.8618 - mae: 7123.8618 - 63ms/epoch - 2ms/step\n",
            "Epoch 24/200\n",
            "34/34 - 0s - loss: 7098.6655 - mae: 7098.6655 - 66ms/epoch - 2ms/step\n",
            "Epoch 25/200\n",
            "34/34 - 0s - loss: 7080.0244 - mae: 7080.0244 - 62ms/epoch - 2ms/step\n",
            "Epoch 26/200\n",
            "34/34 - 0s - loss: 7047.3691 - mae: 7047.3691 - 73ms/epoch - 2ms/step\n",
            "Epoch 27/200\n",
            "34/34 - 0s - loss: 7018.2153 - mae: 7018.2153 - 65ms/epoch - 2ms/step\n",
            "Epoch 28/200\n",
            "34/34 - 0s - loss: 6989.3916 - mae: 6989.3916 - 65ms/epoch - 2ms/step\n",
            "Epoch 29/200\n",
            "34/34 - 0s - loss: 6960.6382 - mae: 6960.6382 - 73ms/epoch - 2ms/step\n",
            "Epoch 30/200\n",
            "34/34 - 0s - loss: 6932.3296 - mae: 6932.3296 - 63ms/epoch - 2ms/step\n",
            "Epoch 31/200\n",
            "34/34 - 0s - loss: 6900.6357 - mae: 6900.6357 - 65ms/epoch - 2ms/step\n",
            "Epoch 32/200\n",
            "34/34 - 0s - loss: 6871.5674 - mae: 6871.5674 - 66ms/epoch - 2ms/step\n",
            "Epoch 33/200\n",
            "34/34 - 0s - loss: 6839.4048 - mae: 6839.4048 - 73ms/epoch - 2ms/step\n",
            "Epoch 34/200\n",
            "34/34 - 0s - loss: 6807.5605 - mae: 6807.5605 - 63ms/epoch - 2ms/step\n",
            "Epoch 35/200\n",
            "34/34 - 0s - loss: 6772.1191 - mae: 6772.1191 - 71ms/epoch - 2ms/step\n",
            "Epoch 36/200\n",
            "34/34 - 0s - loss: 6736.6865 - mae: 6736.6865 - 63ms/epoch - 2ms/step\n",
            "Epoch 37/200\n",
            "34/34 - 0s - loss: 6699.6260 - mae: 6699.6260 - 65ms/epoch - 2ms/step\n",
            "Epoch 38/200\n",
            "34/34 - 0s - loss: 6667.3145 - mae: 6667.3145 - 62ms/epoch - 2ms/step\n",
            "Epoch 39/200\n",
            "34/34 - 0s - loss: 6629.1294 - mae: 6629.1294 - 63ms/epoch - 2ms/step\n",
            "Epoch 40/200\n",
            "34/34 - 0s - loss: 6593.7334 - mae: 6593.7334 - 73ms/epoch - 2ms/step\n",
            "Epoch 41/200\n",
            "34/34 - 0s - loss: 6562.7056 - mae: 6562.7056 - 74ms/epoch - 2ms/step\n",
            "Epoch 42/200\n",
            "34/34 - 0s - loss: 6539.0894 - mae: 6539.0894 - 65ms/epoch - 2ms/step\n",
            "Epoch 43/200\n",
            "34/34 - 0s - loss: 6510.0747 - mae: 6510.0747 - 61ms/epoch - 2ms/step\n",
            "Epoch 44/200\n",
            "34/34 - 0s - loss: 6487.9634 - mae: 6487.9634 - 65ms/epoch - 2ms/step\n",
            "Epoch 45/200\n",
            "34/34 - 0s - loss: 6478.3823 - mae: 6478.3823 - 63ms/epoch - 2ms/step\n",
            "Epoch 46/200\n",
            "34/34 - 0s - loss: 6459.3887 - mae: 6459.3887 - 64ms/epoch - 2ms/step\n",
            "Epoch 47/200\n",
            "34/34 - 0s - loss: 6443.1533 - mae: 6443.1533 - 68ms/epoch - 2ms/step\n",
            "Epoch 48/200\n",
            "34/34 - 0s - loss: 6428.6704 - mae: 6428.6704 - 64ms/epoch - 2ms/step\n",
            "Epoch 49/200\n",
            "34/34 - 0s - loss: 6415.6982 - mae: 6415.6982 - 60ms/epoch - 2ms/step\n",
            "Epoch 50/200\n",
            "34/34 - 0s - loss: 6401.9810 - mae: 6401.9810 - 62ms/epoch - 2ms/step\n",
            "Epoch 51/200\n",
            "34/34 - 0s - loss: 6388.5273 - mae: 6388.5273 - 59ms/epoch - 2ms/step\n",
            "Epoch 52/200\n",
            "34/34 - 0s - loss: 6376.1289 - mae: 6376.1289 - 75ms/epoch - 2ms/step\n",
            "Epoch 53/200\n",
            "34/34 - 0s - loss: 6361.2212 - mae: 6361.2212 - 60ms/epoch - 2ms/step\n",
            "Epoch 54/200\n",
            "34/34 - 0s - loss: 6347.3838 - mae: 6347.3838 - 61ms/epoch - 2ms/step\n",
            "Epoch 55/200\n",
            "34/34 - 0s - loss: 6333.1606 - mae: 6333.1606 - 84ms/epoch - 2ms/step\n",
            "Epoch 56/200\n",
            "34/34 - 0s - loss: 6319.1357 - mae: 6319.1357 - 65ms/epoch - 2ms/step\n",
            "Epoch 57/200\n",
            "34/34 - 0s - loss: 6305.3755 - mae: 6305.3755 - 60ms/epoch - 2ms/step\n",
            "Epoch 58/200\n",
            "34/34 - 0s - loss: 6290.9209 - mae: 6290.9209 - 61ms/epoch - 2ms/step\n",
            "Epoch 59/200\n",
            "34/34 - 0s - loss: 6275.2124 - mae: 6275.2124 - 63ms/epoch - 2ms/step\n",
            "Epoch 60/200\n",
            "34/34 - 0s - loss: 6264.0557 - mae: 6264.0557 - 61ms/epoch - 2ms/step\n",
            "Epoch 61/200\n",
            "34/34 - 0s - loss: 6243.6567 - mae: 6243.6567 - 60ms/epoch - 2ms/step\n",
            "Epoch 62/200\n",
            "34/34 - 0s - loss: 6230.2310 - mae: 6230.2310 - 64ms/epoch - 2ms/step\n",
            "Epoch 63/200\n",
            "34/34 - 0s - loss: 6211.7725 - mae: 6211.7725 - 68ms/epoch - 2ms/step\n",
            "Epoch 64/200\n",
            "34/34 - 0s - loss: 6193.8560 - mae: 6193.8560 - 63ms/epoch - 2ms/step\n",
            "Epoch 65/200\n",
            "34/34 - 0s - loss: 6175.9346 - mae: 6175.9346 - 64ms/epoch - 2ms/step\n",
            "Epoch 66/200\n",
            "34/34 - 0s - loss: 6157.9492 - mae: 6157.9492 - 65ms/epoch - 2ms/step\n",
            "Epoch 67/200\n",
            "34/34 - 0s - loss: 6144.5327 - mae: 6144.5327 - 67ms/epoch - 2ms/step\n",
            "Epoch 68/200\n",
            "34/34 - 0s - loss: 6120.9946 - mae: 6120.9946 - 63ms/epoch - 2ms/step\n",
            "Epoch 69/200\n",
            "34/34 - 0s - loss: 6103.8818 - mae: 6103.8818 - 78ms/epoch - 2ms/step\n",
            "Epoch 70/200\n",
            "34/34 - 0s - loss: 6082.2607 - mae: 6082.2607 - 75ms/epoch - 2ms/step\n",
            "Epoch 71/200\n",
            "34/34 - 0s - loss: 6061.7031 - mae: 6061.7031 - 68ms/epoch - 2ms/step\n",
            "Epoch 72/200\n",
            "34/34 - 0s - loss: 6041.6646 - mae: 6041.6646 - 67ms/epoch - 2ms/step\n",
            "Epoch 73/200\n",
            "34/34 - 0s - loss: 6025.3267 - mae: 6025.3267 - 64ms/epoch - 2ms/step\n",
            "Epoch 74/200\n",
            "34/34 - 0s - loss: 5995.6860 - mae: 5995.6860 - 65ms/epoch - 2ms/step\n",
            "Epoch 75/200\n",
            "34/34 - 0s - loss: 5973.6670 - mae: 5973.6670 - 62ms/epoch - 2ms/step\n",
            "Epoch 76/200\n",
            "34/34 - 0s - loss: 5956.3530 - mae: 5956.3530 - 62ms/epoch - 2ms/step\n",
            "Epoch 77/200\n",
            "34/34 - 0s - loss: 5923.2427 - mae: 5923.2427 - 64ms/epoch - 2ms/step\n",
            "Epoch 78/200\n",
            "34/34 - 0s - loss: 5897.9683 - mae: 5897.9683 - 67ms/epoch - 2ms/step\n",
            "Epoch 79/200\n",
            "34/34 - 0s - loss: 5871.9639 - mae: 5871.9639 - 61ms/epoch - 2ms/step\n",
            "Epoch 80/200\n",
            "34/34 - 0s - loss: 5841.8521 - mae: 5841.8521 - 60ms/epoch - 2ms/step\n",
            "Epoch 81/200\n",
            "34/34 - 0s - loss: 5814.8140 - mae: 5814.8140 - 66ms/epoch - 2ms/step\n",
            "Epoch 82/200\n",
            "34/34 - 0s - loss: 5783.4805 - mae: 5783.4805 - 65ms/epoch - 2ms/step\n",
            "Epoch 83/200\n",
            "34/34 - 0s - loss: 5753.0225 - mae: 5753.0225 - 61ms/epoch - 2ms/step\n",
            "Epoch 84/200\n",
            "34/34 - 0s - loss: 5717.0708 - mae: 5717.0708 - 63ms/epoch - 2ms/step\n",
            "Epoch 85/200\n",
            "34/34 - 0s - loss: 5688.2417 - mae: 5688.2417 - 74ms/epoch - 2ms/step\n",
            "Epoch 86/200\n",
            "34/34 - 0s - loss: 5651.4170 - mae: 5651.4170 - 67ms/epoch - 2ms/step\n",
            "Epoch 87/200\n",
            "34/34 - 0s - loss: 5612.4336 - mae: 5612.4336 - 65ms/epoch - 2ms/step\n",
            "Epoch 88/200\n",
            "34/34 - 0s - loss: 5574.8877 - mae: 5574.8877 - 65ms/epoch - 2ms/step\n",
            "Epoch 89/200\n",
            "34/34 - 0s - loss: 5530.8652 - mae: 5530.8652 - 66ms/epoch - 2ms/step\n",
            "Epoch 90/200\n",
            "34/34 - 0s - loss: 5485.8208 - mae: 5485.8208 - 73ms/epoch - 2ms/step\n",
            "Epoch 91/200\n",
            "34/34 - 0s - loss: 5444.5688 - mae: 5444.5688 - 63ms/epoch - 2ms/step\n",
            "Epoch 92/200\n",
            "34/34 - 0s - loss: 5393.2729 - mae: 5393.2729 - 67ms/epoch - 2ms/step\n",
            "Epoch 93/200\n",
            "34/34 - 0s - loss: 5346.2402 - mae: 5346.2402 - 82ms/epoch - 2ms/step\n",
            "Epoch 94/200\n",
            "34/34 - 0s - loss: 5294.8462 - mae: 5294.8462 - 94ms/epoch - 3ms/step\n",
            "Epoch 95/200\n",
            "34/34 - 0s - loss: 5239.0923 - mae: 5239.0923 - 91ms/epoch - 3ms/step\n",
            "Epoch 96/200\n",
            "34/34 - 0s - loss: 5188.7407 - mae: 5188.7407 - 91ms/epoch - 3ms/step\n",
            "Epoch 97/200\n",
            "34/34 - 0s - loss: 5130.3877 - mae: 5130.3877 - 103ms/epoch - 3ms/step\n",
            "Epoch 98/200\n",
            "34/34 - 0s - loss: 5062.4795 - mae: 5062.4795 - 99ms/epoch - 3ms/step\n",
            "Epoch 99/200\n",
            "34/34 - 0s - loss: 4999.0195 - mae: 4999.0195 - 84ms/epoch - 2ms/step\n",
            "Epoch 100/200\n",
            "34/34 - 0s - loss: 4937.6499 - mae: 4937.6499 - 87ms/epoch - 3ms/step\n",
            "Epoch 101/200\n",
            "34/34 - 0s - loss: 4859.7075 - mae: 4859.7075 - 84ms/epoch - 2ms/step\n",
            "Epoch 102/200\n",
            "34/34 - 0s - loss: 4780.1543 - mae: 4780.1543 - 95ms/epoch - 3ms/step\n",
            "Epoch 103/200\n",
            "34/34 - 0s - loss: 4706.0303 - mae: 4706.0303 - 105ms/epoch - 3ms/step\n",
            "Epoch 104/200\n",
            "34/34 - 0s - loss: 4620.9028 - mae: 4620.9028 - 101ms/epoch - 3ms/step\n",
            "Epoch 105/200\n",
            "34/34 - 0s - loss: 4527.4517 - mae: 4527.4517 - 105ms/epoch - 3ms/step\n",
            "Epoch 106/200\n",
            "34/34 - 0s - loss: 4442.9521 - mae: 4442.9521 - 101ms/epoch - 3ms/step\n",
            "Epoch 107/200\n",
            "34/34 - 0s - loss: 4360.3862 - mae: 4360.3862 - 94ms/epoch - 3ms/step\n",
            "Epoch 108/200\n",
            "34/34 - 0s - loss: 4271.1665 - mae: 4271.1665 - 103ms/epoch - 3ms/step\n",
            "Epoch 109/200\n",
            "34/34 - 0s - loss: 4189.7080 - mae: 4189.7080 - 84ms/epoch - 2ms/step\n",
            "Epoch 110/200\n",
            "34/34 - 0s - loss: 4113.9077 - mae: 4113.9077 - 80ms/epoch - 2ms/step\n",
            "Epoch 111/200\n",
            "34/34 - 0s - loss: 4045.5369 - mae: 4045.5369 - 86ms/epoch - 3ms/step\n",
            "Epoch 112/200\n",
            "34/34 - 0s - loss: 3994.6487 - mae: 3994.6487 - 92ms/epoch - 3ms/step\n",
            "Epoch 113/200\n",
            "34/34 - 0s - loss: 3955.9202 - mae: 3955.9202 - 89ms/epoch - 3ms/step\n",
            "Epoch 114/200\n",
            "34/34 - 0s - loss: 3929.4229 - mae: 3929.4229 - 89ms/epoch - 3ms/step\n",
            "Epoch 115/200\n",
            "34/34 - 0s - loss: 3891.6919 - mae: 3891.6919 - 101ms/epoch - 3ms/step\n",
            "Epoch 116/200\n",
            "34/34 - 0s - loss: 3879.0166 - mae: 3879.0166 - 87ms/epoch - 3ms/step\n",
            "Epoch 117/200\n",
            "34/34 - 0s - loss: 3866.9653 - mae: 3866.9653 - 92ms/epoch - 3ms/step\n",
            "Epoch 118/200\n",
            "34/34 - 0s - loss: 3848.4805 - mae: 3848.4805 - 100ms/epoch - 3ms/step\n",
            "Epoch 119/200\n",
            "34/34 - 0s - loss: 3835.1172 - mae: 3835.1172 - 98ms/epoch - 3ms/step\n",
            "Epoch 120/200\n",
            "34/34 - 0s - loss: 3822.7827 - mae: 3822.7827 - 96ms/epoch - 3ms/step\n",
            "Epoch 121/200\n",
            "34/34 - 0s - loss: 3815.8105 - mae: 3815.8105 - 97ms/epoch - 3ms/step\n",
            "Epoch 122/200\n",
            "34/34 - 0s - loss: 3812.2915 - mae: 3812.2915 - 86ms/epoch - 3ms/step\n",
            "Epoch 123/200\n",
            "34/34 - 0s - loss: 3806.1106 - mae: 3806.1106 - 60ms/epoch - 2ms/step\n",
            "Epoch 124/200\n",
            "34/34 - 0s - loss: 3800.2695 - mae: 3800.2695 - 67ms/epoch - 2ms/step\n",
            "Epoch 125/200\n",
            "34/34 - 0s - loss: 3789.6167 - mae: 3789.6167 - 65ms/epoch - 2ms/step\n",
            "Epoch 126/200\n",
            "34/34 - 0s - loss: 3800.3079 - mae: 3800.3079 - 64ms/epoch - 2ms/step\n",
            "Epoch 127/200\n",
            "34/34 - 0s - loss: 3793.4102 - mae: 3793.4102 - 61ms/epoch - 2ms/step\n",
            "Epoch 128/200\n",
            "34/34 - 0s - loss: 3787.8701 - mae: 3787.8701 - 61ms/epoch - 2ms/step\n",
            "Epoch 129/200\n",
            "34/34 - 0s - loss: 3798.6741 - mae: 3798.6741 - 65ms/epoch - 2ms/step\n",
            "Epoch 130/200\n",
            "34/34 - 0s - loss: 3785.8811 - mae: 3785.8811 - 64ms/epoch - 2ms/step\n",
            "Epoch 131/200\n",
            "34/34 - 0s - loss: 3779.4575 - mae: 3779.4575 - 65ms/epoch - 2ms/step\n",
            "Epoch 132/200\n",
            "34/34 - 0s - loss: 3772.2458 - mae: 3772.2458 - 71ms/epoch - 2ms/step\n",
            "Epoch 133/200\n",
            "34/34 - 0s - loss: 3767.5999 - mae: 3767.5999 - 68ms/epoch - 2ms/step\n",
            "Epoch 134/200\n",
            "34/34 - 0s - loss: 3769.1487 - mae: 3769.1487 - 65ms/epoch - 2ms/step\n",
            "Epoch 135/200\n",
            "34/34 - 0s - loss: 3765.6987 - mae: 3765.6987 - 62ms/epoch - 2ms/step\n",
            "Epoch 136/200\n",
            "34/34 - 0s - loss: 3764.0464 - mae: 3764.0464 - 62ms/epoch - 2ms/step\n",
            "Epoch 137/200\n",
            "34/34 - 0s - loss: 3770.5327 - mae: 3770.5327 - 64ms/epoch - 2ms/step\n",
            "Epoch 138/200\n",
            "34/34 - 0s - loss: 3782.4822 - mae: 3782.4822 - 61ms/epoch - 2ms/step\n",
            "Epoch 139/200\n",
            "34/34 - 0s - loss: 3759.3555 - mae: 3759.3555 - 59ms/epoch - 2ms/step\n",
            "Epoch 140/200\n",
            "34/34 - 0s - loss: 3760.7109 - mae: 3760.7109 - 62ms/epoch - 2ms/step\n",
            "Epoch 141/200\n",
            "34/34 - 0s - loss: 3761.7363 - mae: 3761.7363 - 61ms/epoch - 2ms/step\n",
            "Epoch 142/200\n",
            "34/34 - 0s - loss: 3762.6433 - mae: 3762.6433 - 64ms/epoch - 2ms/step\n",
            "Epoch 143/200\n",
            "34/34 - 0s - loss: 3751.8442 - mae: 3751.8442 - 66ms/epoch - 2ms/step\n",
            "Epoch 144/200\n",
            "34/34 - 0s - loss: 3748.6104 - mae: 3748.6104 - 65ms/epoch - 2ms/step\n",
            "Epoch 145/200\n",
            "34/34 - 0s - loss: 3748.6379 - mae: 3748.6379 - 63ms/epoch - 2ms/step\n",
            "Epoch 146/200\n",
            "34/34 - 0s - loss: 3751.7292 - mae: 3751.7292 - 64ms/epoch - 2ms/step\n",
            "Epoch 147/200\n",
            "34/34 - 0s - loss: 3750.6155 - mae: 3750.6155 - 81ms/epoch - 2ms/step\n",
            "Epoch 148/200\n",
            "34/34 - 0s - loss: 3754.4771 - mae: 3754.4771 - 61ms/epoch - 2ms/step\n",
            "Epoch 149/200\n",
            "34/34 - 0s - loss: 3741.8735 - mae: 3741.8735 - 67ms/epoch - 2ms/step\n",
            "Epoch 150/200\n",
            "34/34 - 0s - loss: 3737.5752 - mae: 3737.5752 - 63ms/epoch - 2ms/step\n",
            "Epoch 151/200\n",
            "34/34 - 0s - loss: 3738.7754 - mae: 3738.7754 - 62ms/epoch - 2ms/step\n",
            "Epoch 152/200\n",
            "34/34 - 0s - loss: 3740.4070 - mae: 3740.4070 - 63ms/epoch - 2ms/step\n",
            "Epoch 153/200\n",
            "34/34 - 0s - loss: 3743.7615 - mae: 3743.7615 - 63ms/epoch - 2ms/step\n",
            "Epoch 154/200\n",
            "34/34 - 0s - loss: 3735.1228 - mae: 3735.1228 - 66ms/epoch - 2ms/step\n",
            "Epoch 155/200\n",
            "34/34 - 0s - loss: 3737.0037 - mae: 3737.0037 - 64ms/epoch - 2ms/step\n",
            "Epoch 156/200\n",
            "34/34 - 0s - loss: 3735.6011 - mae: 3735.6011 - 76ms/epoch - 2ms/step\n",
            "Epoch 157/200\n",
            "34/34 - 0s - loss: 3732.0056 - mae: 3732.0056 - 64ms/epoch - 2ms/step\n",
            "Epoch 158/200\n",
            "34/34 - 0s - loss: 3727.6899 - mae: 3727.6899 - 61ms/epoch - 2ms/step\n",
            "Epoch 159/200\n",
            "34/34 - 0s - loss: 3725.0923 - mae: 3725.0923 - 61ms/epoch - 2ms/step\n",
            "Epoch 160/200\n",
            "34/34 - 0s - loss: 3731.3953 - mae: 3731.3953 - 66ms/epoch - 2ms/step\n",
            "Epoch 161/200\n",
            "34/34 - 0s - loss: 3726.8892 - mae: 3726.8892 - 59ms/epoch - 2ms/step\n",
            "Epoch 162/200\n",
            "34/34 - 0s - loss: 3723.9922 - mae: 3723.9922 - 68ms/epoch - 2ms/step\n",
            "Epoch 163/200\n",
            "34/34 - 0s - loss: 3719.9119 - mae: 3719.9119 - 61ms/epoch - 2ms/step\n",
            "Epoch 164/200\n",
            "34/34 - 0s - loss: 3725.5618 - mae: 3725.5618 - 64ms/epoch - 2ms/step\n",
            "Epoch 165/200\n",
            "34/34 - 0s - loss: 3715.3672 - mae: 3715.3672 - 63ms/epoch - 2ms/step\n",
            "Epoch 166/200\n",
            "34/34 - 0s - loss: 3720.1379 - mae: 3720.1379 - 61ms/epoch - 2ms/step\n",
            "Epoch 167/200\n",
            "34/34 - 0s - loss: 3719.2029 - mae: 3719.2029 - 67ms/epoch - 2ms/step\n",
            "Epoch 168/200\n",
            "34/34 - 0s - loss: 3713.6113 - mae: 3713.6113 - 68ms/epoch - 2ms/step\n",
            "Epoch 169/200\n",
            "34/34 - 0s - loss: 3712.3425 - mae: 3712.3425 - 65ms/epoch - 2ms/step\n",
            "Epoch 170/200\n",
            "34/34 - 0s - loss: 3706.3213 - mae: 3706.3213 - 67ms/epoch - 2ms/step\n",
            "Epoch 171/200\n",
            "34/34 - 0s - loss: 3706.9883 - mae: 3706.9883 - 62ms/epoch - 2ms/step\n",
            "Epoch 172/200\n",
            "34/34 - 0s - loss: 3707.7188 - mae: 3707.7188 - 64ms/epoch - 2ms/step\n",
            "Epoch 173/200\n",
            "34/34 - 0s - loss: 3704.4995 - mae: 3704.4995 - 67ms/epoch - 2ms/step\n",
            "Epoch 174/200\n",
            "34/34 - 0s - loss: 3707.6804 - mae: 3707.6804 - 64ms/epoch - 2ms/step\n",
            "Epoch 175/200\n",
            "34/34 - 0s - loss: 3708.2688 - mae: 3708.2688 - 62ms/epoch - 2ms/step\n",
            "Epoch 176/200\n",
            "34/34 - 0s - loss: 3706.1287 - mae: 3706.1287 - 63ms/epoch - 2ms/step\n",
            "Epoch 177/200\n",
            "34/34 - 0s - loss: 3700.3479 - mae: 3700.3479 - 72ms/epoch - 2ms/step\n",
            "Epoch 178/200\n",
            "34/34 - 0s - loss: 3695.5735 - mae: 3695.5735 - 61ms/epoch - 2ms/step\n",
            "Epoch 179/200\n",
            "34/34 - 0s - loss: 3705.1360 - mae: 3705.1360 - 66ms/epoch - 2ms/step\n",
            "Epoch 180/200\n",
            "34/34 - 0s - loss: 3708.5298 - mae: 3708.5298 - 63ms/epoch - 2ms/step\n",
            "Epoch 181/200\n",
            "34/34 - 0s - loss: 3694.5625 - mae: 3694.5625 - 59ms/epoch - 2ms/step\n",
            "Epoch 182/200\n",
            "34/34 - 0s - loss: 3691.6023 - mae: 3691.6023 - 62ms/epoch - 2ms/step\n",
            "Epoch 183/200\n",
            "34/34 - 0s - loss: 3689.8635 - mae: 3689.8635 - 61ms/epoch - 2ms/step\n",
            "Epoch 184/200\n",
            "34/34 - 0s - loss: 3696.8303 - mae: 3696.8303 - 73ms/epoch - 2ms/step\n",
            "Epoch 185/200\n",
            "34/34 - 0s - loss: 3692.8608 - mae: 3692.8608 - 60ms/epoch - 2ms/step\n",
            "Epoch 186/200\n",
            "34/34 - 0s - loss: 3695.5583 - mae: 3695.5583 - 65ms/epoch - 2ms/step\n",
            "Epoch 187/200\n",
            "34/34 - 0s - loss: 3685.5674 - mae: 3685.5674 - 63ms/epoch - 2ms/step\n",
            "Epoch 188/200\n",
            "34/34 - 0s - loss: 3693.5369 - mae: 3693.5369 - 63ms/epoch - 2ms/step\n",
            "Epoch 189/200\n",
            "34/34 - 0s - loss: 3683.0056 - mae: 3683.0056 - 64ms/epoch - 2ms/step\n",
            "Epoch 190/200\n",
            "34/34 - 0s - loss: 3680.3950 - mae: 3680.3950 - 67ms/epoch - 2ms/step\n",
            "Epoch 191/200\n",
            "34/34 - 0s - loss: 3695.0188 - mae: 3695.0188 - 64ms/epoch - 2ms/step\n",
            "Epoch 192/200\n",
            "34/34 - 0s - loss: 3682.2690 - mae: 3682.2690 - 70ms/epoch - 2ms/step\n",
            "Epoch 193/200\n",
            "34/34 - 0s - loss: 3674.1772 - mae: 3674.1772 - 64ms/epoch - 2ms/step\n",
            "Epoch 194/200\n",
            "34/34 - 0s - loss: 3675.2874 - mae: 3675.2874 - 65ms/epoch - 2ms/step\n",
            "Epoch 195/200\n",
            "34/34 - 0s - loss: 3671.5815 - mae: 3671.5815 - 61ms/epoch - 2ms/step\n",
            "Epoch 196/200\n",
            "34/34 - 0s - loss: 3680.9312 - mae: 3680.9312 - 61ms/epoch - 2ms/step\n",
            "Epoch 197/200\n",
            "34/34 - 0s - loss: 3665.4058 - mae: 3665.4058 - 71ms/epoch - 2ms/step\n",
            "Epoch 198/200\n",
            "34/34 - 0s - loss: 3672.1790 - mae: 3672.1790 - 64ms/epoch - 2ms/step\n",
            "Epoch 199/200\n",
            "34/34 - 0s - loss: 3679.4060 - mae: 3679.4060 - 66ms/epoch - 2ms/step\n",
            "Epoch 200/200\n",
            "34/34 - 0s - loss: 3665.9629 - mae: 3665.9629 - 61ms/epoch - 2ms/step\n"
          ]
        }
      ]
    },
    {
      "cell_type": "code",
      "source": [
        "# Evalute the third model\n",
        "insurance_model_3.evaluate(X_test, y_test)"
      ],
      "metadata": {
        "colab": {
          "base_uri": "https://localhost:8080/"
        },
        "id": "9xSVnrHTvYyu",
        "outputId": "770101a6-4047-4b28-b677-e4324f589826"
      },
      "execution_count": 25,
      "outputs": [
        {
          "output_type": "stream",
          "name": "stdout",
          "text": [
            "9/9 [==============================] - 0s 2ms/step - loss: 3488.7397 - mae: 3488.7397\n"
          ]
        },
        {
          "output_type": "execute_result",
          "data": {
            "text/plain": [
              "[3488.73974609375, 3488.73974609375]"
            ]
          },
          "metadata": {},
          "execution_count": 25
        }
      ]
    },
    {
      "cell_type": "code",
      "source": [
        "insurance_model.evaluate(X_test,y_test)\n"
      ],
      "metadata": {
        "colab": {
          "base_uri": "https://localhost:8080/"
        },
        "id": "0X0bByLgvyRQ",
        "outputId": "878139f3-9447-49a5-9df0-3032c3faff8e"
      },
      "execution_count": 26,
      "outputs": [
        {
          "output_type": "stream",
          "name": "stdout",
          "text": [
            "9/9 [==============================] - 0s 2ms/step - loss: 8751.1455 - mae: 8751.1455\n"
          ]
        },
        {
          "output_type": "execute_result",
          "data": {
            "text/plain": [
              "[8751.1455078125, 8751.1455078125]"
            ]
          },
          "metadata": {},
          "execution_count": 26
        }
      ]
    },
    {
      "cell_type": "markdown",
      "source": [
        "*Halfed the mae from the initial model*"
      ],
      "metadata": {
        "id": "IQhxSU-_v4It"
      }
    },
    {
      "cell_type": "code",
      "source": [
        "# Plot the history (also known as a loss curve or a training curve)\n",
        "pd.DataFrame(history_3.history).plot()\n",
        "plt.ylabel(\"loss\")\n",
        "plt.xlabel(\"epochs\")"
      ],
      "metadata": {
        "colab": {
          "base_uri": "https://localhost:8080/",
          "height": 466
        },
        "id": "7yZLurOdwF83",
        "outputId": "1d0f21e7-0a1a-4fec-9f20-64c71fc0c0c9"
      },
      "execution_count": 27,
      "outputs": [
        {
          "output_type": "execute_result",
          "data": {
            "text/plain": [
              "Text(0.5, 0, 'epochs')"
            ]
          },
          "metadata": {},
          "execution_count": 27
        },
        {
          "output_type": "display_data",
          "data": {
            "text/plain": [
              "<Figure size 640x480 with 1 Axes>"
            ],
            "image/png": "[encoded data removed]"
          },
          "metadata": {}
        }
      ]
    },
    {
      "cell_type": "markdown",
      "source": [
        "> ❓**Question** How long should you train for?\n",
        "\n",
        "It depends... but TensorFlow has thought of a solution. [EarlyStopping Callback](https://www.tensorflow.org/api_docs/python/tf/keras/callbacks/EarlyStopping) A TensorFlow component you can add to your model to stop training when it stops improving a certain metric."
      ],
      "metadata": {
        "id": "g1kzxPZbwKlI"
      }
    },
    {
      "cell_type": "markdown",
      "source": [
        "**Build Experiment 3**"
      ],
      "metadata": {
        "id": "OzyRDGkPyDsQ"
      }
    },
    {
      "cell_type": "code",
      "source": [
        "# Set random seed\n",
        "tf.random.set_seed(42)\n",
        "\n",
        "# 0. Create a Callback for EarlyStopping\n",
        "callback = tf.keras.callbacks.EarlyStopping(monitor='loss', patience=5) ## will stop learning when the loss is not improved over 5 epochs\n",
        "\n",
        "# 1. Create the model\n",
        "insurance_model_4 = tf.keras.Sequential([\n",
        "    tf.keras.layers.Dense(100),\n",
        "    tf.keras.layers.Dense(10),\n",
        "    tf.keras.layers.Dense(1)\n",
        "])\n",
        "\n",
        "# 2. Compile the model\n",
        "insurance_model_4.compile(loss=tf.keras.losses.mae,\n",
        "                          optimizer=tf.keras.optimizers.Adam(),\n",
        "                          metrics=[\"mae\"])\n",
        "\n",
        "# 3. Fit the model\n",
        "history_4 = insurance_model_4.fit(X_train, y_train, callbacks=[callback], epochs=500, verbose=2) #increased the number of epochs to 500"
      ],
      "metadata": {
        "colab": {
          "base_uri": "https://localhost:8080/"
        },
        "id": "JvKQgLKnyUbL",
        "outputId": "57c1fad5-c917-42d1-a8ab-0fa035837bef"
      },
      "execution_count": 28,
      "outputs": [
        {
          "output_type": "stream",
          "name": "stdout",
          "text": [
            "Epoch 1/500\n",
            "34/34 - 1s - loss: 13315.3145 - mae: 13315.3145 - 790ms/epoch - 23ms/step\n",
            "Epoch 2/500\n",
            "34/34 - 0s - loss: 13187.7627 - mae: 13187.7627 - 67ms/epoch - 2ms/step\n",
            "Epoch 3/500\n",
            "34/34 - 0s - loss: 12906.5664 - mae: 12906.5664 - 61ms/epoch - 2ms/step\n",
            "Epoch 4/500\n",
            "34/34 - 0s - loss: 12327.6006 - mae: 12327.6006 - 68ms/epoch - 2ms/step\n",
            "Epoch 5/500\n",
            "34/34 - 0s - loss: 11301.6914 - mae: 11301.6914 - 71ms/epoch - 2ms/step\n",
            "Epoch 6/500\n",
            "34/34 - 0s - loss: 9873.1328 - mae: 9873.1328 - 64ms/epoch - 2ms/step\n",
            "Epoch 7/500\n",
            "34/34 - 0s - loss: 8439.6182 - mae: 8439.6182 - 64ms/epoch - 2ms/step\n",
            "Epoch 8/500\n",
            "34/34 - 0s - loss: 7614.4917 - mae: 7614.4917 - 68ms/epoch - 2ms/step\n",
            "Epoch 9/500\n",
            "34/34 - 0s - loss: 7445.1729 - mae: 7445.1729 - 64ms/epoch - 2ms/step\n",
            "Epoch 10/500\n",
            "34/34 - 0s - loss: 7422.3364 - mae: 7422.3364 - 68ms/epoch - 2ms/step\n",
            "Epoch 11/500\n",
            "34/34 - 0s - loss: 7404.3667 - mae: 7404.3667 - 72ms/epoch - 2ms/step\n",
            "Epoch 12/500\n",
            "34/34 - 0s - loss: 7383.3169 - mae: 7383.3169 - 62ms/epoch - 2ms/step\n",
            "Epoch 13/500\n",
            "34/34 - 0s - loss: 7363.9385 - mae: 7363.9385 - 66ms/epoch - 2ms/step\n",
            "Epoch 14/500\n",
            "34/34 - 0s - loss: 7342.8633 - mae: 7342.8633 - 78ms/epoch - 2ms/step\n",
            "Epoch 15/500\n",
            "34/34 - 0s - loss: 7324.8940 - mae: 7324.8940 - 67ms/epoch - 2ms/step\n",
            "Epoch 16/500\n",
            "34/34 - 0s - loss: 7303.6348 - mae: 7303.6348 - 62ms/epoch - 2ms/step\n",
            "Epoch 17/500\n",
            "34/34 - 0s - loss: 7284.8032 - mae: 7284.8032 - 65ms/epoch - 2ms/step\n",
            "Epoch 18/500\n",
            "34/34 - 0s - loss: 7262.9614 - mae: 7262.9614 - 65ms/epoch - 2ms/step\n",
            "Epoch 19/500\n",
            "34/34 - 0s - loss: 7242.1431 - mae: 7242.1431 - 60ms/epoch - 2ms/step\n",
            "Epoch 20/500\n",
            "34/34 - 0s - loss: 7220.3149 - mae: 7220.3149 - 77ms/epoch - 2ms/step\n",
            "Epoch 21/500\n",
            "34/34 - 0s - loss: 7202.6060 - mae: 7202.6060 - 69ms/epoch - 2ms/step\n",
            "Epoch 22/500\n",
            "34/34 - 0s - loss: 7177.6206 - mae: 7177.6206 - 70ms/epoch - 2ms/step\n",
            "Epoch 23/500\n",
            "34/34 - 0s - loss: 7154.6753 - mae: 7154.6753 - 67ms/epoch - 2ms/step\n",
            "Epoch 24/500\n",
            "34/34 - 0s - loss: 7131.6963 - mae: 7131.6963 - 65ms/epoch - 2ms/step\n",
            "Epoch 25/500\n",
            "34/34 - 0s - loss: 7115.6353 - mae: 7115.6353 - 62ms/epoch - 2ms/step\n",
            "Epoch 26/500\n",
            "34/34 - 0s - loss: 7085.9302 - mae: 7085.9302 - 66ms/epoch - 2ms/step\n",
            "Epoch 27/500\n",
            "34/34 - 0s - loss: 7059.5459 - mae: 7059.5459 - 69ms/epoch - 2ms/step\n",
            "Epoch 28/500\n",
            "34/34 - 0s - loss: 7033.9517 - mae: 7033.9517 - 76ms/epoch - 2ms/step\n",
            "Epoch 29/500\n",
            "34/34 - 0s - loss: 7007.7988 - mae: 7007.7988 - 65ms/epoch - 2ms/step\n",
            "Epoch 30/500\n",
            "34/34 - 0s - loss: 6984.3926 - mae: 6984.3926 - 64ms/epoch - 2ms/step\n",
            "Epoch 31/500\n",
            "34/34 - 0s - loss: 6955.3828 - mae: 6955.3828 - 65ms/epoch - 2ms/step\n",
            "Epoch 32/500\n",
            "34/34 - 0s - loss: 6930.3447 - mae: 6930.3447 - 65ms/epoch - 2ms/step\n",
            "Epoch 33/500\n",
            "34/34 - 0s - loss: 6901.3892 - mae: 6901.3892 - 61ms/epoch - 2ms/step\n",
            "Epoch 34/500\n",
            "34/34 - 0s - loss: 6872.3877 - mae: 6872.3877 - 72ms/epoch - 2ms/step\n",
            "Epoch 35/500\n",
            "34/34 - 0s - loss: 6843.0088 - mae: 6843.0088 - 63ms/epoch - 2ms/step\n",
            "Epoch 36/500\n",
            "34/34 - 0s - loss: 6812.1250 - mae: 6812.1250 - 65ms/epoch - 2ms/step\n",
            "Epoch 37/500\n",
            "34/34 - 0s - loss: 6779.8770 - mae: 6779.8770 - 70ms/epoch - 2ms/step\n",
            "Epoch 38/500\n",
            "34/34 - 0s - loss: 6750.4028 - mae: 6750.4028 - 69ms/epoch - 2ms/step\n",
            "Epoch 39/500\n",
            "34/34 - 0s - loss: 6713.6904 - mae: 6713.6904 - 61ms/epoch - 2ms/step\n",
            "Epoch 40/500\n",
            "34/34 - 0s - loss: 6680.6426 - mae: 6680.6426 - 60ms/epoch - 2ms/step\n",
            "Epoch 41/500\n",
            "34/34 - 0s - loss: 6649.7192 - mae: 6649.7192 - 64ms/epoch - 2ms/step\n",
            "Epoch 42/500\n",
            "34/34 - 0s - loss: 6619.9653 - mae: 6619.9653 - 81ms/epoch - 2ms/step\n",
            "Epoch 43/500\n",
            "34/34 - 0s - loss: 6585.3364 - mae: 6585.3364 - 64ms/epoch - 2ms/step\n",
            "Epoch 44/500\n",
            "34/34 - 0s - loss: 6555.2114 - mae: 6555.2114 - 85ms/epoch - 2ms/step\n",
            "Epoch 45/500\n",
            "34/34 - 0s - loss: 6533.6968 - mae: 6533.6968 - 106ms/epoch - 3ms/step\n",
            "Epoch 46/500\n",
            "34/34 - 0s - loss: 6510.5078 - mae: 6510.5078 - 96ms/epoch - 3ms/step\n",
            "Epoch 47/500\n",
            "34/34 - 0s - loss: 6492.2715 - mae: 6492.2715 - 92ms/epoch - 3ms/step\n",
            "Epoch 48/500\n",
            "34/34 - 0s - loss: 6475.6011 - mae: 6475.6011 - 82ms/epoch - 2ms/step\n",
            "Epoch 49/500\n",
            "34/34 - 0s - loss: 6461.2842 - mae: 6461.2842 - 89ms/epoch - 3ms/step\n",
            "Epoch 50/500\n",
            "34/34 - 0s - loss: 6447.2915 - mae: 6447.2915 - 97ms/epoch - 3ms/step\n",
            "Epoch 51/500\n",
            "34/34 - 0s - loss: 6434.0596 - mae: 6434.0596 - 96ms/epoch - 3ms/step\n",
            "Epoch 52/500\n",
            "34/34 - 0s - loss: 6424.3394 - mae: 6424.3394 - 94ms/epoch - 3ms/step\n",
            "Epoch 53/500\n",
            "34/34 - 0s - loss: 6409.9185 - mae: 6409.9185 - 115ms/epoch - 3ms/step\n",
            "Epoch 54/500\n",
            "34/34 - 0s - loss: 6396.9463 - mae: 6396.9463 - 100ms/epoch - 3ms/step\n",
            "Epoch 55/500\n",
            "34/34 - 0s - loss: 6383.8774 - mae: 6383.8774 - 91ms/epoch - 3ms/step\n",
            "Epoch 56/500\n",
            "34/34 - 0s - loss: 6371.1709 - mae: 6371.1709 - 100ms/epoch - 3ms/step\n",
            "Epoch 57/500\n",
            "34/34 - 0s - loss: 6359.8350 - mae: 6359.8350 - 97ms/epoch - 3ms/step\n",
            "Epoch 58/500\n",
            "34/34 - 0s - loss: 6345.9170 - mae: 6345.9170 - 94ms/epoch - 3ms/step\n",
            "Epoch 59/500\n",
            "34/34 - 0s - loss: 6332.8423 - mae: 6332.8423 - 87ms/epoch - 3ms/step\n",
            "Epoch 60/500\n",
            "34/34 - 0s - loss: 6322.6055 - mae: 6322.6055 - 91ms/epoch - 3ms/step\n",
            "Epoch 61/500\n",
            "34/34 - 0s - loss: 6305.1040 - mae: 6305.1040 - 89ms/epoch - 3ms/step\n",
            "Epoch 62/500\n",
            "34/34 - 0s - loss: 6292.8740 - mae: 6292.8740 - 96ms/epoch - 3ms/step\n",
            "Epoch 63/500\n",
            "34/34 - 0s - loss: 6277.0718 - mae: 6277.0718 - 100ms/epoch - 3ms/step\n",
            "Epoch 64/500\n",
            "34/34 - 0s - loss: 6263.5815 - mae: 6263.5815 - 101ms/epoch - 3ms/step\n",
            "Epoch 65/500\n",
            "34/34 - 0s - loss: 6247.1807 - mae: 6247.1807 - 102ms/epoch - 3ms/step\n",
            "Epoch 66/500\n",
            "34/34 - 0s - loss: 6232.1426 - mae: 6232.1426 - 92ms/epoch - 3ms/step\n",
            "Epoch 67/500\n",
            "34/34 - 0s - loss: 6219.8438 - mae: 6219.8438 - 99ms/epoch - 3ms/step\n",
            "Epoch 68/500\n",
            "34/34 - 0s - loss: 6201.3506 - mae: 6201.3506 - 97ms/epoch - 3ms/step\n",
            "Epoch 69/500\n",
            "34/34 - 0s - loss: 6186.2764 - mae: 6186.2764 - 105ms/epoch - 3ms/step\n",
            "Epoch 70/500\n",
            "34/34 - 0s - loss: 6167.7412 - mae: 6167.7412 - 96ms/epoch - 3ms/step\n",
            "Epoch 71/500\n",
            "34/34 - 0s - loss: 6149.8384 - mae: 6149.8384 - 90ms/epoch - 3ms/step\n",
            "Epoch 72/500\n",
            "34/34 - 0s - loss: 6133.9043 - mae: 6133.9043 - 76ms/epoch - 2ms/step\n",
            "Epoch 73/500\n",
            "34/34 - 0s - loss: 6120.5303 - mae: 6120.5303 - 66ms/epoch - 2ms/step\n",
            "Epoch 74/500\n",
            "34/34 - 0s - loss: 6096.9419 - mae: 6096.9419 - 68ms/epoch - 2ms/step\n",
            "Epoch 75/500\n",
            "34/34 - 0s - loss: 6079.7002 - mae: 6079.7002 - 72ms/epoch - 2ms/step\n",
            "Epoch 76/500\n",
            "34/34 - 0s - loss: 6065.8682 - mae: 6065.8682 - 63ms/epoch - 2ms/step\n",
            "Epoch 77/500\n",
            "34/34 - 0s - loss: 6036.0732 - mae: 6036.0732 - 63ms/epoch - 2ms/step\n",
            "Epoch 78/500\n",
            "34/34 - 0s - loss: 6016.8618 - mae: 6016.8618 - 69ms/epoch - 2ms/step\n",
            "Epoch 79/500\n",
            "34/34 - 0s - loss: 5995.3374 - mae: 5995.3374 - 68ms/epoch - 2ms/step\n",
            "Epoch 80/500\n",
            "34/34 - 0s - loss: 5972.3447 - mae: 5972.3447 - 65ms/epoch - 2ms/step\n",
            "Epoch 81/500\n",
            "34/34 - 0s - loss: 5950.2573 - mae: 5950.2573 - 68ms/epoch - 2ms/step\n",
            "Epoch 82/500\n",
            "34/34 - 0s - loss: 5927.8208 - mae: 5927.8208 - 69ms/epoch - 2ms/step\n",
            "Epoch 83/500\n",
            "34/34 - 0s - loss: 5902.2310 - mae: 5902.2310 - 65ms/epoch - 2ms/step\n",
            "Epoch 84/500\n",
            "34/34 - 0s - loss: 5872.6201 - mae: 5872.6201 - 66ms/epoch - 2ms/step\n",
            "Epoch 85/500\n",
            "34/34 - 0s - loss: 5855.0151 - mae: 5855.0151 - 61ms/epoch - 2ms/step\n",
            "Epoch 86/500\n",
            "34/34 - 0s - loss: 5821.8687 - mae: 5821.8687 - 62ms/epoch - 2ms/step\n",
            "Epoch 87/500\n",
            "34/34 - 0s - loss: 5790.9683 - mae: 5790.9683 - 69ms/epoch - 2ms/step\n",
            "Epoch 88/500\n",
            "34/34 - 0s - loss: 5764.2656 - mae: 5764.2656 - 64ms/epoch - 2ms/step\n",
            "Epoch 89/500\n",
            "34/34 - 0s - loss: 5730.1865 - mae: 5730.1865 - 70ms/epoch - 2ms/step\n",
            "Epoch 90/500\n",
            "34/34 - 0s - loss: 5696.3330 - mae: 5696.3330 - 61ms/epoch - 2ms/step\n",
            "Epoch 91/500\n",
            "34/34 - 0s - loss: 5666.8140 - mae: 5666.8140 - 65ms/epoch - 2ms/step\n",
            "Epoch 92/500\n",
            "34/34 - 0s - loss: 5624.9458 - mae: 5624.9458 - 66ms/epoch - 2ms/step\n",
            "Epoch 93/500\n",
            "34/34 - 0s - loss: 5591.6230 - mae: 5591.6230 - 66ms/epoch - 2ms/step\n",
            "Epoch 94/500\n",
            "34/34 - 0s - loss: 5560.0195 - mae: 5560.0195 - 68ms/epoch - 2ms/step\n",
            "Epoch 95/500\n",
            "34/34 - 0s - loss: 5512.6875 - mae: 5512.6875 - 61ms/epoch - 2ms/step\n",
            "Epoch 96/500\n",
            "34/34 - 0s - loss: 5474.3159 - mae: 5474.3159 - 61ms/epoch - 2ms/step\n",
            "Epoch 97/500\n",
            "34/34 - 0s - loss: 5427.2417 - mae: 5427.2417 - 66ms/epoch - 2ms/step\n",
            "Epoch 98/500\n",
            "34/34 - 0s - loss: 5378.3018 - mae: 5378.3018 - 65ms/epoch - 2ms/step\n",
            "Epoch 99/500\n",
            "34/34 - 0s - loss: 5329.4785 - mae: 5329.4785 - 63ms/epoch - 2ms/step\n",
            "Epoch 100/500\n",
            "34/34 - 0s - loss: 5283.9800 - mae: 5283.9800 - 63ms/epoch - 2ms/step\n",
            "Epoch 101/500\n",
            "34/34 - 0s - loss: 5224.4883 - mae: 5224.4883 - 62ms/epoch - 2ms/step\n",
            "Epoch 102/500\n",
            "34/34 - 0s - loss: 5169.2773 - mae: 5169.2773 - 65ms/epoch - 2ms/step\n",
            "Epoch 103/500\n",
            "34/34 - 0s - loss: 5111.2744 - mae: 5111.2744 - 63ms/epoch - 2ms/step\n",
            "Epoch 104/500\n",
            "34/34 - 0s - loss: 5046.3701 - mae: 5046.3701 - 74ms/epoch - 2ms/step\n",
            "Epoch 105/500\n",
            "34/34 - 0s - loss: 4978.5054 - mae: 4978.5054 - 63ms/epoch - 2ms/step\n",
            "Epoch 106/500\n",
            "34/34 - 0s - loss: 4907.2529 - mae: 4907.2529 - 69ms/epoch - 2ms/step\n",
            "Epoch 107/500\n",
            "34/34 - 0s - loss: 4832.7905 - mae: 4832.7905 - 66ms/epoch - 2ms/step\n",
            "Epoch 108/500\n",
            "34/34 - 0s - loss: 4761.0918 - mae: 4761.0918 - 64ms/epoch - 2ms/step\n",
            "Epoch 109/500\n",
            "34/34 - 0s - loss: 4686.8169 - mae: 4686.8169 - 65ms/epoch - 2ms/step\n",
            "Epoch 110/500\n",
            "34/34 - 0s - loss: 4596.1992 - mae: 4596.1992 - 65ms/epoch - 2ms/step\n",
            "Epoch 111/500\n",
            "34/34 - 0s - loss: 4507.6382 - mae: 4507.6382 - 66ms/epoch - 2ms/step\n",
            "Epoch 112/500\n",
            "34/34 - 0s - loss: 4427.6934 - mae: 4427.6934 - 66ms/epoch - 2ms/step\n",
            "Epoch 113/500\n",
            "34/34 - 0s - loss: 4341.5869 - mae: 4341.5869 - 65ms/epoch - 2ms/step\n",
            "Epoch 114/500\n",
            "34/34 - 0s - loss: 4252.7510 - mae: 4252.7510 - 70ms/epoch - 2ms/step\n",
            "Epoch 115/500\n",
            "34/34 - 0s - loss: 4168.5044 - mae: 4168.5044 - 64ms/epoch - 2ms/step\n",
            "Epoch 116/500\n",
            "34/34 - 0s - loss: 4098.6274 - mae: 4098.6274 - 68ms/epoch - 2ms/step\n",
            "Epoch 117/500\n",
            "34/34 - 0s - loss: 4041.3987 - mae: 4041.3987 - 66ms/epoch - 2ms/step\n",
            "Epoch 118/500\n",
            "34/34 - 0s - loss: 3990.3677 - mae: 3990.3677 - 61ms/epoch - 2ms/step\n",
            "Epoch 119/500\n",
            "34/34 - 0s - loss: 3953.5996 - mae: 3953.5996 - 86ms/epoch - 3ms/step\n",
            "Epoch 120/500\n",
            "34/34 - 0s - loss: 3911.4351 - mae: 3911.4351 - 71ms/epoch - 2ms/step\n",
            "Epoch 121/500\n",
            "34/34 - 0s - loss: 3887.9683 - mae: 3887.9683 - 61ms/epoch - 2ms/step\n",
            "Epoch 122/500\n",
            "34/34 - 0s - loss: 3872.5881 - mae: 3872.5881 - 61ms/epoch - 2ms/step\n",
            "Epoch 123/500\n",
            "34/34 - 0s - loss: 3855.0146 - mae: 3855.0146 - 64ms/epoch - 2ms/step\n",
            "Epoch 124/500\n",
            "34/34 - 0s - loss: 3838.6304 - mae: 3838.6304 - 65ms/epoch - 2ms/step\n",
            "Epoch 125/500\n",
            "34/34 - 0s - loss: 3825.4863 - mae: 3825.4863 - 62ms/epoch - 2ms/step\n",
            "Epoch 126/500\n",
            "34/34 - 0s - loss: 3829.2378 - mae: 3829.2378 - 63ms/epoch - 2ms/step\n",
            "Epoch 127/500\n",
            "34/34 - 0s - loss: 3819.3152 - mae: 3819.3152 - 63ms/epoch - 2ms/step\n",
            "Epoch 128/500\n",
            "34/34 - 0s - loss: 3813.9321 - mae: 3813.9321 - 60ms/epoch - 2ms/step\n",
            "Epoch 129/500\n",
            "34/34 - 0s - loss: 3814.9722 - mae: 3814.9722 - 62ms/epoch - 2ms/step\n",
            "Epoch 130/500\n",
            "34/34 - 0s - loss: 3800.4763 - mae: 3800.4763 - 64ms/epoch - 2ms/step\n",
            "Epoch 131/500\n",
            "34/34 - 0s - loss: 3797.5190 - mae: 3797.5190 - 66ms/epoch - 2ms/step\n",
            "Epoch 132/500\n",
            "34/34 - 0s - loss: 3788.8040 - mae: 3788.8040 - 60ms/epoch - 2ms/step\n",
            "Epoch 133/500\n",
            "34/34 - 0s - loss: 3783.3320 - mae: 3783.3320 - 62ms/epoch - 2ms/step\n",
            "Epoch 134/500\n",
            "34/34 - 0s - loss: 3782.1909 - mae: 3782.1909 - 69ms/epoch - 2ms/step\n",
            "Epoch 135/500\n",
            "34/34 - 0s - loss: 3778.5547 - mae: 3778.5547 - 66ms/epoch - 2ms/step\n",
            "Epoch 136/500\n",
            "34/34 - 0s - loss: 3777.2334 - mae: 3777.2334 - 65ms/epoch - 2ms/step\n",
            "Epoch 137/500\n",
            "34/34 - 0s - loss: 3786.4961 - mae: 3786.4961 - 67ms/epoch - 2ms/step\n",
            "Epoch 138/500\n",
            "34/34 - 0s - loss: 3791.4810 - mae: 3791.4810 - 67ms/epoch - 2ms/step\n",
            "Epoch 139/500\n",
            "34/34 - 0s - loss: 3772.3054 - mae: 3772.3054 - 64ms/epoch - 2ms/step\n",
            "Epoch 140/500\n",
            "34/34 - 0s - loss: 3773.0405 - mae: 3773.0405 - 69ms/epoch - 2ms/step\n",
            "Epoch 141/500\n",
            "34/34 - 0s - loss: 3773.7083 - mae: 3773.7083 - 66ms/epoch - 2ms/step\n",
            "Epoch 142/500\n",
            "34/34 - 0s - loss: 3772.0042 - mae: 3772.0042 - 66ms/epoch - 2ms/step\n",
            "Epoch 143/500\n",
            "34/34 - 0s - loss: 3764.5698 - mae: 3764.5698 - 65ms/epoch - 2ms/step\n",
            "Epoch 144/500\n",
            "34/34 - 0s - loss: 3760.0417 - mae: 3760.0417 - 61ms/epoch - 2ms/step\n",
            "Epoch 145/500\n",
            "34/34 - 0s - loss: 3761.9861 - mae: 3761.9861 - 61ms/epoch - 2ms/step\n",
            "Epoch 146/500\n",
            "34/34 - 0s - loss: 3765.6799 - mae: 3765.6799 - 60ms/epoch - 2ms/step\n",
            "Epoch 147/500\n",
            "34/34 - 0s - loss: 3762.8079 - mae: 3762.8079 - 62ms/epoch - 2ms/step\n",
            "Epoch 148/500\n",
            "34/34 - 0s - loss: 3766.3105 - mae: 3766.3105 - 62ms/epoch - 2ms/step\n",
            "Epoch 149/500\n",
            "34/34 - 0s - loss: 3753.2249 - mae: 3753.2249 - 72ms/epoch - 2ms/step\n",
            "Epoch 150/500\n",
            "34/34 - 0s - loss: 3747.9888 - mae: 3747.9888 - 67ms/epoch - 2ms/step\n",
            "Epoch 151/500\n",
            "34/34 - 0s - loss: 3751.5349 - mae: 3751.5349 - 65ms/epoch - 2ms/step\n",
            "Epoch 152/500\n",
            "34/34 - 0s - loss: 3753.3972 - mae: 3753.3972 - 63ms/epoch - 2ms/step\n",
            "Epoch 153/500\n",
            "34/34 - 0s - loss: 3748.8315 - mae: 3748.8315 - 70ms/epoch - 2ms/step\n",
            "Epoch 154/500\n",
            "34/34 - 0s - loss: 3745.5793 - mae: 3745.5793 - 61ms/epoch - 2ms/step\n",
            "Epoch 155/500\n",
            "34/34 - 0s - loss: 3748.5129 - mae: 3748.5129 - 60ms/epoch - 2ms/step\n",
            "Epoch 156/500\n",
            "34/34 - 0s - loss: 3744.5527 - mae: 3744.5527 - 61ms/epoch - 2ms/step\n",
            "Epoch 157/500\n",
            "34/34 - 0s - loss: 3742.3369 - mae: 3742.3369 - 63ms/epoch - 2ms/step\n",
            "Epoch 158/500\n",
            "34/34 - 0s - loss: 3738.6038 - mae: 3738.6038 - 59ms/epoch - 2ms/step\n",
            "Epoch 159/500\n",
            "34/34 - 0s - loss: 3736.3030 - mae: 3736.3030 - 62ms/epoch - 2ms/step\n",
            "Epoch 160/500\n",
            "34/34 - 0s - loss: 3742.5017 - mae: 3742.5017 - 63ms/epoch - 2ms/step\n",
            "Epoch 161/500\n",
            "34/34 - 0s - loss: 3736.2817 - mae: 3736.2817 - 58ms/epoch - 2ms/step\n",
            "Epoch 162/500\n",
            "34/34 - 0s - loss: 3732.7241 - mae: 3732.7241 - 68ms/epoch - 2ms/step\n",
            "Epoch 163/500\n",
            "34/34 - 0s - loss: 3731.8220 - mae: 3731.8220 - 71ms/epoch - 2ms/step\n",
            "Epoch 164/500\n",
            "34/34 - 0s - loss: 3736.3958 - mae: 3736.3958 - 64ms/epoch - 2ms/step\n",
            "Epoch 165/500\n",
            "34/34 - 0s - loss: 3728.5640 - mae: 3728.5640 - 60ms/epoch - 2ms/step\n",
            "Epoch 166/500\n",
            "34/34 - 0s - loss: 3730.9946 - mae: 3730.9946 - 64ms/epoch - 2ms/step\n",
            "Epoch 167/500\n",
            "34/34 - 0s - loss: 3730.3887 - mae: 3730.3887 - 67ms/epoch - 2ms/step\n",
            "Epoch 168/500\n",
            "34/34 - 0s - loss: 3725.6716 - mae: 3725.6716 - 70ms/epoch - 2ms/step\n",
            "Epoch 169/500\n",
            "34/34 - 0s - loss: 3723.1423 - mae: 3723.1423 - 61ms/epoch - 2ms/step\n",
            "Epoch 170/500\n",
            "34/34 - 0s - loss: 3717.6064 - mae: 3717.6064 - 62ms/epoch - 2ms/step\n",
            "Epoch 171/500\n",
            "34/34 - 0s - loss: 3716.6846 - mae: 3716.6846 - 65ms/epoch - 2ms/step\n",
            "Epoch 172/500\n",
            "34/34 - 0s - loss: 3719.8613 - mae: 3719.8613 - 65ms/epoch - 2ms/step\n",
            "Epoch 173/500\n",
            "34/34 - 0s - loss: 3713.1084 - mae: 3713.1084 - 60ms/epoch - 2ms/step\n",
            "Epoch 174/500\n",
            "34/34 - 0s - loss: 3717.6929 - mae: 3717.6929 - 67ms/epoch - 2ms/step\n",
            "Epoch 175/500\n",
            "34/34 - 0s - loss: 3720.3684 - mae: 3720.3684 - 64ms/epoch - 2ms/step\n",
            "Epoch 176/500\n",
            "34/34 - 0s - loss: 3714.7546 - mae: 3714.7546 - 60ms/epoch - 2ms/step\n",
            "Epoch 177/500\n",
            "34/34 - 0s - loss: 3710.0183 - mae: 3710.0183 - 62ms/epoch - 2ms/step\n",
            "Epoch 178/500\n",
            "34/34 - 0s - loss: 3707.4722 - mae: 3707.4722 - 72ms/epoch - 2ms/step\n",
            "Epoch 179/500\n",
            "34/34 - 0s - loss: 3713.4485 - mae: 3713.4485 - 66ms/epoch - 2ms/step\n",
            "Epoch 180/500\n",
            "34/34 - 0s - loss: 3721.1343 - mae: 3721.1343 - 64ms/epoch - 2ms/step\n",
            "Epoch 181/500\n",
            "34/34 - 0s - loss: 3706.3396 - mae: 3706.3396 - 61ms/epoch - 2ms/step\n",
            "Epoch 182/500\n",
            "34/34 - 0s - loss: 3703.5911 - mae: 3703.5911 - 64ms/epoch - 2ms/step\n",
            "Epoch 183/500\n",
            "34/34 - 0s - loss: 3701.9453 - mae: 3701.9453 - 60ms/epoch - 2ms/step\n",
            "Epoch 184/500\n",
            "34/34 - 0s - loss: 3708.2031 - mae: 3708.2031 - 62ms/epoch - 2ms/step\n",
            "Epoch 185/500\n",
            "34/34 - 0s - loss: 3704.5642 - mae: 3704.5642 - 71ms/epoch - 2ms/step\n",
            "Epoch 186/500\n",
            "34/34 - 0s - loss: 3706.1587 - mae: 3706.1587 - 66ms/epoch - 2ms/step\n",
            "Epoch 187/500\n",
            "34/34 - 0s - loss: 3696.8052 - mae: 3696.8052 - 66ms/epoch - 2ms/step\n",
            "Epoch 188/500\n",
            "34/34 - 0s - loss: 3705.1841 - mae: 3705.1841 - 62ms/epoch - 2ms/step\n",
            "Epoch 189/500\n",
            "34/34 - 0s - loss: 3694.9468 - mae: 3694.9468 - 61ms/epoch - 2ms/step\n",
            "Epoch 190/500\n",
            "34/34 - 0s - loss: 3692.9019 - mae: 3692.9019 - 65ms/epoch - 2ms/step\n",
            "Epoch 191/500\n",
            "34/34 - 0s - loss: 3706.7065 - mae: 3706.7065 - 60ms/epoch - 2ms/step\n",
            "Epoch 192/500\n",
            "34/34 - 0s - loss: 3694.9297 - mae: 3694.9297 - 60ms/epoch - 2ms/step\n",
            "Epoch 193/500\n",
            "34/34 - 0s - loss: 3685.2563 - mae: 3685.2563 - 67ms/epoch - 2ms/step\n",
            "Epoch 194/500\n",
            "34/34 - 0s - loss: 3686.3396 - mae: 3686.3396 - 76ms/epoch - 2ms/step\n",
            "Epoch 195/500\n",
            "34/34 - 0s - loss: 3684.0476 - mae: 3684.0476 - 61ms/epoch - 2ms/step\n",
            "Epoch 196/500\n",
            "34/34 - 0s - loss: 3690.8579 - mae: 3690.8579 - 61ms/epoch - 2ms/step\n",
            "Epoch 197/500\n",
            "34/34 - 0s - loss: 3676.1060 - mae: 3676.1060 - 73ms/epoch - 2ms/step\n",
            "Epoch 198/500\n",
            "34/34 - 0s - loss: 3682.1829 - mae: 3682.1829 - 66ms/epoch - 2ms/step\n",
            "Epoch 199/500\n",
            "34/34 - 0s - loss: 3689.9062 - mae: 3689.9062 - 64ms/epoch - 2ms/step\n",
            "Epoch 200/500\n",
            "34/34 - 0s - loss: 3676.2959 - mae: 3676.2959 - 61ms/epoch - 2ms/step\n",
            "Epoch 201/500\n",
            "34/34 - 0s - loss: 3676.6711 - mae: 3676.6711 - 62ms/epoch - 2ms/step\n",
            "Epoch 202/500\n",
            "34/34 - 0s - loss: 3676.7075 - mae: 3676.7075 - 65ms/epoch - 2ms/step\n"
          ]
        }
      ]
    },
    {
      "cell_type": "code",
      "source": [
        "# Evalute the fourth model\n",
        "insurance_model_4.evaluate(X_test, y_test)"
      ],
      "metadata": {
        "colab": {
          "base_uri": "https://localhost:8080/"
        },
        "id": "68EZiXZMzVfF",
        "outputId": "2482cb89-77ce-4c1d-c249-002588e7a9dc"
      },
      "execution_count": 34,
      "outputs": [
        {
          "output_type": "stream",
          "name": "stdout",
          "text": [
            "9/9 [==============================] - 0s 3ms/step - loss: 3498.1184 - mae: 3498.1184\n"
          ]
        },
        {
          "output_type": "execute_result",
          "data": {
            "text/plain": [
              "[3498.118408203125, 3498.118408203125]"
            ]
          },
          "metadata": {},
          "execution_count": 34
        }
      ]
    },
    {
      "cell_type": "code",
      "source": [
        "# Plot the history (also known as a loss curve or a training curve)\n",
        "pd.DataFrame(history_4.history).plot()\n",
        "plt.ylabel(\"loss\")\n",
        "plt.xlabel(\"epochs\")"
      ],
      "metadata": {
        "colab": {
          "base_uri": "https://localhost:8080/",
          "height": 466
        },
        "id": "vd1RTM52zql3",
        "outputId": "a12ac850-8b3a-4d06-9a5e-1577c831f2ad"
      },
      "execution_count": 35,
      "outputs": [
        {
          "output_type": "execute_result",
          "data": {
            "text/plain": [
              "Text(0.5, 0, 'epochs')"
            ]
          },
          "metadata": {},
          "execution_count": 35
        },
        {
          "output_type": "display_data",
          "data": {
            "text/plain": [
              "<Figure size 640x480 with 1 Axes>"
            ],
            "image/png": "[encoded data removed]"
          },
          "metadata": {}
        }
      ]
    },
    {
      "cell_type": "code",
      "source": [
        "# How many epochs did it learn?\n",
        "len(history_4.history['loss'])"
      ],
      "metadata": {
        "colab": {
          "base_uri": "https://localhost:8080/"
        },
        "id": "O5xYH8Zaz9AO",
        "outputId": "e26bc4c8-dc9a-48c4-bce9-4e6972ed11fd"
      },
      "execution_count": 36,
      "outputs": [
        {
          "output_type": "execute_result",
          "data": {
            "text/plain": [
              "202"
            ]
          },
          "metadata": {},
          "execution_count": 36
        }
      ]
    },
    {
      "cell_type": "markdown",
      "source": [
        "📝**Note:** The fit only ran for 202 epochs before it stopped improving"
      ],
      "metadata": {
        "id": "VLRrlTpKzvNN"
      }
    },
    {
      "cell_type": "markdown",
      "source": [
        "### Preprocessing data (normalization and standardization)"
      ],
      "metadata": {
        "id": "kKR0WTM0xCvz"
      }
    },
    {
      "cell_type": "code",
      "source": [],
      "metadata": {
        "id": "jgZmg8XAx5FX"
      },
      "execution_count": 28,
      "outputs": []
    }
  ]
}