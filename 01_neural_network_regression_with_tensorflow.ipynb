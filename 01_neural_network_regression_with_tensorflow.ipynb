{
  "nbformat": 4,
  "nbformat_minor": 0,
  "metadata": {
    "colab": {
      "provenance": [],
      "toc_visible": true,
      "include_colab_link": true
    },
    "kernelspec": {
      "name": "python3",
      "display_name": "Python 3"
    },
    "language_info": {
      "name": "python"
    }
  },
  "cells": [
    {
      "cell_type": "markdown",
      "metadata": {
        "id": "view-in-github",
        "colab_type": "text"
      },
      "source": [
        "<a href=\"https://colab.research.google.com/github/LucasTCook/Tensorflow_Introduction_Course/blob/master/01_neural_network_regression_with_tensorflow.ipynb\" target=\"_parent\"><img src=\"https://colab.research.google.com/assets/colab-badge.svg\" alt=\"Open In Colab\"/></a>"
      ]
    },
    {
      "cell_type": "markdown",
      "source": [
        " # Introduction to Regression with Neural Networks in TensorFlow\n",
        "\n",
        " There are many definitions for a regression problem, but in our case we are going to simplify it. Predicting a numerical variable based on some other combination of variables. Or predicting a number."
      ],
      "metadata": {
        "id": "3dOeChDEULAd"
      }
    },
    {
      "cell_type": "code",
      "execution_count": 2,
      "metadata": {
        "colab": {
          "base_uri": "https://localhost:8080/"
        },
        "id": "lSrtN7bDQ423",
        "outputId": "a15f0625-dd60-46de-8b38-c4f39fbc0581"
      },
      "outputs": [
        {
          "output_type": "stream",
          "name": "stdout",
          "text": [
            "2.14.0\n"
          ]
        }
      ],
      "source": [
        "# Import Tensorflow\n",
        "import tensorflow as tf\n",
        "print(tf.__version__)"
      ]
    },
    {
      "cell_type": "markdown",
      "source": [
        "### Creating some data to view and fit"
      ],
      "metadata": {
        "id": "p-lpUTGrTtA6"
      }
    },
    {
      "cell_type": "code",
      "source": [
        "import numpy as np\n",
        "import matplotlib.pyplot as plt\n",
        "\n",
        "# Create the features\n",
        "X = np.array([-7.,-4., -1., 2., 5., 8.,11., 14.])\n",
        "\n",
        "# Create labels\n",
        "y = np.array([3.,6.,9.,12.,15.,18.,21.,24.])\n",
        "\n",
        "# Visualize\n",
        "plt.scatter(X,y)"
      ],
      "metadata": {
        "colab": {
          "base_uri": "https://localhost:8080/",
          "height": 452
        },
        "id": "xGRGz4hSYgoF",
        "outputId": "f398a4fa-3310-447d-9301-290b161f34b1"
      },
      "execution_count": 3,
      "outputs": [
        {
          "output_type": "execute_result",
          "data": {
            "text/plain": [
              "<matplotlib.collections.PathCollection at 0x7ada3704bc70>"
            ]
          },
          "metadata": {},
          "execution_count": 3
        },
        {
          "output_type": "display_data",
          "data": {
            "text/plain": [
              "<Figure size 640x480 with 1 Axes>"
            ],
            "image/png": "[encoded data removed]"
          },
          "metadata": {}
        }
      ]
    },
    {
      "cell_type": "code",
      "source": [
        "X + 10"
      ],
      "metadata": {
        "colab": {
          "base_uri": "https://localhost:8080/"
        },
        "id": "xfLRcROCY_0q",
        "outputId": "c0cb1bfd-02a8-4f36-e09e-a5b9176b05ee"
      },
      "execution_count": 4,
      "outputs": [
        {
          "output_type": "execute_result",
          "data": {
            "text/plain": [
              "array([ 3.,  6.,  9., 12., 15., 18., 21., 24.])"
            ]
          },
          "metadata": {},
          "execution_count": 4
        }
      ]
    },
    {
      "cell_type": "code",
      "source": [
        "# This is the relationship we want our NN to learn\n",
        "# X is independent, y is dependant\n",
        "y == X + 10"
      ],
      "metadata": {
        "colab": {
          "base_uri": "https://localhost:8080/"
        },
        "id": "Iun5BKliZXMt",
        "outputId": "a889202e-3036-40d6-b1b2-6bfd95ec4b46"
      },
      "execution_count": 5,
      "outputs": [
        {
          "output_type": "execute_result",
          "data": {
            "text/plain": [
              "array([ True,  True,  True,  True,  True,  True,  True,  True])"
            ]
          },
          "metadata": {},
          "execution_count": 5
        }
      ]
    },
    {
      "cell_type": "markdown",
      "source": [
        "### Input and Output shapes"
      ],
      "metadata": {
        "id": "6yJrgkQ0ZZ8q"
      }
    },
    {
      "cell_type": "code",
      "source": [
        "# Create a demo tensor for our housing price prediction problem\n",
        "house_info = tf.constant([\"bedroom\",\"bathroom\", \"garage\"])\n",
        "house_price = tf.constant([939700])\n",
        "house_info,house_price"
      ],
      "metadata": {
        "colab": {
          "base_uri": "https://localhost:8080/"
        },
        "id": "qcaXi-irZlSU",
        "outputId": "acad140d-68bc-4a71-cf8f-4e663b38a29b"
      },
      "execution_count": 6,
      "outputs": [
        {
          "output_type": "execute_result",
          "data": {
            "text/plain": [
              "(<tf.Tensor: shape=(3,), dtype=string, numpy=array([b'bedroom', b'bathroom', b'garage'], dtype=object)>,\n",
              " <tf.Tensor: shape=(1,), dtype=int32, numpy=array([939700], dtype=int32)>)"
            ]
          },
          "metadata": {},
          "execution_count": 6
        }
      ]
    },
    {
      "cell_type": "code",
      "source": [
        "input_shape = X.shape\n",
        "output_shape = y.shape\n",
        "\n",
        "input_shape, output_shape"
      ],
      "metadata": {
        "colab": {
          "base_uri": "https://localhost:8080/"
        },
        "id": "lA2osOHAZ-px",
        "outputId": "d3d8e548-8a59-41fc-82f8-b43f87891c30"
      },
      "execution_count": 7,
      "outputs": [
        {
          "output_type": "execute_result",
          "data": {
            "text/plain": [
              "((8,), (8,))"
            ]
          },
          "metadata": {},
          "execution_count": 7
        }
      ]
    },
    {
      "cell_type": "code",
      "source": [
        "X[0], y[0]"
      ],
      "metadata": {
        "colab": {
          "base_uri": "https://localhost:8080/"
        },
        "id": "9EvQpL9waJfy",
        "outputId": "26f45394-5f6c-41ce-bc5b-11217babd65d"
      },
      "execution_count": 8,
      "outputs": [
        {
          "output_type": "execute_result",
          "data": {
            "text/plain": [
              "(-7.0, 3.0)"
            ]
          },
          "metadata": {},
          "execution_count": 8
        }
      ]
    },
    {
      "cell_type": "code",
      "source": [
        "X[1], y[1]"
      ],
      "metadata": {
        "colab": {
          "base_uri": "https://localhost:8080/"
        },
        "id": "CVHnMP7OaXBa",
        "outputId": "1317d286-ddcf-4a47-d2ce-27d8e73709a2"
      },
      "execution_count": 9,
      "outputs": [
        {
          "output_type": "execute_result",
          "data": {
            "text/plain": [
              "(-4.0, 6.0)"
            ]
          },
          "metadata": {},
          "execution_count": 9
        }
      ]
    },
    {
      "cell_type": "code",
      "source": [
        "# Rank 0 tensor (scalar) has 0 dimensions\n",
        "\n",
        "input_shape = X[0].shape\n",
        "output_shape = y[0].shape\n",
        "\n",
        "input_shape, output_shape"
      ],
      "metadata": {
        "colab": {
          "base_uri": "https://localhost:8080/"
        },
        "id": "_oy99EJ3aYWc",
        "outputId": "ff095f63-0f9b-4b84-e86d-e595eee34516"
      },
      "execution_count": 10,
      "outputs": [
        {
          "output_type": "execute_result",
          "data": {
            "text/plain": [
              "((), ())"
            ]
          },
          "metadata": {},
          "execution_count": 10
        }
      ]
    },
    {
      "cell_type": "code",
      "source": [
        "X[0].ndim"
      ],
      "metadata": {
        "colab": {
          "base_uri": "https://localhost:8080/"
        },
        "id": "iW-escqyabF_",
        "outputId": "e1868ba7-4bd0-4d10-bee4-5315ed3db8bd"
      },
      "execution_count": 11,
      "outputs": [
        {
          "output_type": "execute_result",
          "data": {
            "text/plain": [
              "0"
            ]
          },
          "metadata": {},
          "execution_count": 11
        }
      ]
    },
    {
      "cell_type": "code",
      "source": [
        "y[0].ndim"
      ],
      "metadata": {
        "colab": {
          "base_uri": "https://localhost:8080/"
        },
        "id": "ZDjvMWu2an4M",
        "outputId": "e69c9c6f-0549-4f26-ec0a-7f706242488e"
      },
      "execution_count": 12,
      "outputs": [
        {
          "output_type": "execute_result",
          "data": {
            "text/plain": [
              "0"
            ]
          },
          "metadata": {},
          "execution_count": 12
        }
      ]
    },
    {
      "cell_type": "code",
      "source": [
        "# Turn our NumPy arrays into tensors\n",
        "X = tf.constant(X)\n",
        "y= tf.constant(y)\n",
        "\n",
        "X,y"
      ],
      "metadata": {
        "colab": {
          "base_uri": "https://localhost:8080/"
        },
        "id": "xl3PLcAWapmi",
        "outputId": "2076da9e-4c9c-476b-d967-9a51147cba4a"
      },
      "execution_count": 13,
      "outputs": [
        {
          "output_type": "execute_result",
          "data": {
            "text/plain": [
              "(<tf.Tensor: shape=(8,), dtype=float64, numpy=array([-7., -4., -1.,  2.,  5.,  8., 11., 14.])>,\n",
              " <tf.Tensor: shape=(8,), dtype=float64, numpy=array([ 3.,  6.,  9., 12., 15., 18., 21., 24.])>)"
            ]
          },
          "metadata": {},
          "execution_count": 13
        }
      ]
    },
    {
      "cell_type": "code",
      "source": [
        "input_shape = X[0].shape\n",
        "output_shape = y[0].shape\n",
        "input_shape,out"
      ],
      "metadata": {
        "colab": {
          "base_uri": "https://localhost:8080/",
          "height": 210
        },
        "id": "7WNQvksEiH8t",
        "outputId": "e46d16e9-24f0-49b0-dcd0-9c13452b16d8"
      },
      "execution_count": 15,
      "outputs": [
        {
          "output_type": "error",
          "ename": "NameError",
          "evalue": "ignored",
          "traceback": [
            "\u001b[0;31m---------------------------------------------------------------------------\u001b[0m",
            "\u001b[0;31mNameError\u001b[0m                                 Traceback (most recent call last)",
            "\u001b[0;32m<ipython-input-15-cc54a025ae4b>\u001b[0m in \u001b[0;36m<cell line: 3>\u001b[0;34m()\u001b[0m\n\u001b[1;32m      1\u001b[0m \u001b[0minput_shape\u001b[0m \u001b[0;34m=\u001b[0m \u001b[0mX\u001b[0m\u001b[0;34m[\u001b[0m\u001b[0;36m0\u001b[0m\u001b[0;34m]\u001b[0m\u001b[0;34m.\u001b[0m\u001b[0mshape\u001b[0m\u001b[0;34m\u001b[0m\u001b[0;34m\u001b[0m\u001b[0m\n\u001b[1;32m      2\u001b[0m \u001b[0moutput_shape\u001b[0m \u001b[0;34m=\u001b[0m \u001b[0my\u001b[0m\u001b[0;34m[\u001b[0m\u001b[0;36m0\u001b[0m\u001b[0;34m]\u001b[0m\u001b[0;34m.\u001b[0m\u001b[0mshape\u001b[0m\u001b[0;34m\u001b[0m\u001b[0;34m\u001b[0m\u001b[0m\n\u001b[0;32m----> 3\u001b[0;31m \u001b[0minput_shape\u001b[0m\u001b[0;34m,\u001b[0m\u001b[0mout\u001b[0m\u001b[0;34m\u001b[0m\u001b[0;34m\u001b[0m\u001b[0m\n\u001b[0m",
            "\u001b[0;31mNameError\u001b[0m: name 'out' is not defined"
          ]
        }
      ]
    },
    {
      "cell_type": "code",
      "source": [
        "plt.scatter(X,y)"
      ],
      "metadata": {
        "colab": {
          "base_uri": "https://localhost:8080/",
          "height": 452
        },
        "id": "nBZygU5QiSGl",
        "outputId": "cedd8f22-449c-48c7-e271-88990e55ff60"
      },
      "execution_count": 16,
      "outputs": [
        {
          "output_type": "execute_result",
          "data": {
            "text/plain": [
              "<matplotlib.collections.PathCollection at 0x7ada31de12a0>"
            ]
          },
          "metadata": {},
          "execution_count": 16
        },
        {
          "output_type": "display_data",
          "data": {
            "text/plain": [
              "<Figure size 640x480 with 1 Axes>"
            ],
            "image/png": "[encoded data removed]"
          },
          "metadata": {}
        }
      ]
    },
    {
      "cell_type": "markdown",
      "source": [
        "## Steps in modelling with TensorFlow\n",
        "\n",
        "1. **Creating a model** - define the input and output layers as well as hidden layers in a depe learning model\n",
        "2. **Compiling a model** - define the loss funtion (How wrong is the output) and the optimizer (how to improve) and evaluation metrics (what we can use to interpret the performance of our model).\n",
        "3. **Fitting a model** - letting the model try to find patterns between X and y (features and labels)\n"
      ],
      "metadata": {
        "id": "4yFy-BtSiZ0L"
      }
    },
    {
      "cell_type": "code",
      "source": [
        "X, y"
      ],
      "metadata": {
        "colab": {
          "base_uri": "https://localhost:8080/"
        },
        "id": "_LaKQ3VkmRoW",
        "outputId": "40937063-a290-4c14-dbef-108a0e5d50b8"
      },
      "execution_count": 17,
      "outputs": [
        {
          "output_type": "execute_result",
          "data": {
            "text/plain": [
              "(<tf.Tensor: shape=(8,), dtype=float64, numpy=array([-7., -4., -1.,  2.,  5.,  8., 11., 14.])>,\n",
              " <tf.Tensor: shape=(8,), dtype=float64, numpy=array([ 3.,  6.,  9., 12., 15., 18., 21., 24.])>)"
            ]
          },
          "metadata": {},
          "execution_count": 17
        }
      ]
    },
    {
      "cell_type": "code",
      "source": [
        "tf.expand_dims(X, axis=-1)"
      ],
      "metadata": {
        "colab": {
          "base_uri": "https://localhost:8080/"
        },
        "id": "borWaRgVniDq",
        "outputId": "53c5b816-ed44-4a40-d61a-c946a0e8a54d"
      },
      "execution_count": 18,
      "outputs": [
        {
          "output_type": "execute_result",
          "data": {
            "text/plain": [
              "<tf.Tensor: shape=(8, 1), dtype=float64, numpy=\n",
              "array([[-7.],\n",
              "       [-4.],\n",
              "       [-1.],\n",
              "       [ 2.],\n",
              "       [ 5.],\n",
              "       [ 8.],\n",
              "       [11.],\n",
              "       [14.]])>"
            ]
          },
          "metadata": {},
          "execution_count": 18
        }
      ]
    },
    {
      "cell_type": "code",
      "source": [
        "# import keras\n",
        "\n",
        "# Set random seed\n",
        "tf.random.set_seed(42)\n",
        "\n",
        "# 1. Create a model using the Sequential API\n",
        "model = tf.keras.Sequential([\n",
        "    tf.keras.layers.Dense(1)\n",
        "])\n",
        "\n",
        "# 2. Compile the model\n",
        "model.compile(loss=tf.keras.losses.mae, # mae = mean absolute error\n",
        "              optimizer=tf.keras.optimizers.SGD(), # SGD is short for stochastic gradient descent\n",
        "              metrics=[\"mae\"])\n",
        "\n",
        "# 3. Fit the model\n",
        "model.fit(tf.expand_dims(X, axis=-1), y, epochs=5)"
      ],
      "metadata": {
        "colab": {
          "base_uri": "https://localhost:8080/"
        },
        "id": "ng5cD6DJi8HC",
        "outputId": "33789520-bc07-437e-975e-d886dee565d7"
      },
      "execution_count": 19,
      "outputs": [
        {
          "output_type": "stream",
          "name": "stdout",
          "text": [
            "Epoch 1/5\n",
            "1/1 [==============================] - 1s 846ms/step - loss: 17.0334 - mae: 17.0334\n",
            "Epoch 2/5\n",
            "1/1 [==============================] - 0s 11ms/step - loss: 16.7522 - mae: 16.7522\n",
            "Epoch 3/5\n",
            "1/1 [==============================] - 0s 12ms/step - loss: 16.4709 - mae: 16.4709\n",
            "Epoch 4/5\n",
            "1/1 [==============================] - 0s 11ms/step - loss: 16.1897 - mae: 16.1897\n",
            "Epoch 5/5\n",
            "1/1 [==============================] - 0s 14ms/step - loss: 15.9084 - mae: 15.9084\n"
          ]
        },
        {
          "output_type": "execute_result",
          "data": {
            "text/plain": [
              "<keras.src.callbacks.History at 0x7ada31b88d00>"
            ]
          },
          "metadata": {},
          "execution_count": 19
        }
      ]
    },
    {
      "cell_type": "code",
      "source": [
        "# Check out X and y\n",
        "X,y\n"
      ],
      "metadata": {
        "colab": {
          "base_uri": "https://localhost:8080/"
        },
        "id": "IAENJvcvlFp3",
        "outputId": "5a01cb49-da7b-4c2f-83eb-e398306c20d5"
      },
      "execution_count": 20,
      "outputs": [
        {
          "output_type": "execute_result",
          "data": {
            "text/plain": [
              "(<tf.Tensor: shape=(8,), dtype=float64, numpy=array([-7., -4., -1.,  2.,  5.,  8., 11., 14.])>,\n",
              " <tf.Tensor: shape=(8,), dtype=float64, numpy=array([ 3.,  6.,  9., 12., 15., 18., 21., 24.])>)"
            ]
          },
          "metadata": {},
          "execution_count": 20
        }
      ]
    },
    {
      "cell_type": "code",
      "source": [
        "# Try and make a prediction using our model\n",
        "y_pred = model.predict([17.])\n",
        "y_pred"
      ],
      "metadata": {
        "colab": {
          "base_uri": "https://localhost:8080/"
        },
        "id": "rZAKyM31nzk7",
        "outputId": "3a32d778-ee98-4285-a2a0-6620b12864a7"
      },
      "execution_count": 21,
      "outputs": [
        {
          "output_type": "stream",
          "name": "stdout",
          "text": [
            "1/1 [==============================] - 0s 247ms/step\n"
          ]
        },
        {
          "output_type": "execute_result",
          "data": {
            "text/plain": [
              "array([[-9.370156]], dtype=float32)"
            ]
          },
          "metadata": {},
          "execution_count": 21
        }
      ]
    },
    {
      "cell_type": "code",
      "source": [
        "# even with adding our loss the predition is not close to the expected value of 27\n",
        "y_pred + 16.7487"
      ],
      "metadata": {
        "colab": {
          "base_uri": "https://localhost:8080/"
        },
        "id": "x9Is675pn6d-",
        "outputId": "b7717b75-173d-4466-b953-3c95a7224c49"
      },
      "execution_count": 22,
      "outputs": [
        {
          "output_type": "execute_result",
          "data": {
            "text/plain": [
              "array([[7.378543]], dtype=float32)"
            ]
          },
          "metadata": {},
          "execution_count": 22
        }
      ]
    },
    {
      "cell_type": "markdown",
      "source": [
        "### Improving our model\n",
        "\n",
        "We can improve our model by altering our steps we used to create the model\n",
        "\n",
        "1. **Create a model** - Here we might add more layers, increase the number of hidden units (neurons) within each of the hidden layers, change the activation function of each layer\n",
        "2. **Compiling a model** - Here we might change the optimization function or perhaps the **learning rate** of the optimization function.\n",
        "3. **Fitting a model** - Here we might fit a model for more epochs (train it for longer) or on more data (give the model more examples to learn from)"
      ],
      "metadata": {
        "id": "dRZfoDTcoKqf"
      }
    },
    {
      "cell_type": "code",
      "source": [
        "# Lets rebuild our model\n",
        "\n",
        "# 1. Create a model using the Sequential API\n",
        "model = tf.keras.Sequential([\n",
        "    tf.keras.layers.Dense(1)\n",
        "])\n",
        "\n",
        "# 2. Compile the model\n",
        "model.compile(loss=tf.keras.losses.mae, # mae = mean absolute error\n",
        "              optimizer=tf.keras.optimizers.SGD(), # SGD is short for stochastic gradient descent\n",
        "              metrics=[\"mae\"])\n",
        "\n",
        "# 3. Fit the model (This time we will train for longer)\n",
        "model.fit(tf.expand_dims(X, axis=-1), y, epochs=100)"
      ],
      "metadata": {
        "id": "3Hvp6TcnqrrI",
        "colab": {
          "base_uri": "https://localhost:8080/"
        },
        "outputId": "6bfa313f-cfc8-40a6-b24b-67ac17f7da87"
      },
      "execution_count": 23,
      "outputs": [
        {
          "output_type": "stream",
          "name": "stdout",
          "text": [
            "Epoch 1/100\n",
            "1/1 [==============================] - 1s 602ms/step - loss: 18.5246 - mae: 18.5246\n",
            "Epoch 2/100\n",
            "1/1 [==============================] - 0s 32ms/step - loss: 18.2433 - mae: 18.2433\n",
            "Epoch 3/100\n",
            "1/1 [==============================] - 0s 11ms/step - loss: 17.9621 - mae: 17.9621\n",
            "Epoch 4/100\n",
            "1/1 [==============================] - 0s 27ms/step - loss: 17.6808 - mae: 17.6808\n",
            "Epoch 5/100\n",
            "1/1 [==============================] - 0s 12ms/step - loss: 17.3996 - mae: 17.3996\n",
            "Epoch 6/100\n",
            "1/1 [==============================] - 0s 16ms/step - loss: 17.1183 - mae: 17.1183\n",
            "Epoch 7/100\n",
            "1/1 [==============================] - 0s 13ms/step - loss: 16.8371 - mae: 16.8371\n",
            "Epoch 8/100\n",
            "1/1 [==============================] - 0s 14ms/step - loss: 16.5558 - mae: 16.5558\n",
            "Epoch 9/100\n",
            "1/1 [==============================] - 0s 14ms/step - loss: 16.2746 - mae: 16.2746\n",
            "Epoch 10/100\n",
            "1/1 [==============================] - 0s 15ms/step - loss: 15.9933 - mae: 15.9933\n",
            "Epoch 11/100\n",
            "1/1 [==============================] - 0s 14ms/step - loss: 15.7121 - mae: 15.7121\n",
            "Epoch 12/100\n",
            "1/1 [==============================] - 0s 13ms/step - loss: 15.4308 - mae: 15.4308\n",
            "Epoch 13/100\n",
            "1/1 [==============================] - 0s 28ms/step - loss: 15.1496 - mae: 15.1496\n",
            "Epoch 14/100\n",
            "1/1 [==============================] - 0s 34ms/step - loss: 14.8683 - mae: 14.8683\n",
            "Epoch 15/100\n",
            "1/1 [==============================] - 0s 13ms/step - loss: 14.6722 - mae: 14.6722\n",
            "Epoch 16/100\n",
            "1/1 [==============================] - 0s 10ms/step - loss: 14.5397 - mae: 14.5397\n",
            "Epoch 17/100\n",
            "1/1 [==============================] - 0s 19ms/step - loss: 14.4072 - mae: 14.4072\n",
            "Epoch 18/100\n",
            "1/1 [==============================] - 0s 23ms/step - loss: 14.2747 - mae: 14.2747\n",
            "Epoch 19/100\n",
            "1/1 [==============================] - 0s 18ms/step - loss: 14.1422 - mae: 14.1422\n",
            "Epoch 20/100\n",
            "1/1 [==============================] - 0s 17ms/step - loss: 14.0097 - mae: 14.0097\n",
            "Epoch 21/100\n",
            "1/1 [==============================] - 0s 25ms/step - loss: 13.8772 - mae: 13.8772\n",
            "Epoch 22/100\n",
            "1/1 [==============================] - 0s 15ms/step - loss: 13.7447 - mae: 13.7447\n",
            "Epoch 23/100\n",
            "1/1 [==============================] - 0s 32ms/step - loss: 13.6122 - mae: 13.6122\n",
            "Epoch 24/100\n",
            "1/1 [==============================] - 0s 12ms/step - loss: 13.4797 - mae: 13.4797\n",
            "Epoch 25/100\n",
            "1/1 [==============================] - 0s 23ms/step - loss: 13.3472 - mae: 13.3472\n",
            "Epoch 26/100\n",
            "1/1 [==============================] - 0s 17ms/step - loss: 13.2147 - mae: 13.2147\n",
            "Epoch 27/100\n",
            "1/1 [==============================] - 0s 23ms/step - loss: 13.0822 - mae: 13.0822\n",
            "Epoch 28/100\n",
            "1/1 [==============================] - 0s 15ms/step - loss: 12.9497 - mae: 12.9497\n",
            "Epoch 29/100\n",
            "1/1 [==============================] - 0s 12ms/step - loss: 12.8172 - mae: 12.8172\n",
            "Epoch 30/100\n",
            "1/1 [==============================] - 0s 13ms/step - loss: 12.6847 - mae: 12.6847\n",
            "Epoch 31/100\n",
            "1/1 [==============================] - 0s 23ms/step - loss: 12.5522 - mae: 12.5522\n",
            "Epoch 32/100\n",
            "1/1 [==============================] - 0s 20ms/step - loss: 12.4197 - mae: 12.4197\n",
            "Epoch 33/100\n",
            "1/1 [==============================] - 0s 16ms/step - loss: 12.2872 - mae: 12.2872\n",
            "Epoch 34/100\n",
            "1/1 [==============================] - 0s 13ms/step - loss: 12.1547 - mae: 12.1547\n",
            "Epoch 35/100\n",
            "1/1 [==============================] - 0s 19ms/step - loss: 12.0222 - mae: 12.0222\n",
            "Epoch 36/100\n",
            "1/1 [==============================] - 0s 13ms/step - loss: 11.8897 - mae: 11.8897\n",
            "Epoch 37/100\n",
            "1/1 [==============================] - 0s 28ms/step - loss: 11.7572 - mae: 11.7572\n",
            "Epoch 38/100\n",
            "1/1 [==============================] - 0s 14ms/step - loss: 11.6247 - mae: 11.6247\n",
            "Epoch 39/100\n",
            "1/1 [==============================] - 0s 12ms/step - loss: 11.4922 - mae: 11.4922\n",
            "Epoch 40/100\n",
            "1/1 [==============================] - 0s 13ms/step - loss: 11.3597 - mae: 11.3597\n",
            "Epoch 41/100\n",
            "1/1 [==============================] - 0s 18ms/step - loss: 11.2272 - mae: 11.2272\n",
            "Epoch 42/100\n",
            "1/1 [==============================] - 0s 11ms/step - loss: 11.0947 - mae: 11.0947\n",
            "Epoch 43/100\n",
            "1/1 [==============================] - 0s 17ms/step - loss: 10.9622 - mae: 10.9622\n",
            "Epoch 44/100\n",
            "1/1 [==============================] - 0s 21ms/step - loss: 10.8297 - mae: 10.8297\n",
            "Epoch 45/100\n",
            "1/1 [==============================] - 0s 14ms/step - loss: 10.6972 - mae: 10.6972\n",
            "Epoch 46/100\n",
            "1/1 [==============================] - 0s 15ms/step - loss: 10.5647 - mae: 10.5647\n",
            "Epoch 47/100\n",
            "1/1 [==============================] - 0s 11ms/step - loss: 10.4322 - mae: 10.4322\n",
            "Epoch 48/100\n",
            "1/1 [==============================] - 0s 14ms/step - loss: 10.2997 - mae: 10.2997\n",
            "Epoch 49/100\n",
            "1/1 [==============================] - 0s 12ms/step - loss: 10.1672 - mae: 10.1672\n",
            "Epoch 50/100\n",
            "1/1 [==============================] - 0s 12ms/step - loss: 10.0347 - mae: 10.0347\n",
            "Epoch 51/100\n",
            "1/1 [==============================] - 0s 16ms/step - loss: 9.9022 - mae: 9.9022\n",
            "Epoch 52/100\n",
            "1/1 [==============================] - 0s 45ms/step - loss: 9.7697 - mae: 9.7697\n",
            "Epoch 53/100\n",
            "1/1 [==============================] - 0s 27ms/step - loss: 9.6372 - mae: 9.6372\n",
            "Epoch 54/100\n",
            "1/1 [==============================] - 0s 24ms/step - loss: 9.5047 - mae: 9.5047\n",
            "Epoch 55/100\n",
            "1/1 [==============================] - 0s 29ms/step - loss: 9.3722 - mae: 9.3722\n",
            "Epoch 56/100\n",
            "1/1 [==============================] - 0s 12ms/step - loss: 9.2397 - mae: 9.2397\n",
            "Epoch 57/100\n",
            "1/1 [==============================] - 0s 26ms/step - loss: 9.1072 - mae: 9.1072\n",
            "Epoch 58/100\n",
            "1/1 [==============================] - 0s 13ms/step - loss: 8.9747 - mae: 8.9747\n",
            "Epoch 59/100\n",
            "1/1 [==============================] - 0s 19ms/step - loss: 8.8422 - mae: 8.8422\n",
            "Epoch 60/100\n",
            "1/1 [==============================] - 0s 20ms/step - loss: 8.7097 - mae: 8.7097\n",
            "Epoch 61/100\n",
            "1/1 [==============================] - 0s 13ms/step - loss: 8.5772 - mae: 8.5772\n",
            "Epoch 62/100\n",
            "1/1 [==============================] - 0s 26ms/step - loss: 8.4447 - mae: 8.4447\n",
            "Epoch 63/100\n",
            "1/1 [==============================] - 0s 19ms/step - loss: 8.3122 - mae: 8.3122\n",
            "Epoch 64/100\n",
            "1/1 [==============================] - 0s 29ms/step - loss: 8.1797 - mae: 8.1797\n",
            "Epoch 65/100\n",
            "1/1 [==============================] - 0s 23ms/step - loss: 8.0472 - mae: 8.0472\n",
            "Epoch 66/100\n",
            "1/1 [==============================] - 0s 17ms/step - loss: 7.9147 - mae: 7.9147\n",
            "Epoch 67/100\n",
            "1/1 [==============================] - 0s 19ms/step - loss: 7.7822 - mae: 7.7822\n",
            "Epoch 68/100\n",
            "1/1 [==============================] - 0s 21ms/step - loss: 7.6497 - mae: 7.6497\n",
            "Epoch 69/100\n",
            "1/1 [==============================] - 0s 27ms/step - loss: 7.5172 - mae: 7.5172\n",
            "Epoch 70/100\n",
            "1/1 [==============================] - 0s 14ms/step - loss: 7.3847 - mae: 7.3847\n",
            "Epoch 71/100\n",
            "1/1 [==============================] - 0s 12ms/step - loss: 7.2522 - mae: 7.2522\n",
            "Epoch 72/100\n",
            "1/1 [==============================] - 0s 27ms/step - loss: 7.1197 - mae: 7.1197\n",
            "Epoch 73/100\n",
            "1/1 [==============================] - 0s 23ms/step - loss: 6.9872 - mae: 6.9872\n",
            "Epoch 74/100\n",
            "1/1 [==============================] - 0s 22ms/step - loss: 6.9788 - mae: 6.9788\n",
            "Epoch 75/100\n",
            "1/1 [==============================] - 0s 14ms/step - loss: 6.9731 - mae: 6.9731\n",
            "Epoch 76/100\n",
            "1/1 [==============================] - 0s 29ms/step - loss: 6.9675 - mae: 6.9675\n",
            "Epoch 77/100\n",
            "1/1 [==============================] - 0s 22ms/step - loss: 6.9619 - mae: 6.9619\n",
            "Epoch 78/100\n",
            "1/1 [==============================] - 0s 40ms/step - loss: 6.9563 - mae: 6.9563\n",
            "Epoch 79/100\n",
            "1/1 [==============================] - 0s 15ms/step - loss: 6.9506 - mae: 6.9506\n",
            "Epoch 80/100\n",
            "1/1 [==============================] - 0s 20ms/step - loss: 6.9450 - mae: 6.9450\n",
            "Epoch 81/100\n",
            "1/1 [==============================] - 0s 24ms/step - loss: 6.9394 - mae: 6.9394\n",
            "Epoch 82/100\n",
            "1/1 [==============================] - 0s 28ms/step - loss: 6.9338 - mae: 6.9338\n",
            "Epoch 83/100\n",
            "1/1 [==============================] - 0s 32ms/step - loss: 6.9281 - mae: 6.9281\n",
            "Epoch 84/100\n",
            "1/1 [==============================] - 0s 23ms/step - loss: 6.9225 - mae: 6.9225\n",
            "Epoch 85/100\n",
            "1/1 [==============================] - 0s 16ms/step - loss: 6.9169 - mae: 6.9169\n",
            "Epoch 86/100\n",
            "1/1 [==============================] - 0s 21ms/step - loss: 6.9113 - mae: 6.9113\n",
            "Epoch 87/100\n",
            "1/1 [==============================] - 0s 13ms/step - loss: 6.9056 - mae: 6.9056\n",
            "Epoch 88/100\n",
            "1/1 [==============================] - 0s 25ms/step - loss: 6.9000 - mae: 6.9000\n",
            "Epoch 89/100\n",
            "1/1 [==============================] - 0s 28ms/step - loss: 6.8944 - mae: 6.8944\n",
            "Epoch 90/100\n",
            "1/1 [==============================] - 0s 28ms/step - loss: 6.8888 - mae: 6.8888\n",
            "Epoch 91/100\n",
            "1/1 [==============================] - 0s 22ms/step - loss: 6.8831 - mae: 6.8831\n",
            "Epoch 92/100\n",
            "1/1 [==============================] - 0s 14ms/step - loss: 6.8775 - mae: 6.8775\n",
            "Epoch 93/100\n",
            "1/1 [==============================] - 0s 14ms/step - loss: 6.8719 - mae: 6.8719\n",
            "Epoch 94/100\n",
            "1/1 [==============================] - 0s 23ms/step - loss: 6.8663 - mae: 6.8663\n",
            "Epoch 95/100\n",
            "1/1 [==============================] - 0s 23ms/step - loss: 6.8606 - mae: 6.8606\n",
            "Epoch 96/100\n",
            "1/1 [==============================] - 0s 12ms/step - loss: 6.8550 - mae: 6.8550\n",
            "Epoch 97/100\n",
            "1/1 [==============================] - 0s 11ms/step - loss: 6.8494 - mae: 6.8494\n",
            "Epoch 98/100\n",
            "1/1 [==============================] - 0s 11ms/step - loss: 6.8438 - mae: 6.8438\n",
            "Epoch 99/100\n",
            "1/1 [==============================] - 0s 16ms/step - loss: 6.8381 - mae: 6.8381\n",
            "Epoch 100/100\n",
            "1/1 [==============================] - 0s 32ms/step - loss: 6.8325 - mae: 6.8325\n"
          ]
        },
        {
          "output_type": "execute_result",
          "data": {
            "text/plain": [
              "<keras.src.callbacks.History at 0x7ada311a4730>"
            ]
          },
          "metadata": {},
          "execution_count": 23
        }
      ]
    },
    {
      "cell_type": "code",
      "source": [
        "X, y"
      ],
      "metadata": {
        "id": "Y2rlY4zjqrN9",
        "colab": {
          "base_uri": "https://localhost:8080/"
        },
        "outputId": "972c3665-3c25-471c-a1ad-cd7c86f2ce1c"
      },
      "execution_count": 24,
      "outputs": [
        {
          "output_type": "execute_result",
          "data": {
            "text/plain": [
              "(<tf.Tensor: shape=(8,), dtype=float64, numpy=array([-7., -4., -1.,  2.,  5.,  8., 11., 14.])>,\n",
              " <tf.Tensor: shape=(8,), dtype=float64, numpy=array([ 3.,  6.,  9., 12., 15., 18., 21., 24.])>)"
            ]
          },
          "metadata": {},
          "execution_count": 24
        }
      ]
    },
    {
      "cell_type": "code",
      "source": [
        "# Try and make a prediction using our model\n",
        "y_pred = model.predict([17.])\n",
        "y_pred"
      ],
      "metadata": {
        "colab": {
          "base_uri": "https://localhost:8080/"
        },
        "id": "kHmdneGErxgD",
        "outputId": "e1499d3d-4f15-41df-d5e0-284161e329ef"
      },
      "execution_count": 25,
      "outputs": [
        {
          "output_type": "stream",
          "name": "stdout",
          "text": [
            "1/1 [==============================] - 0s 158ms/step\n"
          ]
        },
        {
          "output_type": "execute_result",
          "data": {
            "text/plain": [
              "array([[29.798828]], dtype=float32)"
            ]
          },
          "metadata": {},
          "execution_count": 25
        }
      ]
    },
    {
      "cell_type": "code",
      "source": [
        "X = tf.expand_dims(X, axis=-1)\n",
        "X"
      ],
      "metadata": {
        "colab": {
          "base_uri": "https://localhost:8080/"
        },
        "id": "_RtTwEocwiDt",
        "outputId": "b29c558d-1546-4079-ecd8-2133352a19ef"
      },
      "execution_count": 26,
      "outputs": [
        {
          "output_type": "execute_result",
          "data": {
            "text/plain": [
              "<tf.Tensor: shape=(8, 1), dtype=float64, numpy=\n",
              "array([[-7.],\n",
              "       [-4.],\n",
              "       [-1.],\n",
              "       [ 2.],\n",
              "       [ 5.],\n",
              "       [ 8.],\n",
              "       [11.],\n",
              "       [14.]])>"
            ]
          },
          "metadata": {},
          "execution_count": 26
        }
      ]
    },
    {
      "cell_type": "code",
      "source": [
        "# Lets rebuild our model with an additional hidden layer\n",
        "\n",
        "# 1. Create a model using the Sequential API\n",
        "model = tf.keras.Sequential([\n",
        "    tf.keras.layers.Dense(50, activation=None), # adding this hidden layer with 100 hidden units\n",
        "    tf.keras.layers.Dense(1)\n",
        "])\n",
        "\n",
        "# 2. Compile the model\n",
        "model.compile(loss=\"mae\", # mae = mean absolute error\n",
        "              optimizer=tf.keras.optimizers.Adam(lr=0.001), # Change the optimizer and lower the raise rate from default .001\n",
        "              metrics=[\"mae\"])\n",
        "\n",
        "# 3. Fit the model (This time we will train for longer)\n",
        "model.fit(X, y, epochs=100)"
      ],
      "metadata": {
        "colab": {
          "base_uri": "https://localhost:8080/"
        },
        "id": "0pM-FII_r1Yy",
        "outputId": "8ff14e4a-3723-4799-af20-5f520460e559"
      },
      "execution_count": 27,
      "outputs": [
        {
          "output_type": "stream",
          "name": "stderr",
          "text": [
            "WARNING:absl:`lr` is deprecated in Keras optimizer, please use `learning_rate` or use the legacy optimizer, e.g.,tf.keras.optimizers.legacy.Adam.\n"
          ]
        },
        {
          "output_type": "stream",
          "name": "stdout",
          "text": [
            "Epoch 1/100\n",
            "1/1 [==============================] - 1s 626ms/step - loss: 14.1871 - mae: 14.1871\n",
            "Epoch 2/100\n",
            "1/1 [==============================] - 0s 10ms/step - loss: 14.1171 - mae: 14.1171\n",
            "Epoch 3/100\n",
            "1/1 [==============================] - 0s 9ms/step - loss: 14.0470 - mae: 14.0470\n",
            "Epoch 4/100\n",
            "1/1 [==============================] - 0s 8ms/step - loss: 13.9770 - mae: 13.9770\n",
            "Epoch 5/100\n",
            "1/1 [==============================] - 0s 10ms/step - loss: 13.9070 - mae: 13.9070\n",
            "Epoch 6/100\n",
            "1/1 [==============================] - 0s 9ms/step - loss: 13.8370 - mae: 13.8370\n",
            "Epoch 7/100\n",
            "1/1 [==============================] - 0s 10ms/step - loss: 13.7669 - mae: 13.7669\n",
            "Epoch 8/100\n",
            "1/1 [==============================] - 0s 10ms/step - loss: 13.6968 - mae: 13.6968\n",
            "Epoch 9/100\n",
            "1/1 [==============================] - 0s 12ms/step - loss: 13.6267 - mae: 13.6267\n",
            "Epoch 10/100\n",
            "1/1 [==============================] - 0s 11ms/step - loss: 13.5566 - mae: 13.5566\n",
            "Epoch 11/100\n",
            "1/1 [==============================] - 0s 10ms/step - loss: 13.4864 - mae: 13.4864\n",
            "Epoch 12/100\n",
            "1/1 [==============================] - 0s 15ms/step - loss: 13.4162 - mae: 13.4162\n",
            "Epoch 13/100\n",
            "1/1 [==============================] - 0s 12ms/step - loss: 13.3460 - mae: 13.3460\n",
            "Epoch 14/100\n",
            "1/1 [==============================] - 0s 11ms/step - loss: 13.2756 - mae: 13.2756\n",
            "Epoch 15/100\n",
            "1/1 [==============================] - 0s 11ms/step - loss: 13.2052 - mae: 13.2052\n",
            "Epoch 16/100\n",
            "1/1 [==============================] - 0s 12ms/step - loss: 13.1348 - mae: 13.1348\n",
            "Epoch 17/100\n",
            "1/1 [==============================] - 0s 9ms/step - loss: 13.0642 - mae: 13.0642\n",
            "Epoch 18/100\n",
            "1/1 [==============================] - 0s 9ms/step - loss: 12.9936 - mae: 12.9936\n",
            "Epoch 19/100\n",
            "1/1 [==============================] - 0s 13ms/step - loss: 12.9229 - mae: 12.9229\n",
            "Epoch 20/100\n",
            "1/1 [==============================] - 0s 13ms/step - loss: 12.8521 - mae: 12.8521\n",
            "Epoch 21/100\n",
            "1/1 [==============================] - 0s 8ms/step - loss: 12.7812 - mae: 12.7812\n",
            "Epoch 22/100\n",
            "1/1 [==============================] - 0s 8ms/step - loss: 12.7102 - mae: 12.7102\n",
            "Epoch 23/100\n",
            "1/1 [==============================] - 0s 10ms/step - loss: 12.6391 - mae: 12.6391\n",
            "Epoch 24/100\n",
            "1/1 [==============================] - 0s 10ms/step - loss: 12.5678 - mae: 12.5678\n",
            "Epoch 25/100\n",
            "1/1 [==============================] - 0s 9ms/step - loss: 12.4964 - mae: 12.4964\n",
            "Epoch 26/100\n",
            "1/1 [==============================] - 0s 11ms/step - loss: 12.4249 - mae: 12.4249\n",
            "Epoch 27/100\n",
            "1/1 [==============================] - 0s 10ms/step - loss: 12.3533 - mae: 12.3533\n",
            "Epoch 28/100\n",
            "1/1 [==============================] - 0s 10ms/step - loss: 12.2815 - mae: 12.2815\n",
            "Epoch 29/100\n",
            "1/1 [==============================] - 0s 10ms/step - loss: 12.2096 - mae: 12.2096\n",
            "Epoch 30/100\n",
            "1/1 [==============================] - 0s 15ms/step - loss: 12.1375 - mae: 12.1375\n",
            "Epoch 31/100\n",
            "1/1 [==============================] - 0s 9ms/step - loss: 12.0653 - mae: 12.0653\n",
            "Epoch 32/100\n",
            "1/1 [==============================] - 0s 9ms/step - loss: 11.9929 - mae: 11.9929\n",
            "Epoch 33/100\n",
            "1/1 [==============================] - 0s 11ms/step - loss: 11.9203 - mae: 11.9203\n",
            "Epoch 34/100\n",
            "1/1 [==============================] - 0s 14ms/step - loss: 11.8476 - mae: 11.8476\n",
            "Epoch 35/100\n",
            "1/1 [==============================] - 0s 9ms/step - loss: 11.7746 - mae: 11.7746\n",
            "Epoch 36/100\n",
            "1/1 [==============================] - 0s 12ms/step - loss: 11.7015 - mae: 11.7015\n",
            "Epoch 37/100\n",
            "1/1 [==============================] - 0s 10ms/step - loss: 11.6282 - mae: 11.6282\n",
            "Epoch 38/100\n",
            "1/1 [==============================] - 0s 11ms/step - loss: 11.5547 - mae: 11.5547\n",
            "Epoch 39/100\n",
            "1/1 [==============================] - 0s 11ms/step - loss: 11.4809 - mae: 11.4809\n",
            "Epoch 40/100\n",
            "1/1 [==============================] - 0s 11ms/step - loss: 11.4070 - mae: 11.4070\n",
            "Epoch 41/100\n",
            "1/1 [==============================] - 0s 12ms/step - loss: 11.3328 - mae: 11.3328\n",
            "Epoch 42/100\n",
            "1/1 [==============================] - 0s 11ms/step - loss: 11.2585 - mae: 11.2585\n",
            "Epoch 43/100\n",
            "1/1 [==============================] - 0s 11ms/step - loss: 11.1838 - mae: 11.1838\n",
            "Epoch 44/100\n",
            "1/1 [==============================] - 0s 11ms/step - loss: 11.1090 - mae: 11.1090\n",
            "Epoch 45/100\n",
            "1/1 [==============================] - 0s 11ms/step - loss: 11.0339 - mae: 11.0339\n",
            "Epoch 46/100\n",
            "1/1 [==============================] - 0s 11ms/step - loss: 10.9585 - mae: 10.9585\n",
            "Epoch 47/100\n",
            "1/1 [==============================] - 0s 10ms/step - loss: 10.8829 - mae: 10.8829\n",
            "Epoch 48/100\n",
            "1/1 [==============================] - 0s 10ms/step - loss: 10.8070 - mae: 10.8070\n",
            "Epoch 49/100\n",
            "1/1 [==============================] - 0s 10ms/step - loss: 10.7309 - mae: 10.7309\n",
            "Epoch 50/100\n",
            "1/1 [==============================] - 0s 11ms/step - loss: 10.6545 - mae: 10.6545\n",
            "Epoch 51/100\n",
            "1/1 [==============================] - 0s 11ms/step - loss: 10.5778 - mae: 10.5778\n",
            "Epoch 52/100\n",
            "1/1 [==============================] - 0s 13ms/step - loss: 10.5008 - mae: 10.5008\n",
            "Epoch 53/100\n",
            "1/1 [==============================] - 0s 11ms/step - loss: 10.4235 - mae: 10.4235\n",
            "Epoch 54/100\n",
            "1/1 [==============================] - 0s 10ms/step - loss: 10.3459 - mae: 10.3459\n",
            "Epoch 55/100\n",
            "1/1 [==============================] - 0s 10ms/step - loss: 10.2681 - mae: 10.2681\n",
            "Epoch 56/100\n",
            "1/1 [==============================] - 0s 10ms/step - loss: 10.1899 - mae: 10.1899\n",
            "Epoch 57/100\n",
            "1/1 [==============================] - 0s 11ms/step - loss: 10.1114 - mae: 10.1114\n",
            "Epoch 58/100\n",
            "1/1 [==============================] - 0s 10ms/step - loss: 10.0325 - mae: 10.0325\n",
            "Epoch 59/100\n",
            "1/1 [==============================] - 0s 12ms/step - loss: 9.9534 - mae: 9.9534\n",
            "Epoch 60/100\n",
            "1/1 [==============================] - 0s 11ms/step - loss: 9.8739 - mae: 9.8739\n",
            "Epoch 61/100\n",
            "1/1 [==============================] - 0s 8ms/step - loss: 9.7940 - mae: 9.7940\n",
            "Epoch 62/100\n",
            "1/1 [==============================] - 0s 9ms/step - loss: 9.7139 - mae: 9.7139\n",
            "Epoch 63/100\n",
            "1/1 [==============================] - 0s 9ms/step - loss: 9.6334 - mae: 9.6334\n",
            "Epoch 64/100\n",
            "1/1 [==============================] - 0s 9ms/step - loss: 9.5525 - mae: 9.5525\n",
            "Epoch 65/100\n",
            "1/1 [==============================] - 0s 10ms/step - loss: 9.4713 - mae: 9.4713\n",
            "Epoch 66/100\n",
            "1/1 [==============================] - 0s 11ms/step - loss: 9.3897 - mae: 9.3897\n",
            "Epoch 67/100\n",
            "1/1 [==============================] - 0s 10ms/step - loss: 9.3077 - mae: 9.3077\n",
            "Epoch 68/100\n",
            "1/1 [==============================] - 0s 10ms/step - loss: 9.2254 - mae: 9.2254\n",
            "Epoch 69/100\n",
            "1/1 [==============================] - 0s 10ms/step - loss: 9.1427 - mae: 9.1427\n",
            "Epoch 70/100\n",
            "1/1 [==============================] - 0s 11ms/step - loss: 9.0596 - mae: 9.0596\n",
            "Epoch 71/100\n",
            "1/1 [==============================] - 0s 10ms/step - loss: 8.9761 - mae: 8.9761\n",
            "Epoch 72/100\n",
            "1/1 [==============================] - 0s 10ms/step - loss: 8.8922 - mae: 8.8922\n",
            "Epoch 73/100\n",
            "1/1 [==============================] - 0s 10ms/step - loss: 8.8080 - mae: 8.8080\n",
            "Epoch 74/100\n",
            "1/1 [==============================] - 0s 10ms/step - loss: 8.7233 - mae: 8.7233\n",
            "Epoch 75/100\n",
            "1/1 [==============================] - 0s 10ms/step - loss: 8.6382 - mae: 8.6382\n",
            "Epoch 76/100\n",
            "1/1 [==============================] - 0s 10ms/step - loss: 8.5527 - mae: 8.5527\n",
            "Epoch 77/100\n",
            "1/1 [==============================] - 0s 11ms/step - loss: 8.4668 - mae: 8.4668\n",
            "Epoch 78/100\n",
            "1/1 [==============================] - 0s 10ms/step - loss: 8.3805 - mae: 8.3805\n",
            "Epoch 79/100\n",
            "1/1 [==============================] - 0s 10ms/step - loss: 8.2937 - mae: 8.2937\n",
            "Epoch 80/100\n",
            "1/1 [==============================] - 0s 10ms/step - loss: 8.2066 - mae: 8.2066\n",
            "Epoch 81/100\n",
            "1/1 [==============================] - 0s 11ms/step - loss: 8.1189 - mae: 8.1189\n",
            "Epoch 82/100\n",
            "1/1 [==============================] - 0s 10ms/step - loss: 8.0309 - mae: 8.0309\n",
            "Epoch 83/100\n",
            "1/1 [==============================] - 0s 11ms/step - loss: 7.9424 - mae: 7.9424\n",
            "Epoch 84/100\n",
            "1/1 [==============================] - 0s 10ms/step - loss: 7.8534 - mae: 7.8534\n",
            "Epoch 85/100\n",
            "1/1 [==============================] - 0s 11ms/step - loss: 7.7640 - mae: 7.7640\n",
            "Epoch 86/100\n",
            "1/1 [==============================] - 0s 10ms/step - loss: 7.6741 - mae: 7.6741\n",
            "Epoch 87/100\n",
            "1/1 [==============================] - 0s 11ms/step - loss: 7.5837 - mae: 7.5837\n",
            "Epoch 88/100\n",
            "1/1 [==============================] - 0s 11ms/step - loss: 7.4929 - mae: 7.4929\n",
            "Epoch 89/100\n",
            "1/1 [==============================] - 0s 10ms/step - loss: 7.4016 - mae: 7.4016\n",
            "Epoch 90/100\n",
            "1/1 [==============================] - 0s 10ms/step - loss: 7.3098 - mae: 7.3098\n",
            "Epoch 91/100\n",
            "1/1 [==============================] - 0s 12ms/step - loss: 7.2176 - mae: 7.2176\n",
            "Epoch 92/100\n",
            "1/1 [==============================] - 0s 10ms/step - loss: 7.1248 - mae: 7.1248\n",
            "Epoch 93/100\n",
            "1/1 [==============================] - 0s 10ms/step - loss: 7.0315 - mae: 7.0315\n",
            "Epoch 94/100\n",
            "1/1 [==============================] - 0s 12ms/step - loss: 6.9378 - mae: 6.9378\n",
            "Epoch 95/100\n",
            "1/1 [==============================] - 0s 10ms/step - loss: 6.8435 - mae: 6.8435\n",
            "Epoch 96/100\n",
            "1/1 [==============================] - 0s 12ms/step - loss: 6.7487 - mae: 6.7487\n",
            "Epoch 97/100\n",
            "1/1 [==============================] - 0s 10ms/step - loss: 6.6633 - mae: 6.6633\n",
            "Epoch 98/100\n",
            "1/1 [==============================] - 0s 11ms/step - loss: 6.6519 - mae: 6.6519\n",
            "Epoch 99/100\n",
            "1/1 [==============================] - 0s 12ms/step - loss: 6.6408 - mae: 6.6408\n",
            "Epoch 100/100\n",
            "1/1 [==============================] - 0s 10ms/step - loss: 6.6299 - mae: 6.6299\n"
          ]
        },
        {
          "output_type": "execute_result",
          "data": {
            "text/plain": [
              "<keras.src.callbacks.History at 0x7ada308cc5b0>"
            ]
          },
          "metadata": {},
          "execution_count": 27
        }
      ]
    },
    {
      "cell_type": "code",
      "source": [
        "# Try and make a prediction using our model\n",
        "y_pred = model.predict([17])\n",
        "y_pred"
      ],
      "metadata": {
        "colab": {
          "base_uri": "https://localhost:8080/"
        },
        "id": "reAynLYisPRu",
        "outputId": "d51230f9-226f-4c5a-b3a1-0b168e6a8de9"
      },
      "execution_count": 28,
      "outputs": [
        {
          "output_type": "stream",
          "name": "stdout",
          "text": [
            "1/1 [==============================] - 0s 82ms/step\n"
          ]
        },
        {
          "output_type": "execute_result",
          "data": {
            "text/plain": [
              "array([[30.244427]], dtype=float32)"
            ]
          },
          "metadata": {},
          "execution_count": 28
        }
      ]
    },
    {
      "cell_type": "markdown",
      "source": [
        "### Evaluating a model\n",
        "\n",
        "In practive a typical workflow when building neural networks\n",
        "\n",
        "```\n",
        "Build a Model -> fit -> evaluate -> tweak a model -> fit -> evaluate -> tweak a model ...\n",
        "```\n",
        "\n",
        "When evaluating:\n",
        "> \"Visualize, Visualize, Visualize\"\n",
        "\n",
        "* The data - what are we working with? What does it look like\n",
        "* The model - what does our model look like?\n",
        "* The training - How does the model perform during training\n",
        "* The predictions - How do the predictions of a model line up against the ground truth"
      ],
      "metadata": {
        "id": "FXhyPPGCsYGD"
      }
    },
    {
      "cell_type": "code",
      "source": [
        "# Make a bigger dataset\n",
        "X = tf.range(-100,100,4)\n",
        "X"
      ],
      "metadata": {
        "colab": {
          "base_uri": "https://localhost:8080/"
        },
        "id": "t8xgyGoVve3N",
        "outputId": "e16fe078-21b5-42e8-b97c-9d57af9283fe"
      },
      "execution_count": 29,
      "outputs": [
        {
          "output_type": "execute_result",
          "data": {
            "text/plain": [
              "<tf.Tensor: shape=(50,), dtype=int32, numpy=\n",
              "array([-100,  -96,  -92,  -88,  -84,  -80,  -76,  -72,  -68,  -64,  -60,\n",
              "        -56,  -52,  -48,  -44,  -40,  -36,  -32,  -28,  -24,  -20,  -16,\n",
              "        -12,   -8,   -4,    0,    4,    8,   12,   16,   20,   24,   28,\n",
              "         32,   36,   40,   44,   48,   52,   56,   60,   64,   68,   72,\n",
              "         76,   80,   84,   88,   92,   96], dtype=int32)>"
            ]
          },
          "metadata": {},
          "execution_count": 29
        }
      ]
    },
    {
      "cell_type": "code",
      "source": [
        "# Make labels for the dataset\n",
        "y = X + 10\n",
        "y"
      ],
      "metadata": {
        "colab": {
          "base_uri": "https://localhost:8080/"
        },
        "id": "a-dK53X3xIvE",
        "outputId": "7e4f73c0-6dcf-4e35-cf80-bebf98521491"
      },
      "execution_count": 30,
      "outputs": [
        {
          "output_type": "execute_result",
          "data": {
            "text/plain": [
              "<tf.Tensor: shape=(50,), dtype=int32, numpy=\n",
              "array([-90, -86, -82, -78, -74, -70, -66, -62, -58, -54, -50, -46, -42,\n",
              "       -38, -34, -30, -26, -22, -18, -14, -10,  -6,  -2,   2,   6,  10,\n",
              "        14,  18,  22,  26,  30,  34,  38,  42,  46,  50,  54,  58,  62,\n",
              "        66,  70,  74,  78,  82,  86,  90,  94,  98, 102, 106], dtype=int32)>"
            ]
          },
          "metadata": {},
          "execution_count": 30
        }
      ]
    },
    {
      "cell_type": "code",
      "source": [
        "# Visualize the data\n",
        "import matplotlib.pyplot as plt\n",
        "\n",
        "plt.scatter(X,y)"
      ],
      "metadata": {
        "colab": {
          "base_uri": "https://localhost:8080/",
          "height": 447
        },
        "id": "B-hVtZagxXSn",
        "outputId": "c5478454-6c96-4be2-eded-a535c66a63ff"
      },
      "execution_count": 31,
      "outputs": [
        {
          "output_type": "execute_result",
          "data": {
            "text/plain": [
              "<matplotlib.collections.PathCollection at 0x7ada308a9a50>"
            ]
          },
          "metadata": {},
          "execution_count": 31
        },
        {
          "output_type": "display_data",
          "data": {
            "text/plain": [
              "<Figure size 640x480 with 1 Axes>"
            ],
            "image/png": "[encoded data removed]"
          },
          "metadata": {}
        }
      ]
    },
    {
      "cell_type": "markdown",
      "source": [
        "### The 3 sets...\n",
        "\n",
        "* **Training set** - the model learns from this data 70-80% of the total data available\n",
        "* **Validation set** - the model gets tuned on this data 10-15% of the total data available\n",
        "* **Test set** - the model gets evaluated on this data to test what it has learned 10-15% of the total data available"
      ],
      "metadata": {
        "id": "tf7ZXw8ZxhUe"
      }
    },
    {
      "cell_type": "code",
      "source": [
        "# Check the length of how many samples we have\n",
        "\n",
        "len(X)"
      ],
      "metadata": {
        "colab": {
          "base_uri": "https://localhost:8080/"
        },
        "id": "aU5k-ckxyYVj",
        "outputId": "f691bf75-9fa2-49e1-f92c-d9272270978b"
      },
      "execution_count": 32,
      "outputs": [
        {
          "output_type": "execute_result",
          "data": {
            "text/plain": [
              "50"
            ]
          },
          "metadata": {},
          "execution_count": 32
        }
      ]
    },
    {
      "cell_type": "code",
      "source": [
        "# Split the data into Train and Test sets\n",
        "X_train = X[:40] # The first 40 to be training samples (80%)\n",
        "y_train = y[:40]\n",
        "\n",
        "X_test = X[40:] # last 10 are testing samples (20%)\n",
        "y_test = y[40:]\n",
        "\n",
        "len(X_train), len(X_test), len(y_train), len(y_test)"
      ],
      "metadata": {
        "colab": {
          "base_uri": "https://localhost:8080/"
        },
        "id": "O6y-scbVyv0z",
        "outputId": "89ec8155-bf4a-4d6c-e574-3160d73dfb81"
      },
      "execution_count": 33,
      "outputs": [
        {
          "output_type": "execute_result",
          "data": {
            "text/plain": [
              "(40, 10, 40, 10)"
            ]
          },
          "metadata": {},
          "execution_count": 33
        }
      ]
    },
    {
      "cell_type": "markdown",
      "source": [
        "### Visualizing the data sets\n",
        "\n",
        "Now we have the data in training and test sets... lets visualize"
      ],
      "metadata": {
        "id": "4FaLlM5KzZ_j"
      }
    },
    {
      "cell_type": "code",
      "source": [
        "plt.figure(figsize=(10,7))\n",
        "\n",
        "#Plot training in red\n",
        "plt.scatter(X_train, y_train, c=\"b\", label=\"Training Data\")\n",
        "\n",
        "#Plot training in blue\n",
        "plt.scatter(X_test, y_test, c=\"g\", label=\"Test Data\")\n",
        "\n",
        "# Show a legend\n",
        "plt.legend();"
      ],
      "metadata": {
        "colab": {
          "base_uri": "https://localhost:8080/",
          "height": 599
        },
        "id": "LS3OEUz0zvFC",
        "outputId": "331fc192-7c82-4796-b0c7-f0a0f2209986"
      },
      "execution_count": 34,
      "outputs": [
        {
          "output_type": "display_data",
          "data": {
            "text/plain": [
              "<Figure size 1000x700 with 1 Axes>"
            ],
            "image/png": "[encoded data removed]"
          },
          "metadata": {}
        }
      ]
    },
    {
      "cell_type": "code",
      "source": [
        "# Lets build a neural network for our data\n",
        "\n",
        "# 1. Create a model using the Sequential API\n",
        "model = tf.keras.Sequential([\n",
        "    tf.keras.layers.Dense(1)\n",
        "])\n",
        "\n",
        "# 2. Compile the model\n",
        "model.compile(loss=\"mae\", # mae = mean absolute error\n",
        "              optimizer=tf.keras.optimizers.SGD(),\n",
        "              metrics=[\"mae\"])\n",
        "\n",
        "# # 3. Fit the model (This time we will train for longer)\n",
        "# model.fit(tf.expand_dims(X_train, axis=-1), y_train, epochs=100)"
      ],
      "metadata": {
        "id": "PVqnnuI_0NYv"
      },
      "execution_count": 35,
      "outputs": []
    },
    {
      "cell_type": "markdown",
      "source": [
        "### Visualizing the model"
      ],
      "metadata": {
        "id": "LuOdGVwK19zs"
      }
    },
    {
      "cell_type": "code",
      "source": [
        "model.summary()"
      ],
      "metadata": {
        "colab": {
          "base_uri": "https://localhost:8080/"
        },
        "id": "LN0XnESR2MkS",
        "outputId": "6e84bc05-b7e0-4bd7-c928-608f3cfd93e4"
      },
      "execution_count": 43,
      "outputs": [
        {
          "output_type": "stream",
          "name": "stdout",
          "text": [
            "Model: \"sequential_3\"\n",
            "_________________________________________________________________\n",
            " Layer (type)                Output Shape              Param #   \n",
            "=================================================================\n",
            " dense_4 (Dense)             multiple                  0 (unused)\n",
            "                                                                 \n",
            "=================================================================\n",
            "Total params: 0 (0.00 Byte)\n",
            "Trainable params: 0 (0.00 Byte)\n",
            "Non-trainable params: 0 (0.00 Byte)\n",
            "_________________________________________________________________\n"
          ]
        }
      ]
    },
    {
      "cell_type": "code",
      "source": [
        "# lets create a model which build autimatically by defining the input shape argument in the first layer\n",
        "\n",
        "tf.random.set_seed(42)\n",
        "\n",
        "# 1. Create a model\n",
        "model = tf.keras.Sequential([\n",
        "    tf.keras.layers.Dense(1, input_shape=[1]) # input_shape = [1] because we are only passing one number\n",
        "])\n",
        "\n",
        "# 2. Compile the model\n",
        "model.compile(loss=\"mae\",\n",
        "              optimizer=tf.keras.optimizers.SGD(),\n",
        "              metrics=[\"mae\"])"
      ],
      "metadata": {
        "id": "MXzKn0vX2NjT"
      },
      "execution_count": 44,
      "outputs": []
    },
    {
      "cell_type": "code",
      "source": [
        "model.summary()"
      ],
      "metadata": {
        "id": "dZL04KEI6_Fn",
        "colab": {
          "base_uri": "https://localhost:8080/"
        },
        "outputId": "d3494928-c2e7-49d7-f8cb-32d848171596"
      },
      "execution_count": 45,
      "outputs": [
        {
          "output_type": "stream",
          "name": "stdout",
          "text": [
            "Model: \"sequential_5\"\n",
            "_________________________________________________________________\n",
            " Layer (type)                Output Shape              Param #   \n",
            "=================================================================\n",
            " dense_6 (Dense)             (None, 1)                 2         \n",
            "                                                                 \n",
            "=================================================================\n",
            "Total params: 2 (8.00 Byte)\n",
            "Trainable params: 2 (8.00 Byte)\n",
            "Non-trainable params: 0 (0.00 Byte)\n",
            "_________________________________________________________________\n"
          ]
        }
      ]
    },
    {
      "cell_type": "markdown",
      "source": [
        "**Dense** = Fully connected hidden layer"
      ],
      "metadata": {
        "id": "VK2wU3_J7Jws"
      }
    },
    {
      "cell_type": "markdown",
      "source": [
        "* Total params - Total number of parameters in the model.\n",
        "* Trainable params - Parameters (patterns) the model can update as it trains\n",
        "* Non-Trainable params - Frozen patterns that we no longer want to train (typical when you bring in already learned patterns or params from other models during *transfer-learning*\n",
        "\n",
        "\n",
        "**Resource:**  MIT's into to Deep Learning https://www.youtube.com/watch?v=QDX-1M5Nj7s&list=PLtBw6njQRU-rwp5__7C0oIVt26ZgjG9NI&index=2"
      ],
      "metadata": {
        "id": "M_gSPFpI7doc"
      }
    },
    {
      "cell_type": "code",
      "source": [
        "# Modifying the number of units in a Dense layer to analyze the Trainable params\n",
        "\n",
        "tf.random.set_seed(42)\n",
        "\n",
        "# 1. Create a model\n",
        "model = tf.keras.Sequential([\n",
        "    tf.keras.layers.Dense(10, input_shape=[1]) # input_shape = [1] because we are only passing one number\n",
        "])\n",
        "\n",
        "# 2. Compile the model\n",
        "model.compile(loss=\"mae\",\n",
        "              optimizer=tf.keras.optimizers.SGD(),\n",
        "              metrics=[\"mae\"])\n",
        "\n",
        "model.summary()"
      ],
      "metadata": {
        "id": "xYg_DqQ57iMm",
        "colab": {
          "base_uri": "https://localhost:8080/"
        },
        "outputId": "e76ece33-93b1-4d83-af94-0e881ca1ed20"
      },
      "execution_count": 46,
      "outputs": [
        {
          "output_type": "stream",
          "name": "stdout",
          "text": [
            "Model: \"sequential_6\"\n",
            "_________________________________________________________________\n",
            " Layer (type)                Output Shape              Param #   \n",
            "=================================================================\n",
            " dense_7 (Dense)             (None, 10)                20        \n",
            "                                                                 \n",
            "=================================================================\n",
            "Total params: 20 (80.00 Byte)\n",
            "Trainable params: 20 (80.00 Byte)\n",
            "Non-trainable params: 0 (0.00 Byte)\n",
            "_________________________________________________________________\n"
          ]
        }
      ]
    },
    {
      "cell_type": "code",
      "source": [
        "# Modifying the number of units in a Dense layer to analyze the Trainable params\n",
        "\n",
        "tf.random.set_seed(42)\n",
        "\n",
        "# 1. Create a model\n",
        "model = tf.keras.Sequential([\n",
        "    tf.keras.layers.Dense(100, input_shape=[1], name=\"layer1\"), # input_shape = [1] because we are only passing one number\n",
        "    tf.keras.layers.Dense(100, input_shape=[1], name=\"layer2\"),\n",
        "    tf.keras.layers.Dense(1, input_shape=[1], name=\"layer3\")\n",
        "], name=\"nameOfModel\")\n",
        "\n",
        "# 2. Compile the model\n",
        "model.compile(loss=\"mae\",\n",
        "              optimizer=tf.keras.optimizers.Adam(lr=\"0.01\"),\n",
        "              metrics=[\"mae\"])\n",
        "\n",
        "model.summary()"
      ],
      "metadata": {
        "id": "nW8Uavlp9LFp",
        "colab": {
          "base_uri": "https://localhost:8080/"
        },
        "outputId": "1030bdf6-bbe4-46b4-9b2a-9a96d1371f42"
      },
      "execution_count": 47,
      "outputs": [
        {
          "output_type": "stream",
          "name": "stderr",
          "text": [
            "WARNING:absl:`lr` is deprecated in Keras optimizer, please use `learning_rate` or use the legacy optimizer, e.g.,tf.keras.optimizers.legacy.Adam.\n"
          ]
        },
        {
          "output_type": "stream",
          "name": "stdout",
          "text": [
            "Model: \"nameOfModel\"\n",
            "_________________________________________________________________\n",
            " Layer (type)                Output Shape              Param #   \n",
            "=================================================================\n",
            " layer1 (Dense)              (None, 100)               200       \n",
            "                                                                 \n",
            " layer2 (Dense)              (None, 100)               10100     \n",
            "                                                                 \n",
            " layer3 (Dense)              (None, 1)                 101       \n",
            "                                                                 \n",
            "=================================================================\n",
            "Total params: 10401 (40.63 KB)\n",
            "Trainable params: 10401 (40.63 KB)\n",
            "Non-trainable params: 0 (0.00 Byte)\n",
            "_________________________________________________________________\n"
          ]
        }
      ]
    },
    {
      "cell_type": "markdown",
      "source": [
        "*It seems like the number of trainable parameters is equal to 2 * the number of units in the Dense layer (2 trainable layers per hidden unit)*"
      ],
      "metadata": {
        "id": "ZxLL-MxR9YoJ"
      }
    },
    {
      "cell_type": "code",
      "source": [
        "# Lets fit our model to the training data\n",
        "\n",
        "# 3. Fit the model (This time we will train for longer)\n",
        "model.fit(tf.expand_dims(X_train, axis=-1), y_train, epochs=200, verbose=0)"
      ],
      "metadata": {
        "colab": {
          "base_uri": "https://localhost:8080/"
        },
        "id": "M6bV8cWL9lpL",
        "outputId": "7eea2d24-396f-4110-af9b-08b9c3c61882"
      },
      "execution_count": 48,
      "outputs": [
        {
          "output_type": "execute_result",
          "data": {
            "text/plain": [
              "<keras.src.callbacks.History at 0x7ada23d4e9e0>"
            ]
          },
          "metadata": {},
          "execution_count": 48
        }
      ]
    },
    {
      "cell_type": "code",
      "source": [
        "# Get a summary of our model\n",
        "model.summary()"
      ],
      "metadata": {
        "colab": {
          "base_uri": "https://localhost:8080/"
        },
        "id": "oXLNvC8x99Dv",
        "outputId": "74b9a266-c794-43c0-e395-be625e8d0b1f"
      },
      "execution_count": 49,
      "outputs": [
        {
          "output_type": "stream",
          "name": "stdout",
          "text": [
            "Model: \"nameOfModel\"\n",
            "_________________________________________________________________\n",
            " Layer (type)                Output Shape              Param #   \n",
            "=================================================================\n",
            " layer1 (Dense)              (None, 100)               200       \n",
            "                                                                 \n",
            " layer2 (Dense)              (None, 100)               10100     \n",
            "                                                                 \n",
            " layer3 (Dense)              (None, 1)                 101       \n",
            "                                                                 \n",
            "=================================================================\n",
            "Total params: 10401 (40.63 KB)\n",
            "Trainable params: 10401 (40.63 KB)\n",
            "Non-trainable params: 0 (0.00 Byte)\n",
            "_________________________________________________________________\n"
          ]
        }
      ]
    },
    {
      "cell_type": "code",
      "source": [
        "from tensorflow.keras.utils import plot_model\n",
        "\n",
        "plot_model(model, show_shapes=True)"
      ],
      "metadata": {
        "colab": {
          "base_uri": "https://localhost:8080/",
          "height": 422
        },
        "id": "hu444IJ2-SM0",
        "outputId": "efbb3750-d18e-4aed-a9c8-dfae222ad170"
      },
      "execution_count": 50,
      "outputs": [
        {
          "output_type": "execute_result",
          "data": {
            "image/png": "[encoded data removed]",
            "text/plain": [
              "<IPython.core.display.Image object>"
            ]
          },
          "metadata": {},
          "execution_count": 50
        }
      ]
    },
    {
      "cell_type": "markdown",
      "source": [
        "### Visualizing Predictions\n",
        "\n",
        "To visualize predictions it is a good idea to plot them against the ground truth labels.\n",
        "\n",
        "Often you'll see this in the form of `y_test` or `y_true` versus `y_pred`"
      ],
      "metadata": {
        "id": "-sAk3vSx-rID"
      }
    },
    {
      "cell_type": "code",
      "source": [
        "# Make Some predictions\n",
        "y_pred = model.predict(X_test)\n",
        "y_pred"
      ],
      "metadata": {
        "colab": {
          "base_uri": "https://localhost:8080/"
        },
        "id": "J_8D9GqcCmKv",
        "outputId": "b772a612-fc9b-40fc-b31d-cf1c8ba74d2c"
      },
      "execution_count": 51,
      "outputs": [
        {
          "output_type": "stream",
          "name": "stderr",
          "text": [
            "WARNING:tensorflow:5 out of the last 5 calls to <function Model.make_predict_function.<locals>.predict_function at 0x7ada32444310> triggered tf.function retracing. Tracing is expensive and the excessive number of tracings could be due to (1) creating @tf.function repeatedly in a loop, (2) passing tensors with different shapes, (3) passing Python objects instead of tensors. For (1), please define your @tf.function outside of the loop. For (2), @tf.function has reduce_retracing=True option that can avoid unnecessary retracing. For (3), please refer to https://www.tensorflow.org/guide/function#controlling_retracing and https://www.tensorflow.org/api_docs/python/tf/function for  more details.\n"
          ]
        },
        {
          "output_type": "stream",
          "name": "stdout",
          "text": [
            "1/1 [==============================] - 0s 102ms/step\n"
          ]
        },
        {
          "output_type": "execute_result",
          "data": {
            "text/plain": [
              "array([[ 68.45073 ],\n",
              "       [ 72.35514 ],\n",
              "       [ 76.259544],\n",
              "       [ 80.16396 ],\n",
              "       [ 84.068375],\n",
              "       [ 87.972786],\n",
              "       [ 91.8772  ],\n",
              "       [ 95.78159 ],\n",
              "       [ 99.68601 ],\n",
              "       [103.590416]], dtype=float32)"
            ]
          },
          "metadata": {},
          "execution_count": 51
        }
      ]
    },
    {
      "cell_type": "code",
      "source": [
        "y_test"
      ],
      "metadata": {
        "colab": {
          "base_uri": "https://localhost:8080/"
        },
        "id": "2pr5uRfBCsl9",
        "outputId": "9897569f-7e45-4923-d380-54736c3ebd88"
      },
      "execution_count": 52,
      "outputs": [
        {
          "output_type": "execute_result",
          "data": {
            "text/plain": [
              "<tf.Tensor: shape=(10,), dtype=int32, numpy=array([ 70,  74,  78,  82,  86,  90,  94,  98, 102, 106], dtype=int32)>"
            ]
          },
          "metadata": {},
          "execution_count": 52
        }
      ]
    },
    {
      "cell_type": "markdown",
      "source": [
        "**If you feel like you are going to reuse functionality, turn it into a function**"
      ],
      "metadata": {
        "id": "MTB6pBIEDA7B"
      }
    },
    {
      "cell_type": "code",
      "source": [
        "# Lets create a plotting function\n",
        "def plot_predictions(train_data=X_train,\n",
        "                     train_labels=y_train,\n",
        "                     test_data=X_test,\n",
        "                     test_labels=y_test,\n",
        "                     predictions=y_pred):\n",
        "  \"\"\"\n",
        "  Plots training data, test data and compares predictions to ground truth\n",
        "  \"\"\"\n",
        "  plt.figure(figsize=(10,7))\n",
        "\n",
        "  #Plot training data in blue\n",
        "  plt.scatter(train_data, train_labels, c=\"b\", label=\"Training Data\")\n",
        "\n",
        "  #Plot testing data in green\n",
        "  plt.scatter(test_data, test_labels, c=\"g\", label=\"Testing Data\")\n",
        "\n",
        "  #Plot model's predictions in red\n",
        "  plt.scatter(test_data, predictions, c=\"r\", label=\"Predictions\")\n",
        "\n",
        "  # Show the legend\n",
        "  plt.legend()"
      ],
      "metadata": {
        "id": "FH6KVk6_CzTD"
      },
      "execution_count": 53,
      "outputs": []
    },
    {
      "cell_type": "code",
      "source": [
        "plot_predictions(train_data=X_train,\n",
        "                 train_labels=y_train,\n",
        "                 test_data=X_test,\n",
        "                 test_labels=y_test,\n",
        "                 predictions=y_pred)"
      ],
      "metadata": {
        "colab": {
          "base_uri": "https://localhost:8080/",
          "height": 599
        },
        "id": "rJJ7GORYD_1y",
        "outputId": "1074bb88-5952-4c4d-a000-acbe7d097f54"
      },
      "execution_count": 54,
      "outputs": [
        {
          "output_type": "display_data",
          "data": {
            "text/plain": [
              "<Figure size 1000x700 with 1 Axes>"
            ],
            "image/png": "[encoded data removed]"
          },
          "metadata": {}
        }
      ]
    },
    {
      "cell_type": "markdown",
      "source": [
        "### Evaluating our model's predictions with regression evaluation matrics\n",
        "\n",
        "Depending on the problem you're working on, there will be different evaluation metrics to evaluate your model's performance.\n",
        "\n",
        "Since we are working on a regression problem, two of the main metrics:\n",
        "* MAE - mean absolute error (on avg, how wrong is each of my model's predictions)\n",
        "* MSE - mean square error, \"square the average errors\""
      ],
      "metadata": {
        "id": "20env0TJECJV"
      }
    },
    {
      "cell_type": "code",
      "source": [
        "# Evaluate the model on the test\n",
        "model.evaluate(X_test, y_test)"
      ],
      "metadata": {
        "colab": {
          "base_uri": "https://localhost:8080/"
        },
        "id": "24FdLM8SEx2R",
        "outputId": "84f0ef45-93c6-4ceb-fb2c-21247992ed9b"
      },
      "execution_count": 55,
      "outputs": [
        {
          "output_type": "stream",
          "name": "stdout",
          "text": [
            "1/1 [==============================] - 0s 123ms/step - loss: 1.9794 - mae: 1.9794\n"
          ]
        },
        {
          "output_type": "execute_result",
          "data": {
            "text/plain": [
              "[1.9794212579727173, 1.9794212579727173]"
            ]
          },
          "metadata": {},
          "execution_count": 55
        }
      ]
    },
    {
      "cell_type": "code",
      "source": [
        "tf.constant(y_pred)"
      ],
      "metadata": {
        "colab": {
          "base_uri": "https://localhost:8080/"
        },
        "id": "-dv--rLqHFR2",
        "outputId": "f5783d9a-2988-4d44-f85d-ec1989cf7a5b"
      },
      "execution_count": 56,
      "outputs": [
        {
          "output_type": "execute_result",
          "data": {
            "text/plain": [
              "<tf.Tensor: shape=(10, 1), dtype=float32, numpy=\n",
              "array([[ 68.45073 ],\n",
              "       [ 72.35514 ],\n",
              "       [ 76.259544],\n",
              "       [ 80.16396 ],\n",
              "       [ 84.068375],\n",
              "       [ 87.972786],\n",
              "       [ 91.8772  ],\n",
              "       [ 95.78159 ],\n",
              "       [ 99.68601 ],\n",
              "       [103.590416]], dtype=float32)>"
            ]
          },
          "metadata": {},
          "execution_count": 56
        }
      ]
    },
    {
      "cell_type": "code",
      "source": [
        "y_test"
      ],
      "metadata": {
        "colab": {
          "base_uri": "https://localhost:8080/"
        },
        "id": "KZjfepg-HN6h",
        "outputId": "22b88e8b-5000-4100-b436-c97d3e8867ca"
      },
      "execution_count": 57,
      "outputs": [
        {
          "output_type": "execute_result",
          "data": {
            "text/plain": [
              "<tf.Tensor: shape=(10,), dtype=int32, numpy=array([ 70,  74,  78,  82,  86,  90,  94,  98, 102, 106], dtype=int32)>"
            ]
          },
          "metadata": {},
          "execution_count": 57
        }
      ]
    },
    {
      "cell_type": "markdown",
      "source": [
        "**The `y_test` and `y_pred` are not the same shape!!!!**"
      ],
      "metadata": {
        "id": "tX6rJEurIYRV"
      }
    },
    {
      "cell_type": "code",
      "source": [
        "# Calculate the Mean absolute error"
      ],
      "metadata": {
        "id": "6JohI_8sHOnK"
      },
      "execution_count": 58,
      "outputs": []
    },
    {
      "cell_type": "code",
      "source": [
        "mae = tf.keras.losses.MAE(y_true=y_test,y_pred=y_pred)\n",
        "mae"
      ],
      "metadata": {
        "colab": {
          "base_uri": "https://localhost:8080/"
        },
        "id": "m5UyZvfEHTSS",
        "outputId": "34138cbc-028f-4636-c9d5-aee082cd2656"
      },
      "execution_count": 59,
      "outputs": [
        {
          "output_type": "execute_result",
          "data": {
            "text/plain": [
              "<tf.Tensor: shape=(10,), dtype=float32, numpy=\n",
              "array([19.54927 , 16.115887, 13.444273, 11.534414, 10.386325, 10.      ,\n",
              "       10.37544 , 11.512637, 13.411608, 16.072332], dtype=float32)>"
            ]
          },
          "metadata": {},
          "execution_count": 59
        }
      ]
    },
    {
      "cell_type": "code",
      "source": [
        "tf.squeeze(y_pred)"
      ],
      "metadata": {
        "colab": {
          "base_uri": "https://localhost:8080/"
        },
        "id": "ddWbE6CjHky-",
        "outputId": "e8a6b85e-3797-4c33-ebca-ecae645733f1"
      },
      "execution_count": 60,
      "outputs": [
        {
          "output_type": "execute_result",
          "data": {
            "text/plain": [
              "<tf.Tensor: shape=(10,), dtype=float32, numpy=\n",
              "array([ 68.45073 ,  72.35514 ,  76.259544,  80.16396 ,  84.068375,\n",
              "        87.972786,  91.8772  ,  95.78159 ,  99.68601 , 103.590416],\n",
              "      dtype=float32)>"
            ]
          },
          "metadata": {},
          "execution_count": 60
        }
      ]
    },
    {
      "cell_type": "markdown",
      "source": [
        "**We need to squeeze `y_pred` to make it the same shape as `y_test`**"
      ],
      "metadata": {
        "id": "Z0XuORB7Iqjy"
      }
    },
    {
      "cell_type": "code",
      "source": [
        "# Calculate the mean absolute error\n",
        "mae = tf.keras.losses.MAE(y_true=y_test,y_pred=tf.squeeze(y_pred))\n",
        "mae\n"
      ],
      "metadata": {
        "colab": {
          "base_uri": "https://localhost:8080/"
        },
        "id": "mdv6DrlyI07H",
        "outputId": "103c234e-f481-4a06-c4b9-782f70e7e032"
      },
      "execution_count": 61,
      "outputs": [
        {
          "output_type": "execute_result",
          "data": {
            "text/plain": [
              "<tf.Tensor: shape=(), dtype=float32, numpy=1.9794242>"
            ]
          },
          "metadata": {},
          "execution_count": 61
        }
      ]
    },
    {
      "cell_type": "code",
      "source": [
        "# Evaluate the model on the test\n",
        "model.evaluate(X_test, y_test)"
      ],
      "metadata": {
        "colab": {
          "base_uri": "https://localhost:8080/"
        },
        "id": "9mtUIb_CI3Yd",
        "outputId": "f97158dc-3255-4082-a5c4-971e9f30ceb8"
      },
      "execution_count": 62,
      "outputs": [
        {
          "output_type": "stream",
          "name": "stdout",
          "text": [
            "1/1 [==============================] - 0s 46ms/step - loss: 1.9794 - mae: 1.9794\n"
          ]
        },
        {
          "output_type": "execute_result",
          "data": {
            "text/plain": [
              "[1.9794212579727173, 1.9794212579727173]"
            ]
          },
          "metadata": {},
          "execution_count": 62
        }
      ]
    },
    {
      "cell_type": "markdown",
      "source": [
        "**The results are now the same**"
      ],
      "metadata": {
        "id": "Kdjyk8yQJAg0"
      }
    },
    {
      "cell_type": "code",
      "source": [
        "# Calculate the mean square error\n",
        "mse = tf.keras.losses.MSE(y_true=y_test,\n",
        "                          y_pred=tf.squeeze(y_pred))\n",
        "mse"
      ],
      "metadata": {
        "colab": {
          "base_uri": "https://localhost:8080/"
        },
        "id": "PGdKSkdSJLcz",
        "outputId": "cf24fd3b-95fe-497c-ed40-85b822e490f6"
      },
      "execution_count": 63,
      "outputs": [
        {
          "output_type": "execute_result",
          "data": {
            "text/plain": [
              "<tf.Tensor: shape=(), dtype=float32, numpy=3.9935043>"
            ]
          },
          "metadata": {},
          "execution_count": 63
        }
      ]
    },
    {
      "cell_type": "code",
      "source": [
        "# Create a reusable function for MAE and MSE\n",
        "def mae(y_true, y_pred):\n",
        "  return tf.keras.losses.MAE(y_true=y_test,\n",
        "                             y_pred=tf.squeeze(y_pred)).numpy()\n",
        "\n",
        "def mse(y_true,y_pred):\n",
        "  return tf.keras.losses.MSE(y_true=y_true,\n",
        "                             y_pred=tf.squeeze(y_pred)).numpy()"
      ],
      "metadata": {
        "id": "oShAY4RiJYfS"
      },
      "execution_count": 64,
      "outputs": []
    },
    {
      "cell_type": "markdown",
      "source": [
        "### Running experiments to improve our model\n",
        "\n",
        "```\n",
        "\"Experiment,Experiment,Experiment\"\n",
        "```\n",
        "\n",
        "1. Get more data - more examples for the model to train on (more opportunities to learn patterns)\n",
        "2. Make our model larger (using a more complex model) - more layers or more hidden units in each layer\n",
        "3. Train for longer -  give your model more of a chance to find patterns in the data\n",
        "\n",
        "Lets do 3 modelling experiments\n",
        "1. `Model 1:` Same as original model, 1 layer, but trained 100 epochs\n",
        "2. `Model 2`: 2 layers, trained for 100 epochs\n",
        "3. `Model 3:` 2 layers, trained for 500 epochs\n",
        "\n",
        "**Build Model 1**\n",
        "\n",
        "1 layer, but trained 100 epochs"
      ],
      "metadata": {
        "id": "jlYVtKisKqvI"
      }
    },
    {
      "cell_type": "code",
      "source": [
        "# Set random seed\n",
        "tf.random.set_seed(42)\n",
        "\n",
        "#1. Create Model\n",
        "model_1 = tf.keras.Sequential([\n",
        "    tf.keras.layers.Dense(1)\n",
        "])\n",
        "\n",
        "#2 Compile your model\n",
        "model_1.compile(loss=tf.keras.losses.mae,\n",
        "              optimizer=tf.keras.optimizers.SGD(),\n",
        "              metrics=[\"mae\"])\n",
        "\n",
        "#3. Fit the model\n",
        "model_1.fit(tf.expand_dims(X_train,-1),y_train,epochs=100,verbose=0)"
      ],
      "metadata": {
        "colab": {
          "base_uri": "https://localhost:8080/"
        },
        "id": "3LdcVC0ULc6q",
        "outputId": "c018675a-5a0f-4ceb-e070-2dc3b92e9a6b"
      },
      "execution_count": 65,
      "outputs": [
        {
          "output_type": "execute_result",
          "data": {
            "text/plain": [
              "<keras.src.callbacks.History at 0x7ada3246a740>"
            ]
          },
          "metadata": {},
          "execution_count": 65
        }
      ]
    },
    {
      "cell_type": "code",
      "source": [
        "plot_model(model_1, show_shapes=True)"
      ],
      "metadata": {
        "colab": {
          "base_uri": "https://localhost:8080/",
          "height": 201
        },
        "id": "hJWWZ4-nbB6v",
        "outputId": "64d11a91-4093-4898-832a-ee4c3d20503d"
      },
      "execution_count": 66,
      "outputs": [
        {
          "output_type": "execute_result",
          "data": {
            "image/png": "[encoded data removed]",
            "text/plain": [
              "<IPython.core.display.Image object>"
            ]
          },
          "metadata": {},
          "execution_count": 66
        }
      ]
    },
    {
      "cell_type": "code",
      "source": [
        "# Make and plot predictions for model_1\n",
        "y_preds_1 = model_1.predict(X_test)\n",
        "plot_predictions(predictions=y_preds_1)"
      ],
      "metadata": {
        "colab": {
          "base_uri": "https://localhost:8080/",
          "height": 654
        },
        "id": "68KtdkpbNOjW",
        "outputId": "d3039722-210c-4669-c9d5-c1b64cf99b2d"
      },
      "execution_count": 67,
      "outputs": [
        {
          "output_type": "stream",
          "name": "stderr",
          "text": [
            "WARNING:tensorflow:6 out of the last 6 calls to <function Model.make_predict_function.<locals>.predict_function at 0x7ada32466560> triggered tf.function retracing. Tracing is expensive and the excessive number of tracings could be due to (1) creating @tf.function repeatedly in a loop, (2) passing tensors with different shapes, (3) passing Python objects instead of tensors. For (1), please define your @tf.function outside of the loop. For (2), @tf.function has reduce_retracing=True option that can avoid unnecessary retracing. For (3), please refer to https://www.tensorflow.org/guide/function#controlling_retracing and https://www.tensorflow.org/api_docs/python/tf/function for  more details.\n"
          ]
        },
        {
          "output_type": "stream",
          "name": "stdout",
          "text": [
            "1/1 [==============================] - 0s 53ms/step\n"
          ]
        },
        {
          "output_type": "display_data",
          "data": {
            "text/plain": [
              "<Figure size 1000x700 with 1 Axes>"
            ],
            "image/png": "[encoded data removed]"
          },
          "metadata": {}
        }
      ]
    },
    {
      "cell_type": "code",
      "source": [
        "# Calculate evaluiation metrics for model_1\n",
        "mae_1 = mae(y_test,y_preds_1)\n",
        "mse_1 = mse(y_test,y_preds_1)\n",
        "\n",
        "mae_1,mse_1"
      ],
      "metadata": {
        "colab": {
          "base_uri": "https://localhost:8080/"
        },
        "id": "4DajO0dTNqLi",
        "outputId": "d2081847-e322-4898-ba61-2cf19d5f7849"
      },
      "execution_count": 68,
      "outputs": [
        {
          "output_type": "execute_result",
          "data": {
            "text/plain": [
              "(30.845394, 962.03064)"
            ]
          },
          "metadata": {},
          "execution_count": 68
        }
      ]
    },
    {
      "cell_type": "markdown",
      "source": [
        "**Build Model 2**\n",
        "\n",
        "2 layer, but trained 100 epochs"
      ],
      "metadata": {
        "id": "gPgyFU8rORIh"
      }
    },
    {
      "cell_type": "code",
      "source": [
        "# Set random seed\n",
        "tf.random.set_seed(42)\n",
        "\n",
        "#1. Create Model\n",
        "model_2 = tf.keras.Sequential([\n",
        "    tf.keras.layers.Dense(10),\n",
        "    tf.keras.layers.Dense(1)\n",
        "])\n",
        "\n",
        "#2 Compile your model\n",
        "model_2.compile(loss=tf.keras.losses.mae,\n",
        "              optimizer=tf.keras.optimizers.SGD(),\n",
        "              metrics=[\"mae\"])\n",
        "\n",
        "#3. Fit the model\n",
        "model_2.fit(tf.expand_dims(X_train,-1),y_train,epochs=100,verbose=0)"
      ],
      "metadata": {
        "colab": {
          "base_uri": "https://localhost:8080/"
        },
        "id": "I8xmBxHtf0M9",
        "outputId": "393995fa-9d39-46a9-a6a0-e0b4c574d111"
      },
      "execution_count": 69,
      "outputs": [
        {
          "output_type": "execute_result",
          "data": {
            "text/plain": [
              "<keras.src.callbacks.History at 0x7ada323ecb80>"
            ]
          },
          "metadata": {},
          "execution_count": 69
        }
      ]
    },
    {
      "cell_type": "code",
      "source": [
        "plot_model(model_2, show_shapes=True)"
      ],
      "metadata": {
        "colab": {
          "base_uri": "https://localhost:8080/",
          "height": 312
        },
        "id": "EX80HWjZbFoN",
        "outputId": "deb249ef-e7b0-44fe-ecc0-7b29a3c4a515"
      },
      "execution_count": 70,
      "outputs": [
        {
          "output_type": "execute_result",
          "data": {
            "image/png": "[encoded data removed]",
            "text/plain": [
              "<IPython.core.display.Image object>"
            ]
          },
          "metadata": {},
          "execution_count": 70
        }
      ]
    },
    {
      "cell_type": "code",
      "source": [
        "# Make and plot predictions for model_2\n",
        "y_preds_2 = model_2.predict(X_test)\n",
        "plot_predictions(predictions=y_preds_2)"
      ],
      "metadata": {
        "colab": {
          "base_uri": "https://localhost:8080/",
          "height": 616
        },
        "id": "hLyAc2TcgpV1",
        "outputId": "6b9794ef-0c4c-486f-bdad-63d8f89e1fee"
      },
      "execution_count": 71,
      "outputs": [
        {
          "output_type": "stream",
          "name": "stdout",
          "text": [
            "1/1 [==============================] - 0s 68ms/step\n"
          ]
        },
        {
          "output_type": "display_data",
          "data": {
            "text/plain": [
              "<Figure size 1000x700 with 1 Axes>"
            ],
            "image/png": "[encoded data removed]"
          },
          "metadata": {}
        }
      ]
    },
    {
      "cell_type": "code",
      "source": [
        "# Calculate evaluiation metrics for model_2\n",
        "mae_2 = mae(y_test,y_preds_2)\n",
        "mse_2 = mse(y_test,y_preds_2)\n",
        "\n",
        "mae_2,mse_2"
      ],
      "metadata": {
        "colab": {
          "base_uri": "https://localhost:8080/"
        },
        "id": "efFM0Thsg0Wv",
        "outputId": "2990169d-19bf-486c-caee-a78575ccbb4c"
      },
      "execution_count": 72,
      "outputs": [
        {
          "output_type": "execute_result",
          "data": {
            "text/plain": [
              "(10.840378, 125.41858)"
            ]
          },
          "metadata": {},
          "execution_count": 72
        }
      ]
    },
    {
      "cell_type": "markdown",
      "source": [
        "**Build Model 3**\n",
        "\n",
        "2 layers, trained for 500 epochs"
      ],
      "metadata": {
        "id": "bU_V424Eg8bf"
      }
    },
    {
      "cell_type": "code",
      "source": [
        "tf.random.set_seed(42)\n",
        "\n",
        "# 1. Create the model\n",
        "model_3 = tf.keras.Sequential([\n",
        "    tf.keras.layers.Dense(10),\n",
        "    tf.keras.layers.Dense(1)\n",
        "])\n",
        "\n",
        "# 2. Compile the model\n",
        "model_3.compile(loss=tf.keras.losses.mae,\n",
        "              optimizer=tf.keras.optimizers.SGD(),\n",
        "              metrics=[\"mae\"])\n",
        "\n",
        "# 3. Fit the model\n",
        "model_3.fit(tf.expand_dims(X_train,axis=-1),y_train,epochs=500, verbose=0)"
      ],
      "metadata": {
        "colab": {
          "base_uri": "https://localhost:8080/"
        },
        "id": "nke-x5OOhHXW",
        "outputId": "c6d14fde-784c-4634-f928-362e3247f514"
      },
      "execution_count": 73,
      "outputs": [
        {
          "output_type": "execute_result",
          "data": {
            "text/plain": [
              "<keras.src.callbacks.History at 0x7ada308cc880>"
            ]
          },
          "metadata": {},
          "execution_count": 73
        }
      ]
    },
    {
      "cell_type": "code",
      "source": [
        "plot_model(model_3, show_shapes=True)"
      ],
      "metadata": {
        "colab": {
          "base_uri": "https://localhost:8080/",
          "height": 312
        },
        "id": "gTDz7ilZbIMj",
        "outputId": "afbe851e-e86d-4a77-8297-7be2964f5e7c"
      },
      "execution_count": 74,
      "outputs": [
        {
          "output_type": "execute_result",
          "data": {
            "image/png": "[encoded data removed]",
            "text/plain": [
              "<IPython.core.display.Image object>"
            ]
          },
          "metadata": {},
          "execution_count": 74
        }
      ]
    },
    {
      "cell_type": "code",
      "source": [
        "# Make predictions on model 3\n",
        "y_preds_3 = model_3.predict(X_test)\n",
        "plot_predictions(predictions=y_preds_3)"
      ],
      "metadata": {
        "colab": {
          "base_uri": "https://localhost:8080/",
          "height": 616
        },
        "id": "kg3JMyV3h4BF",
        "outputId": "40d83ee2-3706-4005-adb9-71aff6ee12fa"
      },
      "execution_count": 75,
      "outputs": [
        {
          "output_type": "stream",
          "name": "stdout",
          "text": [
            "1/1 [==============================] - 0s 59ms/step\n"
          ]
        },
        {
          "output_type": "display_data",
          "data": {
            "text/plain": [
              "<Figure size 1000x700 with 1 Axes>"
            ],
            "image/png": "[encoded data removed]"
          },
          "metadata": {}
        }
      ]
    },
    {
      "cell_type": "code",
      "source": [
        "# Calculate evaluiation metrics for model_3\n",
        "mae_3 = mae(y_test,y_preds_3)\n",
        "mse_3 = mse(y_test,y_preds_3)\n",
        "\n",
        "mae_3,mse_3"
      ],
      "metadata": {
        "colab": {
          "base_uri": "https://localhost:8080/"
        },
        "id": "N3Kt8_cOiRSK",
        "outputId": "41e301de-7acc-42f3-9f56-72e8ab6fd0ba"
      },
      "execution_count": 76,
      "outputs": [
        {
          "output_type": "execute_result",
          "data": {
            "text/plain": [
              "(67.946396, 4701.2046)"
            ]
          },
          "metadata": {},
          "execution_count": 76
        }
      ]
    },
    {
      "cell_type": "markdown",
      "source": [
        "**OVERFIT THE MODEL**"
      ],
      "metadata": {
        "id": "kqtVXHHgjIhp"
      }
    },
    {
      "cell_type": "markdown",
      "source": [
        "## Comparing the results of our expiriments"
      ],
      "metadata": {
        "id": "a_jF9Lohk1AI"
      }
    },
    {
      "cell_type": "code",
      "source": [
        "# Let's compare our model's results using a pandas DataFrame\n",
        "import pandas as pd\n",
        "\n",
        "model_results = [[\"model_1\", mae_1, mse_1],\n",
        "                 [\"model_2\", mae_2, mse_2],\n",
        "                 [\"model_3\", mae_3, mse_3]]\n",
        "\n",
        "all_results = pd.DataFrame(model_results, columns=[\"model\", \"mae\", \"mse\"])\n",
        "all_results"
      ],
      "metadata": {
        "colab": {
          "base_uri": "https://localhost:8080/",
          "height": 143
        },
        "id": "mbSiphe6lJae",
        "outputId": "e3fa31df-cb42-4615-d821-14c066427a32"
      },
      "execution_count": 77,
      "outputs": [
        {
          "output_type": "execute_result",
          "data": {
            "text/plain": [
              "     model        mae          mse\n",
              "0  model_1  30.845394   962.030640\n",
              "1  model_2  10.840378   125.418579\n",
              "2  model_3  67.946396  4701.204590"
            ],
            "text/html": [
              "\n",
              "  <div id=\"df-9c2bf2ed-a8cd-4673-9cc0-b945737bd4ff\" class=\"colab-df-container\">\n",
              "    <div>\n",
              "<style scoped>\n",
              "    .dataframe tbody tr th:only-of-type {\n",
              "        vertical-align: middle;\n",
              "    }\n",
              "\n",
              "    .dataframe tbody tr th {\n",
              "        vertical-align: top;\n",
              "    }\n",
              "\n",
              "    .dataframe thead th {\n",
              "        text-align: right;\n",
              "    }\n",
              "</style>\n",
              "<table border=\"1\" class=\"dataframe\">\n",
              "  <thead>\n",
              "    <tr style=\"text-align: right;\">\n",
              "      <th></th>\n",
              "      <th>model</th>\n",
              "      <th>mae</th>\n",
              "      <th>mse</th>\n",
              "    </tr>\n",
              "  </thead>\n",
              "  <tbody>\n",
              "    <tr>\n",
              "      <th>0</th>\n",
              "      <td>model_1</td>\n",
              "      <td>30.845394</td>\n",
              "      <td>962.030640</td>\n",
              "    </tr>\n",
              "    <tr>\n",
              "      <th>1</th>\n",
              "      <td>model_2</td>\n",
              "      <td>10.840378</td>\n",
              "      <td>125.418579</td>\n",
              "    </tr>\n",
              "    <tr>\n",
              "      <th>2</th>\n",
              "      <td>model_3</td>\n",
              "      <td>67.946396</td>\n",
              "      <td>4701.204590</td>\n",
              "    </tr>\n",
              "  </tbody>\n",
              "</table>\n",
              "</div>\n",
              "    <div class=\"colab-df-buttons\">\n",
              "\n",
              "  <div class=\"colab-df-container\">\n",
              "    <button class=\"colab-df-convert\" onclick=\"convertToInteractive('df-9c2bf2ed-a8cd-4673-9cc0-b945737bd4ff')\"\n",
              "            title=\"Convert this dataframe to an interactive table.\"\n",
              "            style=\"display:none;\">\n",
              "\n",
              "  <svg xmlns=\"http://www.w3.org/2000/svg\" height=\"24px\" viewBox=\"0 -960 960 960\">\n",
              "    <path d=\"M120-120v-720h720v720H120Zm60-500h600v-160H180v160Zm220 220h160v-160H400v160Zm0 220h160v-160H400v160ZM180-400h160v-160H180v160Zm440 0h160v-160H620v160ZM180-180h160v-160H180v160Zm440 0h160v-160H620v160Z\"/>\n",
              "  </svg>\n",
              "    </button>\n",
              "\n",
              "  <style>\n",
              "    .colab-df-container {\n",
              "      display:flex;\n",
              "      gap: 12px;\n",
              "    }\n",
              "\n",
              "    .colab-df-convert {\n",
              "      background-color: #E8F0FE;\n",
              "      border: none;\n",
              "      border-radius: 50%;\n",
              "      cursor: pointer;\n",
              "      display: none;\n",
              "      fill: #1967D2;\n",
              "      height: 32px;\n",
              "      padding: 0 0 0 0;\n",
              "      width: 32px;\n",
              "    }\n",
              "\n",
              "    .colab-df-convert:hover {\n",
              "      background-color: #E2EBFA;\n",
              "      box-shadow: 0px 1px 2px rgba(60, 64, 67, 0.3), 0px 1px 3px 1px rgba(60, 64, 67, 0.15);\n",
              "      fill: #174EA6;\n",
              "    }\n",
              "\n",
              "    .colab-df-buttons div {\n",
              "      margin-bottom: 4px;\n",
              "    }\n",
              "\n",
              "    [theme=dark] .colab-df-convert {\n",
              "      background-color: #3B4455;\n",
              "      fill: #D2E3FC;\n",
              "    }\n",
              "\n",
              "    [theme=dark] .colab-df-convert:hover {\n",
              "      background-color: #434B5C;\n",
              "      box-shadow: 0px 1px 3px 1px rgba(0, 0, 0, 0.15);\n",
              "      filter: drop-shadow(0px 1px 2px rgba(0, 0, 0, 0.3));\n",
              "      fill: #FFFFFF;\n",
              "    }\n",
              "  </style>\n",
              "\n",
              "    <script>\n",
              "      const buttonEl =\n",
              "        document.querySelector('#df-9c2bf2ed-a8cd-4673-9cc0-b945737bd4ff button.colab-df-convert');\n",
              "      buttonEl.style.display =\n",
              "        google.colab.kernel.accessAllowed ? 'block' : 'none';\n",
              "\n",
              "      async function convertToInteractive(key) {\n",
              "        const element = document.querySelector('#df-9c2bf2ed-a8cd-4673-9cc0-b945737bd4ff');\n",
              "        const dataTable =\n",
              "          await google.colab.kernel.invokeFunction('convertToInteractive',\n",
              "                                                    [key], {});\n",
              "        if (!dataTable) return;\n",
              "\n",
              "        const docLinkHtml = 'Like what you see? Visit the ' +\n",
              "          '<a target=\"_blank\" href=https://colab.research.google.com/notebooks/data_table.ipynb>data table notebook</a>'\n",
              "          + ' to learn more about interactive tables.';\n",
              "        element.innerHTML = '';\n",
              "        dataTable['output_type'] = 'display_data';\n",
              "        await google.colab.output.renderOutput(dataTable, element);\n",
              "        const docLink = document.createElement('div');\n",
              "        docLink.innerHTML = docLinkHtml;\n",
              "        element.appendChild(docLink);\n",
              "      }\n",
              "    </script>\n",
              "  </div>\n",
              "\n",
              "\n",
              "<div id=\"df-b5951e87-a0b4-456b-b456-c5a89dc6ba12\">\n",
              "  <button class=\"colab-df-quickchart\" onclick=\"quickchart('df-b5951e87-a0b4-456b-b456-c5a89dc6ba12')\"\n",
              "            title=\"Suggest charts\"\n",
              "            style=\"display:none;\">\n",
              "\n",
              "<svg xmlns=\"http://www.w3.org/2000/svg\" height=\"24px\"viewBox=\"0 0 24 24\"\n",
              "     width=\"24px\">\n",
              "    <g>\n",
              "        <path d=\"M19 3H5c-1.1 0-2 .9-2 2v14c0 1.1.9 2 2 2h14c1.1 0 2-.9 2-2V5c0-1.1-.9-2-2-2zM9 17H7v-7h2v7zm4 0h-2V7h2v10zm4 0h-2v-4h2v4z\"/>\n",
              "    </g>\n",
              "</svg>\n",
              "  </button>\n",
              "\n",
              "<style>\n",
              "  .colab-df-quickchart {\n",
              "      --bg-color: #E8F0FE;\n",
              "      --fill-color: #1967D2;\n",
              "      --hover-bg-color: #E2EBFA;\n",
              "      --hover-fill-color: #174EA6;\n",
              "      --disabled-fill-color: #AAA;\n",
              "      --disabled-bg-color: #DDD;\n",
              "  }\n",
              "\n",
              "  [theme=dark] .colab-df-quickchart {\n",
              "      --bg-color: #3B4455;\n",
              "      --fill-color: #D2E3FC;\n",
              "      --hover-bg-color: #434B5C;\n",
              "      --hover-fill-color: #FFFFFF;\n",
              "      --disabled-bg-color: #3B4455;\n",
              "      --disabled-fill-color: #666;\n",
              "  }\n",
              "\n",
              "  .colab-df-quickchart {\n",
              "    background-color: var(--bg-color);\n",
              "    border: none;\n",
              "    border-radius: 50%;\n",
              "    cursor: pointer;\n",
              "    display: none;\n",
              "    fill: var(--fill-color);\n",
              "    height: 32px;\n",
              "    padding: 0;\n",
              "    width: 32px;\n",
              "  }\n",
              "\n",
              "  .colab-df-quickchart:hover {\n",
              "    background-color: var(--hover-bg-color);\n",
              "    box-shadow: 0 1px 2px rgba(60, 64, 67, 0.3), 0 1px 3px 1px rgba(60, 64, 67, 0.15);\n",
              "    fill: var(--button-hover-fill-color);\n",
              "  }\n",
              "\n",
              "  .colab-df-quickchart-complete:disabled,\n",
              "  .colab-df-quickchart-complete:disabled:hover {\n",
              "    background-color: var(--disabled-bg-color);\n",
              "    fill: var(--disabled-fill-color);\n",
              "    box-shadow: none;\n",
              "  }\n",
              "\n",
              "  .colab-df-spinner {\n",
              "    border: 2px solid var(--fill-color);\n",
              "    border-color: transparent;\n",
              "    border-bottom-color: var(--fill-color);\n",
              "    animation:\n",
              "      spin 1s steps(1) infinite;\n",
              "  }\n",
              "\n",
              "  @keyframes spin {\n",
              "    0% {\n",
              "      border-color: transparent;\n",
              "      border-bottom-color: var(--fill-color);\n",
              "      border-left-color: var(--fill-color);\n",
              "    }\n",
              "    20% {\n",
              "      border-color: transparent;\n",
              "      border-left-color: var(--fill-color);\n",
              "      border-top-color: var(--fill-color);\n",
              "    }\n",
              "    30% {\n",
              "      border-color: transparent;\n",
              "      border-left-color: var(--fill-color);\n",
              "      border-top-color: var(--fill-color);\n",
              "      border-right-color: var(--fill-color);\n",
              "    }\n",
              "    40% {\n",
              "      border-color: transparent;\n",
              "      border-right-color: var(--fill-color);\n",
              "      border-top-color: var(--fill-color);\n",
              "    }\n",
              "    60% {\n",
              "      border-color: transparent;\n",
              "      border-right-color: var(--fill-color);\n",
              "    }\n",
              "    80% {\n",
              "      border-color: transparent;\n",
              "      border-right-color: var(--fill-color);\n",
              "      border-bottom-color: var(--fill-color);\n",
              "    }\n",
              "    90% {\n",
              "      border-color: transparent;\n",
              "      border-bottom-color: var(--fill-color);\n",
              "    }\n",
              "  }\n",
              "</style>\n",
              "\n",
              "  <script>\n",
              "    async function quickchart(key) {\n",
              "      const quickchartButtonEl =\n",
              "        document.querySelector('#' + key + ' button');\n",
              "      quickchartButtonEl.disabled = true;  // To prevent multiple clicks.\n",
              "      quickchartButtonEl.classList.add('colab-df-spinner');\n",
              "      try {\n",
              "        const charts = await google.colab.kernel.invokeFunction(\n",
              "            'suggestCharts', [key], {});\n",
              "      } catch (error) {\n",
              "        console.error('Error during call to suggestCharts:', error);\n",
              "      }\n",
              "      quickchartButtonEl.classList.remove('colab-df-spinner');\n",
              "      quickchartButtonEl.classList.add('colab-df-quickchart-complete');\n",
              "    }\n",
              "    (() => {\n",
              "      let quickchartButtonEl =\n",
              "        document.querySelector('#df-b5951e87-a0b4-456b-b456-c5a89dc6ba12 button');\n",
              "      quickchartButtonEl.style.display =\n",
              "        google.colab.kernel.accessAllowed ? 'block' : 'none';\n",
              "    })();\n",
              "  </script>\n",
              "</div>\n",
              "    </div>\n",
              "  </div>\n"
            ]
          },
          "metadata": {},
          "execution_count": 77
        }
      ]
    },
    {
      "cell_type": "markdown",
      "source": [
        "**Looks like Model_2 ran the best**"
      ],
      "metadata": {
        "id": "dc-Zqsv8mjX6"
      }
    },
    {
      "cell_type": "code",
      "source": [
        "model_2.summary()"
      ],
      "metadata": {
        "colab": {
          "base_uri": "https://localhost:8080/"
        },
        "id": "4GNFH1ygl8Nz",
        "outputId": "aed8fc95-9632-42bb-ef42-b2446a7fc596"
      },
      "execution_count": 78,
      "outputs": [
        {
          "output_type": "stream",
          "name": "stdout",
          "text": [
            "Model: \"sequential_8\"\n",
            "_________________________________________________________________\n",
            " Layer (type)                Output Shape              Param #   \n",
            "=================================================================\n",
            " dense_9 (Dense)             (None, 10)                20        \n",
            "                                                                 \n",
            " dense_10 (Dense)            (None, 1)                 11        \n",
            "                                                                 \n",
            "=================================================================\n",
            "Total params: 31 (124.00 Byte)\n",
            "Trainable params: 31 (124.00 Byte)\n",
            "Non-trainable params: 0 (0.00 Byte)\n",
            "_________________________________________________________________\n"
          ]
        }
      ]
    },
    {
      "cell_type": "markdown",
      "source": [
        "## Tracking your expiriments\n",
        "\n",
        "One really good habit is to track the results of your expiriments. And when doing so it can be tedious when running lots of expiriments. Luckily there are tools to help us\n",
        "\n",
        "**Resource:** As you build more models, you'll want to look into using:\n",
        "* TensorBoard - a component of the TensorFlow library to help track the modelling experiments\n",
        "* Weights & Biases - a tool for tracking all kinds of ML experiments\n"
      ],
      "metadata": {
        "id": "YsG9fpPBmYyS"
      }
    },
    {
      "cell_type": "markdown",
      "source": [
        "## Saving our Models\n",
        "\n",
        "Saving our models allows us to use them outside of Google Colab (or original training environment) such as in a web app or a mobile app\n",
        "\n",
        "There are 2 main formats:\n",
        "1. `SavedModel` (Default)\n",
        "2. `HDF5`\n",
        "3. `keras` *NEW*\n"
      ],
      "metadata": {
        "id": "98i9fuZfnvPz"
      }
    },
    {
      "cell_type": "code",
      "source": [
        "# Save a model using the SavedModel format\n",
        "model_2.save(\"best_model_SavedModel_format\")"
      ],
      "metadata": {
        "id": "lMjJhr8Hn9A0"
      },
      "execution_count": 79,
      "outputs": []
    },
    {
      "cell_type": "code",
      "source": [
        "# Save a model as HDF5 format\n",
        "model_2.save(\"best_model_HDF5_format.h5\")"
      ],
      "metadata": {
        "colab": {
          "base_uri": "https://localhost:8080/"
        },
        "id": "ITkEjtiqcFaX",
        "outputId": "6cd6b347-3bf5-4d02-fb05-c90ee9e21f51"
      },
      "execution_count": 80,
      "outputs": [
        {
          "output_type": "stream",
          "name": "stderr",
          "text": [
            "/usr/local/lib/python3.10/dist-packages/keras/src/engine/training.py:3079: UserWarning: You are saving your model as an HDF5 file via `model.save()`. This file format is considered legacy. We recommend using instead the native Keras format, e.g. `model.save('my_model.keras')`.\n",
            "  saving_api.save_model(\n"
          ]
        }
      ]
    },
    {
      "cell_type": "code",
      "source": [
        "# Save a model using keras format\n",
        "model_2.save(\"best_model_keras_format.keras\")"
      ],
      "metadata": {
        "id": "huJwAQonc-Rd"
      },
      "execution_count": 81,
      "outputs": []
    },
    {
      "cell_type": "markdown",
      "source": [
        "##Loading in a saved model"
      ],
      "metadata": {
        "id": "G12xW7eud8ZA"
      }
    },
    {
      "cell_type": "code",
      "source": [
        "#Load in the model from each save format to reevaluate and make sure it saved correctly\n",
        "#Load SavedModel\n",
        "loaded_SavedModel_format = tf.keras.models.load_model(\"/content/best_model_SavedModel_format\")\n",
        "loaded_HDF5_format = tf.keras.models.load_model(\"/content/best_model_HDF5_format.h5\")\n",
        "loaded_keras_format = tf.keras.models.load_model(\"/content/best_model_keras_format.keras\")"
      ],
      "metadata": {
        "id": "dSugQ1sMdZry"
      },
      "execution_count": 82,
      "outputs": []
    },
    {
      "cell_type": "code",
      "source": [
        "loaded_SavedModel_format.summary()"
      ],
      "metadata": {
        "colab": {
          "base_uri": "https://localhost:8080/"
        },
        "id": "DdC5fkJ8ek0g",
        "outputId": "a638a88a-1345-4b43-fc9c-f5299bedc18b"
      },
      "execution_count": 83,
      "outputs": [
        {
          "output_type": "stream",
          "name": "stdout",
          "text": [
            "Model: \"sequential_8\"\n",
            "_________________________________________________________________\n",
            " Layer (type)                Output Shape              Param #   \n",
            "=================================================================\n",
            " dense_9 (Dense)             (None, 10)                20        \n",
            "                                                                 \n",
            " dense_10 (Dense)            (None, 1)                 11        \n",
            "                                                                 \n",
            "=================================================================\n",
            "Total params: 31 (124.00 Byte)\n",
            "Trainable params: 31 (124.00 Byte)\n",
            "Non-trainable params: 0 (0.00 Byte)\n",
            "_________________________________________________________________\n"
          ]
        }
      ]
    },
    {
      "cell_type": "code",
      "source": [
        "loaded_HDF5_format.summary()"
      ],
      "metadata": {
        "colab": {
          "base_uri": "https://localhost:8080/"
        },
        "id": "nsI5bD1PewDP",
        "outputId": "47d899cf-680a-4c1e-b12d-ac614d438dcd"
      },
      "execution_count": 84,
      "outputs": [
        {
          "output_type": "stream",
          "name": "stdout",
          "text": [
            "Model: \"sequential_8\"\n",
            "_________________________________________________________________\n",
            " Layer (type)                Output Shape              Param #   \n",
            "=================================================================\n",
            " dense_9 (Dense)             (None, 10)                20        \n",
            "                                                                 \n",
            " dense_10 (Dense)            (None, 1)                 11        \n",
            "                                                                 \n",
            "=================================================================\n",
            "Total params: 31 (124.00 Byte)\n",
            "Trainable params: 31 (124.00 Byte)\n",
            "Non-trainable params: 0 (0.00 Byte)\n",
            "_________________________________________________________________\n"
          ]
        }
      ]
    },
    {
      "cell_type": "code",
      "source": [
        "loaded_keras_format.summary()"
      ],
      "metadata": {
        "colab": {
          "base_uri": "https://localhost:8080/"
        },
        "id": "sAlsZIqPeyw1",
        "outputId": "7fc06c83-46d3-4333-81df-c0d448d04c76"
      },
      "execution_count": 85,
      "outputs": [
        {
          "output_type": "stream",
          "name": "stdout",
          "text": [
            "Model: \"sequential_8\"\n",
            "_________________________________________________________________\n",
            " Layer (type)                Output Shape              Param #   \n",
            "=================================================================\n",
            " dense_9 (Dense)             (None, 10)                20        \n",
            "                                                                 \n",
            " dense_10 (Dense)            (None, 1)                 11        \n",
            "                                                                 \n",
            "=================================================================\n",
            "Total params: 31 (124.00 Byte)\n",
            "Trainable params: 31 (124.00 Byte)\n",
            "Non-trainable params: 0 (0.00 Byte)\n",
            "_________________________________________________________________\n"
          ]
        }
      ]
    },
    {
      "cell_type": "code",
      "source": [
        "model_2.summary()"
      ],
      "metadata": {
        "colab": {
          "base_uri": "https://localhost:8080/"
        },
        "id": "7m8wTT3de1Ox",
        "outputId": "8d75d494-06b4-4495-e963-b05ea51aa486"
      },
      "execution_count": 86,
      "outputs": [
        {
          "output_type": "stream",
          "name": "stdout",
          "text": [
            "Model: \"sequential_8\"\n",
            "_________________________________________________________________\n",
            " Layer (type)                Output Shape              Param #   \n",
            "=================================================================\n",
            " dense_9 (Dense)             (None, 10)                20        \n",
            "                                                                 \n",
            " dense_10 (Dense)            (None, 1)                 11        \n",
            "                                                                 \n",
            "=================================================================\n",
            "Total params: 31 (124.00 Byte)\n",
            "Trainable params: 31 (124.00 Byte)\n",
            "Non-trainable params: 0 (0.00 Byte)\n",
            "_________________________________________________________________\n"
          ]
        }
      ]
    },
    {
      "cell_type": "code",
      "source": [
        "# Check the patterns to make sure they are identical\n",
        "model_2_preds = model_2.predict(X_test)\n",
        "SavedModel_preds = loaded_SavedModel_format.predict(X_test)\n",
        "model_2_preds == SavedModel_preds"
      ],
      "metadata": {
        "colab": {
          "base_uri": "https://localhost:8080/"
        },
        "id": "ynHL6w79e62I",
        "outputId": "54f210aa-f5ec-4f2a-e0e9-e483edf95f2e"
      },
      "execution_count": 87,
      "outputs": [
        {
          "output_type": "stream",
          "name": "stdout",
          "text": [
            "1/1 [==============================] - 0s 36ms/step\n",
            "1/1 [==============================] - 0s 53ms/step\n"
          ]
        },
        {
          "output_type": "execute_result",
          "data": {
            "text/plain": [
              "array([[ True],\n",
              "       [ True],\n",
              "       [ True],\n",
              "       [ True],\n",
              "       [ True],\n",
              "       [ True],\n",
              "       [ True],\n",
              "       [ True],\n",
              "       [ True],\n",
              "       [ True]])"
            ]
          },
          "metadata": {},
          "execution_count": 87
        }
      ]
    },
    {
      "cell_type": "code",
      "source": [
        "HDF5_preds = loaded_HDF5_format.predict(X_test)\n",
        "model_2_preds == HDF5_preds"
      ],
      "metadata": {
        "colab": {
          "base_uri": "https://localhost:8080/"
        },
        "id": "OKZrL-urfZ_A",
        "outputId": "38da10fe-ba66-4cd0-97ba-f62058b7c164"
      },
      "execution_count": 88,
      "outputs": [
        {
          "output_type": "stream",
          "name": "stdout",
          "text": [
            "1/1 [==============================] - 0s 57ms/step\n"
          ]
        },
        {
          "output_type": "execute_result",
          "data": {
            "text/plain": [
              "array([[ True],\n",
              "       [ True],\n",
              "       [ True],\n",
              "       [ True],\n",
              "       [ True],\n",
              "       [ True],\n",
              "       [ True],\n",
              "       [ True],\n",
              "       [ True],\n",
              "       [ True]])"
            ]
          },
          "metadata": {},
          "execution_count": 88
        }
      ]
    },
    {
      "cell_type": "code",
      "source": [
        "keras_preds = loaded_keras_format.predict(X_test)\n",
        "model_2_preds == keras_preds"
      ],
      "metadata": {
        "colab": {
          "base_uri": "https://localhost:8080/"
        },
        "id": "GTr9tWJpgI4i",
        "outputId": "7f78ab83-2a49-4254-8bab-08d1347b31e5"
      },
      "execution_count": 89,
      "outputs": [
        {
          "output_type": "stream",
          "name": "stdout",
          "text": [
            "1/1 [==============================] - 0s 85ms/step\n"
          ]
        },
        {
          "output_type": "execute_result",
          "data": {
            "text/plain": [
              "array([[ True],\n",
              "       [ True],\n",
              "       [ True],\n",
              "       [ True],\n",
              "       [ True],\n",
              "       [ True],\n",
              "       [ True],\n",
              "       [ True],\n",
              "       [ True],\n",
              "       [ True]])"
            ]
          },
          "metadata": {},
          "execution_count": 89
        }
      ]
    },
    {
      "cell_type": "markdown",
      "source": [
        "## Download a model or any other file from Google Colab\n",
        "\n",
        "1. Go to \"Files\" tab and right click on the file you're after and click download\n",
        "2. Use code (see below)]\n",
        "3. Save it to Google Drive"
      ],
      "metadata": {
        "id": "0_E_HxExgQ4M"
      }
    },
    {
      "cell_type": "code",
      "source": [
        "# Download a file from Google Colab\n",
        "from google.colab import files\n",
        "files.download(\"/content/best_model_HDF5_format.h5\")"
      ],
      "metadata": {
        "colab": {
          "base_uri": "https://localhost:8080/",
          "height": 17
        },
        "id": "P9eTFEMVg0eP",
        "outputId": "6c7ad0cb-ddc3-49af-ca15-657e1a7b8b4b"
      },
      "execution_count": 90,
      "outputs": [
        {
          "output_type": "display_data",
          "data": {
            "text/plain": [
              "<IPython.core.display.Javascript object>"
            ],
            "application/javascript": [
              "\n",
              "    async function download(id, filename, size) {\n",
              "      if (!google.colab.kernel.accessAllowed) {\n",
              "        return;\n",
              "      }\n",
              "      const div = document.createElement('div');\n",
              "      const label = document.createElement('label');\n",
              "      label.textContent = `Downloading \"${filename}\": `;\n",
              "      div.appendChild(label);\n",
              "      const progress = document.createElement('progress');\n",
              "      progress.max = size;\n",
              "      div.appendChild(progress);\n",
              "      document.body.appendChild(div);\n",
              "\n",
              "      const buffers = [];\n",
              "      let downloaded = 0;\n",
              "\n",
              "      const channel = await google.colab.kernel.comms.open(id);\n",
              "      // Send a message to notify the kernel that we're ready.\n",
              "      channel.send({})\n",
              "\n",
              "      for await (const message of channel.messages) {\n",
              "        // Send a message to notify the kernel that we're ready.\n",
              "        channel.send({})\n",
              "        if (message.buffers) {\n",
              "          for (const buffer of message.buffers) {\n",
              "            buffers.push(buffer);\n",
              "            downloaded += buffer.byteLength;\n",
              "            progress.value = downloaded;\n",
              "          }\n",
              "        }\n",
              "      }\n",
              "      const blob = new Blob(buffers, {type: 'application/binary'});\n",
              "      const a = document.createElement('a');\n",
              "      a.href = window.URL.createObjectURL(blob);\n",
              "      a.download = filename;\n",
              "      div.appendChild(a);\n",
              "      a.click();\n",
              "      div.remove();\n",
              "    }\n",
              "  "
            ]
          },
          "metadata": {}
        },
        {
          "output_type": "display_data",
          "data": {
            "text/plain": [
              "<IPython.core.display.Javascript object>"
            ],
            "application/javascript": [
              "download(\"download_3513c04c-f6e9-4cb6-b6a7-26ecb9044f9a\", \"best_model_HDF5_format.h5\", 21952)"
            ]
          },
          "metadata": {}
        }
      ]
    },
    {
      "cell_type": "code",
      "source": [
        "from google.colab import drive\n",
        "drive.mount('/content/drive')"
      ],
      "metadata": {
        "colab": {
          "base_uri": "https://localhost:8080/"
        },
        "id": "woJIpMDqh4Fe",
        "outputId": "3e8a0a93-b71a-4356-cb0a-5184ca0fcfa4"
      },
      "execution_count": 91,
      "outputs": [
        {
          "output_type": "stream",
          "name": "stdout",
          "text": [
            "Mounted at /content/drive\n"
          ]
        }
      ]
    },
    {
      "cell_type": "code",
      "source": [
        "\n",
        "# Copy a file over to Google Drive\n",
        "!cp -r /content/best_model_SavedModel_format /content/drive/MyDrive/TensorFlow_Courses/Daniel_Bourke_Intro_Course"
      ],
      "metadata": {
        "id": "FGcsC2A-hlCH"
      },
      "execution_count": null,
      "outputs": []
    },
    {
      "cell_type": "code",
      "source": [
        "!cp /content/best_model_HDF5_format.h5 /content/drive/MyDrive/TensorFlow_Courses/Daniel_Bourke_Intro_Course"
      ],
      "metadata": {
        "id": "Jn_wlxXSjgFv"
      },
      "execution_count": null,
      "outputs": []
    },
    {
      "cell_type": "code",
      "source": [
        "!cp /content/best_model_keras_format.keras /content/drive/MyDrive/TensorFlow_Courses/Daniel_Bourke_Intro_Course"
      ],
      "metadata": {
        "id": "hfdPAr3ljx7E"
      },
      "execution_count": null,
      "outputs": []
    },
    {
      "cell_type": "code",
      "source": [
        "!ls /content/drive/MyDrive/TensorFlow_Courses/Daniel_Bourke_Intro_Course"
      ],
      "metadata": {
        "id": "x_Zdkz5kj1FI"
      },
      "execution_count": null,
      "outputs": []
    },
    {
      "cell_type": "markdown",
      "source": [
        "## A larger example"
      ],
      "metadata": {
        "id": "kBpR7_c2j61B"
      }
    },
    {
      "cell_type": "code",
      "source": [
        "X_train, y_train"
      ],
      "metadata": {
        "colab": {
          "base_uri": "https://localhost:8080/"
        },
        "id": "bxbmTs7_kjOZ",
        "outputId": "9e5c3e41-3109-48a5-d8c6-4fd38d56ea90"
      },
      "execution_count": 92,
      "outputs": [
        {
          "output_type": "execute_result",
          "data": {
            "text/plain": [
              "(<tf.Tensor: shape=(40,), dtype=int32, numpy=\n",
              " array([-100,  -96,  -92,  -88,  -84,  -80,  -76,  -72,  -68,  -64,  -60,\n",
              "         -56,  -52,  -48,  -44,  -40,  -36,  -32,  -28,  -24,  -20,  -16,\n",
              "         -12,   -8,   -4,    0,    4,    8,   12,   16,   20,   24,   28,\n",
              "          32,   36,   40,   44,   48,   52,   56], dtype=int32)>,\n",
              " <tf.Tensor: shape=(40,), dtype=int32, numpy=\n",
              " array([-90, -86, -82, -78, -74, -70, -66, -62, -58, -54, -50, -46, -42,\n",
              "        -38, -34, -30, -26, -22, -18, -14, -10,  -6,  -2,   2,   6,  10,\n",
              "         14,  18,  22,  26,  30,  34,  38,  42,  46,  50,  54,  58,  62,\n",
              "         66], dtype=int32)>)"
            ]
          },
          "metadata": {},
          "execution_count": 92
        }
      ]
    },
    {
      "cell_type": "code",
      "source": [
        "# Import the required libraries\n",
        "import tensorflow as tf\n",
        "import pandas as pd\n",
        "import matplotlib.pyplot as plt\n"
      ],
      "metadata": {
        "id": "PfS4OdzHkqob"
      },
      "execution_count": 93,
      "outputs": []
    },
    {
      "cell_type": "code",
      "source": [
        "# Read in the insurance dataset\n",
        "insurance = pd.read_csv(\"https://raw.githubusercontent.com/stedy/Machine-Learning-with-R-datasets/master/insurance.csv\")\n",
        "insurance"
      ],
      "metadata": {
        "colab": {
          "base_uri": "https://localhost:8080/",
          "height": 423
        },
        "id": "oia16cjxlXSs",
        "outputId": "3178b106-e7f8-4254-8b9b-062eb104465c"
      },
      "execution_count": 94,
      "outputs": [
        {
          "output_type": "execute_result",
          "data": {
            "text/plain": [
              "      age     sex     bmi  children smoker     region      charges\n",
              "0      19  female  27.900         0    yes  southwest  16884.92400\n",
              "1      18    male  33.770         1     no  southeast   1725.55230\n",
              "2      28    male  33.000         3     no  southeast   4449.46200\n",
              "3      33    male  22.705         0     no  northwest  21984.47061\n",
              "4      32    male  28.880         0     no  northwest   3866.85520\n",
              "...   ...     ...     ...       ...    ...        ...          ...\n",
              "1333   50    male  30.970         3     no  northwest  10600.54830\n",
              "1334   18  female  31.920         0     no  northeast   2205.98080\n",
              "1335   18  female  36.850         0     no  southeast   1629.83350\n",
              "1336   21  female  25.800         0     no  southwest   2007.94500\n",
              "1337   61  female  29.070         0    yes  northwest  29141.36030\n",
              "\n",
              "[1338 rows x 7 columns]"
            ],
            "text/html": [
              "\n",
              "  <div id=\"df-f6a64fbb-8987-478d-b0ee-f02fbee36738\" class=\"colab-df-container\">\n",
              "    <div>\n",
              "<style scoped>\n",
              "    .dataframe tbody tr th:only-of-type {\n",
              "        vertical-align: middle;\n",
              "    }\n",
              "\n",
              "    .dataframe tbody tr th {\n",
              "        vertical-align: top;\n",
              "    }\n",
              "\n",
              "    .dataframe thead th {\n",
              "        text-align: right;\n",
              "    }\n",
              "</style>\n",
              "<table border=\"1\" class=\"dataframe\">\n",
              "  <thead>\n",
              "    <tr style=\"text-align: right;\">\n",
              "      <th></th>\n",
              "      <th>age</th>\n",
              "      <th>sex</th>\n",
              "      <th>bmi</th>\n",
              "      <th>children</th>\n",
              "      <th>smoker</th>\n",
              "      <th>region</th>\n",
              "      <th>charges</th>\n",
              "    </tr>\n",
              "  </thead>\n",
              "  <tbody>\n",
              "    <tr>\n",
              "      <th>0</th>\n",
              "      <td>19</td>\n",
              "      <td>female</td>\n",
              "      <td>27.900</td>\n",
              "      <td>0</td>\n",
              "      <td>yes</td>\n",
              "      <td>southwest</td>\n",
              "      <td>16884.92400</td>\n",
              "    </tr>\n",
              "    <tr>\n",
              "      <th>1</th>\n",
              "      <td>18</td>\n",
              "      <td>male</td>\n",
              "      <td>33.770</td>\n",
              "      <td>1</td>\n",
              "      <td>no</td>\n",
              "      <td>southeast</td>\n",
              "      <td>1725.55230</td>\n",
              "    </tr>\n",
              "    <tr>\n",
              "      <th>2</th>\n",
              "      <td>28</td>\n",
              "      <td>male</td>\n",
              "      <td>33.000</td>\n",
              "      <td>3</td>\n",
              "      <td>no</td>\n",
              "      <td>southeast</td>\n",
              "      <td>4449.46200</td>\n",
              "    </tr>\n",
              "    <tr>\n",
              "      <th>3</th>\n",
              "      <td>33</td>\n",
              "      <td>male</td>\n",
              "      <td>22.705</td>\n",
              "      <td>0</td>\n",
              "      <td>no</td>\n",
              "      <td>northwest</td>\n",
              "      <td>21984.47061</td>\n",
              "    </tr>\n",
              "    <tr>\n",
              "      <th>4</th>\n",
              "      <td>32</td>\n",
              "      <td>male</td>\n",
              "      <td>28.880</td>\n",
              "      <td>0</td>\n",
              "      <td>no</td>\n",
              "      <td>northwest</td>\n",
              "      <td>3866.85520</td>\n",
              "    </tr>\n",
              "    <tr>\n",
              "      <th>...</th>\n",
              "      <td>...</td>\n",
              "      <td>...</td>\n",
              "      <td>...</td>\n",
              "      <td>...</td>\n",
              "      <td>...</td>\n",
              "      <td>...</td>\n",
              "      <td>...</td>\n",
              "    </tr>\n",
              "    <tr>\n",
              "      <th>1333</th>\n",
              "      <td>50</td>\n",
              "      <td>male</td>\n",
              "      <td>30.970</td>\n",
              "      <td>3</td>\n",
              "      <td>no</td>\n",
              "      <td>northwest</td>\n",
              "      <td>10600.54830</td>\n",
              "    </tr>\n",
              "    <tr>\n",
              "      <th>1334</th>\n",
              "      <td>18</td>\n",
              "      <td>female</td>\n",
              "      <td>31.920</td>\n",
              "      <td>0</td>\n",
              "      <td>no</td>\n",
              "      <td>northeast</td>\n",
              "      <td>2205.98080</td>\n",
              "    </tr>\n",
              "    <tr>\n",
              "      <th>1335</th>\n",
              "      <td>18</td>\n",
              "      <td>female</td>\n",
              "      <td>36.850</td>\n",
              "      <td>0</td>\n",
              "      <td>no</td>\n",
              "      <td>southeast</td>\n",
              "      <td>1629.83350</td>\n",
              "    </tr>\n",
              "    <tr>\n",
              "      <th>1336</th>\n",
              "      <td>21</td>\n",
              "      <td>female</td>\n",
              "      <td>25.800</td>\n",
              "      <td>0</td>\n",
              "      <td>no</td>\n",
              "      <td>southwest</td>\n",
              "      <td>2007.94500</td>\n",
              "    </tr>\n",
              "    <tr>\n",
              "      <th>1337</th>\n",
              "      <td>61</td>\n",
              "      <td>female</td>\n",
              "      <td>29.070</td>\n",
              "      <td>0</td>\n",
              "      <td>yes</td>\n",
              "      <td>northwest</td>\n",
              "      <td>29141.36030</td>\n",
              "    </tr>\n",
              "  </tbody>\n",
              "</table>\n",
              "<p>1338 rows × 7 columns</p>\n",
              "</div>\n",
              "    <div class=\"colab-df-buttons\">\n",
              "\n",
              "  <div class=\"colab-df-container\">\n",
              "    <button class=\"colab-df-convert\" onclick=\"convertToInteractive('df-f6a64fbb-8987-478d-b0ee-f02fbee36738')\"\n",
              "            title=\"Convert this dataframe to an interactive table.\"\n",
              "            style=\"display:none;\">\n",
              "\n",
              "  <svg xmlns=\"http://www.w3.org/2000/svg\" height=\"24px\" viewBox=\"0 -960 960 960\">\n",
              "    <path d=\"M120-120v-720h720v720H120Zm60-500h600v-160H180v160Zm220 220h160v-160H400v160Zm0 220h160v-160H400v160ZM180-400h160v-160H180v160Zm440 0h160v-160H620v160ZM180-180h160v-160H180v160Zm440 0h160v-160H620v160Z\"/>\n",
              "  </svg>\n",
              "    </button>\n",
              "\n",
              "  <style>\n",
              "    .colab-df-container {\n",
              "      display:flex;\n",
              "      gap: 12px;\n",
              "    }\n",
              "\n",
              "    .colab-df-convert {\n",
              "      background-color: #E8F0FE;\n",
              "      border: none;\n",
              "      border-radius: 50%;\n",
              "      cursor: pointer;\n",
              "      display: none;\n",
              "      fill: #1967D2;\n",
              "      height: 32px;\n",
              "      padding: 0 0 0 0;\n",
              "      width: 32px;\n",
              "    }\n",
              "\n",
              "    .colab-df-convert:hover {\n",
              "      background-color: #E2EBFA;\n",
              "      box-shadow: 0px 1px 2px rgba(60, 64, 67, 0.3), 0px 1px 3px 1px rgba(60, 64, 67, 0.15);\n",
              "      fill: #174EA6;\n",
              "    }\n",
              "\n",
              "    .colab-df-buttons div {\n",
              "      margin-bottom: 4px;\n",
              "    }\n",
              "\n",
              "    [theme=dark] .colab-df-convert {\n",
              "      background-color: #3B4455;\n",
              "      fill: #D2E3FC;\n",
              "    }\n",
              "\n",
              "    [theme=dark] .colab-df-convert:hover {\n",
              "      background-color: #434B5C;\n",
              "      box-shadow: 0px 1px 3px 1px rgba(0, 0, 0, 0.15);\n",
              "      filter: drop-shadow(0px 1px 2px rgba(0, 0, 0, 0.3));\n",
              "      fill: #FFFFFF;\n",
              "    }\n",
              "  </style>\n",
              "\n",
              "    <script>\n",
              "      const buttonEl =\n",
              "        document.querySelector('#df-f6a64fbb-8987-478d-b0ee-f02fbee36738 button.colab-df-convert');\n",
              "      buttonEl.style.display =\n",
              "        google.colab.kernel.accessAllowed ? 'block' : 'none';\n",
              "\n",
              "      async function convertToInteractive(key) {\n",
              "        const element = document.querySelector('#df-f6a64fbb-8987-478d-b0ee-f02fbee36738');\n",
              "        const dataTable =\n",
              "          await google.colab.kernel.invokeFunction('convertToInteractive',\n",
              "                                                    [key], {});\n",
              "        if (!dataTable) return;\n",
              "\n",
              "        const docLinkHtml = 'Like what you see? Visit the ' +\n",
              "          '<a target=\"_blank\" href=https://colab.research.google.com/notebooks/data_table.ipynb>data table notebook</a>'\n",
              "          + ' to learn more about interactive tables.';\n",
              "        element.innerHTML = '';\n",
              "        dataTable['output_type'] = 'display_data';\n",
              "        await google.colab.output.renderOutput(dataTable, element);\n",
              "        const docLink = document.createElement('div');\n",
              "        docLink.innerHTML = docLinkHtml;\n",
              "        element.appendChild(docLink);\n",
              "      }\n",
              "    </script>\n",
              "  </div>\n",
              "\n",
              "\n",
              "<div id=\"df-e38a37ff-79af-4f68-be5b-14cd39b09891\">\n",
              "  <button class=\"colab-df-quickchart\" onclick=\"quickchart('df-e38a37ff-79af-4f68-be5b-14cd39b09891')\"\n",
              "            title=\"Suggest charts\"\n",
              "            style=\"display:none;\">\n",
              "\n",
              "<svg xmlns=\"http://www.w3.org/2000/svg\" height=\"24px\"viewBox=\"0 0 24 24\"\n",
              "     width=\"24px\">\n",
              "    <g>\n",
              "        <path d=\"M19 3H5c-1.1 0-2 .9-2 2v14c0 1.1.9 2 2 2h14c1.1 0 2-.9 2-2V5c0-1.1-.9-2-2-2zM9 17H7v-7h2v7zm4 0h-2V7h2v10zm4 0h-2v-4h2v4z\"/>\n",
              "    </g>\n",
              "</svg>\n",
              "  </button>\n",
              "\n",
              "<style>\n",
              "  .colab-df-quickchart {\n",
              "      --bg-color: #E8F0FE;\n",
              "      --fill-color: #1967D2;\n",
              "      --hover-bg-color: #E2EBFA;\n",
              "      --hover-fill-color: #174EA6;\n",
              "      --disabled-fill-color: #AAA;\n",
              "      --disabled-bg-color: #DDD;\n",
              "  }\n",
              "\n",
              "  [theme=dark] .colab-df-quickchart {\n",
              "      --bg-color: #3B4455;\n",
              "      --fill-color: #D2E3FC;\n",
              "      --hover-bg-color: #434B5C;\n",
              "      --hover-fill-color: #FFFFFF;\n",
              "      --disabled-bg-color: #3B4455;\n",
              "      --disabled-fill-color: #666;\n",
              "  }\n",
              "\n",
              "  .colab-df-quickchart {\n",
              "    background-color: var(--bg-color);\n",
              "    border: none;\n",
              "    border-radius: 50%;\n",
              "    cursor: pointer;\n",
              "    display: none;\n",
              "    fill: var(--fill-color);\n",
              "    height: 32px;\n",
              "    padding: 0;\n",
              "    width: 32px;\n",
              "  }\n",
              "\n",
              "  .colab-df-quickchart:hover {\n",
              "    background-color: var(--hover-bg-color);\n",
              "    box-shadow: 0 1px 2px rgba(60, 64, 67, 0.3), 0 1px 3px 1px rgba(60, 64, 67, 0.15);\n",
              "    fill: var(--button-hover-fill-color);\n",
              "  }\n",
              "\n",
              "  .colab-df-quickchart-complete:disabled,\n",
              "  .colab-df-quickchart-complete:disabled:hover {\n",
              "    background-color: var(--disabled-bg-color);\n",
              "    fill: var(--disabled-fill-color);\n",
              "    box-shadow: none;\n",
              "  }\n",
              "\n",
              "  .colab-df-spinner {\n",
              "    border: 2px solid var(--fill-color);\n",
              "    border-color: transparent;\n",
              "    border-bottom-color: var(--fill-color);\n",
              "    animation:\n",
              "      spin 1s steps(1) infinite;\n",
              "  }\n",
              "\n",
              "  @keyframes spin {\n",
              "    0% {\n",
              "      border-color: transparent;\n",
              "      border-bottom-color: var(--fill-color);\n",
              "      border-left-color: var(--fill-color);\n",
              "    }\n",
              "    20% {\n",
              "      border-color: transparent;\n",
              "      border-left-color: var(--fill-color);\n",
              "      border-top-color: var(--fill-color);\n",
              "    }\n",
              "    30% {\n",
              "      border-color: transparent;\n",
              "      border-left-color: var(--fill-color);\n",
              "      border-top-color: var(--fill-color);\n",
              "      border-right-color: var(--fill-color);\n",
              "    }\n",
              "    40% {\n",
              "      border-color: transparent;\n",
              "      border-right-color: var(--fill-color);\n",
              "      border-top-color: var(--fill-color);\n",
              "    }\n",
              "    60% {\n",
              "      border-color: transparent;\n",
              "      border-right-color: var(--fill-color);\n",
              "    }\n",
              "    80% {\n",
              "      border-color: transparent;\n",
              "      border-right-color: var(--fill-color);\n",
              "      border-bottom-color: var(--fill-color);\n",
              "    }\n",
              "    90% {\n",
              "      border-color: transparent;\n",
              "      border-bottom-color: var(--fill-color);\n",
              "    }\n",
              "  }\n",
              "</style>\n",
              "\n",
              "  <script>\n",
              "    async function quickchart(key) {\n",
              "      const quickchartButtonEl =\n",
              "        document.querySelector('#' + key + ' button');\n",
              "      quickchartButtonEl.disabled = true;  // To prevent multiple clicks.\n",
              "      quickchartButtonEl.classList.add('colab-df-spinner');\n",
              "      try {\n",
              "        const charts = await google.colab.kernel.invokeFunction(\n",
              "            'suggestCharts', [key], {});\n",
              "      } catch (error) {\n",
              "        console.error('Error during call to suggestCharts:', error);\n",
              "      }\n",
              "      quickchartButtonEl.classList.remove('colab-df-spinner');\n",
              "      quickchartButtonEl.classList.add('colab-df-quickchart-complete');\n",
              "    }\n",
              "    (() => {\n",
              "      let quickchartButtonEl =\n",
              "        document.querySelector('#df-e38a37ff-79af-4f68-be5b-14cd39b09891 button');\n",
              "      quickchartButtonEl.style.display =\n",
              "        google.colab.kernel.accessAllowed ? 'block' : 'none';\n",
              "    })();\n",
              "  </script>\n",
              "</div>\n",
              "    </div>\n",
              "  </div>\n"
            ]
          },
          "metadata": {},
          "execution_count": 94
        }
      ]
    },
    {
      "cell_type": "code",
      "source": [
        "# Convert non-numerical columns into numbers using one-hot encoding\n",
        "# pandas.get_dummies()\n",
        "insurance_one_hot = pd.get_dummies(insurance)\n",
        "insurance_one_hot"
      ],
      "metadata": {
        "colab": {
          "base_uri": "https://localhost:8080/",
          "height": 423
        },
        "id": "cytzV10rlZcl",
        "outputId": "3a1930c6-fcfc-430f-de61-85a149a04121"
      },
      "execution_count": 144,
      "outputs": [
        {
          "output_type": "execute_result",
          "data": {
            "text/plain": [
              "      age     bmi  children      charges  sex_female  sex_male  smoker_no  \\\n",
              "0      19  27.900         0  16884.92400           1         0          0   \n",
              "1      18  33.770         1   1725.55230           0         1          1   \n",
              "2      28  33.000         3   4449.46200           0         1          1   \n",
              "3      33  22.705         0  21984.47061           0         1          1   \n",
              "4      32  28.880         0   3866.85520           0         1          1   \n",
              "...   ...     ...       ...          ...         ...       ...        ...   \n",
              "1333   50  30.970         3  10600.54830           0         1          1   \n",
              "1334   18  31.920         0   2205.98080           1         0          1   \n",
              "1335   18  36.850         0   1629.83350           1         0          1   \n",
              "1336   21  25.800         0   2007.94500           1         0          1   \n",
              "1337   61  29.070         0  29141.36030           1         0          0   \n",
              "\n",
              "      smoker_yes  region_northeast  region_northwest  region_southeast  \\\n",
              "0              1                 0                 0                 0   \n",
              "1              0                 0                 0                 1   \n",
              "2              0                 0                 0                 1   \n",
              "3              0                 0                 1                 0   \n",
              "4              0                 0                 1                 0   \n",
              "...          ...               ...               ...               ...   \n",
              "1333           0                 0                 1                 0   \n",
              "1334           0                 1                 0                 0   \n",
              "1335           0                 0                 0                 1   \n",
              "1336           0                 0                 0                 0   \n",
              "1337           1                 0                 1                 0   \n",
              "\n",
              "      region_southwest  \n",
              "0                    1  \n",
              "1                    0  \n",
              "2                    0  \n",
              "3                    0  \n",
              "4                    0  \n",
              "...                ...  \n",
              "1333                 0  \n",
              "1334                 0  \n",
              "1335                 0  \n",
              "1336                 1  \n",
              "1337                 0  \n",
              "\n",
              "[1338 rows x 12 columns]"
            ],
            "text/html": [
              "\n",
              "  <div id=\"df-ca87d9ea-d187-44a9-984d-510c1036c717\" class=\"colab-df-container\">\n",
              "    <div>\n",
              "<style scoped>\n",
              "    .dataframe tbody tr th:only-of-type {\n",
              "        vertical-align: middle;\n",
              "    }\n",
              "\n",
              "    .dataframe tbody tr th {\n",
              "        vertical-align: top;\n",
              "    }\n",
              "\n",
              "    .dataframe thead th {\n",
              "        text-align: right;\n",
              "    }\n",
              "</style>\n",
              "<table border=\"1\" class=\"dataframe\">\n",
              "  <thead>\n",
              "    <tr style=\"text-align: right;\">\n",
              "      <th></th>\n",
              "      <th>age</th>\n",
              "      <th>bmi</th>\n",
              "      <th>children</th>\n",
              "      <th>charges</th>\n",
              "      <th>sex_female</th>\n",
              "      <th>sex_male</th>\n",
              "      <th>smoker_no</th>\n",
              "      <th>smoker_yes</th>\n",
              "      <th>region_northeast</th>\n",
              "      <th>region_northwest</th>\n",
              "      <th>region_southeast</th>\n",
              "      <th>region_southwest</th>\n",
              "    </tr>\n",
              "  </thead>\n",
              "  <tbody>\n",
              "    <tr>\n",
              "      <th>0</th>\n",
              "      <td>19</td>\n",
              "      <td>27.900</td>\n",
              "      <td>0</td>\n",
              "      <td>16884.92400</td>\n",
              "      <td>1</td>\n",
              "      <td>0</td>\n",
              "      <td>0</td>\n",
              "      <td>1</td>\n",
              "      <td>0</td>\n",
              "      <td>0</td>\n",
              "      <td>0</td>\n",
              "      <td>1</td>\n",
              "    </tr>\n",
              "    <tr>\n",
              "      <th>1</th>\n",
              "      <td>18</td>\n",
              "      <td>33.770</td>\n",
              "      <td>1</td>\n",
              "      <td>1725.55230</td>\n",
              "      <td>0</td>\n",
              "      <td>1</td>\n",
              "      <td>1</td>\n",
              "      <td>0</td>\n",
              "      <td>0</td>\n",
              "      <td>0</td>\n",
              "      <td>1</td>\n",
              "      <td>0</td>\n",
              "    </tr>\n",
              "    <tr>\n",
              "      <th>2</th>\n",
              "      <td>28</td>\n",
              "      <td>33.000</td>\n",
              "      <td>3</td>\n",
              "      <td>4449.46200</td>\n",
              "      <td>0</td>\n",
              "      <td>1</td>\n",
              "      <td>1</td>\n",
              "      <td>0</td>\n",
              "      <td>0</td>\n",
              "      <td>0</td>\n",
              "      <td>1</td>\n",
              "      <td>0</td>\n",
              "    </tr>\n",
              "    <tr>\n",
              "      <th>3</th>\n",
              "      <td>33</td>\n",
              "      <td>22.705</td>\n",
              "      <td>0</td>\n",
              "      <td>21984.47061</td>\n",
              "      <td>0</td>\n",
              "      <td>1</td>\n",
              "      <td>1</td>\n",
              "      <td>0</td>\n",
              "      <td>0</td>\n",
              "      <td>1</td>\n",
              "      <td>0</td>\n",
              "      <td>0</td>\n",
              "    </tr>\n",
              "    <tr>\n",
              "      <th>4</th>\n",
              "      <td>32</td>\n",
              "      <td>28.880</td>\n",
              "      <td>0</td>\n",
              "      <td>3866.85520</td>\n",
              "      <td>0</td>\n",
              "      <td>1</td>\n",
              "      <td>1</td>\n",
              "      <td>0</td>\n",
              "      <td>0</td>\n",
              "      <td>1</td>\n",
              "      <td>0</td>\n",
              "      <td>0</td>\n",
              "    </tr>\n",
              "    <tr>\n",
              "      <th>...</th>\n",
              "      <td>...</td>\n",
              "      <td>...</td>\n",
              "      <td>...</td>\n",
              "      <td>...</td>\n",
              "      <td>...</td>\n",
              "      <td>...</td>\n",
              "      <td>...</td>\n",
              "      <td>...</td>\n",
              "      <td>...</td>\n",
              "      <td>...</td>\n",
              "      <td>...</td>\n",
              "      <td>...</td>\n",
              "    </tr>\n",
              "    <tr>\n",
              "      <th>1333</th>\n",
              "      <td>50</td>\n",
              "      <td>30.970</td>\n",
              "      <td>3</td>\n",
              "      <td>10600.54830</td>\n",
              "      <td>0</td>\n",
              "      <td>1</td>\n",
              "      <td>1</td>\n",
              "      <td>0</td>\n",
              "      <td>0</td>\n",
              "      <td>1</td>\n",
              "      <td>0</td>\n",
              "      <td>0</td>\n",
              "    </tr>\n",
              "    <tr>\n",
              "      <th>1334</th>\n",
              "      <td>18</td>\n",
              "      <td>31.920</td>\n",
              "      <td>0</td>\n",
              "      <td>2205.98080</td>\n",
              "      <td>1</td>\n",
              "      <td>0</td>\n",
              "      <td>1</td>\n",
              "      <td>0</td>\n",
              "      <td>1</td>\n",
              "      <td>0</td>\n",
              "      <td>0</td>\n",
              "      <td>0</td>\n",
              "    </tr>\n",
              "    <tr>\n",
              "      <th>1335</th>\n",
              "      <td>18</td>\n",
              "      <td>36.850</td>\n",
              "      <td>0</td>\n",
              "      <td>1629.83350</td>\n",
              "      <td>1</td>\n",
              "      <td>0</td>\n",
              "      <td>1</td>\n",
              "      <td>0</td>\n",
              "      <td>0</td>\n",
              "      <td>0</td>\n",
              "      <td>1</td>\n",
              "      <td>0</td>\n",
              "    </tr>\n",
              "    <tr>\n",
              "      <th>1336</th>\n",
              "      <td>21</td>\n",
              "      <td>25.800</td>\n",
              "      <td>0</td>\n",
              "      <td>2007.94500</td>\n",
              "      <td>1</td>\n",
              "      <td>0</td>\n",
              "      <td>1</td>\n",
              "      <td>0</td>\n",
              "      <td>0</td>\n",
              "      <td>0</td>\n",
              "      <td>0</td>\n",
              "      <td>1</td>\n",
              "    </tr>\n",
              "    <tr>\n",
              "      <th>1337</th>\n",
              "      <td>61</td>\n",
              "      <td>29.070</td>\n",
              "      <td>0</td>\n",
              "      <td>29141.36030</td>\n",
              "      <td>1</td>\n",
              "      <td>0</td>\n",
              "      <td>0</td>\n",
              "      <td>1</td>\n",
              "      <td>0</td>\n",
              "      <td>1</td>\n",
              "      <td>0</td>\n",
              "      <td>0</td>\n",
              "    </tr>\n",
              "  </tbody>\n",
              "</table>\n",
              "<p>1338 rows × 12 columns</p>\n",
              "</div>\n",
              "    <div class=\"colab-df-buttons\">\n",
              "\n",
              "  <div class=\"colab-df-container\">\n",
              "    <button class=\"colab-df-convert\" onclick=\"convertToInteractive('df-ca87d9ea-d187-44a9-984d-510c1036c717')\"\n",
              "            title=\"Convert this dataframe to an interactive table.\"\n",
              "            style=\"display:none;\">\n",
              "\n",
              "  <svg xmlns=\"http://www.w3.org/2000/svg\" height=\"24px\" viewBox=\"0 -960 960 960\">\n",
              "    <path d=\"M120-120v-720h720v720H120Zm60-500h600v-160H180v160Zm220 220h160v-160H400v160Zm0 220h160v-160H400v160ZM180-400h160v-160H180v160Zm440 0h160v-160H620v160ZM180-180h160v-160H180v160Zm440 0h160v-160H620v160Z\"/>\n",
              "  </svg>\n",
              "    </button>\n",
              "\n",
              "  <style>\n",
              "    .colab-df-container {\n",
              "      display:flex;\n",
              "      gap: 12px;\n",
              "    }\n",
              "\n",
              "    .colab-df-convert {\n",
              "      background-color: #E8F0FE;\n",
              "      border: none;\n",
              "      border-radius: 50%;\n",
              "      cursor: pointer;\n",
              "      display: none;\n",
              "      fill: #1967D2;\n",
              "      height: 32px;\n",
              "      padding: 0 0 0 0;\n",
              "      width: 32px;\n",
              "    }\n",
              "\n",
              "    .colab-df-convert:hover {\n",
              "      background-color: #E2EBFA;\n",
              "      box-shadow: 0px 1px 2px rgba(60, 64, 67, 0.3), 0px 1px 3px 1px rgba(60, 64, 67, 0.15);\n",
              "      fill: #174EA6;\n",
              "    }\n",
              "\n",
              "    .colab-df-buttons div {\n",
              "      margin-bottom: 4px;\n",
              "    }\n",
              "\n",
              "    [theme=dark] .colab-df-convert {\n",
              "      background-color: #3B4455;\n",
              "      fill: #D2E3FC;\n",
              "    }\n",
              "\n",
              "    [theme=dark] .colab-df-convert:hover {\n",
              "      background-color: #434B5C;\n",
              "      box-shadow: 0px 1px 3px 1px rgba(0, 0, 0, 0.15);\n",
              "      filter: drop-shadow(0px 1px 2px rgba(0, 0, 0, 0.3));\n",
              "      fill: #FFFFFF;\n",
              "    }\n",
              "  </style>\n",
              "\n",
              "    <script>\n",
              "      const buttonEl =\n",
              "        document.querySelector('#df-ca87d9ea-d187-44a9-984d-510c1036c717 button.colab-df-convert');\n",
              "      buttonEl.style.display =\n",
              "        google.colab.kernel.accessAllowed ? 'block' : 'none';\n",
              "\n",
              "      async function convertToInteractive(key) {\n",
              "        const element = document.querySelector('#df-ca87d9ea-d187-44a9-984d-510c1036c717');\n",
              "        const dataTable =\n",
              "          await google.colab.kernel.invokeFunction('convertToInteractive',\n",
              "                                                    [key], {});\n",
              "        if (!dataTable) return;\n",
              "\n",
              "        const docLinkHtml = 'Like what you see? Visit the ' +\n",
              "          '<a target=\"_blank\" href=https://colab.research.google.com/notebooks/data_table.ipynb>data table notebook</a>'\n",
              "          + ' to learn more about interactive tables.';\n",
              "        element.innerHTML = '';\n",
              "        dataTable['output_type'] = 'display_data';\n",
              "        await google.colab.output.renderOutput(dataTable, element);\n",
              "        const docLink = document.createElement('div');\n",
              "        docLink.innerHTML = docLinkHtml;\n",
              "        element.appendChild(docLink);\n",
              "      }\n",
              "    </script>\n",
              "  </div>\n",
              "\n",
              "\n",
              "<div id=\"df-41c300c8-7fa3-47a0-80e8-008187a4318f\">\n",
              "  <button class=\"colab-df-quickchart\" onclick=\"quickchart('df-41c300c8-7fa3-47a0-80e8-008187a4318f')\"\n",
              "            title=\"Suggest charts\"\n",
              "            style=\"display:none;\">\n",
              "\n",
              "<svg xmlns=\"http://www.w3.org/2000/svg\" height=\"24px\"viewBox=\"0 0 24 24\"\n",
              "     width=\"24px\">\n",
              "    <g>\n",
              "        <path d=\"M19 3H5c-1.1 0-2 .9-2 2v14c0 1.1.9 2 2 2h14c1.1 0 2-.9 2-2V5c0-1.1-.9-2-2-2zM9 17H7v-7h2v7zm4 0h-2V7h2v10zm4 0h-2v-4h2v4z\"/>\n",
              "    </g>\n",
              "</svg>\n",
              "  </button>\n",
              "\n",
              "<style>\n",
              "  .colab-df-quickchart {\n",
              "      --bg-color: #E8F0FE;\n",
              "      --fill-color: #1967D2;\n",
              "      --hover-bg-color: #E2EBFA;\n",
              "      --hover-fill-color: #174EA6;\n",
              "      --disabled-fill-color: #AAA;\n",
              "      --disabled-bg-color: #DDD;\n",
              "  }\n",
              "\n",
              "  [theme=dark] .colab-df-quickchart {\n",
              "      --bg-color: #3B4455;\n",
              "      --fill-color: #D2E3FC;\n",
              "      --hover-bg-color: #434B5C;\n",
              "      --hover-fill-color: #FFFFFF;\n",
              "      --disabled-bg-color: #3B4455;\n",
              "      --disabled-fill-color: #666;\n",
              "  }\n",
              "\n",
              "  .colab-df-quickchart {\n",
              "    background-color: var(--bg-color);\n",
              "    border: none;\n",
              "    border-radius: 50%;\n",
              "    cursor: pointer;\n",
              "    display: none;\n",
              "    fill: var(--fill-color);\n",
              "    height: 32px;\n",
              "    padding: 0;\n",
              "    width: 32px;\n",
              "  }\n",
              "\n",
              "  .colab-df-quickchart:hover {\n",
              "    background-color: var(--hover-bg-color);\n",
              "    box-shadow: 0 1px 2px rgba(60, 64, 67, 0.3), 0 1px 3px 1px rgba(60, 64, 67, 0.15);\n",
              "    fill: var(--button-hover-fill-color);\n",
              "  }\n",
              "\n",
              "  .colab-df-quickchart-complete:disabled,\n",
              "  .colab-df-quickchart-complete:disabled:hover {\n",
              "    background-color: var(--disabled-bg-color);\n",
              "    fill: var(--disabled-fill-color);\n",
              "    box-shadow: none;\n",
              "  }\n",
              "\n",
              "  .colab-df-spinner {\n",
              "    border: 2px solid var(--fill-color);\n",
              "    border-color: transparent;\n",
              "    border-bottom-color: var(--fill-color);\n",
              "    animation:\n",
              "      spin 1s steps(1) infinite;\n",
              "  }\n",
              "\n",
              "  @keyframes spin {\n",
              "    0% {\n",
              "      border-color: transparent;\n",
              "      border-bottom-color: var(--fill-color);\n",
              "      border-left-color: var(--fill-color);\n",
              "    }\n",
              "    20% {\n",
              "      border-color: transparent;\n",
              "      border-left-color: var(--fill-color);\n",
              "      border-top-color: var(--fill-color);\n",
              "    }\n",
              "    30% {\n",
              "      border-color: transparent;\n",
              "      border-left-color: var(--fill-color);\n",
              "      border-top-color: var(--fill-color);\n",
              "      border-right-color: var(--fill-color);\n",
              "    }\n",
              "    40% {\n",
              "      border-color: transparent;\n",
              "      border-right-color: var(--fill-color);\n",
              "      border-top-color: var(--fill-color);\n",
              "    }\n",
              "    60% {\n",
              "      border-color: transparent;\n",
              "      border-right-color: var(--fill-color);\n",
              "    }\n",
              "    80% {\n",
              "      border-color: transparent;\n",
              "      border-right-color: var(--fill-color);\n",
              "      border-bottom-color: var(--fill-color);\n",
              "    }\n",
              "    90% {\n",
              "      border-color: transparent;\n",
              "      border-bottom-color: var(--fill-color);\n",
              "    }\n",
              "  }\n",
              "</style>\n",
              "\n",
              "  <script>\n",
              "    async function quickchart(key) {\n",
              "      const quickchartButtonEl =\n",
              "        document.querySelector('#' + key + ' button');\n",
              "      quickchartButtonEl.disabled = true;  // To prevent multiple clicks.\n",
              "      quickchartButtonEl.classList.add('colab-df-spinner');\n",
              "      try {\n",
              "        const charts = await google.colab.kernel.invokeFunction(\n",
              "            'suggestCharts', [key], {});\n",
              "      } catch (error) {\n",
              "        console.error('Error during call to suggestCharts:', error);\n",
              "      }\n",
              "      quickchartButtonEl.classList.remove('colab-df-spinner');\n",
              "      quickchartButtonEl.classList.add('colab-df-quickchart-complete');\n",
              "    }\n",
              "    (() => {\n",
              "      let quickchartButtonEl =\n",
              "        document.querySelector('#df-41c300c8-7fa3-47a0-80e8-008187a4318f button');\n",
              "      quickchartButtonEl.style.display =\n",
              "        google.colab.kernel.accessAllowed ? 'block' : 'none';\n",
              "    })();\n",
              "  </script>\n",
              "</div>\n",
              "    </div>\n",
              "  </div>\n"
            ]
          },
          "metadata": {},
          "execution_count": 144
        }
      ]
    },
    {
      "cell_type": "code",
      "source": [
        "# Create X and y values (features and labels)\n",
        "X = insurance_one_hot.drop(\"charges\",axis=1)\n",
        "y = insurance_one_hot[\"charges\"]"
      ],
      "metadata": {
        "id": "58yM8H2qnB8a"
      },
      "execution_count": 145,
      "outputs": []
    },
    {
      "cell_type": "code",
      "source": [
        "# View X\n",
        "X.head()"
      ],
      "metadata": {
        "colab": {
          "base_uri": "https://localhost:8080/",
          "height": 206
        },
        "id": "AXKrMz3NoSC_",
        "outputId": "88eb4dd9-94bb-481d-a4c2-e7c08ab8c83b"
      },
      "execution_count": 146,
      "outputs": [
        {
          "output_type": "execute_result",
          "data": {
            "text/plain": [
              "   age     bmi  children  sex_female  sex_male  smoker_no  smoker_yes  \\\n",
              "0   19  27.900         0           1         0          0           1   \n",
              "1   18  33.770         1           0         1          1           0   \n",
              "2   28  33.000         3           0         1          1           0   \n",
              "3   33  22.705         0           0         1          1           0   \n",
              "4   32  28.880         0           0         1          1           0   \n",
              "\n",
              "   region_northeast  region_northwest  region_southeast  region_southwest  \n",
              "0                 0                 0                 0                 1  \n",
              "1                 0                 0                 1                 0  \n",
              "2                 0                 0                 1                 0  \n",
              "3                 0                 1                 0                 0  \n",
              "4                 0                 1                 0                 0  "
            ],
            "text/html": [
              "\n",
              "  <div id=\"df-cf38a1ca-da39-480c-a761-6098029b175f\" class=\"colab-df-container\">\n",
              "    <div>\n",
              "<style scoped>\n",
              "    .dataframe tbody tr th:only-of-type {\n",
              "        vertical-align: middle;\n",
              "    }\n",
              "\n",
              "    .dataframe tbody tr th {\n",
              "        vertical-align: top;\n",
              "    }\n",
              "\n",
              "    .dataframe thead th {\n",
              "        text-align: right;\n",
              "    }\n",
              "</style>\n",
              "<table border=\"1\" class=\"dataframe\">\n",
              "  <thead>\n",
              "    <tr style=\"text-align: right;\">\n",
              "      <th></th>\n",
              "      <th>age</th>\n",
              "      <th>bmi</th>\n",
              "      <th>children</th>\n",
              "      <th>sex_female</th>\n",
              "      <th>sex_male</th>\n",
              "      <th>smoker_no</th>\n",
              "      <th>smoker_yes</th>\n",
              "      <th>region_northeast</th>\n",
              "      <th>region_northwest</th>\n",
              "      <th>region_southeast</th>\n",
              "      <th>region_southwest</th>\n",
              "    </tr>\n",
              "  </thead>\n",
              "  <tbody>\n",
              "    <tr>\n",
              "      <th>0</th>\n",
              "      <td>19</td>\n",
              "      <td>27.900</td>\n",
              "      <td>0</td>\n",
              "      <td>1</td>\n",
              "      <td>0</td>\n",
              "      <td>0</td>\n",
              "      <td>1</td>\n",
              "      <td>0</td>\n",
              "      <td>0</td>\n",
              "      <td>0</td>\n",
              "      <td>1</td>\n",
              "    </tr>\n",
              "    <tr>\n",
              "      <th>1</th>\n",
              "      <td>18</td>\n",
              "      <td>33.770</td>\n",
              "      <td>1</td>\n",
              "      <td>0</td>\n",
              "      <td>1</td>\n",
              "      <td>1</td>\n",
              "      <td>0</td>\n",
              "      <td>0</td>\n",
              "      <td>0</td>\n",
              "      <td>1</td>\n",
              "      <td>0</td>\n",
              "    </tr>\n",
              "    <tr>\n",
              "      <th>2</th>\n",
              "      <td>28</td>\n",
              "      <td>33.000</td>\n",
              "      <td>3</td>\n",
              "      <td>0</td>\n",
              "      <td>1</td>\n",
              "      <td>1</td>\n",
              "      <td>0</td>\n",
              "      <td>0</td>\n",
              "      <td>0</td>\n",
              "      <td>1</td>\n",
              "      <td>0</td>\n",
              "    </tr>\n",
              "    <tr>\n",
              "      <th>3</th>\n",
              "      <td>33</td>\n",
              "      <td>22.705</td>\n",
              "      <td>0</td>\n",
              "      <td>0</td>\n",
              "      <td>1</td>\n",
              "      <td>1</td>\n",
              "      <td>0</td>\n",
              "      <td>0</td>\n",
              "      <td>1</td>\n",
              "      <td>0</td>\n",
              "      <td>0</td>\n",
              "    </tr>\n",
              "    <tr>\n",
              "      <th>4</th>\n",
              "      <td>32</td>\n",
              "      <td>28.880</td>\n",
              "      <td>0</td>\n",
              "      <td>0</td>\n",
              "      <td>1</td>\n",
              "      <td>1</td>\n",
              "      <td>0</td>\n",
              "      <td>0</td>\n",
              "      <td>1</td>\n",
              "      <td>0</td>\n",
              "      <td>0</td>\n",
              "    </tr>\n",
              "  </tbody>\n",
              "</table>\n",
              "</div>\n",
              "    <div class=\"colab-df-buttons\">\n",
              "\n",
              "  <div class=\"colab-df-container\">\n",
              "    <button class=\"colab-df-convert\" onclick=\"convertToInteractive('df-cf38a1ca-da39-480c-a761-6098029b175f')\"\n",
              "            title=\"Convert this dataframe to an interactive table.\"\n",
              "            style=\"display:none;\">\n",
              "\n",
              "  <svg xmlns=\"http://www.w3.org/2000/svg\" height=\"24px\" viewBox=\"0 -960 960 960\">\n",
              "    <path d=\"M120-120v-720h720v720H120Zm60-500h600v-160H180v160Zm220 220h160v-160H400v160Zm0 220h160v-160H400v160ZM180-400h160v-160H180v160Zm440 0h160v-160H620v160ZM180-180h160v-160H180v160Zm440 0h160v-160H620v160Z\"/>\n",
              "  </svg>\n",
              "    </button>\n",
              "\n",
              "  <style>\n",
              "    .colab-df-container {\n",
              "      display:flex;\n",
              "      gap: 12px;\n",
              "    }\n",
              "\n",
              "    .colab-df-convert {\n",
              "      background-color: #E8F0FE;\n",
              "      border: none;\n",
              "      border-radius: 50%;\n",
              "      cursor: pointer;\n",
              "      display: none;\n",
              "      fill: #1967D2;\n",
              "      height: 32px;\n",
              "      padding: 0 0 0 0;\n",
              "      width: 32px;\n",
              "    }\n",
              "\n",
              "    .colab-df-convert:hover {\n",
              "      background-color: #E2EBFA;\n",
              "      box-shadow: 0px 1px 2px rgba(60, 64, 67, 0.3), 0px 1px 3px 1px rgba(60, 64, 67, 0.15);\n",
              "      fill: #174EA6;\n",
              "    }\n",
              "\n",
              "    .colab-df-buttons div {\n",
              "      margin-bottom: 4px;\n",
              "    }\n",
              "\n",
              "    [theme=dark] .colab-df-convert {\n",
              "      background-color: #3B4455;\n",
              "      fill: #D2E3FC;\n",
              "    }\n",
              "\n",
              "    [theme=dark] .colab-df-convert:hover {\n",
              "      background-color: #434B5C;\n",
              "      box-shadow: 0px 1px 3px 1px rgba(0, 0, 0, 0.15);\n",
              "      filter: drop-shadow(0px 1px 2px rgba(0, 0, 0, 0.3));\n",
              "      fill: #FFFFFF;\n",
              "    }\n",
              "  </style>\n",
              "\n",
              "    <script>\n",
              "      const buttonEl =\n",
              "        document.querySelector('#df-cf38a1ca-da39-480c-a761-6098029b175f button.colab-df-convert');\n",
              "      buttonEl.style.display =\n",
              "        google.colab.kernel.accessAllowed ? 'block' : 'none';\n",
              "\n",
              "      async function convertToInteractive(key) {\n",
              "        const element = document.querySelector('#df-cf38a1ca-da39-480c-a761-6098029b175f');\n",
              "        const dataTable =\n",
              "          await google.colab.kernel.invokeFunction('convertToInteractive',\n",
              "                                                    [key], {});\n",
              "        if (!dataTable) return;\n",
              "\n",
              "        const docLinkHtml = 'Like what you see? Visit the ' +\n",
              "          '<a target=\"_blank\" href=https://colab.research.google.com/notebooks/data_table.ipynb>data table notebook</a>'\n",
              "          + ' to learn more about interactive tables.';\n",
              "        element.innerHTML = '';\n",
              "        dataTable['output_type'] = 'display_data';\n",
              "        await google.colab.output.renderOutput(dataTable, element);\n",
              "        const docLink = document.createElement('div');\n",
              "        docLink.innerHTML = docLinkHtml;\n",
              "        element.appendChild(docLink);\n",
              "      }\n",
              "    </script>\n",
              "  </div>\n",
              "\n",
              "\n",
              "<div id=\"df-7193df9b-7a38-4f40-83f9-ce16b36089c6\">\n",
              "  <button class=\"colab-df-quickchart\" onclick=\"quickchart('df-7193df9b-7a38-4f40-83f9-ce16b36089c6')\"\n",
              "            title=\"Suggest charts\"\n",
              "            style=\"display:none;\">\n",
              "\n",
              "<svg xmlns=\"http://www.w3.org/2000/svg\" height=\"24px\"viewBox=\"0 0 24 24\"\n",
              "     width=\"24px\">\n",
              "    <g>\n",
              "        <path d=\"M19 3H5c-1.1 0-2 .9-2 2v14c0 1.1.9 2 2 2h14c1.1 0 2-.9 2-2V5c0-1.1-.9-2-2-2zM9 17H7v-7h2v7zm4 0h-2V7h2v10zm4 0h-2v-4h2v4z\"/>\n",
              "    </g>\n",
              "</svg>\n",
              "  </button>\n",
              "\n",
              "<style>\n",
              "  .colab-df-quickchart {\n",
              "      --bg-color: #E8F0FE;\n",
              "      --fill-color: #1967D2;\n",
              "      --hover-bg-color: #E2EBFA;\n",
              "      --hover-fill-color: #174EA6;\n",
              "      --disabled-fill-color: #AAA;\n",
              "      --disabled-bg-color: #DDD;\n",
              "  }\n",
              "\n",
              "  [theme=dark] .colab-df-quickchart {\n",
              "      --bg-color: #3B4455;\n",
              "      --fill-color: #D2E3FC;\n",
              "      --hover-bg-color: #434B5C;\n",
              "      --hover-fill-color: #FFFFFF;\n",
              "      --disabled-bg-color: #3B4455;\n",
              "      --disabled-fill-color: #666;\n",
              "  }\n",
              "\n",
              "  .colab-df-quickchart {\n",
              "    background-color: var(--bg-color);\n",
              "    border: none;\n",
              "    border-radius: 50%;\n",
              "    cursor: pointer;\n",
              "    display: none;\n",
              "    fill: var(--fill-color);\n",
              "    height: 32px;\n",
              "    padding: 0;\n",
              "    width: 32px;\n",
              "  }\n",
              "\n",
              "  .colab-df-quickchart:hover {\n",
              "    background-color: var(--hover-bg-color);\n",
              "    box-shadow: 0 1px 2px rgba(60, 64, 67, 0.3), 0 1px 3px 1px rgba(60, 64, 67, 0.15);\n",
              "    fill: var(--button-hover-fill-color);\n",
              "  }\n",
              "\n",
              "  .colab-df-quickchart-complete:disabled,\n",
              "  .colab-df-quickchart-complete:disabled:hover {\n",
              "    background-color: var(--disabled-bg-color);\n",
              "    fill: var(--disabled-fill-color);\n",
              "    box-shadow: none;\n",
              "  }\n",
              "\n",
              "  .colab-df-spinner {\n",
              "    border: 2px solid var(--fill-color);\n",
              "    border-color: transparent;\n",
              "    border-bottom-color: var(--fill-color);\n",
              "    animation:\n",
              "      spin 1s steps(1) infinite;\n",
              "  }\n",
              "\n",
              "  @keyframes spin {\n",
              "    0% {\n",
              "      border-color: transparent;\n",
              "      border-bottom-color: var(--fill-color);\n",
              "      border-left-color: var(--fill-color);\n",
              "    }\n",
              "    20% {\n",
              "      border-color: transparent;\n",
              "      border-left-color: var(--fill-color);\n",
              "      border-top-color: var(--fill-color);\n",
              "    }\n",
              "    30% {\n",
              "      border-color: transparent;\n",
              "      border-left-color: var(--fill-color);\n",
              "      border-top-color: var(--fill-color);\n",
              "      border-right-color: var(--fill-color);\n",
              "    }\n",
              "    40% {\n",
              "      border-color: transparent;\n",
              "      border-right-color: var(--fill-color);\n",
              "      border-top-color: var(--fill-color);\n",
              "    }\n",
              "    60% {\n",
              "      border-color: transparent;\n",
              "      border-right-color: var(--fill-color);\n",
              "    }\n",
              "    80% {\n",
              "      border-color: transparent;\n",
              "      border-right-color: var(--fill-color);\n",
              "      border-bottom-color: var(--fill-color);\n",
              "    }\n",
              "    90% {\n",
              "      border-color: transparent;\n",
              "      border-bottom-color: var(--fill-color);\n",
              "    }\n",
              "  }\n",
              "</style>\n",
              "\n",
              "  <script>\n",
              "    async function quickchart(key) {\n",
              "      const quickchartButtonEl =\n",
              "        document.querySelector('#' + key + ' button');\n",
              "      quickchartButtonEl.disabled = true;  // To prevent multiple clicks.\n",
              "      quickchartButtonEl.classList.add('colab-df-spinner');\n",
              "      try {\n",
              "        const charts = await google.colab.kernel.invokeFunction(\n",
              "            'suggestCharts', [key], {});\n",
              "      } catch (error) {\n",
              "        console.error('Error during call to suggestCharts:', error);\n",
              "      }\n",
              "      quickchartButtonEl.classList.remove('colab-df-spinner');\n",
              "      quickchartButtonEl.classList.add('colab-df-quickchart-complete');\n",
              "    }\n",
              "    (() => {\n",
              "      let quickchartButtonEl =\n",
              "        document.querySelector('#df-7193df9b-7a38-4f40-83f9-ce16b36089c6 button');\n",
              "      quickchartButtonEl.style.display =\n",
              "        google.colab.kernel.accessAllowed ? 'block' : 'none';\n",
              "    })();\n",
              "  </script>\n",
              "</div>\n",
              "    </div>\n",
              "  </div>\n"
            ]
          },
          "metadata": {},
          "execution_count": 146
        }
      ]
    },
    {
      "cell_type": "code",
      "source": [
        "# View y\n",
        "y.head()"
      ],
      "metadata": {
        "colab": {
          "base_uri": "https://localhost:8080/"
        },
        "id": "YNEcy-3xoU2d",
        "outputId": "a3e92e2d-751e-451c-96e9-3d7c74d6721b"
      },
      "execution_count": 147,
      "outputs": [
        {
          "output_type": "execute_result",
          "data": {
            "text/plain": [
              "0    16884.92400\n",
              "1     1725.55230\n",
              "2     4449.46200\n",
              "3    21984.47061\n",
              "4     3866.85520\n",
              "Name: charges, dtype: float64"
            ]
          },
          "metadata": {},
          "execution_count": 147
        }
      ]
    },
    {
      "cell_type": "code",
      "source": [
        "# Create training and test\n",
        "from sklearn.model_selection import train_test_split\n",
        "X_train, X_test, y_train, y_test = train_test_split(X, y, test_size=0.2, random_state=42)\n",
        "len(X),len(X_train), len(X_test)"
      ],
      "metadata": {
        "colab": {
          "base_uri": "https://localhost:8080/"
        },
        "id": "CJ63i4Pwn2JU",
        "outputId": "beead806-c6b6-408f-a073-67c339fc14a3"
      },
      "execution_count": 148,
      "outputs": [
        {
          "output_type": "execute_result",
          "data": {
            "text/plain": [
              "(1338, 1070, 268)"
            ]
          },
          "metadata": {},
          "execution_count": 148
        }
      ]
    },
    {
      "cell_type": "code",
      "source": [
        "# Build a neural network\n",
        "tf.random.set_seed(42)\n",
        "\n",
        "# 1. Create a Model\n",
        "insurance_model = tf.keras.Sequential([\n",
        "    tf.keras.layers.Dense(10),\n",
        "    tf.keras.layers.Dense(1)\n",
        "])\n",
        "\n",
        "# 2. Compile the model\n",
        "insurance_model.compile(loss=tf.keras.losses.mae,\n",
        "                        optimizer=tf.keras.optimizers.SGD(),\n",
        "                        metrics=[\"mae\"])\n",
        "\n",
        "# 3. Fit the model\n",
        "insurance_model.fit(X_train, y_train, epochs=100)"
      ],
      "metadata": {
        "colab": {
          "base_uri": "https://localhost:8080/"
        },
        "id": "oZFSizFXn20D",
        "outputId": "3a539c21-23df-4ce5-9682-e06b12d8eace"
      },
      "execution_count": 149,
      "outputs": [
        {
          "output_type": "stream",
          "name": "stdout",
          "text": [
            "Epoch 1/100\n",
            "34/34 [==============================] - 1s 2ms/step - loss: 8579.0859 - mae: 8579.0859\n",
            "Epoch 2/100\n",
            "34/34 [==============================] - 0s 2ms/step - loss: 7818.1265 - mae: 7818.1265\n",
            "Epoch 3/100\n",
            "34/34 [==============================] - 0s 2ms/step - loss: 7627.4702 - mae: 7627.4702\n",
            "Epoch 4/100\n",
            "34/34 [==============================] - 0s 2ms/step - loss: 7847.5581 - mae: 7847.5581\n",
            "Epoch 5/100\n",
            "34/34 [==============================] - 0s 2ms/step - loss: 7713.6729 - mae: 7713.6729\n",
            "Epoch 6/100\n",
            "34/34 [==============================] - 0s 2ms/step - loss: 7655.2808 - mae: 7655.2808\n",
            "Epoch 7/100\n",
            "34/34 [==============================] - 0s 2ms/step - loss: 7520.5747 - mae: 7520.5747\n",
            "Epoch 8/100\n",
            "34/34 [==============================] - 0s 2ms/step - loss: 7718.3296 - mae: 7718.3296\n",
            "Epoch 9/100\n",
            "34/34 [==============================] - 0s 2ms/step - loss: 7576.4297 - mae: 7576.4297\n",
            "Epoch 10/100\n",
            "34/34 [==============================] - 0s 2ms/step - loss: 7709.4224 - mae: 7709.4224\n",
            "Epoch 11/100\n",
            "34/34 [==============================] - 0s 2ms/step - loss: 7737.1772 - mae: 7737.1772\n",
            "Epoch 12/100\n",
            "34/34 [==============================] - 0s 2ms/step - loss: 7597.8682 - mae: 7597.8682\n",
            "Epoch 13/100\n",
            "34/34 [==============================] - 0s 2ms/step - loss: 7736.8408 - mae: 7736.8408\n",
            "Epoch 14/100\n",
            "34/34 [==============================] - 0s 2ms/step - loss: 7795.6602 - mae: 7795.6602\n",
            "Epoch 15/100\n",
            "34/34 [==============================] - 0s 2ms/step - loss: 7558.8359 - mae: 7558.8359\n",
            "Epoch 16/100\n",
            "34/34 [==============================] - 0s 2ms/step - loss: 7688.4800 - mae: 7688.4800\n",
            "Epoch 17/100\n",
            "34/34 [==============================] - 0s 2ms/step - loss: 7551.5679 - mae: 7551.5679\n",
            "Epoch 18/100\n",
            "34/34 [==============================] - 0s 2ms/step - loss: 7747.6699 - mae: 7747.6699\n",
            "Epoch 19/100\n",
            "34/34 [==============================] - 0s 2ms/step - loss: 7787.0356 - mae: 7787.0356\n",
            "Epoch 20/100\n",
            "34/34 [==============================] - 0s 2ms/step - loss: 7871.2646 - mae: 7871.2646\n",
            "Epoch 21/100\n",
            "34/34 [==============================] - 0s 2ms/step - loss: 7539.0269 - mae: 7539.0269\n",
            "Epoch 22/100\n",
            "34/34 [==============================] - 0s 2ms/step - loss: 7973.2168 - mae: 7973.2168\n",
            "Epoch 23/100\n",
            "34/34 [==============================] - 0s 2ms/step - loss: 7635.1328 - mae: 7635.1328\n",
            "Epoch 24/100\n",
            "34/34 [==============================] - 0s 2ms/step - loss: 7521.0830 - mae: 7521.0830\n",
            "Epoch 25/100\n",
            "34/34 [==============================] - 0s 3ms/step - loss: 7503.1431 - mae: 7503.1431\n",
            "Epoch 26/100\n",
            "34/34 [==============================] - 0s 2ms/step - loss: 7699.8560 - mae: 7699.8560\n",
            "Epoch 27/100\n",
            "34/34 [==============================] - 0s 2ms/step - loss: 7694.7939 - mae: 7694.7939\n",
            "Epoch 28/100\n",
            "34/34 [==============================] - 0s 2ms/step - loss: 7487.7954 - mae: 7487.7954\n",
            "Epoch 29/100\n",
            "34/34 [==============================] - 0s 2ms/step - loss: 7677.9556 - mae: 7677.9556\n",
            "Epoch 30/100\n",
            "34/34 [==============================] - 0s 2ms/step - loss: 7511.3501 - mae: 7511.3501\n",
            "Epoch 31/100\n",
            "34/34 [==============================] - 0s 2ms/step - loss: 7471.9453 - mae: 7471.9453\n",
            "Epoch 32/100\n",
            "34/34 [==============================] - 0s 2ms/step - loss: 7379.3325 - mae: 7379.3325\n",
            "Epoch 33/100\n",
            "34/34 [==============================] - 0s 2ms/step - loss: 7393.4810 - mae: 7393.4810\n",
            "Epoch 34/100\n",
            "34/34 [==============================] - 0s 2ms/step - loss: 7454.2930 - mae: 7454.2930\n",
            "Epoch 35/100\n",
            "34/34 [==============================] - 0s 2ms/step - loss: 7603.2651 - mae: 7603.2651\n",
            "Epoch 36/100\n",
            "34/34 [==============================] - 0s 2ms/step - loss: 7574.5703 - mae: 7574.5703\n",
            "Epoch 37/100\n",
            "34/34 [==============================] - 0s 2ms/step - loss: 7673.4062 - mae: 7673.4062\n",
            "Epoch 38/100\n",
            "34/34 [==============================] - 0s 2ms/step - loss: 7362.2012 - mae: 7362.2012\n",
            "Epoch 39/100\n",
            "34/34 [==============================] - 0s 2ms/step - loss: 7532.3359 - mae: 7532.3359\n",
            "Epoch 40/100\n",
            "34/34 [==============================] - 0s 2ms/step - loss: 7430.2988 - mae: 7430.2988\n",
            "Epoch 41/100\n",
            "34/34 [==============================] - 0s 2ms/step - loss: 7600.2637 - mae: 7600.2637\n",
            "Epoch 42/100\n",
            "34/34 [==============================] - 0s 2ms/step - loss: 7362.5254 - mae: 7362.5254\n",
            "Epoch 43/100\n",
            "34/34 [==============================] - 0s 2ms/step - loss: 7648.3364 - mae: 7648.3364\n",
            "Epoch 44/100\n",
            "34/34 [==============================] - 0s 2ms/step - loss: 7410.4722 - mae: 7410.4722\n",
            "Epoch 45/100\n",
            "34/34 [==============================] - 0s 2ms/step - loss: 7459.0225 - mae: 7459.0225\n",
            "Epoch 46/100\n",
            "34/34 [==============================] - 0s 2ms/step - loss: 7369.9932 - mae: 7369.9932\n",
            "Epoch 47/100\n",
            "34/34 [==============================] - 0s 2ms/step - loss: 7450.2607 - mae: 7450.2607\n",
            "Epoch 48/100\n",
            "34/34 [==============================] - 0s 2ms/step - loss: 7619.2578 - mae: 7619.2578\n",
            "Epoch 49/100\n",
            "34/34 [==============================] - 0s 2ms/step - loss: 7422.2173 - mae: 7422.2173\n",
            "Epoch 50/100\n",
            "34/34 [==============================] - 0s 3ms/step - loss: 7442.0195 - mae: 7442.0195\n",
            "Epoch 51/100\n",
            "34/34 [==============================] - 0s 3ms/step - loss: 7303.0083 - mae: 7303.0083\n",
            "Epoch 52/100\n",
            "34/34 [==============================] - 0s 2ms/step - loss: 7537.2495 - mae: 7537.2495\n",
            "Epoch 53/100\n",
            "34/34 [==============================] - 0s 2ms/step - loss: 7624.1567 - mae: 7624.1567\n",
            "Epoch 54/100\n",
            "34/34 [==============================] - 0s 2ms/step - loss: 7260.8604 - mae: 7260.8604\n",
            "Epoch 55/100\n",
            "34/34 [==============================] - 0s 2ms/step - loss: 7368.2441 - mae: 7368.2441\n",
            "Epoch 56/100\n",
            "34/34 [==============================] - 0s 2ms/step - loss: 7238.5806 - mae: 7238.5806\n",
            "Epoch 57/100\n",
            "34/34 [==============================] - 0s 2ms/step - loss: 7427.9331 - mae: 7427.9331\n",
            "Epoch 58/100\n",
            "34/34 [==============================] - 0s 2ms/step - loss: 7557.5225 - mae: 7557.5225\n",
            "Epoch 59/100\n",
            "34/34 [==============================] - 0s 2ms/step - loss: 7566.9976 - mae: 7566.9976\n",
            "Epoch 60/100\n",
            "34/34 [==============================] - 0s 2ms/step - loss: 7309.0801 - mae: 7309.0801\n",
            "Epoch 61/100\n",
            "34/34 [==============================] - 0s 2ms/step - loss: 7443.2495 - mae: 7443.2495\n",
            "Epoch 62/100\n",
            "34/34 [==============================] - 0s 2ms/step - loss: 7238.7290 - mae: 7238.7290\n",
            "Epoch 63/100\n",
            "34/34 [==============================] - 0s 2ms/step - loss: 7320.0713 - mae: 7320.0713\n",
            "Epoch 64/100\n",
            "34/34 [==============================] - 0s 2ms/step - loss: 7346.8652 - mae: 7346.8652\n",
            "Epoch 65/100\n",
            "34/34 [==============================] - 0s 2ms/step - loss: 7461.1035 - mae: 7461.1035\n",
            "Epoch 66/100\n",
            "34/34 [==============================] - 0s 2ms/step - loss: 7223.5894 - mae: 7223.5894\n",
            "Epoch 67/100\n",
            "34/34 [==============================] - 0s 2ms/step - loss: 7209.5342 - mae: 7209.5342\n",
            "Epoch 68/100\n",
            "34/34 [==============================] - 0s 2ms/step - loss: 7408.9448 - mae: 7408.9448\n",
            "Epoch 69/100\n",
            "34/34 [==============================] - 0s 2ms/step - loss: 7463.8306 - mae: 7463.8306\n",
            "Epoch 70/100\n",
            "34/34 [==============================] - 0s 2ms/step - loss: 7581.7886 - mae: 7581.7886\n",
            "Epoch 71/100\n",
            "34/34 [==============================] - 0s 2ms/step - loss: 7160.4165 - mae: 7160.4165\n",
            "Epoch 72/100\n",
            "34/34 [==============================] - 0s 2ms/step - loss: 7178.5371 - mae: 7178.5371\n",
            "Epoch 73/100\n",
            "34/34 [==============================] - 0s 2ms/step - loss: 7272.2158 - mae: 7272.2158\n",
            "Epoch 74/100\n",
            "34/34 [==============================] - 0s 2ms/step - loss: 7426.5659 - mae: 7426.5659\n",
            "Epoch 75/100\n",
            "34/34 [==============================] - 0s 2ms/step - loss: 7193.9028 - mae: 7193.9028\n",
            "Epoch 76/100\n",
            "34/34 [==============================] - 0s 2ms/step - loss: 7151.4077 - mae: 7151.4077\n",
            "Epoch 77/100\n",
            "34/34 [==============================] - 0s 2ms/step - loss: 7438.7695 - mae: 7438.7695\n",
            "Epoch 78/100\n",
            "34/34 [==============================] - 0s 2ms/step - loss: 7100.5200 - mae: 7100.5200\n",
            "Epoch 79/100\n",
            "34/34 [==============================] - 0s 2ms/step - loss: 7509.4502 - mae: 7509.4502\n",
            "Epoch 80/100\n",
            "34/34 [==============================] - 0s 2ms/step - loss: 7296.3687 - mae: 7296.3687\n",
            "Epoch 81/100\n",
            "34/34 [==============================] - 0s 2ms/step - loss: 7085.8477 - mae: 7085.8477\n",
            "Epoch 82/100\n",
            "34/34 [==============================] - 0s 2ms/step - loss: 7399.9766 - mae: 7399.9766\n",
            "Epoch 83/100\n",
            "34/34 [==============================] - 0s 2ms/step - loss: 7397.8042 - mae: 7397.8042\n",
            "Epoch 84/100\n",
            "34/34 [==============================] - 0s 2ms/step - loss: 7384.5664 - mae: 7384.5664\n",
            "Epoch 85/100\n",
            "34/34 [==============================] - 0s 2ms/step - loss: 7535.7896 - mae: 7535.7896\n",
            "Epoch 86/100\n",
            "34/34 [==============================] - 0s 2ms/step - loss: 7465.5049 - mae: 7465.5049\n",
            "Epoch 87/100\n",
            "34/34 [==============================] - 0s 2ms/step - loss: 7310.3027 - mae: 7310.3027\n",
            "Epoch 88/100\n",
            "34/34 [==============================] - 0s 2ms/step - loss: 7252.6426 - mae: 7252.6426\n",
            "Epoch 89/100\n",
            "34/34 [==============================] - 0s 2ms/step - loss: 7372.8149 - mae: 7372.8149\n",
            "Epoch 90/100\n",
            "34/34 [==============================] - 0s 2ms/step - loss: 6984.8408 - mae: 6984.8408\n",
            "Epoch 91/100\n",
            "34/34 [==============================] - 0s 2ms/step - loss: 7193.8750 - mae: 7193.8750\n",
            "Epoch 92/100\n",
            "34/34 [==============================] - 0s 2ms/step - loss: 7250.8770 - mae: 7250.8770\n",
            "Epoch 93/100\n",
            "34/34 [==============================] - 0s 2ms/step - loss: 7470.5889 - mae: 7470.5889\n",
            "Epoch 94/100\n",
            "34/34 [==============================] - 0s 2ms/step - loss: 7261.3545 - mae: 7261.3545\n",
            "Epoch 95/100\n",
            "34/34 [==============================] - 0s 2ms/step - loss: 7425.8062 - mae: 7425.8062\n",
            "Epoch 96/100\n",
            "34/34 [==============================] - 0s 2ms/step - loss: 7222.2202 - mae: 7222.2202\n",
            "Epoch 97/100\n",
            "34/34 [==============================] - 0s 2ms/step - loss: 7162.1870 - mae: 7162.1870\n",
            "Epoch 98/100\n",
            "34/34 [==============================] - 0s 2ms/step - loss: 7417.6343 - mae: 7417.6343\n",
            "Epoch 99/100\n",
            "34/34 [==============================] - 0s 2ms/step - loss: 7403.0728 - mae: 7403.0728\n",
            "Epoch 100/100\n",
            "34/34 [==============================] - 0s 2ms/step - loss: 7215.0742 - mae: 7215.0742\n"
          ]
        },
        {
          "output_type": "execute_result",
          "data": {
            "text/plain": [
              "<keras.src.callbacks.History at 0x7ada1c9ff5b0>"
            ]
          },
          "metadata": {},
          "execution_count": 149
        }
      ]
    },
    {
      "cell_type": "code",
      "source": [
        "# Check the results of the insurance_model on the test data\n",
        "\n",
        "insurance_model.evaluate(X_test, y_test)"
      ],
      "metadata": {
        "colab": {
          "base_uri": "https://localhost:8080/"
        },
        "id": "excgFPEQrd-B",
        "outputId": "afb31aee-501c-45d1-9684-ba53cd15e4e2"
      },
      "execution_count": 150,
      "outputs": [
        {
          "output_type": "stream",
          "name": "stdout",
          "text": [
            "9/9 [==============================] - 0s 3ms/step - loss: 7273.1240 - mae: 7273.1240\n"
          ]
        },
        {
          "output_type": "execute_result",
          "data": {
            "text/plain": [
              "[7273.1240234375, 7273.1240234375]"
            ]
          },
          "metadata": {},
          "execution_count": 150
        }
      ]
    },
    {
      "cell_type": "code",
      "source": [
        "# this mae is proving that our model is substantially wrong, here is the median and mean to cross reference\n",
        "y_train.median(), y_train.mean()"
      ],
      "metadata": {
        "colab": {
          "base_uri": "https://localhost:8080/"
        },
        "id": "342RmyqPr7DN",
        "outputId": "a054b9b6-5ed9-4744-84fd-1901269d2859"
      },
      "execution_count": 151,
      "outputs": [
        {
          "output_type": "execute_result",
          "data": {
            "text/plain": [
              "(9575.4421, 13346.089736364485)"
            ]
          },
          "metadata": {},
          "execution_count": 151
        }
      ]
    },
    {
      "cell_type": "markdown",
      "source": [
        "Let's run some expirements to improve the model\n",
        "\n",
        "To try and improve our model, we'll run 2 expirements\n",
        "1. Add an extra layer with more hidden units and use Adam optimizer\n",
        "2. Same as above but Train for longer\n",
        "3. Same as above, but extend the training time and implement `EarlyStopping` callback"
      ],
      "metadata": {
        "id": "k98uz6rSsQly"
      }
    },
    {
      "cell_type": "markdown",
      "source": [
        "**Build experiment #1**"
      ],
      "metadata": {
        "id": "yldxL1F2vDm1"
      }
    },
    {
      "cell_type": "code",
      "source": [
        "# Set random seed\n",
        "tf.random.set_seed(42)\n",
        "\n",
        "# 1. Create the model\n",
        "insurance_model_2 = tf.keras.Sequential([\n",
        "    tf.keras.layers.Dense(100), # added this layer\n",
        "    tf.keras.layers.Dense(10),\n",
        "    tf.keras.layers.Dense(1)\n",
        "])\n",
        "\n",
        "# 2. Compile the model\n",
        "insurance_model_2.compile(loss=tf.keras.losses.mae,\n",
        "                          optimizer=tf.keras.optimizers.Adam(),\n",
        "                          metrics=[\"mae\"])\n",
        "\n",
        "# 3. Fit the model\n",
        "history_2 = insurance_model_2.fit(X_train, y_train, epochs=100, verbose=1)"
      ],
      "metadata": {
        "colab": {
          "base_uri": "https://localhost:8080/"
        },
        "id": "klp6ckKQsXLC",
        "outputId": "8c89168e-4e6a-4be6-c10d-e165b167f25e"
      },
      "execution_count": 152,
      "outputs": [
        {
          "output_type": "stream",
          "name": "stdout",
          "text": [
            "Epoch 1/100\n",
            "34/34 [==============================] - 1s 4ms/step - loss: 13283.8086 - mae: 13283.8086\n",
            "Epoch 2/100\n",
            "34/34 [==============================] - 0s 4ms/step - loss: 13070.1084 - mae: 13070.1084\n",
            "Epoch 3/100\n",
            "34/34 [==============================] - 0s 3ms/step - loss: 12623.4541 - mae: 12623.4541\n",
            "Epoch 4/100\n",
            "34/34 [==============================] - 0s 3ms/step - loss: 11779.2949 - mae: 11779.2949\n",
            "Epoch 5/100\n",
            "34/34 [==============================] - 0s 3ms/step - loss: 10463.3330 - mae: 10463.3330\n",
            "Epoch 6/100\n",
            "34/34 [==============================] - 0s 3ms/step - loss: 8957.9990 - mae: 8957.9990\n",
            "Epoch 7/100\n",
            "34/34 [==============================] - 0s 3ms/step - loss: 7817.5635 - mae: 7817.5635\n",
            "Epoch 8/100\n",
            "34/34 [==============================] - 0s 3ms/step - loss: 7478.6494 - mae: 7478.6494\n",
            "Epoch 9/100\n",
            "34/34 [==============================] - 0s 3ms/step - loss: 7434.3408 - mae: 7434.3408\n",
            "Epoch 10/100\n",
            "34/34 [==============================] - 0s 3ms/step - loss: 7413.7520 - mae: 7413.7520\n",
            "Epoch 11/100\n",
            "34/34 [==============================] - 0s 3ms/step - loss: 7393.8291 - mae: 7393.8291\n",
            "Epoch 12/100\n",
            "34/34 [==============================] - 0s 3ms/step - loss: 7370.3521 - mae: 7370.3521\n",
            "Epoch 13/100\n",
            "34/34 [==============================] - 0s 3ms/step - loss: 7348.7363 - mae: 7348.7363\n",
            "Epoch 14/100\n",
            "34/34 [==============================] - 0s 3ms/step - loss: 7324.6128 - mae: 7324.6128\n",
            "Epoch 15/100\n",
            "34/34 [==============================] - 0s 3ms/step - loss: 7304.3501 - mae: 7304.3501\n",
            "Epoch 16/100\n",
            "34/34 [==============================] - 0s 2ms/step - loss: 7280.5098 - mae: 7280.5098\n",
            "Epoch 17/100\n",
            "34/34 [==============================] - 0s 3ms/step - loss: 7258.9263 - mae: 7258.9263\n",
            "Epoch 18/100\n",
            "34/34 [==============================] - 0s 3ms/step - loss: 7233.8154 - mae: 7233.8154\n",
            "Epoch 19/100\n",
            "34/34 [==============================] - 0s 3ms/step - loss: 7209.7339 - mae: 7209.7339\n",
            "Epoch 20/100\n",
            "34/34 [==============================] - 0s 3ms/step - loss: 7184.3062 - mae: 7184.3062\n",
            "Epoch 21/100\n",
            "34/34 [==============================] - 0s 3ms/step - loss: 7164.0034 - mae: 7164.0034\n",
            "Epoch 22/100\n",
            "34/34 [==============================] - 0s 2ms/step - loss: 7134.2876 - mae: 7134.2876\n",
            "Epoch 23/100\n",
            "34/34 [==============================] - 0s 2ms/step - loss: 7107.0991 - mae: 7107.0991\n",
            "Epoch 24/100\n",
            "34/34 [==============================] - 0s 3ms/step - loss: 7079.7812 - mae: 7079.7812\n",
            "Epoch 25/100\n",
            "34/34 [==============================] - 0s 2ms/step - loss: 7058.6572 - mae: 7058.6572\n",
            "Epoch 26/100\n",
            "34/34 [==============================] - 0s 2ms/step - loss: 7025.2812 - mae: 7025.2812\n",
            "Epoch 27/100\n",
            "34/34 [==============================] - 0s 2ms/step - loss: 6994.3262 - mae: 6994.3262\n",
            "Epoch 28/100\n",
            "34/34 [==============================] - 0s 2ms/step - loss: 6963.4316 - mae: 6963.4316\n",
            "Epoch 29/100\n",
            "34/34 [==============================] - 0s 2ms/step - loss: 6932.7954 - mae: 6932.7954\n",
            "Epoch 30/100\n",
            "34/34 [==============================] - 0s 2ms/step - loss: 6902.3359 - mae: 6902.3359\n",
            "Epoch 31/100\n",
            "34/34 [==============================] - 0s 3ms/step - loss: 6869.1816 - mae: 6869.1816\n",
            "Epoch 32/100\n",
            "34/34 [==============================] - 0s 2ms/step - loss: 6837.6968 - mae: 6837.6968\n",
            "Epoch 33/100\n",
            "34/34 [==============================] - 0s 2ms/step - loss: 6803.1030 - mae: 6803.1030\n",
            "Epoch 34/100\n",
            "34/34 [==============================] - 0s 2ms/step - loss: 6769.2700 - mae: 6769.2700\n",
            "Epoch 35/100\n",
            "34/34 [==============================] - 0s 3ms/step - loss: 6731.3945 - mae: 6731.3945\n",
            "Epoch 36/100\n",
            "34/34 [==============================] - 0s 2ms/step - loss: 6695.0869 - mae: 6695.0869\n",
            "Epoch 37/100\n",
            "34/34 [==============================] - 0s 2ms/step - loss: 6656.6201 - mae: 6656.6201\n",
            "Epoch 38/100\n",
            "34/34 [==============================] - 0s 2ms/step - loss: 6625.2676 - mae: 6625.2676\n",
            "Epoch 39/100\n",
            "34/34 [==============================] - 0s 2ms/step - loss: 6585.0762 - mae: 6585.0762\n",
            "Epoch 40/100\n",
            "34/34 [==============================] - 0s 2ms/step - loss: 6552.5605 - mae: 6552.5605\n",
            "Epoch 41/100\n",
            "34/34 [==============================] - 0s 2ms/step - loss: 6527.0469 - mae: 6527.0469\n",
            "Epoch 42/100\n",
            "34/34 [==============================] - 0s 3ms/step - loss: 6504.4365 - mae: 6504.4365\n",
            "Epoch 43/100\n",
            "34/34 [==============================] - 0s 2ms/step - loss: 6482.0381 - mae: 6482.0381\n",
            "Epoch 44/100\n",
            "34/34 [==============================] - 0s 2ms/step - loss: 6463.8306 - mae: 6463.8306\n",
            "Epoch 45/100\n",
            "34/34 [==============================] - 0s 2ms/step - loss: 6453.5137 - mae: 6453.5137\n",
            "Epoch 46/100\n",
            "34/34 [==============================] - 0s 2ms/step - loss: 6435.7280 - mae: 6435.7280\n",
            "Epoch 47/100\n",
            "34/34 [==============================] - 0s 2ms/step - loss: 6419.4766 - mae: 6419.4766\n",
            "Epoch 48/100\n",
            "34/34 [==============================] - 0s 2ms/step - loss: 6404.8208 - mae: 6404.8208\n",
            "Epoch 49/100\n",
            "34/34 [==============================] - 0s 2ms/step - loss: 6392.6821 - mae: 6392.6821\n",
            "Epoch 50/100\n",
            "34/34 [==============================] - 0s 2ms/step - loss: 6377.1562 - mae: 6377.1562\n",
            "Epoch 51/100\n",
            "34/34 [==============================] - 0s 2ms/step - loss: 6362.5859 - mae: 6362.5859\n",
            "Epoch 52/100\n",
            "34/34 [==============================] - 0s 2ms/step - loss: 6348.0820 - mae: 6348.0820\n",
            "Epoch 53/100\n",
            "34/34 [==============================] - 0s 2ms/step - loss: 6332.8022 - mae: 6332.8022\n",
            "Epoch 54/100\n",
            "34/34 [==============================] - 0s 2ms/step - loss: 6317.2988 - mae: 6317.2988\n",
            "Epoch 55/100\n",
            "34/34 [==============================] - 0s 3ms/step - loss: 6302.8262 - mae: 6302.8262\n",
            "Epoch 56/100\n",
            "34/34 [==============================] - 0s 3ms/step - loss: 6287.4961 - mae: 6287.4961\n",
            "Epoch 57/100\n",
            "34/34 [==============================] - 0s 2ms/step - loss: 6271.3560 - mae: 6271.3560\n",
            "Epoch 58/100\n",
            "34/34 [==============================] - 0s 2ms/step - loss: 6256.3652 - mae: 6256.3652\n",
            "Epoch 59/100\n",
            "34/34 [==============================] - 0s 2ms/step - loss: 6238.4243 - mae: 6238.4243\n",
            "Epoch 60/100\n",
            "34/34 [==============================] - 0s 2ms/step - loss: 6225.1953 - mae: 6225.1953\n",
            "Epoch 61/100\n",
            "34/34 [==============================] - 0s 2ms/step - loss: 6202.6411 - mae: 6202.6411\n",
            "Epoch 62/100\n",
            "34/34 [==============================] - 0s 2ms/step - loss: 6188.1812 - mae: 6188.1812\n",
            "Epoch 63/100\n",
            "34/34 [==============================] - 0s 2ms/step - loss: 6166.8691 - mae: 6166.8691\n",
            "Epoch 64/100\n",
            "34/34 [==============================] - 0s 2ms/step - loss: 6146.7603 - mae: 6146.7603\n",
            "Epoch 65/100\n",
            "34/34 [==============================] - 0s 2ms/step - loss: 6127.1821 - mae: 6127.1821\n",
            "Epoch 66/100\n",
            "34/34 [==============================] - 0s 2ms/step - loss: 6106.0449 - mae: 6106.0449\n",
            "Epoch 67/100\n",
            "34/34 [==============================] - 0s 2ms/step - loss: 6090.7554 - mae: 6090.7554\n",
            "Epoch 68/100\n",
            "34/34 [==============================] - 0s 2ms/step - loss: 6063.7202 - mae: 6063.7202\n",
            "Epoch 69/100\n",
            "34/34 [==============================] - 0s 2ms/step - loss: 6043.5688 - mae: 6043.5688\n",
            "Epoch 70/100\n",
            "34/34 [==============================] - 0s 2ms/step - loss: 6019.6475 - mae: 6019.6475\n",
            "Epoch 71/100\n",
            "34/34 [==============================] - 0s 2ms/step - loss: 5994.8052 - mae: 5994.8052\n",
            "Epoch 72/100\n",
            "34/34 [==============================] - 0s 2ms/step - loss: 5971.2578 - mae: 5971.2578\n",
            "Epoch 73/100\n",
            "34/34 [==============================] - 0s 2ms/step - loss: 5952.9746 - mae: 5952.9746\n",
            "Epoch 74/100\n",
            "34/34 [==============================] - 0s 2ms/step - loss: 5917.6499 - mae: 5917.6499\n",
            "Epoch 75/100\n",
            "34/34 [==============================] - 0s 2ms/step - loss: 5890.0864 - mae: 5890.0864\n",
            "Epoch 76/100\n",
            "34/34 [==============================] - 0s 2ms/step - loss: 5867.9238 - mae: 5867.9238\n",
            "Epoch 77/100\n",
            "34/34 [==============================] - 0s 2ms/step - loss: 5831.6978 - mae: 5831.6978\n",
            "Epoch 78/100\n",
            "34/34 [==============================] - 0s 2ms/step - loss: 5801.4624 - mae: 5801.4624\n",
            "Epoch 79/100\n",
            "34/34 [==============================] - 0s 2ms/step - loss: 5769.0762 - mae: 5769.0762\n",
            "Epoch 80/100\n",
            "34/34 [==============================] - 0s 2ms/step - loss: 5734.2534 - mae: 5734.2534\n",
            "Epoch 81/100\n",
            "34/34 [==============================] - 0s 2ms/step - loss: 5701.3921 - mae: 5701.3921\n",
            "Epoch 82/100\n",
            "34/34 [==============================] - 0s 2ms/step - loss: 5663.9126 - mae: 5663.9126\n",
            "Epoch 83/100\n",
            "34/34 [==============================] - 0s 2ms/step - loss: 5626.9307 - mae: 5626.9307\n",
            "Epoch 84/100\n",
            "34/34 [==============================] - 0s 2ms/step - loss: 5582.9146 - mae: 5582.9146\n",
            "Epoch 85/100\n",
            "34/34 [==============================] - 0s 2ms/step - loss: 5546.5156 - mae: 5546.5156\n",
            "Epoch 86/100\n",
            "34/34 [==============================] - 0s 2ms/step - loss: 5501.9688 - mae: 5501.9688\n",
            "Epoch 87/100\n",
            "34/34 [==============================] - 0s 2ms/step - loss: 5454.2490 - mae: 5454.2490\n",
            "Epoch 88/100\n",
            "34/34 [==============================] - 0s 2ms/step - loss: 5407.4360 - mae: 5407.4360\n",
            "Epoch 89/100\n",
            "34/34 [==============================] - 0s 2ms/step - loss: 5354.5112 - mae: 5354.5112\n",
            "Epoch 90/100\n",
            "34/34 [==============================] - 0s 2ms/step - loss: 5298.7861 - mae: 5298.7861\n",
            "Epoch 91/100\n",
            "34/34 [==============================] - 0s 3ms/step - loss: 5248.1167 - mae: 5248.1167\n",
            "Epoch 92/100\n",
            "34/34 [==============================] - 0s 2ms/step - loss: 5186.2207 - mae: 5186.2207\n",
            "Epoch 93/100\n",
            "34/34 [==============================] - 0s 2ms/step - loss: 5128.8423 - mae: 5128.8423\n",
            "Epoch 94/100\n",
            "34/34 [==============================] - 0s 2ms/step - loss: 5063.4839 - mae: 5063.4839\n",
            "Epoch 95/100\n",
            "34/34 [==============================] - 0s 2ms/step - loss: 4997.4839 - mae: 4997.4839\n",
            "Epoch 96/100\n",
            "34/34 [==============================] - 0s 2ms/step - loss: 4937.1460 - mae: 4937.1460\n",
            "Epoch 97/100\n",
            "34/34 [==============================] - 0s 2ms/step - loss: 4864.8862 - mae: 4864.8862\n",
            "Epoch 98/100\n",
            "34/34 [==============================] - 0s 2ms/step - loss: 4784.9502 - mae: 4784.9502\n",
            "Epoch 99/100\n",
            "34/34 [==============================] - 0s 2ms/step - loss: 4699.9043 - mae: 4699.9043\n",
            "Epoch 100/100\n",
            "34/34 [==============================] - 0s 3ms/step - loss: 4631.5732 - mae: 4631.5732\n"
          ]
        }
      ]
    },
    {
      "cell_type": "code",
      "source": [
        "# Evalute the larger model\n",
        "insurance_model_2.evaluate(X_test,y_test)"
      ],
      "metadata": {
        "colab": {
          "base_uri": "https://localhost:8080/"
        },
        "id": "yn4kaGZ6tudt",
        "outputId": "787e8ac3-46c0-476a-affb-4c81d9d2ca11"
      },
      "execution_count": 153,
      "outputs": [
        {
          "output_type": "stream",
          "name": "stdout",
          "text": [
            "9/9 [==============================] - 0s 4ms/step - loss: 4517.2832 - mae: 4517.2832\n"
          ]
        },
        {
          "output_type": "execute_result",
          "data": {
            "text/plain": [
              "[4517.283203125, 4517.283203125]"
            ]
          },
          "metadata": {},
          "execution_count": 153
        }
      ]
    },
    {
      "cell_type": "code",
      "source": [
        "insurance_model.evaluate(X_test,y_test)"
      ],
      "metadata": {
        "colab": {
          "base_uri": "https://localhost:8080/"
        },
        "id": "-OWwAXqquOxE",
        "outputId": "83ce2418-63c0-4394-db05-dadb05df412b"
      },
      "execution_count": 105,
      "outputs": [
        {
          "output_type": "stream",
          "name": "stdout",
          "text": [
            "9/9 [==============================] - 0s 4ms/step - loss: 8702.3086 - mae: 8702.3086\n"
          ]
        },
        {
          "output_type": "execute_result",
          "data": {
            "text/plain": [
              "[8702.30859375, 8702.30859375]"
            ]
          },
          "metadata": {},
          "execution_count": 105
        }
      ]
    },
    {
      "cell_type": "code",
      "source": [
        "# Plot the history (also known as a loss curve or a training curve)\n",
        "pd.DataFrame(history_2.history).plot()\n",
        "plt.ylabel(\"loss\")\n",
        "plt.xlabel(\"epochs\")"
      ],
      "metadata": {
        "colab": {
          "base_uri": "https://localhost:8080/",
          "height": 466
        },
        "id": "1Tpoi5FNwnJC",
        "outputId": "8f94e424-3db8-4cb2-9efc-b923e23a5b5f"
      },
      "execution_count": 106,
      "outputs": [
        {
          "output_type": "execute_result",
          "data": {
            "text/plain": [
              "Text(0.5, 0, 'epochs')"
            ]
          },
          "metadata": {},
          "execution_count": 106
        },
        {
          "output_type": "display_data",
          "data": {
            "text/plain": [
              "<Figure size 640x480 with 1 Axes>"
            ],
            "image/png": "[encoded data removed]"
          },
          "metadata": {}
        }
      ]
    },
    {
      "cell_type": "markdown",
      "source": [
        "*Improved by ~3000*\n",
        "\n",
        "**Build Experiment #2**"
      ],
      "metadata": {
        "id": "u656hyWjuzyB"
      }
    },
    {
      "cell_type": "code",
      "source": [
        "# Set random seed\n",
        "tf.random.set_seed(42)\n",
        "\n",
        "# 1. Create the model\n",
        "insurance_model_3 = tf.keras.Sequential([\n",
        "    tf.keras.layers.Dense(100),\n",
        "    tf.keras.layers.Dense(10),\n",
        "    tf.keras.layers.Dense(1)\n",
        "])\n",
        "\n",
        "# 2. Compile the model\n",
        "insurance_model_3.compile(loss=tf.keras.losses.mae,\n",
        "                          optimizer=tf.keras.optimizers.Adam(),\n",
        "                          metrics=[\"mae\"])\n",
        "\n",
        "# 3. Fit the model\n",
        "history_3 = insurance_model_3.fit(X_train, y_train, epochs=200, verbose=2) #increased the number of epochs to 200"
      ],
      "metadata": {
        "colab": {
          "base_uri": "https://localhost:8080/"
        },
        "id": "ttPQLUxZu6D3",
        "outputId": "d7e45669-2e10-4371-d64a-eabbd5708da0"
      },
      "execution_count": 107,
      "outputs": [
        {
          "output_type": "stream",
          "name": "stdout",
          "text": [
            "Epoch 1/200\n",
            "34/34 - 1s - loss: 13288.3242 - mae: 13288.3242 - 787ms/epoch - 23ms/step\n",
            "Epoch 2/200\n",
            "34/34 - 0s - loss: 13128.6621 - mae: 13128.6621 - 67ms/epoch - 2ms/step\n",
            "Epoch 3/200\n",
            "34/34 - 0s - loss: 12783.6602 - mae: 12783.6602 - 67ms/epoch - 2ms/step\n",
            "Epoch 4/200\n",
            "34/34 - 0s - loss: 12094.3018 - mae: 12094.3018 - 64ms/epoch - 2ms/step\n",
            "Epoch 5/200\n",
            "34/34 - 0s - loss: 10938.5635 - mae: 10938.5635 - 62ms/epoch - 2ms/step\n",
            "Epoch 6/200\n",
            "34/34 - 0s - loss: 9475.7412 - mae: 9475.7412 - 69ms/epoch - 2ms/step\n",
            "Epoch 7/200\n",
            "34/34 - 0s - loss: 8154.1113 - mae: 8154.1113 - 65ms/epoch - 2ms/step\n",
            "Epoch 8/200\n",
            "34/34 - 0s - loss: 7534.9331 - mae: 7534.9331 - 63ms/epoch - 2ms/step\n",
            "Epoch 9/200\n",
            "34/34 - 0s - loss: 7436.6577 - mae: 7436.6577 - 63ms/epoch - 2ms/step\n",
            "Epoch 10/200\n",
            "34/34 - 0s - loss: 7416.5308 - mae: 7416.5308 - 73ms/epoch - 2ms/step\n",
            "Epoch 11/200\n",
            "34/34 - 0s - loss: 7397.5820 - mae: 7397.5820 - 63ms/epoch - 2ms/step\n",
            "Epoch 12/200\n",
            "34/34 - 0s - loss: 7374.9087 - mae: 7374.9087 - 68ms/epoch - 2ms/step\n",
            "Epoch 13/200\n",
            "34/34 - 0s - loss: 7353.9951 - mae: 7353.9951 - 58ms/epoch - 2ms/step\n",
            "Epoch 14/200\n",
            "34/34 - 0s - loss: 7331.3179 - mae: 7331.3179 - 67ms/epoch - 2ms/step\n",
            "Epoch 15/200\n",
            "34/34 - 0s - loss: 7311.7603 - mae: 7311.7603 - 59ms/epoch - 2ms/step\n",
            "Epoch 16/200\n",
            "34/34 - 0s - loss: 7289.3169 - mae: 7289.3169 - 69ms/epoch - 2ms/step\n",
            "Epoch 17/200\n",
            "34/34 - 0s - loss: 7268.5747 - mae: 7268.5747 - 60ms/epoch - 2ms/step\n",
            "Epoch 18/200\n",
            "34/34 - 0s - loss: 7244.6504 - mae: 7244.6504 - 61ms/epoch - 2ms/step\n",
            "Epoch 19/200\n",
            "34/34 - 0s - loss: 7221.9185 - mae: 7221.9185 - 63ms/epoch - 2ms/step\n",
            "Epoch 20/200\n",
            "34/34 - 0s - loss: 7197.8145 - mae: 7197.8145 - 66ms/epoch - 2ms/step\n",
            "Epoch 21/200\n",
            "34/34 - 0s - loss: 7179.2529 - mae: 7179.2529 - 63ms/epoch - 2ms/step\n",
            "Epoch 22/200\n",
            "34/34 - 0s - loss: 7150.2339 - mae: 7150.2339 - 66ms/epoch - 2ms/step\n",
            "Epoch 23/200\n",
            "34/34 - 0s - loss: 7124.7266 - mae: 7124.7266 - 60ms/epoch - 2ms/step\n",
            "Epoch 24/200\n",
            "34/34 - 0s - loss: 7099.4434 - mae: 7099.4434 - 59ms/epoch - 2ms/step\n",
            "Epoch 25/200\n",
            "34/34 - 0s - loss: 7081.7744 - mae: 7081.7744 - 68ms/epoch - 2ms/step\n",
            "Epoch 26/200\n",
            "34/34 - 0s - loss: 7047.8125 - mae: 7047.8125 - 61ms/epoch - 2ms/step\n",
            "Epoch 27/200\n",
            "34/34 - 0s - loss: 7019.4102 - mae: 7019.4102 - 61ms/epoch - 2ms/step\n",
            "Epoch 28/200\n",
            "34/34 - 0s - loss: 6990.7915 - mae: 6990.7915 - 67ms/epoch - 2ms/step\n",
            "Epoch 29/200\n",
            "34/34 - 0s - loss: 6962.2407 - mae: 6962.2407 - 66ms/epoch - 2ms/step\n",
            "Epoch 30/200\n",
            "34/34 - 0s - loss: 6934.2324 - mae: 6934.2324 - 61ms/epoch - 2ms/step\n",
            "Epoch 31/200\n",
            "34/34 - 0s - loss: 6902.9268 - mae: 6902.9268 - 63ms/epoch - 2ms/step\n",
            "Epoch 32/200\n",
            "34/34 - 0s - loss: 6874.2197 - mae: 6874.2197 - 59ms/epoch - 2ms/step\n",
            "Epoch 33/200\n",
            "34/34 - 0s - loss: 6842.7612 - mae: 6842.7612 - 62ms/epoch - 2ms/step\n",
            "Epoch 34/200\n",
            "34/34 - 0s - loss: 6811.3252 - mae: 6811.3252 - 61ms/epoch - 2ms/step\n",
            "Epoch 35/200\n",
            "34/34 - 0s - loss: 6776.9087 - mae: 6776.9087 - 60ms/epoch - 2ms/step\n",
            "Epoch 36/200\n",
            "34/34 - 0s - loss: 6742.4243 - mae: 6742.4243 - 59ms/epoch - 2ms/step\n",
            "Epoch 37/200\n",
            "34/34 - 0s - loss: 6706.6489 - mae: 6706.6489 - 60ms/epoch - 2ms/step\n",
            "Epoch 38/200\n",
            "34/34 - 0s - loss: 6675.8013 - mae: 6675.8013 - 63ms/epoch - 2ms/step\n",
            "Epoch 39/200\n",
            "34/34 - 0s - loss: 6638.5039 - mae: 6638.5039 - 59ms/epoch - 2ms/step\n",
            "Epoch 40/200\n",
            "34/34 - 0s - loss: 6604.0742 - mae: 6604.0742 - 61ms/epoch - 2ms/step\n",
            "Epoch 41/200\n",
            "34/34 - 0s - loss: 6572.6260 - mae: 6572.6260 - 66ms/epoch - 2ms/step\n",
            "Epoch 42/200\n",
            "34/34 - 0s - loss: 6549.7065 - mae: 6549.7065 - 61ms/epoch - 2ms/step\n",
            "Epoch 43/200\n",
            "34/34 - 0s - loss: 6519.8242 - mae: 6519.8242 - 58ms/epoch - 2ms/step\n",
            "Epoch 44/200\n",
            "34/34 - 0s - loss: 6499.0327 - mae: 6499.0327 - 57ms/epoch - 2ms/step\n",
            "Epoch 45/200\n",
            "34/34 - 0s - loss: 6488.1030 - mae: 6488.1030 - 58ms/epoch - 2ms/step\n",
            "Epoch 46/200\n",
            "34/34 - 0s - loss: 6470.5596 - mae: 6470.5596 - 62ms/epoch - 2ms/step\n",
            "Epoch 47/200\n",
            "34/34 - 0s - loss: 6453.6470 - mae: 6453.6470 - 61ms/epoch - 2ms/step\n",
            "Epoch 48/200\n",
            "34/34 - 0s - loss: 6440.3765 - mae: 6440.3765 - 64ms/epoch - 2ms/step\n",
            "Epoch 49/200\n",
            "34/34 - 0s - loss: 6426.7051 - mae: 6426.7051 - 59ms/epoch - 2ms/step\n",
            "Epoch 50/200\n",
            "34/34 - 0s - loss: 6412.8335 - mae: 6412.8335 - 59ms/epoch - 2ms/step\n",
            "Epoch 51/200\n",
            "34/34 - 0s - loss: 6398.5825 - mae: 6398.5825 - 64ms/epoch - 2ms/step\n",
            "Epoch 52/200\n",
            "34/34 - 0s - loss: 6387.1582 - mae: 6387.1582 - 59ms/epoch - 2ms/step\n",
            "Epoch 53/200\n",
            "34/34 - 0s - loss: 6373.4404 - mae: 6373.4404 - 59ms/epoch - 2ms/step\n",
            "Epoch 54/200\n",
            "34/34 - 0s - loss: 6359.6562 - mae: 6359.6562 - 62ms/epoch - 2ms/step\n",
            "Epoch 55/200\n",
            "34/34 - 0s - loss: 6345.8252 - mae: 6345.8252 - 60ms/epoch - 2ms/step\n",
            "Epoch 56/200\n",
            "34/34 - 0s - loss: 6331.8696 - mae: 6331.8696 - 73ms/epoch - 2ms/step\n",
            "Epoch 57/200\n",
            "34/34 - 0s - loss: 6318.6768 - mae: 6318.6768 - 62ms/epoch - 2ms/step\n",
            "Epoch 58/200\n",
            "34/34 - 0s - loss: 6304.0317 - mae: 6304.0317 - 64ms/epoch - 2ms/step\n",
            "Epoch 59/200\n",
            "34/34 - 0s - loss: 6289.2266 - mae: 6289.2266 - 60ms/epoch - 2ms/step\n",
            "Epoch 60/200\n",
            "34/34 - 0s - loss: 6278.2988 - mae: 6278.2988 - 60ms/epoch - 2ms/step\n",
            "Epoch 61/200\n",
            "34/34 - 0s - loss: 6258.7871 - mae: 6258.7871 - 64ms/epoch - 2ms/step\n",
            "Epoch 62/200\n",
            "34/34 - 0s - loss: 6245.8242 - mae: 6245.8242 - 64ms/epoch - 2ms/step\n",
            "Epoch 63/200\n",
            "34/34 - 0s - loss: 6227.0547 - mae: 6227.0547 - 59ms/epoch - 2ms/step\n",
            "Epoch 64/200\n",
            "34/34 - 0s - loss: 6210.2129 - mae: 6210.2129 - 60ms/epoch - 2ms/step\n",
            "Epoch 65/200\n",
            "34/34 - 0s - loss: 6192.8755 - mae: 6192.8755 - 60ms/epoch - 2ms/step\n",
            "Epoch 66/200\n",
            "34/34 - 0s - loss: 6175.4727 - mae: 6175.4727 - 65ms/epoch - 2ms/step\n",
            "Epoch 67/200\n",
            "34/34 - 0s - loss: 6162.4937 - mae: 6162.4937 - 59ms/epoch - 2ms/step\n",
            "Epoch 68/200\n",
            "34/34 - 0s - loss: 6139.5273 - mae: 6139.5273 - 57ms/epoch - 2ms/step\n",
            "Epoch 69/200\n",
            "34/34 - 0s - loss: 6122.7554 - mae: 6122.7554 - 63ms/epoch - 2ms/step\n",
            "Epoch 70/200\n",
            "34/34 - 0s - loss: 6102.0181 - mae: 6102.0181 - 64ms/epoch - 2ms/step\n",
            "Epoch 71/200\n",
            "34/34 - 0s - loss: 6082.0215 - mae: 6082.0215 - 58ms/epoch - 2ms/step\n",
            "Epoch 72/200\n",
            "34/34 - 0s - loss: 6063.1274 - mae: 6063.1274 - 69ms/epoch - 2ms/step\n",
            "Epoch 73/200\n",
            "34/34 - 0s - loss: 6046.9453 - mae: 6046.9453 - 56ms/epoch - 2ms/step\n",
            "Epoch 74/200\n",
            "34/34 - 0s - loss: 6018.6343 - mae: 6018.6343 - 58ms/epoch - 2ms/step\n",
            "Epoch 75/200\n",
            "34/34 - 0s - loss: 5997.6782 - mae: 5997.6782 - 67ms/epoch - 2ms/step\n",
            "Epoch 76/200\n",
            "34/34 - 0s - loss: 5981.1221 - mae: 5981.1221 - 59ms/epoch - 2ms/step\n",
            "Epoch 77/200\n",
            "34/34 - 0s - loss: 5948.7339 - mae: 5948.7339 - 71ms/epoch - 2ms/step\n",
            "Epoch 78/200\n",
            "34/34 - 0s - loss: 5924.7192 - mae: 5924.7192 - 64ms/epoch - 2ms/step\n",
            "Epoch 79/200\n",
            "34/34 - 0s - loss: 5899.2236 - mae: 5899.2236 - 62ms/epoch - 2ms/step\n",
            "Epoch 80/200\n",
            "34/34 - 0s - loss: 5870.8818 - mae: 5870.8818 - 64ms/epoch - 2ms/step\n",
            "Epoch 81/200\n",
            "34/34 - 0s - loss: 5844.0283 - mae: 5844.0283 - 60ms/epoch - 2ms/step\n",
            "Epoch 82/200\n",
            "34/34 - 0s - loss: 5814.9424 - mae: 5814.9424 - 60ms/epoch - 2ms/step\n",
            "Epoch 83/200\n",
            "34/34 - 0s - loss: 5785.9224 - mae: 5785.9224 - 64ms/epoch - 2ms/step\n",
            "Epoch 84/200\n",
            "34/34 - 0s - loss: 5751.6348 - mae: 5751.6348 - 57ms/epoch - 2ms/step\n",
            "Epoch 85/200\n",
            "34/34 - 0s - loss: 5724.1235 - mae: 5724.1235 - 62ms/epoch - 2ms/step\n",
            "Epoch 86/200\n",
            "34/34 - 0s - loss: 5689.4517 - mae: 5689.4517 - 57ms/epoch - 2ms/step\n",
            "Epoch 87/200\n",
            "34/34 - 0s - loss: 5650.8896 - mae: 5650.8896 - 70ms/epoch - 2ms/step\n",
            "Epoch 88/200\n",
            "34/34 - 0s - loss: 5614.2554 - mae: 5614.2554 - 59ms/epoch - 2ms/step\n",
            "Epoch 89/200\n",
            "34/34 - 0s - loss: 5574.7461 - mae: 5574.7461 - 60ms/epoch - 2ms/step\n",
            "Epoch 90/200\n",
            "34/34 - 0s - loss: 5531.6646 - mae: 5531.6646 - 62ms/epoch - 2ms/step\n",
            "Epoch 91/200\n",
            "34/34 - 0s - loss: 5492.2715 - mae: 5492.2715 - 60ms/epoch - 2ms/step\n",
            "Epoch 92/200\n",
            "34/34 - 0s - loss: 5442.9795 - mae: 5442.9795 - 73ms/epoch - 2ms/step\n",
            "Epoch 93/200\n",
            "34/34 - 0s - loss: 5399.2764 - mae: 5399.2764 - 71ms/epoch - 2ms/step\n",
            "Epoch 94/200\n",
            "34/34 - 0s - loss: 5350.1235 - mae: 5350.1235 - 63ms/epoch - 2ms/step\n",
            "Epoch 95/200\n",
            "34/34 - 0s - loss: 5297.9546 - mae: 5297.9546 - 64ms/epoch - 2ms/step\n",
            "Epoch 96/200\n",
            "34/34 - 0s - loss: 5249.5518 - mae: 5249.5518 - 63ms/epoch - 2ms/step\n",
            "Epoch 97/200\n",
            "34/34 - 0s - loss: 5194.0093 - mae: 5194.0093 - 60ms/epoch - 2ms/step\n",
            "Epoch 98/200\n",
            "34/34 - 0s - loss: 5129.4839 - mae: 5129.4839 - 64ms/epoch - 2ms/step\n",
            "Epoch 99/200\n",
            "34/34 - 0s - loss: 5069.3530 - mae: 5069.3530 - 63ms/epoch - 2ms/step\n",
            "Epoch 100/200\n",
            "34/34 - 0s - loss: 5012.2520 - mae: 5012.2520 - 60ms/epoch - 2ms/step\n",
            "Epoch 101/200\n",
            "34/34 - 0s - loss: 4938.0659 - mae: 4938.0659 - 69ms/epoch - 2ms/step\n",
            "Epoch 102/200\n",
            "34/34 - 0s - loss: 4863.1440 - mae: 4863.1440 - 71ms/epoch - 2ms/step\n",
            "Epoch 103/200\n",
            "34/34 - 0s - loss: 4796.6304 - mae: 4796.6304 - 64ms/epoch - 2ms/step\n",
            "Epoch 104/200\n",
            "34/34 - 0s - loss: 4713.7759 - mae: 4713.7759 - 60ms/epoch - 2ms/step\n",
            "Epoch 105/200\n",
            "34/34 - 0s - loss: 4624.0698 - mae: 4624.0698 - 61ms/epoch - 2ms/step\n",
            "Epoch 106/200\n",
            "34/34 - 0s - loss: 4539.5752 - mae: 4539.5752 - 71ms/epoch - 2ms/step\n",
            "Epoch 107/200\n",
            "34/34 - 0s - loss: 4453.3032 - mae: 4453.3032 - 61ms/epoch - 2ms/step\n",
            "Epoch 108/200\n",
            "34/34 - 0s - loss: 4364.7222 - mae: 4364.7222 - 59ms/epoch - 2ms/step\n",
            "Epoch 109/200\n",
            "34/34 - 0s - loss: 4282.2144 - mae: 4282.2144 - 59ms/epoch - 2ms/step\n",
            "Epoch 110/200\n",
            "34/34 - 0s - loss: 4199.5312 - mae: 4199.5312 - 60ms/epoch - 2ms/step\n",
            "Epoch 111/200\n",
            "34/34 - 0s - loss: 4124.4902 - mae: 4124.4902 - 59ms/epoch - 2ms/step\n",
            "Epoch 112/200\n",
            "34/34 - 0s - loss: 4059.1228 - mae: 4059.1228 - 63ms/epoch - 2ms/step\n",
            "Epoch 113/200\n",
            "34/34 - 0s - loss: 3999.2361 - mae: 3999.2361 - 75ms/epoch - 2ms/step\n",
            "Epoch 114/200\n",
            "34/34 - 0s - loss: 3964.3010 - mae: 3964.3010 - 87ms/epoch - 3ms/step\n",
            "Epoch 115/200\n",
            "34/34 - 0s - loss: 3923.5076 - mae: 3923.5076 - 81ms/epoch - 2ms/step\n",
            "Epoch 116/200\n",
            "34/34 - 0s - loss: 3904.6121 - mae: 3904.6121 - 77ms/epoch - 2ms/step\n",
            "Epoch 117/200\n",
            "34/34 - 0s - loss: 3885.6184 - mae: 3885.6184 - 92ms/epoch - 3ms/step\n",
            "Epoch 118/200\n",
            "34/34 - 0s - loss: 3863.1963 - mae: 3863.1963 - 96ms/epoch - 3ms/step\n",
            "Epoch 119/200\n",
            "34/34 - 0s - loss: 3846.7639 - mae: 3846.7639 - 96ms/epoch - 3ms/step\n",
            "Epoch 120/200\n",
            "34/34 - 0s - loss: 3830.0305 - mae: 3830.0305 - 86ms/epoch - 3ms/step\n",
            "Epoch 121/200\n",
            "34/34 - 0s - loss: 3821.8945 - mae: 3821.8945 - 89ms/epoch - 3ms/step\n",
            "Epoch 122/200\n",
            "34/34 - 0s - loss: 3817.4490 - mae: 3817.4490 - 92ms/epoch - 3ms/step\n",
            "Epoch 123/200\n",
            "34/34 - 0s - loss: 3810.6414 - mae: 3810.6414 - 93ms/epoch - 3ms/step\n",
            "Epoch 124/200\n",
            "34/34 - 0s - loss: 3803.4727 - mae: 3803.4727 - 92ms/epoch - 3ms/step\n",
            "Epoch 125/200\n",
            "34/34 - 0s - loss: 3794.5149 - mae: 3794.5149 - 90ms/epoch - 3ms/step\n",
            "Epoch 126/200\n",
            "34/34 - 0s - loss: 3799.4104 - mae: 3799.4104 - 93ms/epoch - 3ms/step\n",
            "Epoch 127/200\n",
            "34/34 - 0s - loss: 3796.0698 - mae: 3796.0698 - 92ms/epoch - 3ms/step\n",
            "Epoch 128/200\n",
            "34/34 - 0s - loss: 3790.6716 - mae: 3790.6716 - 92ms/epoch - 3ms/step\n",
            "Epoch 129/200\n",
            "34/34 - 0s - loss: 3800.9739 - mae: 3800.9739 - 92ms/epoch - 3ms/step\n",
            "Epoch 130/200\n",
            "34/34 - 0s - loss: 3791.0305 - mae: 3791.0305 - 94ms/epoch - 3ms/step\n",
            "Epoch 131/200\n",
            "34/34 - 0s - loss: 3781.4568 - mae: 3781.4568 - 93ms/epoch - 3ms/step\n",
            "Epoch 132/200\n",
            "34/34 - 0s - loss: 3773.9944 - mae: 3773.9944 - 91ms/epoch - 3ms/step\n",
            "Epoch 133/200\n",
            "34/34 - 0s - loss: 3769.5847 - mae: 3769.5847 - 89ms/epoch - 3ms/step\n",
            "Epoch 134/200\n",
            "34/34 - 0s - loss: 3771.7637 - mae: 3771.7637 - 89ms/epoch - 3ms/step\n",
            "Epoch 135/200\n",
            "34/34 - 0s - loss: 3767.1594 - mae: 3767.1594 - 87ms/epoch - 3ms/step\n",
            "Epoch 136/200\n",
            "34/34 - 0s - loss: 3765.2900 - mae: 3765.2900 - 96ms/epoch - 3ms/step\n",
            "Epoch 137/200\n",
            "34/34 - 0s - loss: 3774.8015 - mae: 3774.8015 - 88ms/epoch - 3ms/step\n",
            "Epoch 138/200\n",
            "34/34 - 0s - loss: 3783.7449 - mae: 3783.7449 - 90ms/epoch - 3ms/step\n",
            "Epoch 139/200\n",
            "34/34 - 0s - loss: 3760.9326 - mae: 3760.9326 - 99ms/epoch - 3ms/step\n",
            "Epoch 140/200\n",
            "34/34 - 0s - loss: 3761.9009 - mae: 3761.9009 - 88ms/epoch - 3ms/step\n",
            "Epoch 141/200\n",
            "34/34 - 0s - loss: 3763.0837 - mae: 3763.0837 - 96ms/epoch - 3ms/step\n",
            "Epoch 142/200\n",
            "34/34 - 0s - loss: 3765.5735 - mae: 3765.5735 - 96ms/epoch - 3ms/step\n",
            "Epoch 143/200\n",
            "34/34 - 0s - loss: 3754.0137 - mae: 3754.0137 - 85ms/epoch - 2ms/step\n",
            "Epoch 144/200\n",
            "34/34 - 0s - loss: 3750.1289 - mae: 3750.1289 - 88ms/epoch - 3ms/step\n",
            "Epoch 145/200\n",
            "34/34 - 0s - loss: 3750.4255 - mae: 3750.4255 - 91ms/epoch - 3ms/step\n",
            "Epoch 146/200\n",
            "34/34 - 0s - loss: 3755.6450 - mae: 3755.6450 - 98ms/epoch - 3ms/step\n",
            "Epoch 147/200\n",
            "34/34 - 0s - loss: 3750.7109 - mae: 3750.7109 - 99ms/epoch - 3ms/step\n",
            "Epoch 148/200\n",
            "34/34 - 0s - loss: 3756.1077 - mae: 3756.1077 - 85ms/epoch - 3ms/step\n",
            "Epoch 149/200\n",
            "34/34 - 0s - loss: 3743.2109 - mae: 3743.2109 - 93ms/epoch - 3ms/step\n",
            "Epoch 150/200\n",
            "34/34 - 0s - loss: 3738.0129 - mae: 3738.0129 - 90ms/epoch - 3ms/step\n",
            "Epoch 151/200\n",
            "34/34 - 0s - loss: 3740.8389 - mae: 3740.8389 - 79ms/epoch - 2ms/step\n",
            "Epoch 152/200\n",
            "34/34 - 0s - loss: 3741.9507 - mae: 3741.9507 - 79ms/epoch - 2ms/step\n",
            "Epoch 153/200\n",
            "34/34 - 0s - loss: 3743.4333 - mae: 3743.4333 - 78ms/epoch - 2ms/step\n",
            "Epoch 154/200\n",
            "34/34 - 0s - loss: 3736.8655 - mae: 3736.8655 - 90ms/epoch - 3ms/step\n",
            "Epoch 155/200\n",
            "34/34 - 0s - loss: 3739.9255 - mae: 3739.9255 - 79ms/epoch - 2ms/step\n",
            "Epoch 156/200\n",
            "34/34 - 0s - loss: 3735.7598 - mae: 3735.7598 - 77ms/epoch - 2ms/step\n",
            "Epoch 157/200\n",
            "34/34 - 0s - loss: 3731.7363 - mae: 3731.7363 - 80ms/epoch - 2ms/step\n",
            "Epoch 158/200\n",
            "34/34 - 0s - loss: 3729.0215 - mae: 3729.0215 - 86ms/epoch - 3ms/step\n",
            "Epoch 159/200\n",
            "34/34 - 0s - loss: 3726.2014 - mae: 3726.2014 - 79ms/epoch - 2ms/step\n",
            "Epoch 160/200\n",
            "34/34 - 0s - loss: 3733.0508 - mae: 3733.0508 - 83ms/epoch - 2ms/step\n",
            "Epoch 161/200\n",
            "34/34 - 0s - loss: 3727.8806 - mae: 3727.8806 - 90ms/epoch - 3ms/step\n",
            "Epoch 162/200\n",
            "34/34 - 0s - loss: 3725.4124 - mae: 3725.4124 - 101ms/epoch - 3ms/step\n",
            "Epoch 163/200\n",
            "34/34 - 0s - loss: 3722.4500 - mae: 3722.4500 - 101ms/epoch - 3ms/step\n",
            "Epoch 164/200\n",
            "34/34 - 0s - loss: 3726.0574 - mae: 3726.0574 - 93ms/epoch - 3ms/step\n",
            "Epoch 165/200\n",
            "34/34 - 0s - loss: 3716.1028 - mae: 3716.1028 - 92ms/epoch - 3ms/step\n",
            "Epoch 166/200\n",
            "34/34 - 0s - loss: 3719.9087 - mae: 3719.9087 - 86ms/epoch - 3ms/step\n",
            "Epoch 167/200\n",
            "34/34 - 0s - loss: 3720.1733 - mae: 3720.1733 - 96ms/epoch - 3ms/step\n",
            "Epoch 168/200\n",
            "34/34 - 0s - loss: 3714.8030 - mae: 3714.8030 - 95ms/epoch - 3ms/step\n",
            "Epoch 169/200\n",
            "34/34 - 0s - loss: 3712.5010 - mae: 3712.5010 - 93ms/epoch - 3ms/step\n",
            "Epoch 170/200\n",
            "34/34 - 0s - loss: 3707.6460 - mae: 3707.6460 - 86ms/epoch - 3ms/step\n",
            "Epoch 171/200\n",
            "34/34 - 0s - loss: 3706.9507 - mae: 3706.9507 - 95ms/epoch - 3ms/step\n",
            "Epoch 172/200\n",
            "34/34 - 0s - loss: 3710.2581 - mae: 3710.2581 - 92ms/epoch - 3ms/step\n",
            "Epoch 173/200\n",
            "34/34 - 0s - loss: 3703.0903 - mae: 3703.0903 - 92ms/epoch - 3ms/step\n",
            "Epoch 174/200\n",
            "34/34 - 0s - loss: 3708.2817 - mae: 3708.2817 - 81ms/epoch - 2ms/step\n",
            "Epoch 175/200\n",
            "34/34 - 0s - loss: 3709.8196 - mae: 3709.8196 - 89ms/epoch - 3ms/step\n",
            "Epoch 176/200\n",
            "34/34 - 0s - loss: 3706.5349 - mae: 3706.5349 - 93ms/epoch - 3ms/step\n",
            "Epoch 177/200\n",
            "34/34 - 0s - loss: 3699.0059 - mae: 3699.0059 - 93ms/epoch - 3ms/step\n",
            "Epoch 178/200\n",
            "34/34 - 0s - loss: 3697.0435 - mae: 3697.0435 - 93ms/epoch - 3ms/step\n",
            "Epoch 179/200\n",
            "34/34 - 0s - loss: 3705.3923 - mae: 3705.3923 - 91ms/epoch - 3ms/step\n",
            "Epoch 180/200\n",
            "34/34 - 0s - loss: 3708.7976 - mae: 3708.7976 - 89ms/epoch - 3ms/step\n",
            "Epoch 181/200\n",
            "34/34 - 0s - loss: 3695.4951 - mae: 3695.4951 - 98ms/epoch - 3ms/step\n",
            "Epoch 182/200\n",
            "34/34 - 0s - loss: 3692.9119 - mae: 3692.9119 - 90ms/epoch - 3ms/step\n",
            "Epoch 183/200\n",
            "34/34 - 0s - loss: 3691.0803 - mae: 3691.0803 - 88ms/epoch - 3ms/step\n",
            "Epoch 184/200\n",
            "34/34 - 0s - loss: 3697.2925 - mae: 3697.2925 - 83ms/epoch - 2ms/step\n",
            "Epoch 185/200\n",
            "34/34 - 0s - loss: 3692.2539 - mae: 3692.2539 - 78ms/epoch - 2ms/step\n",
            "Epoch 186/200\n",
            "34/34 - 0s - loss: 3694.9592 - mae: 3694.9592 - 84ms/epoch - 2ms/step\n",
            "Epoch 187/200\n",
            "34/34 - 0s - loss: 3687.9229 - mae: 3687.9229 - 83ms/epoch - 2ms/step\n",
            "Epoch 188/200\n",
            "34/34 - 0s - loss: 3693.0203 - mae: 3693.0203 - 94ms/epoch - 3ms/step\n",
            "Epoch 189/200\n",
            "34/34 - 0s - loss: 3683.5591 - mae: 3683.5591 - 83ms/epoch - 2ms/step\n",
            "Epoch 190/200\n",
            "34/34 - 0s - loss: 3681.5999 - mae: 3681.5999 - 84ms/epoch - 2ms/step\n",
            "Epoch 191/200\n",
            "34/34 - 0s - loss: 3700.4976 - mae: 3700.4976 - 87ms/epoch - 3ms/step\n",
            "Epoch 192/200\n",
            "34/34 - 0s - loss: 3684.6633 - mae: 3684.6633 - 86ms/epoch - 3ms/step\n",
            "Epoch 193/200\n",
            "34/34 - 0s - loss: 3673.8638 - mae: 3673.8638 - 89ms/epoch - 3ms/step\n",
            "Epoch 194/200\n",
            "34/34 - 0s - loss: 3675.1255 - mae: 3675.1255 - 104ms/epoch - 3ms/step\n",
            "Epoch 195/200\n",
            "34/34 - 0s - loss: 3672.3789 - mae: 3672.3789 - 92ms/epoch - 3ms/step\n",
            "Epoch 196/200\n",
            "34/34 - 0s - loss: 3681.5464 - mae: 3681.5464 - 80ms/epoch - 2ms/step\n",
            "Epoch 197/200\n",
            "34/34 - 0s - loss: 3665.5332 - mae: 3665.5332 - 57ms/epoch - 2ms/step\n",
            "Epoch 198/200\n",
            "34/34 - 0s - loss: 3671.3528 - mae: 3671.3528 - 61ms/epoch - 2ms/step\n",
            "Epoch 199/200\n",
            "34/34 - 0s - loss: 3680.4878 - mae: 3680.4878 - 59ms/epoch - 2ms/step\n",
            "Epoch 200/200\n",
            "34/34 - 0s - loss: 3665.6006 - mae: 3665.6006 - 57ms/epoch - 2ms/step\n"
          ]
        }
      ]
    },
    {
      "cell_type": "code",
      "source": [
        "# Evalute the third model\n",
        "insurance_model_3.evaluate(X_test, y_test)"
      ],
      "metadata": {
        "colab": {
          "base_uri": "https://localhost:8080/"
        },
        "id": "9xSVnrHTvYyu",
        "outputId": "8ad435ec-3580-4cbc-d4c8-16a56c32b870"
      },
      "execution_count": 108,
      "outputs": [
        {
          "output_type": "stream",
          "name": "stdout",
          "text": [
            "9/9 [==============================] - 0s 3ms/step - loss: 3489.3025 - mae: 3489.3025\n"
          ]
        },
        {
          "output_type": "execute_result",
          "data": {
            "text/plain": [
              "[3489.302490234375, 3489.302490234375]"
            ]
          },
          "metadata": {},
          "execution_count": 108
        }
      ]
    },
    {
      "cell_type": "code",
      "source": [
        "insurance_model.evaluate(X_test,y_test)\n"
      ],
      "metadata": {
        "colab": {
          "base_uri": "https://localhost:8080/"
        },
        "id": "0X0bByLgvyRQ",
        "outputId": "c40e4546-16bf-45a5-e7ef-ac47778207e9"
      },
      "execution_count": 109,
      "outputs": [
        {
          "output_type": "stream",
          "name": "stdout",
          "text": [
            "9/9 [==============================] - 0s 2ms/step - loss: 8702.3086 - mae: 8702.3086\n"
          ]
        },
        {
          "output_type": "execute_result",
          "data": {
            "text/plain": [
              "[8702.30859375, 8702.30859375]"
            ]
          },
          "metadata": {},
          "execution_count": 109
        }
      ]
    },
    {
      "cell_type": "markdown",
      "source": [
        "*Halfed the mae from the initial model*"
      ],
      "metadata": {
        "id": "IQhxSU-_v4It"
      }
    },
    {
      "cell_type": "code",
      "source": [
        "# Plot the history (also known as a loss curve or a training curve)\n",
        "pd.DataFrame(history_3.history).plot()\n",
        "plt.ylabel(\"loss\")\n",
        "plt.xlabel(\"epochs\")"
      ],
      "metadata": {
        "colab": {
          "base_uri": "https://localhost:8080/",
          "height": 466
        },
        "id": "7yZLurOdwF83",
        "outputId": "36cb976d-0ab4-487c-a307-4cd38fddf7c2"
      },
      "execution_count": 110,
      "outputs": [
        {
          "output_type": "execute_result",
          "data": {
            "text/plain": [
              "Text(0.5, 0, 'epochs')"
            ]
          },
          "metadata": {},
          "execution_count": 110
        },
        {
          "output_type": "display_data",
          "data": {
            "text/plain": [
              "<Figure size 640x480 with 1 Axes>"
            ],
            "image/png": "[encoded data removed]"
          },
          "metadata": {}
        }
      ]
    },
    {
      "cell_type": "markdown",
      "source": [
        "> ❓**Question** How long should you train for?\n",
        "\n",
        "It depends... but TensorFlow has thought of a solution. [EarlyStopping Callback](https://www.tensorflow.org/api_docs/python/tf/keras/callbacks/EarlyStopping) A TensorFlow component you can add to your model to stop training when it stops improving a certain metric."
      ],
      "metadata": {
        "id": "g1kzxPZbwKlI"
      }
    },
    {
      "cell_type": "markdown",
      "source": [
        "**Build Experiment 3**"
      ],
      "metadata": {
        "id": "OzyRDGkPyDsQ"
      }
    },
    {
      "cell_type": "code",
      "source": [
        "# Set random seed\n",
        "tf.random.set_seed(42)\n",
        "\n",
        "# 0. Create a Callback for EarlyStopping\n",
        "callback = tf.keras.callbacks.EarlyStopping(monitor='loss', patience=5) ## will stop learning when the loss is not improved over 5 epochs\n",
        "\n",
        "# 1. Create the model\n",
        "insurance_model_4 = tf.keras.Sequential([\n",
        "    tf.keras.layers.Dense(100),\n",
        "    tf.keras.layers.Dense(10),\n",
        "    tf.keras.layers.Dense(1)\n",
        "])\n",
        "\n",
        "# 2. Compile the model\n",
        "insurance_model_4.compile(loss=tf.keras.losses.mae,\n",
        "                          optimizer=tf.keras.optimizers.Adam(),\n",
        "                          metrics=[\"mae\"])\n",
        "\n",
        "# 3. Fit the model\n",
        "history_4 = insurance_model_4.fit(X_train, y_train, callbacks=[callback], epochs=500, verbose=2) #increased the number of epochs to 500"
      ],
      "metadata": {
        "colab": {
          "base_uri": "https://localhost:8080/"
        },
        "id": "JvKQgLKnyUbL",
        "outputId": "f506a5ea-6319-4fdb-dae3-7b93c4c39419"
      },
      "execution_count": 111,
      "outputs": [
        {
          "output_type": "stream",
          "name": "stdout",
          "text": [
            "Epoch 1/500\n",
            "34/34 - 1s - loss: 13311.3232 - mae: 13311.3232 - 1s/epoch - 33ms/step\n",
            "Epoch 2/500\n",
            "34/34 - 0s - loss: 13170.9678 - mae: 13170.9678 - 97ms/epoch - 3ms/step\n",
            "Epoch 3/500\n",
            "34/34 - 0s - loss: 12872.8457 - mae: 12872.8457 - 90ms/epoch - 3ms/step\n",
            "Epoch 4/500\n",
            "34/34 - 0s - loss: 12258.3555 - mae: 12258.3555 - 93ms/epoch - 3ms/step\n",
            "Epoch 5/500\n",
            "34/34 - 0s - loss: 11177.0127 - mae: 11177.0127 - 88ms/epoch - 3ms/step\n",
            "Epoch 6/500\n",
            "34/34 - 0s - loss: 9723.3037 - mae: 9723.3037 - 89ms/epoch - 3ms/step\n",
            "Epoch 7/500\n",
            "34/34 - 0s - loss: 8328.6582 - mae: 8328.6582 - 87ms/epoch - 3ms/step\n",
            "Epoch 8/500\n",
            "34/34 - 0s - loss: 7594.3667 - mae: 7594.3667 - 90ms/epoch - 3ms/step\n",
            "Epoch 9/500\n",
            "34/34 - 0s - loss: 7457.2432 - mae: 7457.2432 - 85ms/epoch - 2ms/step\n",
            "Epoch 10/500\n",
            "34/34 - 0s - loss: 7434.9531 - mae: 7434.9531 - 92ms/epoch - 3ms/step\n",
            "Epoch 11/500\n",
            "34/34 - 0s - loss: 7416.1670 - mae: 7416.1670 - 94ms/epoch - 3ms/step\n",
            "Epoch 12/500\n",
            "34/34 - 0s - loss: 7394.1919 - mae: 7394.1919 - 87ms/epoch - 3ms/step\n",
            "Epoch 13/500\n",
            "34/34 - 0s - loss: 7373.8638 - mae: 7373.8638 - 91ms/epoch - 3ms/step\n",
            "Epoch 14/500\n",
            "34/34 - 0s - loss: 7351.5894 - mae: 7351.5894 - 97ms/epoch - 3ms/step\n",
            "Epoch 15/500\n",
            "34/34 - 0s - loss: 7332.3950 - mae: 7332.3950 - 95ms/epoch - 3ms/step\n",
            "Epoch 16/500\n",
            "34/34 - 0s - loss: 7310.0898 - mae: 7310.0898 - 82ms/epoch - 2ms/step\n",
            "Epoch 17/500\n",
            "34/34 - 0s - loss: 7289.8799 - mae: 7289.8799 - 84ms/epoch - 2ms/step\n",
            "Epoch 18/500\n",
            "34/34 - 0s - loss: 7266.5234 - mae: 7266.5234 - 86ms/epoch - 3ms/step\n",
            "Epoch 19/500\n",
            "34/34 - 0s - loss: 7244.5752 - mae: 7244.5752 - 95ms/epoch - 3ms/step\n",
            "Epoch 20/500\n",
            "34/34 - 0s - loss: 7221.7417 - mae: 7221.7417 - 101ms/epoch - 3ms/step\n",
            "Epoch 21/500\n",
            "34/34 - 0s - loss: 7202.2681 - mae: 7202.2681 - 96ms/epoch - 3ms/step\n",
            "Epoch 22/500\n",
            "34/34 - 0s - loss: 7176.2783 - mae: 7176.2783 - 82ms/epoch - 2ms/step\n",
            "Epoch 23/500\n",
            "34/34 - 0s - loss: 7152.0703 - mae: 7152.0703 - 86ms/epoch - 3ms/step\n",
            "Epoch 24/500\n",
            "34/34 - 0s - loss: 7127.5464 - mae: 7127.5464 - 88ms/epoch - 3ms/step\n",
            "Epoch 25/500\n",
            "34/34 - 0s - loss: 7109.9409 - mae: 7109.9409 - 91ms/epoch - 3ms/step\n",
            "Epoch 26/500\n",
            "34/34 - 0s - loss: 7079.0781 - mae: 7079.0781 - 85ms/epoch - 3ms/step\n",
            "Epoch 27/500\n",
            "34/34 - 0s - loss: 7050.9868 - mae: 7050.9868 - 91ms/epoch - 3ms/step\n",
            "Epoch 28/500\n",
            "34/34 - 0s - loss: 7023.4639 - mae: 7023.4639 - 84ms/epoch - 2ms/step\n",
            "Epoch 29/500\n",
            "34/34 - 0s - loss: 6996.0815 - mae: 6996.0815 - 92ms/epoch - 3ms/step\n",
            "Epoch 30/500\n",
            "34/34 - 0s - loss: 6969.9404 - mae: 6969.9404 - 92ms/epoch - 3ms/step\n",
            "Epoch 31/500\n",
            "34/34 - 0s - loss: 6939.5122 - mae: 6939.5122 - 73ms/epoch - 2ms/step\n",
            "Epoch 32/500\n",
            "34/34 - 0s - loss: 6912.3818 - mae: 6912.3818 - 60ms/epoch - 2ms/step\n",
            "Epoch 33/500\n",
            "34/34 - 0s - loss: 6881.8853 - mae: 6881.8853 - 61ms/epoch - 2ms/step\n",
            "Epoch 34/500\n",
            "34/34 - 0s - loss: 6850.0771 - mae: 6850.0771 - 62ms/epoch - 2ms/step\n",
            "Epoch 35/500\n",
            "34/34 - 0s - loss: 6818.3208 - mae: 6818.3208 - 61ms/epoch - 2ms/step\n",
            "Epoch 36/500\n",
            "34/34 - 0s - loss: 6785.1484 - mae: 6785.1484 - 61ms/epoch - 2ms/step\n",
            "Epoch 37/500\n",
            "34/34 - 0s - loss: 6750.4121 - mae: 6750.4121 - 59ms/epoch - 2ms/step\n",
            "Epoch 38/500\n",
            "34/34 - 0s - loss: 6718.1250 - mae: 6718.1250 - 72ms/epoch - 2ms/step\n",
            "Epoch 39/500\n",
            "34/34 - 0s - loss: 6679.6416 - mae: 6679.6416 - 59ms/epoch - 2ms/step\n",
            "Epoch 40/500\n",
            "34/34 - 0s - loss: 6644.3252 - mae: 6644.3252 - 58ms/epoch - 2ms/step\n",
            "Epoch 41/500\n",
            "34/34 - 0s - loss: 6610.1313 - mae: 6610.1313 - 58ms/epoch - 2ms/step\n",
            "Epoch 42/500\n",
            "34/34 - 0s - loss: 6580.1792 - mae: 6580.1792 - 64ms/epoch - 2ms/step\n",
            "Epoch 43/500\n",
            "34/34 - 0s - loss: 6546.9448 - mae: 6546.9448 - 63ms/epoch - 2ms/step\n",
            "Epoch 44/500\n",
            "34/34 - 0s - loss: 6519.4844 - mae: 6519.4844 - 62ms/epoch - 2ms/step\n",
            "Epoch 45/500\n",
            "34/34 - 0s - loss: 6499.9062 - mae: 6499.9062 - 59ms/epoch - 2ms/step\n",
            "Epoch 46/500\n",
            "34/34 - 0s - loss: 6480.3633 - mae: 6480.3633 - 62ms/epoch - 2ms/step\n",
            "Epoch 47/500\n",
            "34/34 - 0s - loss: 6462.9121 - mae: 6462.9121 - 64ms/epoch - 2ms/step\n",
            "Epoch 48/500\n",
            "34/34 - 0s - loss: 6446.2085 - mae: 6446.2085 - 61ms/epoch - 2ms/step\n",
            "Epoch 49/500\n",
            "34/34 - 0s - loss: 6432.7354 - mae: 6432.7354 - 61ms/epoch - 2ms/step\n",
            "Epoch 50/500\n",
            "34/34 - 0s - loss: 6418.4399 - mae: 6418.4399 - 58ms/epoch - 2ms/step\n",
            "Epoch 51/500\n",
            "34/34 - 0s - loss: 6404.6753 - mae: 6404.6753 - 58ms/epoch - 2ms/step\n",
            "Epoch 52/500\n",
            "34/34 - 0s - loss: 6393.3281 - mae: 6393.3281 - 62ms/epoch - 2ms/step\n",
            "Epoch 53/500\n",
            "34/34 - 0s - loss: 6378.9336 - mae: 6378.9336 - 76ms/epoch - 2ms/step\n",
            "Epoch 54/500\n",
            "34/34 - 0s - loss: 6364.6821 - mae: 6364.6821 - 61ms/epoch - 2ms/step\n",
            "Epoch 55/500\n",
            "34/34 - 0s - loss: 6351.0337 - mae: 6351.0337 - 64ms/epoch - 2ms/step\n",
            "Epoch 56/500\n",
            "34/34 - 0s - loss: 6336.9990 - mae: 6336.9990 - 57ms/epoch - 2ms/step\n",
            "Epoch 57/500\n",
            "34/34 - 0s - loss: 6323.9556 - mae: 6323.9556 - 63ms/epoch - 2ms/step\n",
            "Epoch 58/500\n",
            "34/34 - 0s - loss: 6309.2510 - mae: 6309.2510 - 65ms/epoch - 2ms/step\n",
            "Epoch 59/500\n",
            "34/34 - 0s - loss: 6294.3296 - mae: 6294.3296 - 59ms/epoch - 2ms/step\n",
            "Epoch 60/500\n",
            "34/34 - 0s - loss: 6283.8979 - mae: 6283.8979 - 64ms/epoch - 2ms/step\n",
            "Epoch 61/500\n",
            "34/34 - 0s - loss: 6263.9087 - mae: 6263.9087 - 61ms/epoch - 2ms/step\n",
            "Epoch 62/500\n",
            "34/34 - 0s - loss: 6251.8501 - mae: 6251.8501 - 61ms/epoch - 2ms/step\n",
            "Epoch 63/500\n",
            "34/34 - 0s - loss: 6232.7612 - mae: 6232.7612 - 65ms/epoch - 2ms/step\n",
            "Epoch 64/500\n",
            "34/34 - 0s - loss: 6215.9951 - mae: 6215.9951 - 64ms/epoch - 2ms/step\n",
            "Epoch 65/500\n",
            "34/34 - 0s - loss: 6199.1128 - mae: 6199.1128 - 63ms/epoch - 2ms/step\n",
            "Epoch 66/500\n",
            "34/34 - 0s - loss: 6181.7905 - mae: 6181.7905 - 65ms/epoch - 2ms/step\n",
            "Epoch 67/500\n",
            "34/34 - 0s - loss: 6169.4673 - mae: 6169.4673 - 61ms/epoch - 2ms/step\n",
            "Epoch 68/500\n",
            "34/34 - 0s - loss: 6146.5557 - mae: 6146.5557 - 78ms/epoch - 2ms/step\n",
            "Epoch 69/500\n",
            "34/34 - 0s - loss: 6129.9951 - mae: 6129.9951 - 64ms/epoch - 2ms/step\n",
            "Epoch 70/500\n",
            "34/34 - 0s - loss: 6109.5415 - mae: 6109.5415 - 64ms/epoch - 2ms/step\n",
            "Epoch 71/500\n",
            "34/34 - 0s - loss: 6090.1250 - mae: 6090.1250 - 63ms/epoch - 2ms/step\n",
            "Epoch 72/500\n",
            "34/34 - 0s - loss: 6070.3286 - mae: 6070.3286 - 61ms/epoch - 2ms/step\n",
            "Epoch 73/500\n",
            "34/34 - 0s - loss: 6056.1577 - mae: 6056.1577 - 68ms/epoch - 2ms/step\n",
            "Epoch 74/500\n",
            "34/34 - 0s - loss: 6028.4756 - mae: 6028.4756 - 62ms/epoch - 2ms/step\n",
            "Epoch 75/500\n",
            "34/34 - 0s - loss: 6007.4204 - mae: 6007.4204 - 70ms/epoch - 2ms/step\n",
            "Epoch 76/500\n",
            "34/34 - 0s - loss: 5991.9619 - mae: 5991.9619 - 66ms/epoch - 2ms/step\n",
            "Epoch 77/500\n",
            "34/34 - 0s - loss: 5959.0420 - mae: 5959.0420 - 66ms/epoch - 2ms/step\n",
            "Epoch 78/500\n",
            "34/34 - 0s - loss: 5935.9419 - mae: 5935.9419 - 65ms/epoch - 2ms/step\n",
            "Epoch 79/500\n",
            "34/34 - 0s - loss: 5911.3496 - mae: 5911.3496 - 77ms/epoch - 2ms/step\n",
            "Epoch 80/500\n",
            "34/34 - 0s - loss: 5883.8608 - mae: 5883.8608 - 73ms/epoch - 2ms/step\n",
            "Epoch 81/500\n",
            "34/34 - 0s - loss: 5857.5962 - mae: 5857.5962 - 68ms/epoch - 2ms/step\n",
            "Epoch 82/500\n",
            "34/34 - 0s - loss: 5829.3398 - mae: 5829.3398 - 77ms/epoch - 2ms/step\n",
            "Epoch 83/500\n",
            "34/34 - 0s - loss: 5801.0786 - mae: 5801.0786 - 65ms/epoch - 2ms/step\n",
            "Epoch 84/500\n",
            "34/34 - 0s - loss: 5767.0679 - mae: 5767.0679 - 61ms/epoch - 2ms/step\n",
            "Epoch 85/500\n",
            "34/34 - 0s - loss: 5739.6602 - mae: 5739.6602 - 71ms/epoch - 2ms/step\n",
            "Epoch 86/500\n",
            "34/34 - 0s - loss: 5705.0889 - mae: 5705.0889 - 67ms/epoch - 2ms/step\n",
            "Epoch 87/500\n",
            "34/34 - 0s - loss: 5668.7305 - mae: 5668.7305 - 66ms/epoch - 2ms/step\n",
            "Epoch 88/500\n",
            "34/34 - 0s - loss: 5633.4927 - mae: 5633.4927 - 67ms/epoch - 2ms/step\n",
            "Epoch 89/500\n",
            "34/34 - 0s - loss: 5594.4365 - mae: 5594.4365 - 71ms/epoch - 2ms/step\n",
            "Epoch 90/500\n",
            "34/34 - 0s - loss: 5552.8501 - mae: 5552.8501 - 64ms/epoch - 2ms/step\n",
            "Epoch 91/500\n",
            "34/34 - 0s - loss: 5516.8042 - mae: 5516.8042 - 67ms/epoch - 2ms/step\n",
            "Epoch 92/500\n",
            "34/34 - 0s - loss: 5467.2520 - mae: 5467.2520 - 64ms/epoch - 2ms/step\n",
            "Epoch 93/500\n",
            "34/34 - 0s - loss: 5424.7148 - mae: 5424.7148 - 63ms/epoch - 2ms/step\n",
            "Epoch 94/500\n",
            "34/34 - 0s - loss: 5378.1963 - mae: 5378.1963 - 63ms/epoch - 2ms/step\n",
            "Epoch 95/500\n",
            "34/34 - 0s - loss: 5326.2056 - mae: 5326.2056 - 60ms/epoch - 2ms/step\n",
            "Epoch 96/500\n",
            "34/34 - 0s - loss: 5280.3838 - mae: 5280.3838 - 72ms/epoch - 2ms/step\n",
            "Epoch 97/500\n",
            "34/34 - 0s - loss: 5226.6836 - mae: 5226.6836 - 71ms/epoch - 2ms/step\n",
            "Epoch 98/500\n",
            "34/34 - 0s - loss: 5164.1094 - mae: 5164.1094 - 70ms/epoch - 2ms/step\n",
            "Epoch 99/500\n",
            "34/34 - 0s - loss: 5105.6221 - mae: 5105.6221 - 61ms/epoch - 2ms/step\n",
            "Epoch 100/500\n",
            "34/34 - 0s - loss: 5046.6470 - mae: 5046.6470 - 66ms/epoch - 2ms/step\n",
            "Epoch 101/500\n",
            "34/34 - 0s - loss: 4977.4360 - mae: 4977.4360 - 60ms/epoch - 2ms/step\n",
            "Epoch 102/500\n",
            "34/34 - 0s - loss: 4905.9492 - mae: 4905.9492 - 66ms/epoch - 2ms/step\n",
            "Epoch 103/500\n",
            "34/34 - 0s - loss: 4838.3291 - mae: 4838.3291 - 64ms/epoch - 2ms/step\n",
            "Epoch 104/500\n",
            "34/34 - 0s - loss: 4757.6289 - mae: 4757.6289 - 68ms/epoch - 2ms/step\n",
            "Epoch 105/500\n",
            "34/34 - 0s - loss: 4672.7803 - mae: 4672.7803 - 69ms/epoch - 2ms/step\n",
            "Epoch 106/500\n",
            "34/34 - 0s - loss: 4591.3672 - mae: 4591.3672 - 72ms/epoch - 2ms/step\n",
            "Epoch 107/500\n",
            "34/34 - 0s - loss: 4504.3232 - mae: 4504.3232 - 67ms/epoch - 2ms/step\n",
            "Epoch 108/500\n",
            "34/34 - 0s - loss: 4413.7515 - mae: 4413.7515 - 60ms/epoch - 2ms/step\n",
            "Epoch 109/500\n",
            "34/34 - 0s - loss: 4329.9429 - mae: 4329.9429 - 63ms/epoch - 2ms/step\n",
            "Epoch 110/500\n",
            "34/34 - 0s - loss: 4246.9966 - mae: 4246.9966 - 57ms/epoch - 2ms/step\n",
            "Epoch 111/500\n",
            "34/34 - 0s - loss: 4166.6387 - mae: 4166.6387 - 64ms/epoch - 2ms/step\n",
            "Epoch 112/500\n",
            "34/34 - 0s - loss: 4097.1787 - mae: 4097.1787 - 78ms/epoch - 2ms/step\n",
            "Epoch 113/500\n",
            "34/34 - 0s - loss: 4027.4280 - mae: 4027.4280 - 67ms/epoch - 2ms/step\n",
            "Epoch 114/500\n",
            "34/34 - 0s - loss: 3983.7266 - mae: 3983.7266 - 65ms/epoch - 2ms/step\n",
            "Epoch 115/500\n",
            "34/34 - 0s - loss: 3942.9426 - mae: 3942.9426 - 67ms/epoch - 2ms/step\n",
            "Epoch 116/500\n",
            "34/34 - 0s - loss: 3921.9766 - mae: 3921.9766 - 68ms/epoch - 2ms/step\n",
            "Epoch 117/500\n",
            "34/34 - 0s - loss: 3896.6821 - mae: 3896.6821 - 69ms/epoch - 2ms/step\n",
            "Epoch 118/500\n",
            "34/34 - 0s - loss: 3870.7375 - mae: 3870.7375 - 68ms/epoch - 2ms/step\n",
            "Epoch 119/500\n",
            "34/34 - 0s - loss: 3854.0408 - mae: 3854.0408 - 66ms/epoch - 2ms/step\n",
            "Epoch 120/500\n",
            "34/34 - 0s - loss: 3835.5051 - mae: 3835.5051 - 74ms/epoch - 2ms/step\n",
            "Epoch 121/500\n",
            "34/34 - 0s - loss: 3828.6387 - mae: 3828.6387 - 62ms/epoch - 2ms/step\n",
            "Epoch 122/500\n",
            "34/34 - 0s - loss: 3822.6018 - mae: 3822.6018 - 68ms/epoch - 2ms/step\n",
            "Epoch 123/500\n",
            "34/34 - 0s - loss: 3815.0237 - mae: 3815.0237 - 62ms/epoch - 2ms/step\n",
            "Epoch 124/500\n",
            "34/34 - 0s - loss: 3807.0645 - mae: 3807.0645 - 65ms/epoch - 2ms/step\n",
            "Epoch 125/500\n",
            "34/34 - 0s - loss: 3796.7820 - mae: 3796.7820 - 65ms/epoch - 2ms/step\n",
            "Epoch 126/500\n",
            "34/34 - 0s - loss: 3804.9294 - mae: 3804.9294 - 74ms/epoch - 2ms/step\n",
            "Epoch 127/500\n",
            "34/34 - 0s - loss: 3797.6689 - mae: 3797.6689 - 69ms/epoch - 2ms/step\n",
            "Epoch 128/500\n",
            "34/34 - 0s - loss: 3792.2512 - mae: 3792.2512 - 62ms/epoch - 2ms/step\n",
            "Epoch 129/500\n",
            "34/34 - 0s - loss: 3800.9197 - mae: 3800.9197 - 64ms/epoch - 2ms/step\n",
            "Epoch 130/500\n",
            "34/34 - 0s - loss: 3792.4819 - mae: 3792.4819 - 64ms/epoch - 2ms/step\n",
            "Epoch 131/500\n",
            "34/34 - 0s - loss: 3782.0303 - mae: 3782.0303 - 60ms/epoch - 2ms/step\n",
            "Epoch 132/500\n",
            "34/34 - 0s - loss: 3775.5474 - mae: 3775.5474 - 63ms/epoch - 2ms/step\n",
            "Epoch 133/500\n",
            "34/34 - 0s - loss: 3771.6292 - mae: 3771.6292 - 59ms/epoch - 2ms/step\n",
            "Epoch 134/500\n",
            "34/34 - 0s - loss: 3771.8086 - mae: 3771.8086 - 70ms/epoch - 2ms/step\n",
            "Epoch 135/500\n",
            "34/34 - 0s - loss: 3768.3726 - mae: 3768.3726 - 60ms/epoch - 2ms/step\n",
            "Epoch 136/500\n",
            "34/34 - 0s - loss: 3766.7686 - mae: 3766.7686 - 65ms/epoch - 2ms/step\n",
            "Epoch 137/500\n",
            "34/34 - 0s - loss: 3775.0134 - mae: 3775.0134 - 61ms/epoch - 2ms/step\n",
            "Epoch 138/500\n",
            "34/34 - 0s - loss: 3783.6294 - mae: 3783.6294 - 60ms/epoch - 2ms/step\n",
            "Epoch 139/500\n",
            "34/34 - 0s - loss: 3762.2520 - mae: 3762.2520 - 58ms/epoch - 2ms/step\n",
            "Epoch 140/500\n",
            "34/34 - 0s - loss: 3763.5410 - mae: 3763.5410 - 65ms/epoch - 2ms/step\n",
            "Epoch 141/500\n",
            "34/34 - 0s - loss: 3764.9541 - mae: 3764.9541 - 67ms/epoch - 2ms/step\n",
            "Epoch 142/500\n",
            "34/34 - 0s - loss: 3767.0012 - mae: 3767.0012 - 60ms/epoch - 2ms/step\n",
            "Epoch 143/500\n",
            "34/34 - 0s - loss: 3755.6404 - mae: 3755.6404 - 67ms/epoch - 2ms/step\n",
            "Epoch 144/500\n",
            "34/34 - 0s - loss: 3751.6069 - mae: 3751.6069 - 61ms/epoch - 2ms/step\n",
            "Epoch 145/500\n",
            "34/34 - 0s - loss: 3751.9565 - mae: 3751.9565 - 60ms/epoch - 2ms/step\n",
            "Epoch 146/500\n",
            "34/34 - 0s - loss: 3756.8335 - mae: 3756.8335 - 62ms/epoch - 2ms/step\n",
            "Epoch 147/500\n",
            "34/34 - 0s - loss: 3753.4397 - mae: 3753.4397 - 60ms/epoch - 2ms/step\n",
            "Epoch 148/500\n",
            "34/34 - 0s - loss: 3756.7158 - mae: 3756.7158 - 60ms/epoch - 2ms/step\n",
            "Epoch 149/500\n",
            "34/34 - 0s - loss: 3744.6956 - mae: 3744.6956 - 62ms/epoch - 2ms/step\n",
            "Epoch 150/500\n",
            "34/34 - 0s - loss: 3739.4355 - mae: 3739.4355 - 61ms/epoch - 2ms/step\n",
            "Epoch 151/500\n",
            "34/34 - 0s - loss: 3741.6003 - mae: 3741.6003 - 59ms/epoch - 2ms/step\n",
            "Epoch 152/500\n",
            "34/34 - 0s - loss: 3742.4194 - mae: 3742.4194 - 59ms/epoch - 2ms/step\n",
            "Epoch 153/500\n",
            "34/34 - 0s - loss: 3744.6033 - mae: 3744.6033 - 59ms/epoch - 2ms/step\n",
            "Epoch 154/500\n",
            "34/34 - 0s - loss: 3738.1172 - mae: 3738.1172 - 60ms/epoch - 2ms/step\n",
            "Epoch 155/500\n",
            "34/34 - 0s - loss: 3739.9634 - mae: 3739.9634 - 65ms/epoch - 2ms/step\n",
            "Epoch 156/500\n",
            "34/34 - 0s - loss: 3735.8591 - mae: 3735.8591 - 58ms/epoch - 2ms/step\n",
            "Epoch 157/500\n",
            "34/34 - 0s - loss: 3734.0222 - mae: 3734.0222 - 75ms/epoch - 2ms/step\n",
            "Epoch 158/500\n",
            "34/34 - 0s - loss: 3730.1509 - mae: 3730.1509 - 60ms/epoch - 2ms/step\n",
            "Epoch 159/500\n",
            "34/34 - 0s - loss: 3729.2593 - mae: 3729.2593 - 66ms/epoch - 2ms/step\n",
            "Epoch 160/500\n",
            "34/34 - 0s - loss: 3734.5784 - mae: 3734.5784 - 60ms/epoch - 2ms/step\n",
            "Epoch 161/500\n",
            "34/34 - 0s - loss: 3729.9871 - mae: 3729.9871 - 61ms/epoch - 2ms/step\n",
            "Epoch 162/500\n",
            "34/34 - 0s - loss: 3725.8079 - mae: 3725.8079 - 60ms/epoch - 2ms/step\n",
            "Epoch 163/500\n",
            "34/34 - 0s - loss: 3723.4746 - mae: 3723.4746 - 62ms/epoch - 2ms/step\n",
            "Epoch 164/500\n",
            "34/34 - 0s - loss: 3727.8335 - mae: 3727.8335 - 60ms/epoch - 2ms/step\n",
            "Epoch 165/500\n",
            "34/34 - 0s - loss: 3718.1072 - mae: 3718.1072 - 68ms/epoch - 2ms/step\n",
            "Epoch 166/500\n",
            "34/34 - 0s - loss: 3721.6604 - mae: 3721.6604 - 68ms/epoch - 2ms/step\n",
            "Epoch 167/500\n",
            "34/34 - 0s - loss: 3720.2031 - mae: 3720.2031 - 65ms/epoch - 2ms/step\n",
            "Epoch 168/500\n",
            "34/34 - 0s - loss: 3715.9670 - mae: 3715.9670 - 62ms/epoch - 2ms/step\n",
            "Epoch 169/500\n",
            "34/34 - 0s - loss: 3714.9915 - mae: 3714.9915 - 62ms/epoch - 2ms/step\n",
            "Epoch 170/500\n",
            "34/34 - 0s - loss: 3709.1804 - mae: 3709.1804 - 66ms/epoch - 2ms/step\n",
            "Epoch 171/500\n",
            "34/34 - 0s - loss: 3708.6948 - mae: 3708.6948 - 60ms/epoch - 2ms/step\n",
            "Epoch 172/500\n",
            "34/34 - 0s - loss: 3710.1682 - mae: 3710.1682 - 68ms/epoch - 2ms/step\n",
            "Epoch 173/500\n",
            "34/34 - 0s - loss: 3706.9363 - mae: 3706.9363 - 60ms/epoch - 2ms/step\n",
            "Epoch 174/500\n",
            "34/34 - 0s - loss: 3710.7046 - mae: 3710.7046 - 58ms/epoch - 2ms/step\n",
            "Epoch 175/500\n",
            "34/34 - 0s - loss: 3710.9485 - mae: 3710.9485 - 69ms/epoch - 2ms/step\n",
            "Epoch 176/500\n",
            "34/34 - 0s - loss: 3707.7778 - mae: 3707.7778 - 80ms/epoch - 2ms/step\n",
            "Epoch 177/500\n",
            "34/34 - 0s - loss: 3700.6958 - mae: 3700.6958 - 105ms/epoch - 3ms/step\n",
            "Epoch 178/500\n",
            "34/34 - 0s - loss: 3696.9973 - mae: 3696.9973 - 111ms/epoch - 3ms/step\n",
            "Epoch 179/500\n",
            "34/34 - 0s - loss: 3708.5347 - mae: 3708.5347 - 88ms/epoch - 3ms/step\n",
            "Epoch 180/500\n",
            "34/34 - 0s - loss: 3711.1812 - mae: 3711.1812 - 95ms/epoch - 3ms/step\n",
            "Epoch 181/500\n",
            "34/34 - 0s - loss: 3697.5066 - mae: 3697.5066 - 86ms/epoch - 3ms/step\n",
            "Epoch 182/500\n",
            "34/34 - 0s - loss: 3694.5430 - mae: 3694.5430 - 76ms/epoch - 2ms/step\n",
            "Epoch 183/500\n",
            "34/34 - 0s - loss: 3693.1223 - mae: 3693.1223 - 101ms/epoch - 3ms/step\n",
            "Epoch 184/500\n",
            "34/34 - 0s - loss: 3699.9319 - mae: 3699.9319 - 90ms/epoch - 3ms/step\n",
            "Epoch 185/500\n",
            "34/34 - 0s - loss: 3694.9360 - mae: 3694.9360 - 101ms/epoch - 3ms/step\n",
            "Epoch 186/500\n",
            "34/34 - 0s - loss: 3699.3408 - mae: 3699.3408 - 90ms/epoch - 3ms/step\n",
            "Epoch 187/500\n",
            "34/34 - 0s - loss: 3688.2322 - mae: 3688.2322 - 92ms/epoch - 3ms/step\n",
            "Epoch 188/500\n",
            "34/34 - 0s - loss: 3696.3777 - mae: 3696.3777 - 96ms/epoch - 3ms/step\n",
            "Epoch 189/500\n",
            "34/34 - 0s - loss: 3684.6558 - mae: 3684.6558 - 92ms/epoch - 3ms/step\n",
            "Epoch 190/500\n",
            "34/34 - 0s - loss: 3684.5640 - mae: 3684.5640 - 87ms/epoch - 3ms/step\n",
            "Epoch 191/500\n",
            "34/34 - 0s - loss: 3703.8923 - mae: 3703.8923 - 89ms/epoch - 3ms/step\n",
            "Epoch 192/500\n",
            "34/34 - 0s - loss: 3685.5693 - mae: 3685.5693 - 88ms/epoch - 3ms/step\n",
            "Epoch 193/500\n",
            "34/34 - 0s - loss: 3676.6250 - mae: 3676.6250 - 79ms/epoch - 2ms/step\n",
            "Epoch 194/500\n",
            "34/34 - 0s - loss: 3677.5845 - mae: 3677.5845 - 96ms/epoch - 3ms/step\n",
            "Epoch 195/500\n",
            "34/34 - 0s - loss: 3674.8115 - mae: 3674.8115 - 91ms/epoch - 3ms/step\n",
            "Epoch 196/500\n",
            "34/34 - 0s - loss: 3682.3381 - mae: 3682.3381 - 95ms/epoch - 3ms/step\n",
            "Epoch 197/500\n",
            "34/34 - 0s - loss: 3667.5146 - mae: 3667.5146 - 92ms/epoch - 3ms/step\n",
            "Epoch 198/500\n",
            "34/34 - 0s - loss: 3672.7737 - mae: 3672.7737 - 91ms/epoch - 3ms/step\n",
            "Epoch 199/500\n",
            "34/34 - 0s - loss: 3681.6394 - mae: 3681.6394 - 99ms/epoch - 3ms/step\n",
            "Epoch 200/500\n",
            "34/34 - 0s - loss: 3667.9150 - mae: 3667.9150 - 96ms/epoch - 3ms/step\n",
            "Epoch 201/500\n",
            "34/34 - 0s - loss: 3668.6663 - mae: 3668.6663 - 91ms/epoch - 3ms/step\n",
            "Epoch 202/500\n",
            "34/34 - 0s - loss: 3666.1685 - mae: 3666.1685 - 96ms/epoch - 3ms/step\n",
            "Epoch 203/500\n",
            "34/34 - 0s - loss: 3664.7776 - mae: 3664.7776 - 94ms/epoch - 3ms/step\n",
            "Epoch 204/500\n",
            "34/34 - 0s - loss: 3655.9326 - mae: 3655.9326 - 91ms/epoch - 3ms/step\n",
            "Epoch 205/500\n",
            "34/34 - 0s - loss: 3664.1311 - mae: 3664.1311 - 93ms/epoch - 3ms/step\n",
            "Epoch 206/500\n",
            "34/34 - 0s - loss: 3660.7009 - mae: 3660.7009 - 94ms/epoch - 3ms/step\n",
            "Epoch 207/500\n",
            "34/34 - 0s - loss: 3659.3230 - mae: 3659.3230 - 85ms/epoch - 2ms/step\n",
            "Epoch 208/500\n",
            "34/34 - 0s - loss: 3654.9915 - mae: 3654.9915 - 90ms/epoch - 3ms/step\n",
            "Epoch 209/500\n",
            "34/34 - 0s - loss: 3655.1338 - mae: 3655.1338 - 87ms/epoch - 3ms/step\n",
            "Epoch 210/500\n",
            "34/34 - 0s - loss: 3659.1648 - mae: 3659.1648 - 91ms/epoch - 3ms/step\n",
            "Epoch 211/500\n",
            "34/34 - 0s - loss: 3658.1545 - mae: 3658.1545 - 89ms/epoch - 3ms/step\n",
            "Epoch 212/500\n",
            "34/34 - 0s - loss: 3667.1279 - mae: 3667.1279 - 90ms/epoch - 3ms/step\n",
            "Epoch 213/500\n",
            "34/34 - 0s - loss: 3657.3296 - mae: 3657.3296 - 99ms/epoch - 3ms/step\n"
          ]
        }
      ]
    },
    {
      "cell_type": "code",
      "source": [
        "# Evalute the fourth model\n",
        "insurance_model_4.evaluate(X_test, y_test)"
      ],
      "metadata": {
        "colab": {
          "base_uri": "https://localhost:8080/"
        },
        "id": "68EZiXZMzVfF",
        "outputId": "2bea7e2d-ef21-48b4-9333-73a6e4302609"
      },
      "execution_count": 112,
      "outputs": [
        {
          "output_type": "stream",
          "name": "stdout",
          "text": [
            "9/9 [==============================] - 0s 2ms/step - loss: 3458.7412 - mae: 3458.7412\n"
          ]
        },
        {
          "output_type": "execute_result",
          "data": {
            "text/plain": [
              "[3458.7412109375, 3458.7412109375]"
            ]
          },
          "metadata": {},
          "execution_count": 112
        }
      ]
    },
    {
      "cell_type": "code",
      "source": [
        "# Plot the history (also known as a loss curve or a training curve)\n",
        "pd.DataFrame(history_4.history).plot()\n",
        "plt.ylabel(\"loss\")\n",
        "plt.xlabel(\"epochs\")"
      ],
      "metadata": {
        "colab": {
          "base_uri": "https://localhost:8080/",
          "height": 466
        },
        "id": "vd1RTM52zql3",
        "outputId": "f772646c-a20b-449a-b9bc-c11c70b6493d"
      },
      "execution_count": 113,
      "outputs": [
        {
          "output_type": "execute_result",
          "data": {
            "text/plain": [
              "Text(0.5, 0, 'epochs')"
            ]
          },
          "metadata": {},
          "execution_count": 113
        },
        {
          "output_type": "display_data",
          "data": {
            "text/plain": [
              "<Figure size 640x480 with 1 Axes>"
            ],
            "image/png": "[encoded data removed]"
          },
          "metadata": {}
        }
      ]
    },
    {
      "cell_type": "code",
      "source": [
        "# How many epochs did it learn?\n",
        "len(history_4.history['loss'])"
      ],
      "metadata": {
        "id": "O5xYH8Zaz9AO",
        "outputId": "737a1a76-9aec-4be4-f9d9-4708d82ed8e9",
        "colab": {
          "base_uri": "https://localhost:8080/"
        }
      },
      "execution_count": 114,
      "outputs": [
        {
          "output_type": "execute_result",
          "data": {
            "text/plain": [
              "213"
            ]
          },
          "metadata": {},
          "execution_count": 114
        }
      ]
    },
    {
      "cell_type": "markdown",
      "source": [
        "📝**Note:** The fit only ran for 202 epochs before it stopped improving"
      ],
      "metadata": {
        "id": "VLRrlTpKzvNN"
      }
    },
    {
      "cell_type": "markdown",
      "source": [
        "## Preprocessing data (normalization and standardization)\n",
        "\n",
        "In terms of scaling values, NN tend to prefer Normalization.\n",
        "\n",
        "🗒️**Article** - [SciKit-Learn functions and use cases](https://towardsdatascience.com/scale-standardize-or-normalize-with-scikit-learn-6ccc7d176a02)\n",
        "\n",
        "If you're not sure on which to use, try both and see which works better.\n",
        "\n",
        "* **Normalization (scale)** -  Normalization is a technique often applied as part of data preparation for machine learning. The goal of normalization is to change the values of numeric columns in the dataset to use a common scale, without distorting differences in the ranges of values or losing information.\n",
        "* **Standardization** - Standardization is a type of feature scaling ,is used to bring uniformity to the datasets , resulting in independent variables and features of the same scale and range\n",
        "\n"
      ],
      "metadata": {
        "id": "kKR0WTM0xCvz"
      }
    },
    {
      "cell_type": "code",
      "source": [
        "X[\"age\"].plot(kind=\"hist\")"
      ],
      "metadata": {
        "id": "jgZmg8XAx5FX",
        "colab": {
          "base_uri": "https://localhost:8080/",
          "height": 447
        },
        "outputId": "bca16ca4-74e5-482c-cdc4-3b7262e77bc4"
      },
      "execution_count": 115,
      "outputs": [
        {
          "output_type": "execute_result",
          "data": {
            "text/plain": [
              "<Axes: ylabel='Frequency'>"
            ]
          },
          "metadata": {},
          "execution_count": 115
        },
        {
          "output_type": "display_data",
          "data": {
            "text/plain": [
              "<Figure size 640x480 with 1 Axes>"
            ],
            "image/png": "[encoded data removed]"
          },
          "metadata": {}
        }
      ]
    },
    {
      "cell_type": "code",
      "source": [
        "X[\"bmi\"].plot(kind=\"hist\")"
      ],
      "metadata": {
        "colab": {
          "base_uri": "https://localhost:8080/",
          "height": 447
        },
        "id": "E-emxXOtACCz",
        "outputId": "f56e5bff-5988-485c-e8b2-71b23af46786"
      },
      "execution_count": 116,
      "outputs": [
        {
          "output_type": "execute_result",
          "data": {
            "text/plain": [
              "<Axes: ylabel='Frequency'>"
            ]
          },
          "metadata": {},
          "execution_count": 116
        },
        {
          "output_type": "display_data",
          "data": {
            "text/plain": [
              "<Figure size 640x480 with 1 Axes>"
            ],
            "image/png": "[encoded data removed]"
          },
          "metadata": {}
        }
      ]
    },
    {
      "cell_type": "code",
      "source": [
        "X['children'].value_counts()"
      ],
      "metadata": {
        "colab": {
          "base_uri": "https://localhost:8080/"
        },
        "id": "MtMd1z-WAEfb",
        "outputId": "c092c87e-162d-4bbd-c05e-cbee57bc1008"
      },
      "execution_count": 117,
      "outputs": [
        {
          "output_type": "execute_result",
          "data": {
            "text/plain": [
              "0    574\n",
              "1    324\n",
              "2    240\n",
              "3    157\n",
              "4     25\n",
              "5     18\n",
              "Name: children, dtype: int64"
            ]
          },
          "metadata": {},
          "execution_count": 117
        }
      ]
    },
    {
      "cell_type": "markdown",
      "source": [
        "❓❓❓ *What is we wanted to get them all from 0-1?*\n",
        "\n",
        "* **Scikit-Learn** - `MinMaxScaler` - Converts all values to between 0 and 1 whilst preserving the original distribution"
      ],
      "metadata": {
        "id": "xK5vSJCNAJer"
      }
    },
    {
      "cell_type": "code",
      "source": [
        "import pandas as pd\n",
        "import matplotlib.pyplot as plt\n",
        "import tensorflow as tf\n",
        "\n",
        "# Read in the insurance DataFrame\n",
        "insurance = pd.read_csv(\"https://raw.githubusercontent.com/stedy/Machine-Learning-with-R-datasets/master/insurance.csv\")\n",
        "insurance"
      ],
      "metadata": {
        "colab": {
          "base_uri": "https://localhost:8080/",
          "height": 423
        },
        "id": "TXK7YUVdB40Q",
        "outputId": "1c118289-8fc8-4521-d585-4d55bd898502"
      },
      "execution_count": 118,
      "outputs": [
        {
          "output_type": "execute_result",
          "data": {
            "text/plain": [
              "      age     sex     bmi  children smoker     region      charges\n",
              "0      19  female  27.900         0    yes  southwest  16884.92400\n",
              "1      18    male  33.770         1     no  southeast   1725.55230\n",
              "2      28    male  33.000         3     no  southeast   4449.46200\n",
              "3      33    male  22.705         0     no  northwest  21984.47061\n",
              "4      32    male  28.880         0     no  northwest   3866.85520\n",
              "...   ...     ...     ...       ...    ...        ...          ...\n",
              "1333   50    male  30.970         3     no  northwest  10600.54830\n",
              "1334   18  female  31.920         0     no  northeast   2205.98080\n",
              "1335   18  female  36.850         0     no  southeast   1629.83350\n",
              "1336   21  female  25.800         0     no  southwest   2007.94500\n",
              "1337   61  female  29.070         0    yes  northwest  29141.36030\n",
              "\n",
              "[1338 rows x 7 columns]"
            ],
            "text/html": [
              "\n",
              "  <div id=\"df-6001d789-1e3e-48c3-bca0-ce2e97aa3137\" class=\"colab-df-container\">\n",
              "    <div>\n",
              "<style scoped>\n",
              "    .dataframe tbody tr th:only-of-type {\n",
              "        vertical-align: middle;\n",
              "    }\n",
              "\n",
              "    .dataframe tbody tr th {\n",
              "        vertical-align: top;\n",
              "    }\n",
              "\n",
              "    .dataframe thead th {\n",
              "        text-align: right;\n",
              "    }\n",
              "</style>\n",
              "<table border=\"1\" class=\"dataframe\">\n",
              "  <thead>\n",
              "    <tr style=\"text-align: right;\">\n",
              "      <th></th>\n",
              "      <th>age</th>\n",
              "      <th>sex</th>\n",
              "      <th>bmi</th>\n",
              "      <th>children</th>\n",
              "      <th>smoker</th>\n",
              "      <th>region</th>\n",
              "      <th>charges</th>\n",
              "    </tr>\n",
              "  </thead>\n",
              "  <tbody>\n",
              "    <tr>\n",
              "      <th>0</th>\n",
              "      <td>19</td>\n",
              "      <td>female</td>\n",
              "      <td>27.900</td>\n",
              "      <td>0</td>\n",
              "      <td>yes</td>\n",
              "      <td>southwest</td>\n",
              "      <td>16884.92400</td>\n",
              "    </tr>\n",
              "    <tr>\n",
              "      <th>1</th>\n",
              "      <td>18</td>\n",
              "      <td>male</td>\n",
              "      <td>33.770</td>\n",
              "      <td>1</td>\n",
              "      <td>no</td>\n",
              "      <td>southeast</td>\n",
              "      <td>1725.55230</td>\n",
              "    </tr>\n",
              "    <tr>\n",
              "      <th>2</th>\n",
              "      <td>28</td>\n",
              "      <td>male</td>\n",
              "      <td>33.000</td>\n",
              "      <td>3</td>\n",
              "      <td>no</td>\n",
              "      <td>southeast</td>\n",
              "      <td>4449.46200</td>\n",
              "    </tr>\n",
              "    <tr>\n",
              "      <th>3</th>\n",
              "      <td>33</td>\n",
              "      <td>male</td>\n",
              "      <td>22.705</td>\n",
              "      <td>0</td>\n",
              "      <td>no</td>\n",
              "      <td>northwest</td>\n",
              "      <td>21984.47061</td>\n",
              "    </tr>\n",
              "    <tr>\n",
              "      <th>4</th>\n",
              "      <td>32</td>\n",
              "      <td>male</td>\n",
              "      <td>28.880</td>\n",
              "      <td>0</td>\n",
              "      <td>no</td>\n",
              "      <td>northwest</td>\n",
              "      <td>3866.85520</td>\n",
              "    </tr>\n",
              "    <tr>\n",
              "      <th>...</th>\n",
              "      <td>...</td>\n",
              "      <td>...</td>\n",
              "      <td>...</td>\n",
              "      <td>...</td>\n",
              "      <td>...</td>\n",
              "      <td>...</td>\n",
              "      <td>...</td>\n",
              "    </tr>\n",
              "    <tr>\n",
              "      <th>1333</th>\n",
              "      <td>50</td>\n",
              "      <td>male</td>\n",
              "      <td>30.970</td>\n",
              "      <td>3</td>\n",
              "      <td>no</td>\n",
              "      <td>northwest</td>\n",
              "      <td>10600.54830</td>\n",
              "    </tr>\n",
              "    <tr>\n",
              "      <th>1334</th>\n",
              "      <td>18</td>\n",
              "      <td>female</td>\n",
              "      <td>31.920</td>\n",
              "      <td>0</td>\n",
              "      <td>no</td>\n",
              "      <td>northeast</td>\n",
              "      <td>2205.98080</td>\n",
              "    </tr>\n",
              "    <tr>\n",
              "      <th>1335</th>\n",
              "      <td>18</td>\n",
              "      <td>female</td>\n",
              "      <td>36.850</td>\n",
              "      <td>0</td>\n",
              "      <td>no</td>\n",
              "      <td>southeast</td>\n",
              "      <td>1629.83350</td>\n",
              "    </tr>\n",
              "    <tr>\n",
              "      <th>1336</th>\n",
              "      <td>21</td>\n",
              "      <td>female</td>\n",
              "      <td>25.800</td>\n",
              "      <td>0</td>\n",
              "      <td>no</td>\n",
              "      <td>southwest</td>\n",
              "      <td>2007.94500</td>\n",
              "    </tr>\n",
              "    <tr>\n",
              "      <th>1337</th>\n",
              "      <td>61</td>\n",
              "      <td>female</td>\n",
              "      <td>29.070</td>\n",
              "      <td>0</td>\n",
              "      <td>yes</td>\n",
              "      <td>northwest</td>\n",
              "      <td>29141.36030</td>\n",
              "    </tr>\n",
              "  </tbody>\n",
              "</table>\n",
              "<p>1338 rows × 7 columns</p>\n",
              "</div>\n",
              "    <div class=\"colab-df-buttons\">\n",
              "\n",
              "  <div class=\"colab-df-container\">\n",
              "    <button class=\"colab-df-convert\" onclick=\"convertToInteractive('df-6001d789-1e3e-48c3-bca0-ce2e97aa3137')\"\n",
              "            title=\"Convert this dataframe to an interactive table.\"\n",
              "            style=\"display:none;\">\n",
              "\n",
              "  <svg xmlns=\"http://www.w3.org/2000/svg\" height=\"24px\" viewBox=\"0 -960 960 960\">\n",
              "    <path d=\"M120-120v-720h720v720H120Zm60-500h600v-160H180v160Zm220 220h160v-160H400v160Zm0 220h160v-160H400v160ZM180-400h160v-160H180v160Zm440 0h160v-160H620v160ZM180-180h160v-160H180v160Zm440 0h160v-160H620v160Z\"/>\n",
              "  </svg>\n",
              "    </button>\n",
              "\n",
              "  <style>\n",
              "    .colab-df-container {\n",
              "      display:flex;\n",
              "      gap: 12px;\n",
              "    }\n",
              "\n",
              "    .colab-df-convert {\n",
              "      background-color: #E8F0FE;\n",
              "      border: none;\n",
              "      border-radius: 50%;\n",
              "      cursor: pointer;\n",
              "      display: none;\n",
              "      fill: #1967D2;\n",
              "      height: 32px;\n",
              "      padding: 0 0 0 0;\n",
              "      width: 32px;\n",
              "    }\n",
              "\n",
              "    .colab-df-convert:hover {\n",
              "      background-color: #E2EBFA;\n",
              "      box-shadow: 0px 1px 2px rgba(60, 64, 67, 0.3), 0px 1px 3px 1px rgba(60, 64, 67, 0.15);\n",
              "      fill: #174EA6;\n",
              "    }\n",
              "\n",
              "    .colab-df-buttons div {\n",
              "      margin-bottom: 4px;\n",
              "    }\n",
              "\n",
              "    [theme=dark] .colab-df-convert {\n",
              "      background-color: #3B4455;\n",
              "      fill: #D2E3FC;\n",
              "    }\n",
              "\n",
              "    [theme=dark] .colab-df-convert:hover {\n",
              "      background-color: #434B5C;\n",
              "      box-shadow: 0px 1px 3px 1px rgba(0, 0, 0, 0.15);\n",
              "      filter: drop-shadow(0px 1px 2px rgba(0, 0, 0, 0.3));\n",
              "      fill: #FFFFFF;\n",
              "    }\n",
              "  </style>\n",
              "\n",
              "    <script>\n",
              "      const buttonEl =\n",
              "        document.querySelector('#df-6001d789-1e3e-48c3-bca0-ce2e97aa3137 button.colab-df-convert');\n",
              "      buttonEl.style.display =\n",
              "        google.colab.kernel.accessAllowed ? 'block' : 'none';\n",
              "\n",
              "      async function convertToInteractive(key) {\n",
              "        const element = document.querySelector('#df-6001d789-1e3e-48c3-bca0-ce2e97aa3137');\n",
              "        const dataTable =\n",
              "          await google.colab.kernel.invokeFunction('convertToInteractive',\n",
              "                                                    [key], {});\n",
              "        if (!dataTable) return;\n",
              "\n",
              "        const docLinkHtml = 'Like what you see? Visit the ' +\n",
              "          '<a target=\"_blank\" href=https://colab.research.google.com/notebooks/data_table.ipynb>data table notebook</a>'\n",
              "          + ' to learn more about interactive tables.';\n",
              "        element.innerHTML = '';\n",
              "        dataTable['output_type'] = 'display_data';\n",
              "        await google.colab.output.renderOutput(dataTable, element);\n",
              "        const docLink = document.createElement('div');\n",
              "        docLink.innerHTML = docLinkHtml;\n",
              "        element.appendChild(docLink);\n",
              "      }\n",
              "    </script>\n",
              "  </div>\n",
              "\n",
              "\n",
              "<div id=\"df-b19f4826-c273-4813-904b-ef5bb9b19e52\">\n",
              "  <button class=\"colab-df-quickchart\" onclick=\"quickchart('df-b19f4826-c273-4813-904b-ef5bb9b19e52')\"\n",
              "            title=\"Suggest charts\"\n",
              "            style=\"display:none;\">\n",
              "\n",
              "<svg xmlns=\"http://www.w3.org/2000/svg\" height=\"24px\"viewBox=\"0 0 24 24\"\n",
              "     width=\"24px\">\n",
              "    <g>\n",
              "        <path d=\"M19 3H5c-1.1 0-2 .9-2 2v14c0 1.1.9 2 2 2h14c1.1 0 2-.9 2-2V5c0-1.1-.9-2-2-2zM9 17H7v-7h2v7zm4 0h-2V7h2v10zm4 0h-2v-4h2v4z\"/>\n",
              "    </g>\n",
              "</svg>\n",
              "  </button>\n",
              "\n",
              "<style>\n",
              "  .colab-df-quickchart {\n",
              "      --bg-color: #E8F0FE;\n",
              "      --fill-color: #1967D2;\n",
              "      --hover-bg-color: #E2EBFA;\n",
              "      --hover-fill-color: #174EA6;\n",
              "      --disabled-fill-color: #AAA;\n",
              "      --disabled-bg-color: #DDD;\n",
              "  }\n",
              "\n",
              "  [theme=dark] .colab-df-quickchart {\n",
              "      --bg-color: #3B4455;\n",
              "      --fill-color: #D2E3FC;\n",
              "      --hover-bg-color: #434B5C;\n",
              "      --hover-fill-color: #FFFFFF;\n",
              "      --disabled-bg-color: #3B4455;\n",
              "      --disabled-fill-color: #666;\n",
              "  }\n",
              "\n",
              "  .colab-df-quickchart {\n",
              "    background-color: var(--bg-color);\n",
              "    border: none;\n",
              "    border-radius: 50%;\n",
              "    cursor: pointer;\n",
              "    display: none;\n",
              "    fill: var(--fill-color);\n",
              "    height: 32px;\n",
              "    padding: 0;\n",
              "    width: 32px;\n",
              "  }\n",
              "\n",
              "  .colab-df-quickchart:hover {\n",
              "    background-color: var(--hover-bg-color);\n",
              "    box-shadow: 0 1px 2px rgba(60, 64, 67, 0.3), 0 1px 3px 1px rgba(60, 64, 67, 0.15);\n",
              "    fill: var(--button-hover-fill-color);\n",
              "  }\n",
              "\n",
              "  .colab-df-quickchart-complete:disabled,\n",
              "  .colab-df-quickchart-complete:disabled:hover {\n",
              "    background-color: var(--disabled-bg-color);\n",
              "    fill: var(--disabled-fill-color);\n",
              "    box-shadow: none;\n",
              "  }\n",
              "\n",
              "  .colab-df-spinner {\n",
              "    border: 2px solid var(--fill-color);\n",
              "    border-color: transparent;\n",
              "    border-bottom-color: var(--fill-color);\n",
              "    animation:\n",
              "      spin 1s steps(1) infinite;\n",
              "  }\n",
              "\n",
              "  @keyframes spin {\n",
              "    0% {\n",
              "      border-color: transparent;\n",
              "      border-bottom-color: var(--fill-color);\n",
              "      border-left-color: var(--fill-color);\n",
              "    }\n",
              "    20% {\n",
              "      border-color: transparent;\n",
              "      border-left-color: var(--fill-color);\n",
              "      border-top-color: var(--fill-color);\n",
              "    }\n",
              "    30% {\n",
              "      border-color: transparent;\n",
              "      border-left-color: var(--fill-color);\n",
              "      border-top-color: var(--fill-color);\n",
              "      border-right-color: var(--fill-color);\n",
              "    }\n",
              "    40% {\n",
              "      border-color: transparent;\n",
              "      border-right-color: var(--fill-color);\n",
              "      border-top-color: var(--fill-color);\n",
              "    }\n",
              "    60% {\n",
              "      border-color: transparent;\n",
              "      border-right-color: var(--fill-color);\n",
              "    }\n",
              "    80% {\n",
              "      border-color: transparent;\n",
              "      border-right-color: var(--fill-color);\n",
              "      border-bottom-color: var(--fill-color);\n",
              "    }\n",
              "    90% {\n",
              "      border-color: transparent;\n",
              "      border-bottom-color: var(--fill-color);\n",
              "    }\n",
              "  }\n",
              "</style>\n",
              "\n",
              "  <script>\n",
              "    async function quickchart(key) {\n",
              "      const quickchartButtonEl =\n",
              "        document.querySelector('#' + key + ' button');\n",
              "      quickchartButtonEl.disabled = true;  // To prevent multiple clicks.\n",
              "      quickchartButtonEl.classList.add('colab-df-spinner');\n",
              "      try {\n",
              "        const charts = await google.colab.kernel.invokeFunction(\n",
              "            'suggestCharts', [key], {});\n",
              "      } catch (error) {\n",
              "        console.error('Error during call to suggestCharts:', error);\n",
              "      }\n",
              "      quickchartButtonEl.classList.remove('colab-df-spinner');\n",
              "      quickchartButtonEl.classList.add('colab-df-quickchart-complete');\n",
              "    }\n",
              "    (() => {\n",
              "      let quickchartButtonEl =\n",
              "        document.querySelector('#df-b19f4826-c273-4813-904b-ef5bb9b19e52 button');\n",
              "      quickchartButtonEl.style.display =\n",
              "        google.colab.kernel.accessAllowed ? 'block' : 'none';\n",
              "    })();\n",
              "  </script>\n",
              "</div>\n",
              "    </div>\n",
              "  </div>\n"
            ]
          },
          "metadata": {},
          "execution_count": 118
        }
      ]
    },
    {
      "cell_type": "markdown",
      "source": [
        "To prepare our data we can use classes from SciKit-Learn"
      ],
      "metadata": {
        "id": "WkY19H--Cfwa"
      }
    },
    {
      "cell_type": "code",
      "source": [
        "from sklearn.compose import make_column_transformer\n",
        "from sklearn.preprocessing import MinMaxScaler, OneHotEncoder\n",
        "from sklearn.model_selection import train_test_split\n",
        "\n",
        "# Create a column transformer\n",
        "ct = make_column_transformer(\n",
        "    (MinMaxScaler(), [\"age\",\"bmi\",\"children\"] ), # turn all values in these columns between 0-1\n",
        "    (OneHotEncoder(handle_unknown=\"ignore\"), [\"sex\",\"smoker\",\"region\"])\n",
        ")\n",
        "\n",
        "# Create our X and y values\n",
        "X = insurance.drop(\"charges\", axis=1)\n",
        "y= insurance[\"charges\"]\n",
        "\n",
        "# Build our train and test sets\n",
        "X_train, X_test, y_train, y_test = train_test_split(X,y,test_size=0.2, random_state=42)\n",
        "\n",
        "# Fit the column transformer to training data\n",
        "ct.fit(X_train)\n",
        "\n",
        "#Transform training and test data with normalization (MinMaxScaler) and OneHotEncoder\n",
        "X_train_normal = ct.transform(X_train)\n",
        "X_test_normal = ct.transform(X_test)\n"
      ],
      "metadata": {
        "id": "Vu0NVW6pCUHu"
      },
      "execution_count": 154,
      "outputs": []
    },
    {
      "cell_type": "code",
      "source": [
        "#What does the data look like now?\n",
        "X_train.loc[0], X_train_normal[0]"
      ],
      "metadata": {
        "colab": {
          "base_uri": "https://localhost:8080/"
        },
        "id": "QMpnYR7hEod3",
        "outputId": "5908b5d0-fb14-479f-8627-2a90b1b929d3"
      },
      "execution_count": 155,
      "outputs": [
        {
          "output_type": "execute_result",
          "data": {
            "text/plain": [
              "(age                19\n",
              " sex            female\n",
              " bmi              27.9\n",
              " children            0\n",
              " smoker            yes\n",
              " region      southwest\n",
              " Name: 0, dtype: object,\n",
              " array([0.60869565, 0.10734463, 0.4       , 1.        , 0.        ,\n",
              "        1.        , 0.        , 0.        , 1.        , 0.        ,\n",
              "        0.        ]))"
            ]
          },
          "metadata": {},
          "execution_count": 155
        }
      ]
    },
    {
      "cell_type": "code",
      "source": [
        "X_train_normal"
      ],
      "metadata": {
        "colab": {
          "base_uri": "https://localhost:8080/"
        },
        "id": "0n-uqgteE68Z",
        "outputId": "9763ba53-fba7-413e-85be-3d8cd083bff5"
      },
      "execution_count": 156,
      "outputs": [
        {
          "output_type": "execute_result",
          "data": {
            "text/plain": [
              "array([[0.60869565, 0.10734463, 0.4       , ..., 1.        , 0.        ,\n",
              "        0.        ],\n",
              "       [0.63043478, 0.22491256, 0.        , ..., 0.        , 0.        ,\n",
              "        0.        ],\n",
              "       [0.73913043, 0.23944041, 0.        , ..., 0.        , 1.        ,\n",
              "        0.        ],\n",
              "       ...,\n",
              "       [0.86956522, 0.24791499, 0.        , ..., 0.        , 0.        ,\n",
              "        0.        ],\n",
              "       [0.41304348, 0.85122411, 0.4       , ..., 0.        , 0.        ,\n",
              "        1.        ],\n",
              "       [0.80434783, 0.37503363, 0.        , ..., 0.        , 0.        ,\n",
              "        1.        ]])"
            ]
          },
          "metadata": {},
          "execution_count": 156
        }
      ]
    },
    {
      "cell_type": "code",
      "source": [
        "X_train.shape, X_train_normal.shape"
      ],
      "metadata": {
        "colab": {
          "base_uri": "https://localhost:8080/"
        },
        "id": "otUjTjtoFATU",
        "outputId": "a801d6e1-e504-4afe-93cc-675f99dfa5ce"
      },
      "execution_count": 157,
      "outputs": [
        {
          "output_type": "execute_result",
          "data": {
            "text/plain": [
              "((1070, 6), (1070, 11))"
            ]
          },
          "metadata": {},
          "execution_count": 157
        }
      ]
    },
    {
      "cell_type": "markdown",
      "source": [
        "Our data has been normalized and One-hot encoded. Lets build a NN model on the new data"
      ],
      "metadata": {
        "id": "iJej--4eFMQ8"
      }
    },
    {
      "cell_type": "code",
      "source": [
        "#Build a neural network model to fit the normalized data\n",
        "\n",
        "#Set random seed\n",
        "tf.random.set_seed(42)\n",
        "\n",
        "# 1. Create the model\n",
        "insurance_model_normal = tf.keras.Sequential([\n",
        "    tf.keras.layers.Dense(100),\n",
        "    tf.keras.layers.Dense(10),\n",
        "    tf.keras.layers.Dense(1)\n",
        "])\n",
        "\n",
        "# 2. Compile to model\n",
        "insurance_model_normal.compile(\n",
        "    loss = tf.keras.losses.mae,\n",
        "    optimizer=tf.keras.optimizers.Adam(),\n",
        "    metrics=[\"mae\"]\n",
        ")\n",
        "\n",
        "# 3. Fit the model\n",
        "insurance_model_normal.fit(X_train_normal,y_train, epochs=100)\n"
      ],
      "metadata": {
        "colab": {
          "base_uri": "https://localhost:8080/"
        },
        "id": "E3ipp9CoFSlp",
        "outputId": "bcce8baa-ba70-4265-f06b-de4cad413c2a"
      },
      "execution_count": 131,
      "outputs": [
        {
          "output_type": "stream",
          "name": "stdout",
          "text": [
            "Epoch 1/100\n",
            "34/34 [==============================] - 1s 5ms/step - loss: 13343.3301 - mae: 13343.3301\n",
            "Epoch 2/100\n",
            "34/34 [==============================] - 0s 4ms/step - loss: 13334.1631 - mae: 13334.1631\n",
            "Epoch 3/100\n",
            "34/34 [==============================] - 0s 4ms/step - loss: 13311.4072 - mae: 13311.4072\n",
            "Epoch 4/100\n",
            "34/34 [==============================] - 0s 5ms/step - loss: 13264.9678 - mae: 13264.9678\n",
            "Epoch 5/100\n",
            "34/34 [==============================] - 0s 6ms/step - loss: 13184.5898 - mae: 13184.5898\n",
            "Epoch 6/100\n",
            "34/34 [==============================] - 0s 6ms/step - loss: 13059.4785 - mae: 13059.4785\n",
            "Epoch 7/100\n",
            "34/34 [==============================] - 0s 6ms/step - loss: 12878.9658 - mae: 12878.9658\n",
            "Epoch 8/100\n",
            "34/34 [==============================] - 0s 4ms/step - loss: 12632.8477 - mae: 12632.8477\n",
            "Epoch 9/100\n",
            "34/34 [==============================] - 0s 4ms/step - loss: 12310.9512 - mae: 12310.9512\n",
            "Epoch 10/100\n",
            "34/34 [==============================] - 0s 6ms/step - loss: 11908.8369 - mae: 11908.8369\n",
            "Epoch 11/100\n",
            "34/34 [==============================] - 0s 6ms/step - loss: 11436.0469 - mae: 11436.0469\n",
            "Epoch 12/100\n",
            "34/34 [==============================] - 0s 8ms/step - loss: 10932.6689 - mae: 10932.6689\n",
            "Epoch 13/100\n",
            "34/34 [==============================] - 0s 6ms/step - loss: 10432.7363 - mae: 10432.7363\n",
            "Epoch 14/100\n",
            "34/34 [==============================] - 0s 5ms/step - loss: 9940.2031 - mae: 9940.2031\n",
            "Epoch 15/100\n",
            "34/34 [==============================] - 0s 6ms/step - loss: 9474.6816 - mae: 9474.6816\n",
            "Epoch 16/100\n",
            "34/34 [==============================] - 0s 6ms/step - loss: 9062.8730 - mae: 9062.8730\n",
            "Epoch 17/100\n",
            "34/34 [==============================] - 0s 7ms/step - loss: 8723.5947 - mae: 8723.5947\n",
            "Epoch 18/100\n",
            "34/34 [==============================] - 0s 6ms/step - loss: 8445.3916 - mae: 8445.3916\n",
            "Epoch 19/100\n",
            "34/34 [==============================] - 0s 7ms/step - loss: 8234.3379 - mae: 8234.3379\n",
            "Epoch 20/100\n",
            "34/34 [==============================] - 0s 4ms/step - loss: 8089.6934 - mae: 8089.6934\n",
            "Epoch 21/100\n",
            "34/34 [==============================] - 0s 8ms/step - loss: 7981.8374 - mae: 7981.8374\n",
            "Epoch 22/100\n",
            "34/34 [==============================] - 0s 7ms/step - loss: 7907.2871 - mae: 7907.2871\n",
            "Epoch 23/100\n",
            "34/34 [==============================] - 0s 11ms/step - loss: 7848.3242 - mae: 7848.3242\n",
            "Epoch 24/100\n",
            "34/34 [==============================] - 0s 10ms/step - loss: 7795.6768 - mae: 7795.6768\n",
            "Epoch 25/100\n",
            "34/34 [==============================] - 0s 9ms/step - loss: 7756.7153 - mae: 7756.7153\n",
            "Epoch 26/100\n",
            "34/34 [==============================] - 0s 4ms/step - loss: 7705.0405 - mae: 7705.0405\n",
            "Epoch 27/100\n",
            "34/34 [==============================] - 0s 5ms/step - loss: 7662.9736 - mae: 7662.9736\n",
            "Epoch 28/100\n",
            "34/34 [==============================] - 0s 6ms/step - loss: 7620.4565 - mae: 7620.4565\n",
            "Epoch 29/100\n",
            "34/34 [==============================] - 0s 4ms/step - loss: 7577.6592 - mae: 7577.6592\n",
            "Epoch 30/100\n",
            "34/34 [==============================] - 0s 8ms/step - loss: 7534.1235 - mae: 7534.1235\n",
            "Epoch 31/100\n",
            "34/34 [==============================] - 0s 7ms/step - loss: 7490.1699 - mae: 7490.1699\n",
            "Epoch 32/100\n",
            "34/34 [==============================] - 0s 4ms/step - loss: 7445.9497 - mae: 7445.9497\n",
            "Epoch 33/100\n",
            "34/34 [==============================] - 0s 4ms/step - loss: 7401.5244 - mae: 7401.5244\n",
            "Epoch 34/100\n",
            "34/34 [==============================] - 0s 4ms/step - loss: 7353.1758 - mae: 7353.1758\n",
            "Epoch 35/100\n",
            "34/34 [==============================] - 0s 6ms/step - loss: 7306.3032 - mae: 7306.3032\n",
            "Epoch 36/100\n",
            "34/34 [==============================] - 0s 6ms/step - loss: 7256.1069 - mae: 7256.1069\n",
            "Epoch 37/100\n",
            "34/34 [==============================] - 0s 7ms/step - loss: 7205.6191 - mae: 7205.6191\n",
            "Epoch 38/100\n",
            "34/34 [==============================] - 0s 4ms/step - loss: 7154.3833 - mae: 7154.3833\n",
            "Epoch 39/100\n",
            "34/34 [==============================] - 0s 4ms/step - loss: 7099.4434 - mae: 7099.4434\n",
            "Epoch 40/100\n",
            "34/34 [==============================] - 0s 6ms/step - loss: 7043.8652 - mae: 7043.8652\n",
            "Epoch 41/100\n",
            "34/34 [==============================] - 0s 7ms/step - loss: 6987.2056 - mae: 6987.2056\n",
            "Epoch 42/100\n",
            "34/34 [==============================] - 0s 8ms/step - loss: 6928.1963 - mae: 6928.1963\n",
            "Epoch 43/100\n",
            "34/34 [==============================] - 0s 6ms/step - loss: 6865.3794 - mae: 6865.3794\n",
            "Epoch 44/100\n",
            "34/34 [==============================] - 0s 4ms/step - loss: 6799.0312 - mae: 6799.0312\n",
            "Epoch 45/100\n",
            "34/34 [==============================] - 0s 5ms/step - loss: 6731.7104 - mae: 6731.7104\n",
            "Epoch 46/100\n",
            "34/34 [==============================] - 0s 4ms/step - loss: 6662.0913 - mae: 6662.0913\n",
            "Epoch 47/100\n",
            "34/34 [==============================] - 0s 4ms/step - loss: 6591.0156 - mae: 6591.0156\n",
            "Epoch 48/100\n",
            "34/34 [==============================] - 0s 4ms/step - loss: 6511.7837 - mae: 6511.7837\n",
            "Epoch 49/100\n",
            "34/34 [==============================] - 0s 4ms/step - loss: 6432.6084 - mae: 6432.6084\n",
            "Epoch 50/100\n",
            "34/34 [==============================] - 0s 4ms/step - loss: 6346.4238 - mae: 6346.4238\n",
            "Epoch 51/100\n",
            "34/34 [==============================] - 0s 4ms/step - loss: 6261.5708 - mae: 6261.5708\n",
            "Epoch 52/100\n",
            "34/34 [==============================] - 0s 4ms/step - loss: 6167.8086 - mae: 6167.8086\n",
            "Epoch 53/100\n",
            "34/34 [==============================] - 0s 4ms/step - loss: 6071.5366 - mae: 6071.5366\n",
            "Epoch 54/100\n",
            "34/34 [==============================] - 0s 5ms/step - loss: 5972.5820 - mae: 5972.5820\n",
            "Epoch 55/100\n",
            "34/34 [==============================] - 0s 4ms/step - loss: 5864.9839 - mae: 5864.9839\n",
            "Epoch 56/100\n",
            "34/34 [==============================] - 0s 4ms/step - loss: 5756.2246 - mae: 5756.2246\n",
            "Epoch 57/100\n",
            "34/34 [==============================] - 0s 4ms/step - loss: 5640.4785 - mae: 5640.4785\n",
            "Epoch 58/100\n",
            "34/34 [==============================] - 0s 4ms/step - loss: 5522.9614 - mae: 5522.9614\n",
            "Epoch 59/100\n",
            "34/34 [==============================] - 0s 4ms/step - loss: 5404.6553 - mae: 5404.6553\n",
            "Epoch 60/100\n",
            "34/34 [==============================] - 0s 9ms/step - loss: 5280.1943 - mae: 5280.1943\n",
            "Epoch 61/100\n",
            "34/34 [==============================] - 0s 8ms/step - loss: 5152.8867 - mae: 5152.8867\n",
            "Epoch 62/100\n",
            "34/34 [==============================] - 0s 10ms/step - loss: 5021.9219 - mae: 5021.9219\n",
            "Epoch 63/100\n",
            "34/34 [==============================] - 0s 7ms/step - loss: 4892.2197 - mae: 4892.2197\n",
            "Epoch 64/100\n",
            "34/34 [==============================] - 0s 3ms/step - loss: 4759.5195 - mae: 4759.5195\n",
            "Epoch 65/100\n",
            "34/34 [==============================] - 0s 2ms/step - loss: 4632.7935 - mae: 4632.7935\n",
            "Epoch 66/100\n",
            "34/34 [==============================] - 0s 2ms/step - loss: 4507.9175 - mae: 4507.9175\n",
            "Epoch 67/100\n",
            "34/34 [==============================] - 0s 3ms/step - loss: 4398.4189 - mae: 4398.4189\n",
            "Epoch 68/100\n",
            "34/34 [==============================] - 0s 3ms/step - loss: 4291.6265 - mae: 4291.6265\n",
            "Epoch 69/100\n",
            "34/34 [==============================] - 0s 2ms/step - loss: 4189.8062 - mae: 4189.8062\n",
            "Epoch 70/100\n",
            "34/34 [==============================] - 0s 2ms/step - loss: 4096.4092 - mae: 4096.4092\n",
            "Epoch 71/100\n",
            "34/34 [==============================] - 0s 2ms/step - loss: 4009.8542 - mae: 4009.8542\n",
            "Epoch 72/100\n",
            "34/34 [==============================] - 0s 2ms/step - loss: 3935.0696 - mae: 3935.0696\n",
            "Epoch 73/100\n",
            "34/34 [==============================] - 0s 3ms/step - loss: 3871.8984 - mae: 3871.8984\n",
            "Epoch 74/100\n",
            "34/34 [==============================] - 0s 2ms/step - loss: 3819.0334 - mae: 3819.0334\n",
            "Epoch 75/100\n",
            "34/34 [==============================] - 0s 2ms/step - loss: 3777.9419 - mae: 3777.9419\n",
            "Epoch 76/100\n",
            "34/34 [==============================] - 0s 2ms/step - loss: 3747.4592 - mae: 3747.4592\n",
            "Epoch 77/100\n",
            "34/34 [==============================] - 0s 3ms/step - loss: 3722.6753 - mae: 3722.6753\n",
            "Epoch 78/100\n",
            "34/34 [==============================] - 0s 2ms/step - loss: 3704.7839 - mae: 3704.7839\n",
            "Epoch 79/100\n",
            "34/34 [==============================] - 0s 3ms/step - loss: 3692.8840 - mae: 3692.8840\n",
            "Epoch 80/100\n",
            "34/34 [==============================] - 0s 3ms/step - loss: 3683.5798 - mae: 3683.5798\n",
            "Epoch 81/100\n",
            "34/34 [==============================] - 0s 2ms/step - loss: 3677.0120 - mae: 3677.0120\n",
            "Epoch 82/100\n",
            "34/34 [==============================] - 0s 2ms/step - loss: 3673.5781 - mae: 3673.5781\n",
            "Epoch 83/100\n",
            "34/34 [==============================] - 0s 3ms/step - loss: 3667.7031 - mae: 3667.7031\n",
            "Epoch 84/100\n",
            "34/34 [==============================] - 0s 3ms/step - loss: 3664.3914 - mae: 3664.3914\n",
            "Epoch 85/100\n",
            "34/34 [==============================] - 0s 2ms/step - loss: 3661.7681 - mae: 3661.7681\n",
            "Epoch 86/100\n",
            "34/34 [==============================] - 0s 3ms/step - loss: 3660.1746 - mae: 3660.1746\n",
            "Epoch 87/100\n",
            "34/34 [==============================] - 0s 2ms/step - loss: 3657.2319 - mae: 3657.2319\n",
            "Epoch 88/100\n",
            "34/34 [==============================] - 0s 2ms/step - loss: 3654.7087 - mae: 3654.7087\n",
            "Epoch 89/100\n",
            "34/34 [==============================] - 0s 3ms/step - loss: 3653.1870 - mae: 3653.1870\n",
            "Epoch 90/100\n",
            "34/34 [==============================] - 0s 3ms/step - loss: 3651.6055 - mae: 3651.6055\n",
            "Epoch 91/100\n",
            "34/34 [==============================] - 0s 2ms/step - loss: 3648.4277 - mae: 3648.4277\n",
            "Epoch 92/100\n",
            "34/34 [==============================] - 0s 2ms/step - loss: 3647.8071 - mae: 3647.8071\n",
            "Epoch 93/100\n",
            "34/34 [==============================] - 0s 3ms/step - loss: 3645.5491 - mae: 3645.5491\n",
            "Epoch 94/100\n",
            "34/34 [==============================] - 0s 3ms/step - loss: 3643.8337 - mae: 3643.8337\n",
            "Epoch 95/100\n",
            "34/34 [==============================] - 0s 3ms/step - loss: 3644.7961 - mae: 3644.7961\n",
            "Epoch 96/100\n",
            "34/34 [==============================] - 0s 2ms/step - loss: 3641.8640 - mae: 3641.8640\n",
            "Epoch 97/100\n",
            "34/34 [==============================] - 0s 2ms/step - loss: 3639.3230 - mae: 3639.3230\n",
            "Epoch 98/100\n",
            "34/34 [==============================] - 0s 2ms/step - loss: 3637.2598 - mae: 3637.2598\n",
            "Epoch 99/100\n",
            "34/34 [==============================] - 0s 2ms/step - loss: 3636.5688 - mae: 3636.5688\n",
            "Epoch 100/100\n",
            "34/34 [==============================] - 0s 2ms/step - loss: 3634.9690 - mae: 3634.9690\n"
          ]
        },
        {
          "output_type": "execute_result",
          "data": {
            "text/plain": [
              "<keras.src.callbacks.History at 0x7ada218cea10>"
            ]
          },
          "metadata": {},
          "execution_count": 131
        }
      ]
    },
    {
      "cell_type": "code",
      "source": [
        "# Evaluate the insurance model trained on noralized data\n",
        "\n",
        "insurance_model_normal.evaluate(X_test_normal, y_test)"
      ],
      "metadata": {
        "colab": {
          "base_uri": "https://localhost:8080/"
        },
        "id": "EaDlbQNvGHc6",
        "outputId": "362a5976-38a0-4350-e0f0-8345021ba1e1"
      },
      "execution_count": 132,
      "outputs": [
        {
          "output_type": "stream",
          "name": "stdout",
          "text": [
            "9/9 [==============================] - 0s 3ms/step - loss: 3438.1663 - mae: 3438.1663\n"
          ]
        },
        {
          "output_type": "execute_result",
          "data": {
            "text/plain": [
              "[3438.166259765625, 3438.166259765625]"
            ]
          },
          "metadata": {},
          "execution_count": 132
        }
      ]
    },
    {
      "cell_type": "code",
      "source": [
        "# Compare to insurance_model_2 which shares the same structure\n",
        "# 9/9 [==============================] - 0s 4ms/step - loss: 4517.2832 - mae: 4517.2832\n",
        "# [4517.283203125, 4517.283203125]"
      ],
      "metadata": {
        "id": "-BYve8QUGRa6"
      },
      "execution_count": 158,
      "outputs": []
    },
    {
      "cell_type": "markdown",
      "source": [
        "🗒️**Note** - **By normalizing the data we increased accuracy of the model by ~ 30%**"
      ],
      "metadata": {
        "id": "zdPelAm2HQ-e"
      }
    },
    {
      "cell_type": "code",
      "source": [],
      "metadata": {
        "id": "JcuIBRsrAjtv"
      },
      "execution_count": null,
      "outputs": []
    }
  ]
}